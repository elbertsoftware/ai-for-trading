{
 "cells": [
  {
   "cell_type": "markdown",
   "metadata": {},
   "source": [
    "## Overlapping Labels\n",
    "\n",
    "In this exercise, we're going to **simulate** the issue we encounter when training machine learning models using targets that are returns that _overlap in time_. The core issue is that these labels are correlated and in fact _redundant_. We'll see what impact this has on our machine learning algorithm, and we'll have the opportunity to implement some of the solutions to the problem that we described in the lectures, and will later encounter in the project."
   ]
  },
  {
   "cell_type": "code",
   "execution_count": 1,
   "metadata": {},
   "outputs": [],
   "source": [
    "import numpy as np\n",
    "import pandas as pd\n",
    "import matplotlib.pyplot as plt\n",
    "from tqdm import tqdm_notebook as tqdm\n",
    "\n",
    "%matplotlib inline\n",
    "plt.style.use('ggplot')\n",
    "plt.rcParams['figure.figsize'] = (14, 8)"
   ]
  },
  {
   "cell_type": "code",
   "execution_count": 2,
   "metadata": {},
   "outputs": [],
   "source": [
    "import warnings\n",
    "\n",
    "warnings.filterwarnings('ignore')"
   ]
  },
  {
   "cell_type": "markdown",
   "metadata": {},
   "source": [
    "## Load data\n",
    "Let's load up a small dataset of artificial \"toy\" data that we can play with. The columns in these data are `A`, `B`, `C` and `D`. We will use the `E` column as targets."
   ]
  },
  {
   "cell_type": "code",
   "execution_count": 3,
   "metadata": {},
   "outputs": [],
   "source": [
    "df = pd.read_csv('dependent_labels_dataset.csv', index_col = 0)"
   ]
  },
  {
   "cell_type": "code",
   "execution_count": 4,
   "metadata": {},
   "outputs": [
    {
     "data": {
      "text/html": [
       "<div>\n",
       "<style scoped>\n",
       "    .dataframe tbody tr th:only-of-type {\n",
       "        vertical-align: middle;\n",
       "    }\n",
       "\n",
       "    .dataframe tbody tr th {\n",
       "        vertical-align: top;\n",
       "    }\n",
       "\n",
       "    .dataframe thead th {\n",
       "        text-align: right;\n",
       "    }\n",
       "</style>\n",
       "<table border=\"1\" class=\"dataframe\">\n",
       "  <thead>\n",
       "    <tr style=\"text-align: right;\">\n",
       "      <th></th>\n",
       "      <th>A</th>\n",
       "      <th>B</th>\n",
       "      <th>C</th>\n",
       "      <th>D</th>\n",
       "      <th>E</th>\n",
       "    </tr>\n",
       "    <tr>\n",
       "      <th>t</th>\n",
       "      <th></th>\n",
       "      <th></th>\n",
       "      <th></th>\n",
       "      <th></th>\n",
       "      <th></th>\n",
       "    </tr>\n",
       "  </thead>\n",
       "  <tbody>\n",
       "    <tr>\n",
       "      <th>1.0</th>\n",
       "      <td>0.780067</td>\n",
       "      <td>-1.139543</td>\n",
       "      <td>0.298152</td>\n",
       "      <td>0.412867</td>\n",
       "      <td>3</td>\n",
       "    </tr>\n",
       "    <tr>\n",
       "      <th>2.0</th>\n",
       "      <td>0.521061</td>\n",
       "      <td>-0.680001</td>\n",
       "      <td>0.148710</td>\n",
       "      <td>0.461035</td>\n",
       "      <td>3</td>\n",
       "    </tr>\n",
       "    <tr>\n",
       "      <th>3.0</th>\n",
       "      <td>0.425336</td>\n",
       "      <td>-0.620970</td>\n",
       "      <td>0.099168</td>\n",
       "      <td>0.409145</td>\n",
       "      <td>3</td>\n",
       "    </tr>\n",
       "    <tr>\n",
       "      <th>4.0</th>\n",
       "      <td>0.696707</td>\n",
       "      <td>-0.666513</td>\n",
       "      <td>0.099526</td>\n",
       "      <td>0.477195</td>\n",
       "      <td>3</td>\n",
       "    </tr>\n",
       "    <tr>\n",
       "      <th>5.0</th>\n",
       "      <td>-0.059698</td>\n",
       "      <td>-0.220574</td>\n",
       "      <td>0.249784</td>\n",
       "      <td>0.465186</td>\n",
       "      <td>3</td>\n",
       "    </tr>\n",
       "  </tbody>\n",
       "</table>\n",
       "</div>"
      ],
      "text/plain": [
       "            A         B         C         D  E\n",
       "t                                             \n",
       "1.0  0.780067 -1.139543  0.298152  0.412867  3\n",
       "2.0  0.521061 -0.680001  0.148710  0.461035  3\n",
       "3.0  0.425336 -0.620970  0.099168  0.409145  3\n",
       "4.0  0.696707 -0.666513  0.099526  0.477195  3\n",
       "5.0 -0.059698 -0.220574  0.249784  0.465186  3"
      ]
     },
     "execution_count": 4,
     "metadata": {},
     "output_type": "execute_result"
    }
   ],
   "source": [
    "df.head()"
   ]
  },
  {
   "cell_type": "code",
   "execution_count": 5,
   "metadata": {},
   "outputs": [
    {
     "data": {
      "text/plain": [
       "<matplotlib.axes._subplots.AxesSubplot at 0x7fc2c88ca0b8>"
      ]
     },
     "execution_count": 5,
     "metadata": {},
     "output_type": "execute_result"
    },
    {
     "data": {
      "image/png": "[encoded data removed]",
      "text/plain": [
       "<matplotlib.figure.Figure at 0x7fc2c8926978>"
      ]
     },
     "metadata": {
      "needs_background": "light"
     },
     "output_type": "display_data"
    }
   ],
   "source": [
    "df.plot()"
   ]
  },
  {
   "cell_type": "code",
   "execution_count": 6,
   "metadata": {},
   "outputs": [
    {
     "data": {
      "text/plain": [
       "(1000, 5)"
      ]
     },
     "execution_count": 6,
     "metadata": {},
     "output_type": "execute_result"
    }
   ],
   "source": [
    "df.shape"
   ]
  },
  {
   "cell_type": "markdown",
   "metadata": {},
   "source": [
    "## Create redundancy in the data\n",
    "In order to illustrate the effect of redundancy in the data, we are going to deliberately create an extreme version of this condition by **duplicating each row in the data 5 times**, using the function `create_redundant_data` below."
   ]
  },
  {
   "cell_type": "code",
   "execution_count": 7,
   "metadata": {},
   "outputs": [],
   "source": [
    "num_duplicates = 5"
   ]
  },
  {
   "cell_type": "code",
   "execution_count": 8,
   "metadata": {},
   "outputs": [],
   "source": [
    "def create_redundant_data(df, num_duplicates):\n",
    "    \"\"\"\n",
    "    From the existing dataset, create a new dataset in which every original row is exactly duplicated `num_duplicates` times. \n",
    "    Re-order this new dataset according to the order of the original index.\n",
    "\n",
    "    Parameters\n",
    "    ----------\n",
    "    df : pandas DataFrame\n",
    "        The original dataset.\n",
    "    \n",
    "    Returns\n",
    "    -------\n",
    "    redundant_df : pandas DataFrame\n",
    "        The new, redundant dataset.\n",
    "    \"\"\"\n",
    "    \n",
    "    # TODO: Implement\n",
    "    redundant_df = df.copy()\n",
    "    for i in range(num_duplicates - 1):\n",
    "        redundant_df = redundant_df.append(df)\n",
    "    \n",
    "    redundant_df.sort_index(axis=0, level='t', inplace=True)\n",
    "    \n",
    "    return redundant_df"
   ]
  },
  {
   "cell_type": "code",
   "execution_count": 9,
   "metadata": {},
   "outputs": [],
   "source": [
    "redundant_df = create_redundant_data(df, num_duplicates)"
   ]
  },
  {
   "cell_type": "code",
   "execution_count": 10,
   "metadata": {},
   "outputs": [
    {
     "data": {
      "text/html": [
       "<div>\n",
       "<style scoped>\n",
       "    .dataframe tbody tr th:only-of-type {\n",
       "        vertical-align: middle;\n",
       "    }\n",
       "\n",
       "    .dataframe tbody tr th {\n",
       "        vertical-align: top;\n",
       "    }\n",
       "\n",
       "    .dataframe thead th {\n",
       "        text-align: right;\n",
       "    }\n",
       "</style>\n",
       "<table border=\"1\" class=\"dataframe\">\n",
       "  <thead>\n",
       "    <tr style=\"text-align: right;\">\n",
       "      <th></th>\n",
       "      <th>A</th>\n",
       "      <th>B</th>\n",
       "      <th>C</th>\n",
       "      <th>D</th>\n",
       "      <th>E</th>\n",
       "    </tr>\n",
       "    <tr>\n",
       "      <th>t</th>\n",
       "      <th></th>\n",
       "      <th></th>\n",
       "      <th></th>\n",
       "      <th></th>\n",
       "      <th></th>\n",
       "    </tr>\n",
       "  </thead>\n",
       "  <tbody>\n",
       "    <tr>\n",
       "      <th>1.0</th>\n",
       "      <td>0.780067</td>\n",
       "      <td>-1.139543</td>\n",
       "      <td>0.298152</td>\n",
       "      <td>0.412867</td>\n",
       "      <td>3</td>\n",
       "    </tr>\n",
       "    <tr>\n",
       "      <th>1.0</th>\n",
       "      <td>0.780067</td>\n",
       "      <td>-1.139543</td>\n",
       "      <td>0.298152</td>\n",
       "      <td>0.412867</td>\n",
       "      <td>3</td>\n",
       "    </tr>\n",
       "    <tr>\n",
       "      <th>1.0</th>\n",
       "      <td>0.780067</td>\n",
       "      <td>-1.139543</td>\n",
       "      <td>0.298152</td>\n",
       "      <td>0.412867</td>\n",
       "      <td>3</td>\n",
       "    </tr>\n",
       "    <tr>\n",
       "      <th>1.0</th>\n",
       "      <td>0.780067</td>\n",
       "      <td>-1.139543</td>\n",
       "      <td>0.298152</td>\n",
       "      <td>0.412867</td>\n",
       "      <td>3</td>\n",
       "    </tr>\n",
       "    <tr>\n",
       "      <th>1.0</th>\n",
       "      <td>0.780067</td>\n",
       "      <td>-1.139543</td>\n",
       "      <td>0.298152</td>\n",
       "      <td>0.412867</td>\n",
       "      <td>3</td>\n",
       "    </tr>\n",
       "    <tr>\n",
       "      <th>2.0</th>\n",
       "      <td>0.521061</td>\n",
       "      <td>-0.680001</td>\n",
       "      <td>0.148710</td>\n",
       "      <td>0.461035</td>\n",
       "      <td>3</td>\n",
       "    </tr>\n",
       "    <tr>\n",
       "      <th>2.0</th>\n",
       "      <td>0.521061</td>\n",
       "      <td>-0.680001</td>\n",
       "      <td>0.148710</td>\n",
       "      <td>0.461035</td>\n",
       "      <td>3</td>\n",
       "    </tr>\n",
       "    <tr>\n",
       "      <th>2.0</th>\n",
       "      <td>0.521061</td>\n",
       "      <td>-0.680001</td>\n",
       "      <td>0.148710</td>\n",
       "      <td>0.461035</td>\n",
       "      <td>3</td>\n",
       "    </tr>\n",
       "    <tr>\n",
       "      <th>2.0</th>\n",
       "      <td>0.521061</td>\n",
       "      <td>-0.680001</td>\n",
       "      <td>0.148710</td>\n",
       "      <td>0.461035</td>\n",
       "      <td>3</td>\n",
       "    </tr>\n",
       "    <tr>\n",
       "      <th>2.0</th>\n",
       "      <td>0.521061</td>\n",
       "      <td>-0.680001</td>\n",
       "      <td>0.148710</td>\n",
       "      <td>0.461035</td>\n",
       "      <td>3</td>\n",
       "    </tr>\n",
       "    <tr>\n",
       "      <th>3.0</th>\n",
       "      <td>0.425336</td>\n",
       "      <td>-0.620970</td>\n",
       "      <td>0.099168</td>\n",
       "      <td>0.409145</td>\n",
       "      <td>3</td>\n",
       "    </tr>\n",
       "    <tr>\n",
       "      <th>3.0</th>\n",
       "      <td>0.425336</td>\n",
       "      <td>-0.620970</td>\n",
       "      <td>0.099168</td>\n",
       "      <td>0.409145</td>\n",
       "      <td>3</td>\n",
       "    </tr>\n",
       "    <tr>\n",
       "      <th>3.0</th>\n",
       "      <td>0.425336</td>\n",
       "      <td>-0.620970</td>\n",
       "      <td>0.099168</td>\n",
       "      <td>0.409145</td>\n",
       "      <td>3</td>\n",
       "    </tr>\n",
       "    <tr>\n",
       "      <th>3.0</th>\n",
       "      <td>0.425336</td>\n",
       "      <td>-0.620970</td>\n",
       "      <td>0.099168</td>\n",
       "      <td>0.409145</td>\n",
       "      <td>3</td>\n",
       "    </tr>\n",
       "    <tr>\n",
       "      <th>3.0</th>\n",
       "      <td>0.425336</td>\n",
       "      <td>-0.620970</td>\n",
       "      <td>0.099168</td>\n",
       "      <td>0.409145</td>\n",
       "      <td>3</td>\n",
       "    </tr>\n",
       "    <tr>\n",
       "      <th>4.0</th>\n",
       "      <td>0.696707</td>\n",
       "      <td>-0.666513</td>\n",
       "      <td>0.099526</td>\n",
       "      <td>0.477195</td>\n",
       "      <td>3</td>\n",
       "    </tr>\n",
       "    <tr>\n",
       "      <th>4.0</th>\n",
       "      <td>0.696707</td>\n",
       "      <td>-0.666513</td>\n",
       "      <td>0.099526</td>\n",
       "      <td>0.477195</td>\n",
       "      <td>3</td>\n",
       "    </tr>\n",
       "    <tr>\n",
       "      <th>4.0</th>\n",
       "      <td>0.696707</td>\n",
       "      <td>-0.666513</td>\n",
       "      <td>0.099526</td>\n",
       "      <td>0.477195</td>\n",
       "      <td>3</td>\n",
       "    </tr>\n",
       "    <tr>\n",
       "      <th>4.0</th>\n",
       "      <td>0.696707</td>\n",
       "      <td>-0.666513</td>\n",
       "      <td>0.099526</td>\n",
       "      <td>0.477195</td>\n",
       "      <td>3</td>\n",
       "    </tr>\n",
       "    <tr>\n",
       "      <th>4.0</th>\n",
       "      <td>0.696707</td>\n",
       "      <td>-0.666513</td>\n",
       "      <td>0.099526</td>\n",
       "      <td>0.477195</td>\n",
       "      <td>3</td>\n",
       "    </tr>\n",
       "  </tbody>\n",
       "</table>\n",
       "</div>"
      ],
      "text/plain": [
       "            A         B         C         D  E\n",
       "t                                             \n",
       "1.0  0.780067 -1.139543  0.298152  0.412867  3\n",
       "1.0  0.780067 -1.139543  0.298152  0.412867  3\n",
       "1.0  0.780067 -1.139543  0.298152  0.412867  3\n",
       "1.0  0.780067 -1.139543  0.298152  0.412867  3\n",
       "1.0  0.780067 -1.139543  0.298152  0.412867  3\n",
       "2.0  0.521061 -0.680001  0.148710  0.461035  3\n",
       "2.0  0.521061 -0.680001  0.148710  0.461035  3\n",
       "2.0  0.521061 -0.680001  0.148710  0.461035  3\n",
       "2.0  0.521061 -0.680001  0.148710  0.461035  3\n",
       "2.0  0.521061 -0.680001  0.148710  0.461035  3\n",
       "3.0  0.425336 -0.620970  0.099168  0.409145  3\n",
       "3.0  0.425336 -0.620970  0.099168  0.409145  3\n",
       "3.0  0.425336 -0.620970  0.099168  0.409145  3\n",
       "3.0  0.425336 -0.620970  0.099168  0.409145  3\n",
       "3.0  0.425336 -0.620970  0.099168  0.409145  3\n",
       "4.0  0.696707 -0.666513  0.099526  0.477195  3\n",
       "4.0  0.696707 -0.666513  0.099526  0.477195  3\n",
       "4.0  0.696707 -0.666513  0.099526  0.477195  3\n",
       "4.0  0.696707 -0.666513  0.099526  0.477195  3\n",
       "4.0  0.696707 -0.666513  0.099526  0.477195  3"
      ]
     },
     "execution_count": 10,
     "metadata": {},
     "output_type": "execute_result"
    }
   ],
   "source": [
    "redundant_df.head(20)"
   ]
  },
  {
   "cell_type": "code",
   "execution_count": 11,
   "metadata": {},
   "outputs": [
    {
     "data": {
      "text/plain": [
       "(5000, 5)"
      ]
     },
     "execution_count": 11,
     "metadata": {},
     "output_type": "execute_result"
    }
   ],
   "source": [
    "redundant_df.shape"
   ]
  },
  {
   "cell_type": "markdown",
   "metadata": {},
   "source": [
    "Create a function for scoring the model."
   ]
  },
  {
   "cell_type": "code",
   "execution_count": 12,
   "metadata": {},
   "outputs": [],
   "source": [
    "def model_score(m, X_train, y_train, X_valid, y_valid):\n",
    "    '''\n",
    "    Take in the model and training and validation datasets, and return the training accuracy score, validation\n",
    "    accuracy score, and out-of-bag score. Furthermore, print each of these results.\n",
    "    \n",
    "    Parameters\n",
    "    ----------\n",
    "    m : RandomForestClassifier instance\n",
    "        The trained model.\n",
    "        \n",
    "    X_train : pandas DataFrame\n",
    "        The training features.\n",
    "        \n",
    "    y_train : pandas Series\n",
    "        The training labels.\n",
    "        \n",
    "    X_valid : pandas DataFrame\n",
    "        The validation features.\n",
    "        \n",
    "    y_valid : pandas Series\n",
    "        The validation labels.\n",
    "    \n",
    "    Returns\n",
    "    -------\n",
    "    train_score : float\n",
    "        The mean training accuracy.\n",
    "        \n",
    "    valid_score : float\n",
    "        The mean validation accuracy.\n",
    "        \n",
    "    oob_score : float\n",
    "        The out-of-bag score.\n",
    "    \n",
    "    '''\n",
    "\n",
    "    # TODO: Implement\n",
    "    train_score = m.score(X_train, y_train)\n",
    "    valid_score = m.score(X_valid, y_valid)\n",
    "    oob_score = m.oob_score_\n",
    "    \n",
    "    print(f'train: {train_score}, oob: {oob_score}, valid: {valid_score}')\n",
    "    \n",
    "    return train_score, valid_score, oob_score"
   ]
  },
  {
   "cell_type": "markdown",
   "metadata": {},
   "source": [
    "## Split data into train, valid and test sets"
   ]
  },
  {
   "cell_type": "code",
   "execution_count": 13,
   "metadata": {},
   "outputs": [],
   "source": [
    "def make_splits(df, features, target, split_valid=0.20, split_test=0.20):\n",
    "    temp = df.dropna()\n",
    "    \n",
    "    X = temp[features].copy()\n",
    "    y = temp[target].copy()\n",
    "\n",
    "    train_end = int(X.shape[0] * (1 - split_valid - split_test))\n",
    "    valid_end = train_end + int(X.shape[0] * split_valid)\n",
    "\n",
    "    X_train, X_valid, X_test = X.iloc[:train_end,], X.iloc[(train_end + 1):valid_end,], X.iloc[(valid_end + 1):]\n",
    "    y_train, y_valid, y_test = y.iloc[:train_end,], y.iloc[(train_end + 1):valid_end,], y.iloc[(valid_end + 1):]\n",
    "    \n",
    "    return X, X_train, X_valid, X_test, y_train, y_valid, y_test"
   ]
  },
  {
   "cell_type": "code",
   "execution_count": 14,
   "metadata": {},
   "outputs": [],
   "source": [
    "features = ['A', 'B', 'C', 'D']"
   ]
  },
  {
   "cell_type": "code",
   "execution_count": 15,
   "metadata": {},
   "outputs": [],
   "source": [
    "X, X_train, X_valid, X_test, y_train, y_valid, y_test = make_splits(\n",
    "    redundant_df,\n",
    "    features,\n",
    "    'E'\n",
    ")"
   ]
  },
  {
   "cell_type": "markdown",
   "metadata": {},
   "source": [
    "## Train one tree, take a look at it"
   ]
  },
  {
   "cell_type": "code",
   "execution_count": 16,
   "metadata": {},
   "outputs": [],
   "source": [
    "from sklearn.tree import DecisionTreeClassifier\n",
    "from sklearn.ensemble import RandomForestClassifier"
   ]
  },
  {
   "cell_type": "code",
   "execution_count": 17,
   "metadata": {},
   "outputs": [],
   "source": [
    "def instantiate_and_fit_one_tree(X_train, y_train):\n",
    "    \"\"\"\n",
    "    Instantiate a single decision tree and fit it on the training data. Return the fitted classifier.\n",
    "    \n",
    "    Parameters\n",
    "    ----------\n",
    "    X_train : pandas DataFrame\n",
    "        The training features.\n",
    "        \n",
    "    y_train : pandas Series\n",
    "        The training labels.\n",
    "    \n",
    "    Returns\n",
    "    -------\n",
    "    clf : DecisionTreeClassifier\n",
    "        The fitted classifier instance.\n",
    "    \"\"\"\n",
    "    \n",
    "    # TODO: Implement\n",
    "    # Can do this with a DecisionTreeClassifier or with a RandomForestClassifier, with n_estimators=1\n",
    "    clf = DecisionTreeClassifier(\n",
    "        max_depth=3, \n",
    "        max_features=None, \n",
    "        criterion='entropy', \n",
    "        random_state=42\n",
    "    )\n",
    "    \n",
    "    clf.fit(X_train, y_train)\n",
    "    return clf"
   ]
  },
  {
   "cell_type": "code",
   "execution_count": 18,
   "metadata": {},
   "outputs": [],
   "source": [
    "clf = instantiate_and_fit_one_tree(X_train, y_train)"
   ]
  },
  {
   "cell_type": "code",
   "execution_count": 19,
   "metadata": {},
   "outputs": [
    {
     "name": "stdout",
     "output_type": "stream",
     "text": [
      "Requirement already satisfied: graphviz in /opt/conda/lib/python3.6/site-packages (0.19.1)\r\n"
     ]
    }
   ],
   "source": [
    "! pip install graphviz"
   ]
  },
  {
   "cell_type": "code",
   "execution_count": 20,
   "metadata": {},
   "outputs": [],
   "source": [
    "import graphviz\n",
    "from sklearn.tree import export_graphviz\n",
    "\n",
    "def export_graph(classifier, feature_names):\n",
    "    \"\"\"\n",
    "    First, export the dot data from the fitted classifier. Then, create a graphviz Source object from the dot data,\n",
    "    and return it.\n",
    "\n",
    "    Parameters\n",
    "    ----------\n",
    "    classifier : DecisionTreeClassifier\n",
    "        The single decision tree you created and fit above.\n",
    "    \n",
    "    Returns\n",
    "    -------\n",
    "    graph : graphviz Source object\n",
    "        The Source object created with the graph information.\n",
    "    \"\"\"\n",
    "    \n",
    "    # TODO: Implement\n",
    "    dot_data = export_graphviz(\n",
    "        clf,\n",
    "        out_file=None,\n",
    "        feature_names=features,\n",
    "        filled=True, \n",
    "        rounded=True,\n",
    "        special_characters=True,\n",
    "        rotate=False\n",
    "    )\n",
    "    \n",
    "    graph = graphviz.Source(dot_data);\n",
    "    return graph"
   ]
  },
  {
   "cell_type": "code",
   "execution_count": 21,
   "metadata": {},
   "outputs": [
    {
     "data": {
      "image/svg+xml": [
       "<?xml version=\"1.0\" encoding=\"UTF-8\" standalone=\"no\"?>\n",
       "<!DOCTYPE svg PUBLIC \"-//W3C//DTD SVG 1.1//EN\"\n",
       " \"http://www.w3.org/Graphics/SVG/1.1/DTD/svg11.dtd\">\n",
       "<!-- Generated by graphviz version 2.38.0 (20140413.2041)\n",
       " -->\n",
       "<!-- Title: Tree Pages: 1 -->\n",
       "<svg width=\"1586pt\" height=\"373pt\"\n",
       " viewBox=\"0.00 0.00 1586.00 373.00\" xmlns=\"http://www.w3.org/2000/svg\" xmlns:xlink=\"http://www.w3.org/1999/xlink\">\n",
       "<g id=\"graph0\" class=\"graph\" transform=\"scale(1 1) rotate(0) translate(4 369)\">\n",
       "<title>Tree</title>\n",
       "<polygon fill=\"white\" stroke=\"none\" points=\"-4,4 -4,-369 1582,-369 1582,4 -4,4\"/>\n",
       "<!-- 0 -->\n",
       "<g id=\"node1\" class=\"node\"><title>0</title>\n",
       "<path fill=\"#47e539\" fill-opacity=\"0.043137\" stroke=\"black\" d=\"M883,-365C883,-365 686,-365 686,-365 680,-365 674,-359 674,-353 674,-353 674,-309 674,-309 674,-303 680,-297 686,-297 686,-297 883,-297 883,-297 889,-297 895,-303 895,-309 895,-309 895,-353 895,-353 895,-359 889,-365 883,-365\"/>\n",
       "<text text-anchor=\"start\" x=\"745\" y=\"-349.8\" font-family=\"Helvetica,sans-Serif\" font-size=\"14.00\">D ≤ &#45;0.422</text>\n",
       "<text text-anchor=\"start\" x=\"731\" y=\"-334.8\" font-family=\"Helvetica,sans-Serif\" font-size=\"14.00\">entropy = 1.99</text>\n",
       "<text text-anchor=\"start\" x=\"728.5\" y=\"-319.8\" font-family=\"Helvetica,sans-Serif\" font-size=\"14.00\">samples = 3000</text>\n",
       "<text text-anchor=\"start\" x=\"682\" y=\"-304.8\" font-family=\"Helvetica,sans-Serif\" font-size=\"14.00\">value = [780, 875, 645, 700]</text>\n",
       "</g>\n",
       "<!-- 1 -->\n",
       "<g id=\"node2\" class=\"node\"><title>1</title>\n",
       "<path fill=\"#e58139\" fill-opacity=\"0.368627\" stroke=\"black\" d=\"M725.5,-261C725.5,-261 537.5,-261 537.5,-261 531.5,-261 525.5,-255 525.5,-249 525.5,-249 525.5,-205 525.5,-205 525.5,-199 531.5,-193 537.5,-193 537.5,-193 725.5,-193 725.5,-193 731.5,-193 737.5,-199 737.5,-205 737.5,-205 737.5,-249 737.5,-249 737.5,-255 731.5,-261 725.5,-261\"/>\n",
       "<text text-anchor=\"start\" x=\"593\" y=\"-245.8\" font-family=\"Helvetica,sans-Serif\" font-size=\"14.00\">A ≤ &#45;0.304</text>\n",
       "<text text-anchor=\"start\" x=\"573.5\" y=\"-230.8\" font-family=\"Helvetica,sans-Serif\" font-size=\"14.00\">entropy = 1.508</text>\n",
       "<text text-anchor=\"start\" x=\"575.5\" y=\"-215.8\" font-family=\"Helvetica,sans-Serif\" font-size=\"14.00\">samples = 1265</text>\n",
       "<text text-anchor=\"start\" x=\"533.5\" y=\"-200.8\" font-family=\"Helvetica,sans-Serif\" font-size=\"14.00\">value = [695, 360, 185, 25]</text>\n",
       "</g>\n",
       "<!-- 0&#45;&gt;1 -->\n",
       "<g id=\"edge1\" class=\"edge\"><title>0&#45;&gt;1</title>\n",
       "<path fill=\"none\" stroke=\"black\" d=\"M734.825,-296.884C720.456,-287.304 704.641,-276.761 689.797,-266.864\"/>\n",
       "<polygon fill=\"black\" stroke=\"black\" points=\"691.449,-263.76 681.187,-261.125 687.566,-269.584 691.449,-263.76\"/>\n",
       "<text text-anchor=\"middle\" x=\"686.09\" y=\"-281.939\" font-family=\"Helvetica,sans-Serif\" font-size=\"14.00\">True</text>\n",
       "</g>\n",
       "<!-- 8 -->\n",
       "<g id=\"node9\" class=\"node\"><title>8</title>\n",
       "<path fill=\"#d739e5\" fill-opacity=\"0.129412\" stroke=\"black\" d=\"M1032.5,-261C1032.5,-261 844.5,-261 844.5,-261 838.5,-261 832.5,-255 832.5,-249 832.5,-249 832.5,-205 832.5,-205 832.5,-199 838.5,-193 844.5,-193 844.5,-193 1032.5,-193 1032.5,-193 1038.5,-193 1044.5,-199 1044.5,-205 1044.5,-205 1044.5,-249 1044.5,-249 1044.5,-255 1038.5,-261 1032.5,-261\"/>\n",
       "<text text-anchor=\"start\" x=\"900\" y=\"-245.8\" font-family=\"Helvetica,sans-Serif\" font-size=\"14.00\">A ≤ &#45;0.629</text>\n",
       "<text text-anchor=\"start\" x=\"880.5\" y=\"-230.8\" font-family=\"Helvetica,sans-Serif\" font-size=\"14.00\">entropy = 1.771</text>\n",
       "<text text-anchor=\"start\" x=\"882.5\" y=\"-215.8\" font-family=\"Helvetica,sans-Serif\" font-size=\"14.00\">samples = 1735</text>\n",
       "<text text-anchor=\"start\" x=\"840.5\" y=\"-200.8\" font-family=\"Helvetica,sans-Serif\" font-size=\"14.00\">value = [85, 515, 460, 675]</text>\n",
       "</g>\n",
       "<!-- 0&#45;&gt;8 -->\n",
       "<g id=\"edge8\" class=\"edge\"><title>0&#45;&gt;8</title>\n",
       "<path fill=\"none\" stroke=\"black\" d=\"M834.499,-296.884C848.963,-287.304 864.881,-276.761 879.822,-266.864\"/>\n",
       "<polygon fill=\"black\" stroke=\"black\" points=\"882.084,-269.565 888.488,-261.125 878.218,-263.729 882.084,-269.565\"/>\n",
       "<text text-anchor=\"middle\" x=\"883.512\" y=\"-281.924\" font-family=\"Helvetica,sans-Serif\" font-size=\"14.00\">False</text>\n",
       "</g>\n",
       "<!-- 2 -->\n",
       "<g id=\"node3\" class=\"node\"><title>2</title>\n",
       "<path fill=\"#e58139\" fill-opacity=\"0.729412\" stroke=\"black\" d=\"M371.5,-157C371.5,-157 201.5,-157 201.5,-157 195.5,-157 189.5,-151 189.5,-145 189.5,-145 189.5,-101 189.5,-101 189.5,-95 195.5,-89 201.5,-89 201.5,-89 371.5,-89 371.5,-89 377.5,-89 383.5,-95 383.5,-101 383.5,-101 383.5,-145 383.5,-145 383.5,-151 377.5,-157 371.5,-157\"/>\n",
       "<text text-anchor=\"start\" x=\"255\" y=\"-141.8\" font-family=\"Helvetica,sans-Serif\" font-size=\"14.00\">B ≤ 0.52</text>\n",
       "<text text-anchor=\"start\" x=\"228.5\" y=\"-126.8\" font-family=\"Helvetica,sans-Serif\" font-size=\"14.00\">entropy = 0.919</text>\n",
       "<text text-anchor=\"start\" x=\"235\" y=\"-111.8\" font-family=\"Helvetica,sans-Serif\" font-size=\"14.00\">samples = 815</text>\n",
       "<text text-anchor=\"start\" x=\"197.5\" y=\"-96.8\" font-family=\"Helvetica,sans-Serif\" font-size=\"14.00\">value = [635, 145, 35, 0]</text>\n",
       "</g>\n",
       "<!-- 1&#45;&gt;2 -->\n",
       "<g id=\"edge2\" class=\"edge\"><title>1&#45;&gt;2</title>\n",
       "<path fill=\"none\" stroke=\"black\" d=\"M525.174,-194.564C483.295,-182.183 435.283,-167.988 393.353,-155.591\"/>\n",
       "<polygon fill=\"black\" stroke=\"black\" points=\"394.253,-152.208 383.671,-152.729 392.268,-158.92 394.253,-152.208\"/>\n",
       "</g>\n",
       "<!-- 5 -->\n",
       "<g id=\"node6\" class=\"node\"><title>5</title>\n",
       "<path fill=\"#47e539\" fill-opacity=\"0.215686\" stroke=\"black\" d=\"M721,-157C721,-157 542,-157 542,-157 536,-157 530,-151 530,-145 530,-145 530,-101 530,-101 530,-95 536,-89 542,-89 542,-89 721,-89 721,-89 727,-89 733,-95 733,-101 733,-101 733,-145 733,-145 733,-151 727,-157 721,-157\"/>\n",
       "<text text-anchor=\"start\" x=\"593\" y=\"-141.8\" font-family=\"Helvetica,sans-Serif\" font-size=\"14.00\">C ≤ &#45;1.713</text>\n",
       "<text text-anchor=\"start\" x=\"573.5\" y=\"-126.8\" font-family=\"Helvetica,sans-Serif\" font-size=\"14.00\">entropy = 1.657</text>\n",
       "<text text-anchor=\"start\" x=\"580\" y=\"-111.8\" font-family=\"Helvetica,sans-Serif\" font-size=\"14.00\">samples = 450</text>\n",
       "<text text-anchor=\"start\" x=\"538\" y=\"-96.8\" font-family=\"Helvetica,sans-Serif\" font-size=\"14.00\">value = [60, 215, 150, 25]</text>\n",
       "</g>\n",
       "<!-- 1&#45;&gt;5 -->\n",
       "<g id=\"edge5\" class=\"edge\"><title>1&#45;&gt;5</title>\n",
       "<path fill=\"none\" stroke=\"black\" d=\"M631.5,-192.884C631.5,-184.778 631.5,-175.982 631.5,-167.472\"/>\n",
       "<polygon fill=\"black\" stroke=\"black\" points=\"635,-167.299 631.5,-157.299 628,-167.299 635,-167.299\"/>\n",
       "</g>\n",
       "<!-- 3 -->\n",
       "<g id=\"node4\" class=\"node\"><title>3</title>\n",
       "<path fill=\"#e58139\" fill-opacity=\"0.823529\" stroke=\"black\" d=\"M173,-53C173,-53 12,-53 12,-53 6,-53 1.42109e-14,-47 1.42109e-14,-41 1.42109e-14,-41 1.42109e-14,-12 1.42109e-14,-12 1.42109e-14,-6 6,-0 12,-0 12,-0 173,-0 173,-0 179,-0 185,-6 185,-12 185,-12 185,-41 185,-41 185,-47 179,-53 173,-53\"/>\n",
       "<text text-anchor=\"start\" x=\"34.5\" y=\"-37.8\" font-family=\"Helvetica,sans-Serif\" font-size=\"14.00\">entropy = 0.737</text>\n",
       "<text text-anchor=\"start\" x=\"41\" y=\"-22.8\" font-family=\"Helvetica,sans-Serif\" font-size=\"14.00\">samples = 745</text>\n",
       "<text text-anchor=\"start\" x=\"8\" y=\"-7.8\" font-family=\"Helvetica,sans-Serif\" font-size=\"14.00\">value = [630, 90, 25, 0]</text>\n",
       "</g>\n",
       "<!-- 2&#45;&gt;3 -->\n",
       "<g id=\"edge3\" class=\"edge\"><title>2&#45;&gt;3</title>\n",
       "<path fill=\"none\" stroke=\"black\" d=\"M218.648,-88.9485C197.708,-78.748 174.769,-67.5744 154.262,-57.5852\"/>\n",
       "<polygon fill=\"black\" stroke=\"black\" points=\"155.55,-54.3194 145.027,-53.0867 152.485,-60.6125 155.55,-54.3194\"/>\n",
       "</g>\n",
       "<!-- 4 -->\n",
       "<g id=\"node5\" class=\"node\"><title>4</title>\n",
       "<path fill=\"#47e539\" fill-opacity=\"0.749020\" stroke=\"black\" d=\"M358,-53C358,-53 215,-53 215,-53 209,-53 203,-47 203,-41 203,-41 203,-12 203,-12 203,-6 209,-0 215,-0 215,-0 358,-0 358,-0 364,-0 370,-6 370,-12 370,-12 370,-41 370,-41 370,-47 364,-53 358,-53\"/>\n",
       "<text text-anchor=\"start\" x=\"228.5\" y=\"-37.8\" font-family=\"Helvetica,sans-Serif\" font-size=\"14.00\">entropy = 0.946</text>\n",
       "<text text-anchor=\"start\" x=\"239.5\" y=\"-22.8\" font-family=\"Helvetica,sans-Serif\" font-size=\"14.00\">samples = 70</text>\n",
       "<text text-anchor=\"start\" x=\"211\" y=\"-7.8\" font-family=\"Helvetica,sans-Serif\" font-size=\"14.00\">value = [5, 55, 10, 0]</text>\n",
       "</g>\n",
       "<!-- 2&#45;&gt;4 -->\n",
       "<g id=\"edge4\" class=\"edge\"><title>2&#45;&gt;4</title>\n",
       "<path fill=\"none\" stroke=\"black\" d=\"M286.5,-88.9485C286.5,-80.7153 286.5,-71.848 286.5,-63.4814\"/>\n",
       "<polygon fill=\"black\" stroke=\"black\" points=\"290,-63.2367 286.5,-53.2367 283,-63.2367 290,-63.2367\"/>\n",
       "</g>\n",
       "<!-- 6 -->\n",
       "<g id=\"node7\" class=\"node\"><title>6</title>\n",
       "<path fill=\"#47e539\" fill-opacity=\"0.623529\" stroke=\"black\" d=\"M561,-53C561,-53 400,-53 400,-53 394,-53 388,-47 388,-41 388,-41 388,-12 388,-12 388,-6 394,-0 400,-0 400,-0 561,-0 561,-0 567,-0 573,-6 573,-12 573,-12 573,-41 573,-41 573,-47 567,-53 561,-53\"/>\n",
       "<text text-anchor=\"start\" x=\"422.5\" y=\"-37.8\" font-family=\"Helvetica,sans-Serif\" font-size=\"14.00\">entropy = 1.089</text>\n",
       "<text text-anchor=\"start\" x=\"429\" y=\"-22.8\" font-family=\"Helvetica,sans-Serif\" font-size=\"14.00\">samples = 240</text>\n",
       "<text text-anchor=\"start\" x=\"396\" y=\"-7.8\" font-family=\"Helvetica,sans-Serif\" font-size=\"14.00\">value = [55, 170, 15, 0]</text>\n",
       "</g>\n",
       "<!-- 5&#45;&gt;6 -->\n",
       "<g id=\"edge6\" class=\"edge\"><title>5&#45;&gt;6</title>\n",
       "<path fill=\"none\" stroke=\"black\" d=\"M578.688,-88.9485C563.047,-79.1601 545.974,-68.4756 530.516,-58.8015\"/>\n",
       "<polygon fill=\"black\" stroke=\"black\" points=\"531.958,-55.5749 521.624,-53.2367 528.244,-61.5087 531.958,-55.5749\"/>\n",
       "</g>\n",
       "<!-- 7 -->\n",
       "<g id=\"node8\" class=\"node\"><title>7</title>\n",
       "<path fill=\"#399de5\" fill-opacity=\"0.545098\" stroke=\"black\" d=\"M764,-53C764,-53 603,-53 603,-53 597,-53 591,-47 591,-41 591,-41 591,-12 591,-12 591,-6 597,-0 603,-0 603,-0 764,-0 764,-0 770,-0 776,-6 776,-12 776,-12 776,-41 776,-41 776,-47 770,-53 764,-53\"/>\n",
       "<text text-anchor=\"start\" x=\"630\" y=\"-37.8\" font-family=\"Helvetica,sans-Serif\" font-size=\"14.00\">entropy = 1.38</text>\n",
       "<text text-anchor=\"start\" x=\"632\" y=\"-22.8\" font-family=\"Helvetica,sans-Serif\" font-size=\"14.00\">samples = 210</text>\n",
       "<text text-anchor=\"start\" x=\"599\" y=\"-7.8\" font-family=\"Helvetica,sans-Serif\" font-size=\"14.00\">value = [5, 45, 135, 25]</text>\n",
       "</g>\n",
       "<!-- 5&#45;&gt;7 -->\n",
       "<g id=\"edge7\" class=\"edge\"><title>5&#45;&gt;7</title>\n",
       "<path fill=\"none\" stroke=\"black\" d=\"M649.687,-88.9485C654.469,-80.2579 659.64,-70.8608 664.465,-62.0917\"/>\n",
       "<polygon fill=\"black\" stroke=\"black\" points=\"667.583,-63.6853 669.338,-53.2367 661.451,-60.3105 667.583,-63.6853\"/>\n",
       "</g>\n",
       "<!-- 9 -->\n",
       "<g id=\"node10\" class=\"node\"><title>9</title>\n",
       "<path fill=\"#47e539\" fill-opacity=\"0.454902\" stroke=\"black\" d=\"M1028,-157C1028,-157 849,-157 849,-157 843,-157 837,-151 837,-145 837,-145 837,-101 837,-101 837,-95 843,-89 849,-89 849,-89 1028,-89 1028,-89 1034,-89 1040,-95 1040,-101 1040,-101 1040,-145 1040,-145 1040,-151 1034,-157 1028,-157\"/>\n",
       "<text text-anchor=\"start\" x=\"900\" y=\"-141.8\" font-family=\"Helvetica,sans-Serif\" font-size=\"14.00\">C ≤ &#45;0.669</text>\n",
       "<text text-anchor=\"start\" x=\"880.5\" y=\"-126.8\" font-family=\"Helvetica,sans-Serif\" font-size=\"14.00\">entropy = 1.686</text>\n",
       "<text text-anchor=\"start\" x=\"887\" y=\"-111.8\" font-family=\"Helvetica,sans-Serif\" font-size=\"14.00\">samples = 675</text>\n",
       "<text text-anchor=\"start\" x=\"845\" y=\"-96.8\" font-family=\"Helvetica,sans-Serif\" font-size=\"14.00\">value = [85, 375, 125, 90]</text>\n",
       "</g>\n",
       "<!-- 8&#45;&gt;9 -->\n",
       "<g id=\"edge9\" class=\"edge\"><title>8&#45;&gt;9</title>\n",
       "<path fill=\"none\" stroke=\"black\" d=\"M938.5,-192.884C938.5,-184.778 938.5,-175.982 938.5,-167.472\"/>\n",
       "<polygon fill=\"black\" stroke=\"black\" points=\"942,-167.299 938.5,-157.299 935,-167.299 942,-167.299\"/>\n",
       "</g>\n",
       "<!-- 12 -->\n",
       "<g id=\"node13\" class=\"node\"><title>12</title>\n",
       "<path fill=\"#d739e5\" fill-opacity=\"0.345098\" stroke=\"black\" d=\"M1368,-157C1368,-157 1189,-157 1189,-157 1183,-157 1177,-151 1177,-145 1177,-145 1177,-101 1177,-101 1177,-95 1183,-89 1189,-89 1189,-89 1368,-89 1368,-89 1374,-89 1380,-95 1380,-101 1380,-101 1380,-145 1380,-145 1380,-151 1374,-157 1368,-157\"/>\n",
       "<text text-anchor=\"start\" x=\"1240\" y=\"-141.8\" font-family=\"Helvetica,sans-Serif\" font-size=\"14.00\">B ≤ &#45;0.917</text>\n",
       "<text text-anchor=\"start\" x=\"1220.5\" y=\"-126.8\" font-family=\"Helvetica,sans-Serif\" font-size=\"14.00\">entropy = 1.384</text>\n",
       "<text text-anchor=\"start\" x=\"1222.5\" y=\"-111.8\" font-family=\"Helvetica,sans-Serif\" font-size=\"14.00\">samples = 1060</text>\n",
       "<text text-anchor=\"start\" x=\"1185\" y=\"-96.8\" font-family=\"Helvetica,sans-Serif\" font-size=\"14.00\">value = [0, 140, 335, 585]</text>\n",
       "</g>\n",
       "<!-- 8&#45;&gt;12 -->\n",
       "<g id=\"edge12\" class=\"edge\"><title>8&#45;&gt;12</title>\n",
       "<path fill=\"none\" stroke=\"black\" d=\"M1044.68,-194.146C1083.57,-182.48 1127.67,-169.25 1167.01,-157.448\"/>\n",
       "<polygon fill=\"black\" stroke=\"black\" points=\"1168.33,-160.706 1176.9,-154.48 1166.32,-154.001 1168.33,-160.706\"/>\n",
       "</g>\n",
       "<!-- 10 -->\n",
       "<g id=\"node11\" class=\"node\"><title>10</title>\n",
       "<path fill=\"#47e539\" fill-opacity=\"0.603922\" stroke=\"black\" d=\"M967,-53C967,-53 806,-53 806,-53 800,-53 794,-47 794,-41 794,-41 794,-12 794,-12 794,-6 800,-0 806,-0 806,-0 967,-0 967,-0 973,-0 979,-6 979,-12 979,-12 979,-41 979,-41 979,-47 973,-53 967,-53\"/>\n",
       "<text text-anchor=\"start\" x=\"828.5\" y=\"-37.8\" font-family=\"Helvetica,sans-Serif\" font-size=\"14.00\">entropy = 1.295</text>\n",
       "<text text-anchor=\"start\" x=\"835\" y=\"-22.8\" font-family=\"Helvetica,sans-Serif\" font-size=\"14.00\">samples = 560</text>\n",
       "<text text-anchor=\"start\" x=\"802\" y=\"-7.8\" font-family=\"Helvetica,sans-Serif\" font-size=\"14.00\">value = [85, 375, 95, 5]</text>\n",
       "</g>\n",
       "<!-- 9&#45;&gt;10 -->\n",
       "<g id=\"edge10\" class=\"edge\"><title>9&#45;&gt;10</title>\n",
       "<path fill=\"none\" stroke=\"black\" d=\"M920.313,-88.9485C915.531,-80.2579 910.36,-70.8608 905.535,-62.0917\"/>\n",
       "<polygon fill=\"black\" stroke=\"black\" points=\"908.549,-60.3105 900.662,-53.2367 902.417,-63.6853 908.549,-60.3105\"/>\n",
       "</g>\n",
       "<!-- 11 -->\n",
       "<g id=\"node12\" class=\"node\"><title>11</title>\n",
       "<path fill=\"#d739e5\" fill-opacity=\"0.647059\" stroke=\"black\" d=\"M1152,-53C1152,-53 1009,-53 1009,-53 1003,-53 997,-47 997,-41 997,-41 997,-12 997,-12 997,-6 1003,-0 1009,-0 1009,-0 1152,-0 1152,-0 1158,-0 1164,-6 1164,-12 1164,-12 1164,-41 1164,-41 1164,-47 1158,-53 1152,-53\"/>\n",
       "<text text-anchor=\"start\" x=\"1022.5\" y=\"-37.8\" font-family=\"Helvetica,sans-Serif\" font-size=\"14.00\">entropy = 0.828</text>\n",
       "<text text-anchor=\"start\" x=\"1029\" y=\"-22.8\" font-family=\"Helvetica,sans-Serif\" font-size=\"14.00\">samples = 115</text>\n",
       "<text text-anchor=\"start\" x=\"1005\" y=\"-7.8\" font-family=\"Helvetica,sans-Serif\" font-size=\"14.00\">value = [0, 0, 30, 85]</text>\n",
       "</g>\n",
       "<!-- 9&#45;&gt;11 -->\n",
       "<g id=\"edge11\" class=\"edge\"><title>9&#45;&gt;11</title>\n",
       "<path fill=\"none\" stroke=\"black\" d=\"M988.165,-88.9485C1002.87,-79.1601 1018.93,-68.4756 1033.46,-58.8015\"/>\n",
       "<polygon fill=\"black\" stroke=\"black\" points=\"1035.44,-61.6907 1041.83,-53.2367 1031.56,-55.8632 1035.44,-61.6907\"/>\n",
       "</g>\n",
       "<!-- 13 -->\n",
       "<g id=\"node14\" class=\"node\"><title>13</title>\n",
       "<path fill=\"#399de5\" fill-opacity=\"0.164706\" stroke=\"black\" d=\"M1363.5,-53C1363.5,-53 1193.5,-53 1193.5,-53 1187.5,-53 1181.5,-47 1181.5,-41 1181.5,-41 1181.5,-12 1181.5,-12 1181.5,-6 1187.5,-0 1193.5,-0 1193.5,-0 1363.5,-0 1363.5,-0 1369.5,-0 1375.5,-6 1375.5,-12 1375.5,-12 1375.5,-41 1375.5,-41 1375.5,-47 1369.5,-53 1363.5,-53\"/>\n",
       "<text text-anchor=\"start\" x=\"1220.5\" y=\"-37.8\" font-family=\"Helvetica,sans-Serif\" font-size=\"14.00\">entropy = 1.393</text>\n",
       "<text text-anchor=\"start\" x=\"1227\" y=\"-22.8\" font-family=\"Helvetica,sans-Serif\" font-size=\"14.00\">samples = 345</text>\n",
       "<text text-anchor=\"start\" x=\"1189.5\" y=\"-7.8\" font-family=\"Helvetica,sans-Serif\" font-size=\"14.00\">value = [0, 135, 170, 40]</text>\n",
       "</g>\n",
       "<!-- 12&#45;&gt;13 -->\n",
       "<g id=\"edge13\" class=\"edge\"><title>12&#45;&gt;13</title>\n",
       "<path fill=\"none\" stroke=\"black\" d=\"M1278.5,-88.9485C1278.5,-80.7153 1278.5,-71.848 1278.5,-63.4814\"/>\n",
       "<polygon fill=\"black\" stroke=\"black\" points=\"1282,-63.2367 1278.5,-53.2367 1275,-63.2367 1282,-63.2367\"/>\n",
       "</g>\n",
       "<!-- 14 -->\n",
       "<g id=\"node15\" class=\"node\"><title>14</title>\n",
       "<path fill=\"#d739e5\" fill-opacity=\"0.690196\" stroke=\"black\" d=\"M1566,-53C1566,-53 1405,-53 1405,-53 1399,-53 1393,-47 1393,-41 1393,-41 1393,-12 1393,-12 1393,-6 1399,-0 1405,-0 1405,-0 1566,-0 1566,-0 1572,-0 1578,-6 1578,-12 1578,-12 1578,-41 1578,-41 1578,-47 1572,-53 1566,-53\"/>\n",
       "<text text-anchor=\"start\" x=\"1427.5\" y=\"-37.8\" font-family=\"Helvetica,sans-Serif\" font-size=\"14.00\">entropy = 0.837</text>\n",
       "<text text-anchor=\"start\" x=\"1434\" y=\"-22.8\" font-family=\"Helvetica,sans-Serif\" font-size=\"14.00\">samples = 715</text>\n",
       "<text text-anchor=\"start\" x=\"1401\" y=\"-7.8\" font-family=\"Helvetica,sans-Serif\" font-size=\"14.00\">value = [0, 5, 165, 545]</text>\n",
       "</g>\n",
       "<!-- 12&#45;&gt;14 -->\n",
       "<g id=\"edge14\" class=\"edge\"><title>12&#45;&gt;14</title>\n",
       "<path fill=\"none\" stroke=\"black\" d=\"M1350.9,-88.9485C1373.44,-78.6562 1398.16,-67.3729 1420.19,-57.3155\"/>\n",
       "<polygon fill=\"black\" stroke=\"black\" points=\"1421.81,-60.4236 1429.45,-53.0867 1418.9,-54.0558 1421.81,-60.4236\"/>\n",
       "</g>\n",
       "</g>\n",
       "</svg>\n"
      ],
      "text/plain": [
       "<graphviz.sources.Source at 0x7fc2bb86b1d0>"
      ]
     },
     "execution_count": 21,
     "metadata": {},
     "output_type": "execute_result"
    }
   ],
   "source": [
    "# display the single decision tree graph in the notebook\n",
    "graph = export_graph(clf, features)\n",
    "graph"
   ]
  },
  {
   "cell_type": "markdown",
   "metadata": {},
   "source": [
    "## Redundant labels\n",
    "Let's see what happens when we train a full random forest on these redundant data."
   ]
  },
  {
   "cell_type": "code",
   "execution_count": 22,
   "metadata": {},
   "outputs": [],
   "source": [
    "def instantiate_and_fit_a_rf(n_estimators, X_train, y_train, min_samples_leaf=5):\n",
    "    \"\"\"\n",
    "    Instantiate a random forest classifier and fit it on the training data. Return the fitted classifier.\n",
    "    Make sure you use bootstrapping and calculate an out-of-bag score. Set `random_state` equal to an integer so that\n",
    "    when you fit the model again you get the same result. \n",
    "    \n",
    "    Parameters\n",
    "    ----------\n",
    "    n_estimators : int\n",
    "        The number of trees.\n",
    "    \n",
    "    X_train : pandas DataFrame\n",
    "        The training features.\n",
    "        \n",
    "    y_train : pandas Series\n",
    "        The training labels.\n",
    "    \n",
    "    Returns\n",
    "    -------\n",
    "    clf : RandomForestClassifier\n",
    "        The fitted classifier instance.\n",
    "    \"\"\"\n",
    "    \n",
    "    # TODO: Implement\n",
    "    clf = RandomForestClassifier(\n",
    "        n_estimators=n_estimators,\n",
    "        max_features='sqrt',\n",
    "        min_samples_leaf=min_samples_leaf,\n",
    "        bootstrap=True,\n",
    "        oob_score=True,\n",
    "        n_jobs=-1,\n",
    "        criterion='entropy',\n",
    "        verbose=0,\n",
    "        random_state=42\n",
    "    )\n",
    "    \n",
    "    clf.fit(X_train, y_train)\n",
    "    return clf"
   ]
  },
  {
   "cell_type": "code",
   "execution_count": 23,
   "metadata": {},
   "outputs": [
    {
     "data": {
      "application/vnd.jupyter.widget-view+json": {
       "model_id": "c551e64a035f422ba71f20c451e21be4",
       "version_major": 2,
       "version_minor": 0
      },
      "text/html": [
       "<p>Failed to display Jupyter Widget of type <code>HBox</code>.</p>\n",
       "<p>\n",
       "  If you're reading this message in the Jupyter Notebook or JupyterLab Notebook, it may mean\n",
       "  that the widgets JavaScript is still loading. If this message persists, it\n",
       "  likely means that the widgets JavaScript library is either not installed or\n",
       "  not enabled. See the <a href=\"https://ipywidgets.readthedocs.io/en/stable/user_install.html\">Jupyter\n",
       "  Widgets Documentation</a> for setup instructions.\n",
       "</p>\n",
       "<p>\n",
       "  If you're reading this message in another frontend (for example, a static\n",
       "  rendering on GitHub or <a href=\"https://nbviewer.jupyter.org/\">NBViewer</a>),\n",
       "  it may mean that your frontend doesn't currently support widgets.\n",
       "</p>\n"
      ],
      "text/plain": [
       "HBox(children=(IntProgress(value=0, max=4), HTML(value='')))"
      ]
     },
     "metadata": {},
     "output_type": "display_data"
    },
    {
     "name": "stdout",
     "output_type": "stream",
     "text": [
      "train: 1.0, oob: 0.9796666666666667, valid: 0.6446446446446447\n",
      "train: 1.0, oob: 1.0, valid: 0.6546546546546547\n",
      "train: 1.0, oob: 1.0, valid: 0.6646646646646647\n",
      "train: 1.0, oob: 1.0, valid: 0.6596596596596597\n",
      "\n"
     ]
    }
   ],
   "source": [
    "train_score = []\n",
    "valid_score = []\n",
    "oob_score = []\n",
    "tree_sizes = [10, 50, 100, 250]\n",
    "\n",
    "for trees in tqdm(tree_sizes):\n",
    "    clf_red = instantiate_and_fit_a_rf(trees, X_train, y_train)\n",
    "    \n",
    "    tr, va, oob = model_score(clf_red, X_train, y_train, X_valid, y_valid)\n",
    "    train_score.append(tr); valid_score.append(va); oob_score.append(oob)"
   ]
  },
  {
   "cell_type": "code",
   "execution_count": 24,
   "metadata": {},
   "outputs": [],
   "source": [
    "def plot_results(tree_sizes, train_score, oob_score, valid_score, title, y_range):\n",
    "    plt.plot(tree_sizes, train_score, 'xb-');\n",
    "    plt.plot(tree_sizes, oob_score, 'xg-');\n",
    "    plt.plot(tree_sizes, valid_score, 'xr-');\n",
    "    plt.title(title);\n",
    "    plt.xlabel('Number of Trees');\n",
    "    plt.ylabel('Accuracy')\n",
    "    plt.legend(['train','oob', 'valid'])\n",
    "    plt.ylim(y_range[0], y_range[1]);"
   ]
  },
  {
   "cell_type": "code",
   "execution_count": 25,
   "metadata": {},
   "outputs": [],
   "source": [
    "y_range = []\n",
    "y_range.append(0.45)\n",
    "y_range.append(1.005)"
   ]
  },
  {
   "cell_type": "code",
   "execution_count": 26,
   "metadata": {},
   "outputs": [
    {
     "data": {
      "image/png": "[encoded data removed]",
      "text/plain": [
       "<matplotlib.figure.Figure at 0x7fc2bb807a90>"
      ]
     },
     "metadata": {
      "needs_background": "light"
     },
     "output_type": "display_data"
    }
   ],
   "source": [
    "plot_results(tree_sizes, train_score, oob_score, valid_score, 'Random Forest with Redundant Data (accuracy): train, validation, oob', y_range)"
   ]
  },
  {
   "cell_type": "markdown",
   "metadata": {},
   "source": [
    "What you can see from this run is that the OOB score virtually tracks the training score because the OOB data contains the same information as the training data. The validation score, calculated on unseen data, is much lower."
   ]
  },
  {
   "cell_type": "markdown",
   "metadata": {},
   "source": [
    "## Solution #1: use every 5th row\n",
    "In this section, implement the first solution to the redundancy issue by sub-sampling every 5th row of the data."
   ]
  },
  {
   "cell_type": "code",
   "execution_count": 27,
   "metadata": {},
   "outputs": [],
   "source": [
    "def create_subsampled_dataset(num_duplicates, X_train, y_train):\n",
    "    \"\"\"\n",
    "    Create the sub-sampled dataset according to the first solution proposed to the problem of overlapping labels. \n",
    "    \n",
    "    Parameters\n",
    "    ----------\n",
    "    num_duplicates : int\n",
    "        The number of duplications made earlier.\n",
    "    \n",
    "    X_train : pandas DataFrame\n",
    "        The training features.\n",
    "        \n",
    "    y_train : pandas Series\n",
    "        The training labels.\n",
    "    \n",
    "    Returns\n",
    "    -------\n",
    "    X_train_sub : pandas DataFrame\n",
    "        The training features, subsampled.\n",
    "        \n",
    "    y_train_sub : pandas Series\n",
    "        The training labels, subsampled.\n",
    "    \"\"\"\n",
    "    \n",
    "    # TODO: Implement\n",
    "    # pandas slide: all rows and columns with step = 5\n",
    "    X_train_sub = X_train[::5]\n",
    "    y_train_sub = y_train[::5]\n",
    "    \n",
    "    return X_train_sub, y_train_sub"
   ]
  },
  {
   "cell_type": "code",
   "execution_count": 28,
   "metadata": {},
   "outputs": [],
   "source": [
    "X_train_sub, y_train_sub = create_subsampled_dataset(5, X_train, y_train)"
   ]
  },
  {
   "cell_type": "code",
   "execution_count": 29,
   "metadata": {},
   "outputs": [
    {
     "data": {
      "application/vnd.jupyter.widget-view+json": {
       "model_id": "bd041fc915f247b7aee023e88579f962",
       "version_major": 2,
       "version_minor": 0
      },
      "text/html": [
       "<p>Failed to display Jupyter Widget of type <code>HBox</code>.</p>\n",
       "<p>\n",
       "  If you're reading this message in the Jupyter Notebook or JupyterLab Notebook, it may mean\n",
       "  that the widgets JavaScript is still loading. If this message persists, it\n",
       "  likely means that the widgets JavaScript library is either not installed or\n",
       "  not enabled. See the <a href=\"https://ipywidgets.readthedocs.io/en/stable/user_install.html\">Jupyter\n",
       "  Widgets Documentation</a> for setup instructions.\n",
       "</p>\n",
       "<p>\n",
       "  If you're reading this message in another frontend (for example, a static\n",
       "  rendering on GitHub or <a href=\"https://nbviewer.jupyter.org/\">NBViewer</a>),\n",
       "  it may mean that your frontend doesn't currently support widgets.\n",
       "</p>\n"
      ],
      "text/plain": [
       "HBox(children=(IntProgress(value=0, max=4), HTML(value='')))"
      ]
     },
     "metadata": {},
     "output_type": "display_data"
    },
    {
     "name": "stdout",
     "output_type": "stream",
     "text": [
      "train: 0.9383333333333334, oob: 0.7766666666666666, valid: 0.6146146146146146\n",
      "train: 0.965, oob: 0.8316666666666667, valid: 0.6546546546546547\n",
      "train: 0.9616666666666667, oob: 0.8383333333333334, valid: 0.6046046046046046\n",
      "train: 0.96, oob: 0.845, valid: 0.6346346346346347\n",
      "\n"
     ]
    }
   ],
   "source": [
    "train_score = []\n",
    "valid_score = []\n",
    "oob_score = []\n",
    "tree_sizes = [10, 50, 100, 250]\n",
    "\n",
    "for trees in tqdm(tree_sizes):\n",
    "    clf_sub = instantiate_and_fit_a_rf(trees, X_train_sub, y_train_sub)\n",
    "    \n",
    "    tr, va, oob = model_score(clf_sub, X_train_sub, y_train_sub, X_valid, y_valid)\n",
    "    train_score.append(tr); valid_score.append(va); oob_score.append(oob)"
   ]
  },
  {
   "cell_type": "code",
   "execution_count": 30,
   "metadata": {},
   "outputs": [
    {
     "data": {
      "image/png": "[encoded data removed]",
      "text/plain": [
       "<matplotlib.figure.Figure at 0x7fc2c67bf1d0>"
      ]
     },
     "metadata": {
      "needs_background": "light"
     },
     "output_type": "display_data"
    }
   ],
   "source": [
    "plot_results(tree_sizes, train_score, oob_score, valid_score, 'Random Forest on Redundant Data, with Subsampling (accuracy): train, validation, oob', y_range)"
   ]
  },
  {
   "cell_type": "markdown",
   "metadata": {},
   "source": [
    "In the case of our artificial dataset, this completely removes the redundancy."
   ]
  },
  {
   "cell_type": "markdown",
   "metadata": {},
   "source": [
    "## Solution #2: reduce bag size\n",
    "In this section, implement the second solution we proposed—to use `BaggingClassifier` to randomly draw a smaller fraction of the original dataset's rows when creating each tree's dataset."
   ]
  },
  {
   "cell_type": "code",
   "execution_count": 31,
   "metadata": {},
   "outputs": [],
   "source": [
    "from sklearn.ensemble import BaggingClassifier"
   ]
  },
  {
   "cell_type": "code",
   "execution_count": 32,
   "metadata": {},
   "outputs": [],
   "source": [
    "base_clf = DecisionTreeClassifier(\n",
    "    criterion='entropy',\n",
    "    max_features='sqrt',\n",
    "    min_samples_leaf=5\n",
    ")"
   ]
  },
  {
   "cell_type": "code",
   "execution_count": 33,
   "metadata": {},
   "outputs": [],
   "source": [
    "def instantiate_and_fit_a_BaggingClassifier(n_estimators, base_estimator, X_train, y_train, max_samples=0.2):\n",
    "    \"\"\"\n",
    "    Instantiate a Bagging Classifier and fit it on the training data. Return the fitted classifier.\n",
    "    Make sure you use bootstrapping and calculate an out-of-bag score. Set `random_state` equal to an integer so that\n",
    "    when you fit the model again you get the same result. \n",
    "    \n",
    "    Parameters\n",
    "    ----------\n",
    "    n_estimators : int\n",
    "        The number of trees.\n",
    "        \n",
    "    base_estimator : DecisionTreeClassifier\n",
    "        The base estimator of the BaggingClassifier.\n",
    "        \n",
    "    max_samples : float\n",
    "        The percentage of the number of original rows to draw for each bag.\n",
    "    \n",
    "    X_train : pandas DataFrame\n",
    "        The training features.\n",
    "        \n",
    "    y_train : pandas Series\n",
    "        The training labels.\n",
    "    \n",
    "    Returns\n",
    "    -------\n",
    "    clf : BaggingClassifier\n",
    "        The fitted classifier instance.\n",
    "    \"\"\"\n",
    "    \n",
    "    # TODO: Implement\n",
    "    clf = BaggingClassifier(\n",
    "        base_estimator=base_estimator,\n",
    "        n_estimators=n_estimators,\n",
    "        max_samples=max_samples,\n",
    "        bootstrap=True,\n",
    "        oob_score=True,\n",
    "        n_jobs=-1,\n",
    "        verbose=0,\n",
    "        random_state=42\n",
    "    )\n",
    "    \n",
    "    clf.fit(X_train, y_train)\n",
    "    return clf"
   ]
  },
  {
   "cell_type": "code",
   "execution_count": 34,
   "metadata": {},
   "outputs": [
    {
     "data": {
      "application/vnd.jupyter.widget-view+json": {
       "model_id": "55bde6b5737a4446a0e0aa4366c54100",
       "version_major": 2,
       "version_minor": 0
      },
      "text/html": [
       "<p>Failed to display Jupyter Widget of type <code>HBox</code>.</p>\n",
       "<p>\n",
       "  If you're reading this message in the Jupyter Notebook or JupyterLab Notebook, it may mean\n",
       "  that the widgets JavaScript is still loading. If this message persists, it\n",
       "  likely means that the widgets JavaScript library is either not installed or\n",
       "  not enabled. See the <a href=\"https://ipywidgets.readthedocs.io/en/stable/user_install.html\">Jupyter\n",
       "  Widgets Documentation</a> for setup instructions.\n",
       "</p>\n",
       "<p>\n",
       "  If you're reading this message in another frontend (for example, a static\n",
       "  rendering on GitHub or <a href=\"https://nbviewer.jupyter.org/\">NBViewer</a>),\n",
       "  it may mean that your frontend doesn't currently support widgets.\n",
       "</p>\n"
      ],
      "text/plain": [
       "HBox(children=(IntProgress(value=0, max=4), HTML(value='')))"
      ]
     },
     "metadata": {},
     "output_type": "display_data"
    },
    {
     "name": "stdout",
     "output_type": "stream",
     "text": [
      "train: 0.9466666666666667, oob: 0.922, valid: 0.6346346346346347\n",
      "train: 0.9733333333333334, oob: 0.9603333333333334, valid: 0.6246246246246246\n",
      "train: 0.975, oob: 0.9576666666666667, valid: 0.6396396396396397\n",
      "train: 0.97, oob: 0.9636666666666667, valid: 0.6446446446446447\n",
      "\n"
     ]
    }
   ],
   "source": [
    "train_score = []\n",
    "valid_score = []\n",
    "oob_score = []\n",
    "tree_sizes = [10, 50, 100, 250]\n",
    "\n",
    "for trees in tqdm(tree_sizes):\n",
    "    clf_bag = instantiate_and_fit_a_BaggingClassifier(trees, base_clf, X_train, y_train)\n",
    "    \n",
    "    tr, va, oob = model_score(clf_bag, X_train, y_train, X_valid, y_valid)\n",
    "    train_score.append(tr); valid_score.append(va); oob_score.append(oob)"
   ]
  },
  {
   "cell_type": "code",
   "execution_count": 35,
   "metadata": {},
   "outputs": [
    {
     "data": {
      "image/png": "[encoded data removed]",
      "text/plain": [
       "<matplotlib.figure.Figure at 0x7fc2baf4dcf8>"
      ]
     },
     "metadata": {
      "needs_background": "light"
     },
     "output_type": "display_data"
    }
   ],
   "source": [
    "plot_results(tree_sizes, train_score, oob_score, valid_score, 'Random Forest on Redundant Data, with Reduced Bag Size (accuracy): train, validation, oob', y_range)"
   ]
  },
  {
   "cell_type": "markdown",
   "metadata": {},
   "source": [
    "As you can see, in the case of this small artificial dataset, this helped but didn't fully resolve the problem. The OOB score still vastly overestimates the validation score."
   ]
  },
  {
   "cell_type": "markdown",
   "metadata": {},
   "source": [
    "## Solution #3: bagged non-overlapping labels\n",
    "Finally, let's look at the last solution we proposed to this problem. We'll do this one for you for this small exercise, but you'll have the opportunity to work on it yourself later. We will fit separate models on each non-redundant subset of data, and then ensemble them together."
   ]
  },
  {
   "cell_type": "code",
   "execution_count": 36,
   "metadata": {},
   "outputs": [],
   "source": [
    "from sklearn.ensemble import VotingClassifier\n",
    "from sklearn.base import clone\n",
    "from sklearn.preprocessing import LabelEncoder\n",
    "from sklearn.utils.validation import has_fit_parameter, check_is_fitted\n",
    "from sklearn.utils.metaestimators import _BaseComposition\n",
    "from sklearn.utils import Bunch"
   ]
  },
  {
   "cell_type": "code",
   "execution_count": 37,
   "metadata": {},
   "outputs": [],
   "source": [
    "class NoOverlapVoter(VotingClassifier):\n",
    "    def __init__(self, base_estimator, overlap_increment=5):\n",
    "        self.est_list = []\n",
    "        for i in range(overlap_increment):\n",
    "            self.est_list.append(('clf'+str(i), clone(base_estimator)))\n",
    "        self.overlap_increment = overlap_increment\n",
    "        super().__init__(\n",
    "            self.est_list,\n",
    "            voting='soft'\n",
    "        )\n",
    "    \n",
    "    @property\n",
    "    def oob_score_(self):\n",
    "        oob = 0\n",
    "        for clf in self.estimators_:\n",
    "            oob = oob + clf.oob_score_\n",
    "        return oob / len(self.estimators_)\n",
    "    \n",
    "    def fit(self, X, y, sample_weight=None):\n",
    "        names, clfs = zip(*self.estimators)\n",
    "        self._validate_names(names)\n",
    "\n",
    "        self.le_ = LabelEncoder().fit(y)\n",
    "        self.classes_ = self.le_.classes_\n",
    "        self.estimators_ = []\n",
    "\n",
    "        transformed_y = self.le_.transform(y)\n",
    "\n",
    "        self.estimators_ = []\n",
    "        for i in range(self.overlap_increment):\n",
    "            self.estimators_.append(\n",
    "                clfs[i].fit(X[i::self.overlap_increment], transformed_y[i::self.overlap_increment])\n",
    "            )\n",
    "        \n",
    "        self.named_estimators_ = Bunch(**dict())\n",
    "        for k, e in zip(self.estimators, self.estimators_):\n",
    "            self.named_estimators_[k[0]] = e\n",
    "        return self"
   ]
  },
  {
   "cell_type": "code",
   "execution_count": 38,
   "metadata": {},
   "outputs": [
    {
     "data": {
      "application/vnd.jupyter.widget-view+json": {
       "model_id": "5318230ff6de4c5e8cf55a36ac134c18",
       "version_major": 2,
       "version_minor": 0
      },
      "text/html": [
       "<p>Failed to display Jupyter Widget of type <code>HBox</code>.</p>\n",
       "<p>\n",
       "  If you're reading this message in the Jupyter Notebook or JupyterLab Notebook, it may mean\n",
       "  that the widgets JavaScript is still loading. If this message persists, it\n",
       "  likely means that the widgets JavaScript library is either not installed or\n",
       "  not enabled. See the <a href=\"https://ipywidgets.readthedocs.io/en/stable/user_install.html\">Jupyter\n",
       "  Widgets Documentation</a> for setup instructions.\n",
       "</p>\n",
       "<p>\n",
       "  If you're reading this message in another frontend (for example, a static\n",
       "  rendering on GitHub or <a href=\"https://nbviewer.jupyter.org/\">NBViewer</a>),\n",
       "  it may mean that your frontend doesn't currently support widgets.\n",
       "</p>\n"
      ],
      "text/plain": [
       "HBox(children=(IntProgress(value=0, max=4), HTML(value='')))"
      ]
     },
     "metadata": {},
     "output_type": "display_data"
    },
    {
     "name": "stdout",
     "output_type": "stream",
     "text": [
      "train: 0.9466666666666667, oob: 0.7816666666666666, valid: 0.6296296296296297\n",
      "train: 0.965, oob: 0.835, valid: 0.6596596596596597\n",
      "train: 0.9666666666666667, oob: 0.8416666666666666, valid: 0.6696696696696697\n",
      "train: 0.96, oob: 0.85, valid: 0.6646646646646647\n",
      "\n"
     ]
    }
   ],
   "source": [
    "train_score = []\n",
    "valid_score = []\n",
    "oob_score = []\n",
    "tree_sizes = [10, 50, 100, 250]\n",
    "\n",
    "for trees in tqdm(tree_sizes):\n",
    "    clf = RandomForestClassifier(\n",
    "        n_estimators=trees,\n",
    "        max_features='sqrt',\n",
    "        min_samples_leaf=5,\n",
    "        bootstrap=True,\n",
    "        oob_score=True,\n",
    "        n_jobs=-1,\n",
    "        criterion='entropy',\n",
    "        verbose=0,\n",
    "        random_state=0\n",
    "    )\n",
    "    \n",
    "    clf_nov = NoOverlapVoter(clf)\n",
    "    clf_nov.fit(X_train.reset_index()[['A','B','C','D']], y_train)\n",
    "    t, v, o = model_score(clf_nov, X_train, y_train, X_valid, y_valid)\n",
    "    train_score.append(t); valid_score.append(v); oob_score.append(o)"
   ]
  },
  {
   "cell_type": "code",
   "execution_count": 39,
   "metadata": {},
   "outputs": [
    {
     "data": {
      "image/png": "[encoded data removed]",
      "text/plain": [
       "<matplotlib.figure.Figure at 0x7fc2baf63e80>"
      ]
     },
     "metadata": {
      "needs_background": "light"
     },
     "output_type": "display_data"
    }
   ],
   "source": [
    "plot_results(tree_sizes, train_score, oob_score, valid_score, 'Random Forest on Redundant Data, with NoOverlapVoter (accuracy): train, validation, oob', y_range)"
   ]
  },
  {
   "cell_type": "markdown",
   "metadata": {},
   "source": [
    "So in the case of this artificial dataset, this method performs as well as the first method, but this makes sense because each of the separate classifiers has the exact same information as the others. Combining them together should not yield much performance enhancement. You can then compare this result to the result that you'll see in the project, when this method is applied to real financial data."
   ]
  },
  {
   "cell_type": "markdown",
   "metadata": {
    "collapsed": true
   },
   "source": [
    "## Check the performance on test set"
   ]
  },
  {
   "cell_type": "markdown",
   "metadata": {
    "collapsed": true
   },
   "source": [
    "Finally, let's look at the performance of the third method on the held-out test set. For this, we'll train on all of the previous training and validation data."
   ]
  },
  {
   "cell_type": "code",
   "execution_count": 40,
   "metadata": {},
   "outputs": [],
   "source": [
    "X, X_train, X_valid, X_test, y_train, y_valid, y_test = make_splits(\n",
    "    redundant_df,\n",
    "    features,\n",
    "    'E',\n",
    "    split_valid = 0\n",
    ")"
   ]
  },
  {
   "cell_type": "code",
   "execution_count": 41,
   "metadata": {},
   "outputs": [
    {
     "name": "stdout",
     "output_type": "stream",
     "text": [
      "train: 0.96375, oob: 0.85625, valid: 0.6946946946946947\n"
     ]
    }
   ],
   "source": [
    "clf = RandomForestClassifier(\n",
    "        n_estimators=150,\n",
    "        max_features='sqrt',\n",
    "        min_samples_leaf=5,\n",
    "        bootstrap=True,\n",
    "        oob_score=True,\n",
    "        n_jobs=-1,\n",
    "        criterion='entropy',\n",
    "        verbose=False,\n",
    "        random_state=0\n",
    "    )\n",
    "    \n",
    "clf_nov = NoOverlapVoter(clf)\n",
    "clf_nov.fit(X_train.reset_index()[['A','B','C','D']], y_train)\n",
    "t, v, o = model_score(clf_nov, X_train, y_train, X_test, y_test)\n",
    "train_score.append(t); valid_score.append(v); oob_score.append(o)"
   ]
  },
  {
   "cell_type": "markdown",
   "metadata": {
    "collapsed": true
   },
   "source": [
    "We see that the result on the held-out test set has improved somewhat."
   ]
  },
  {
   "cell_type": "markdown",
   "metadata": {},
   "source": [
    "If you're stuck, check out the [solution notebook](dependent_labels_solution.ipynb)."
   ]
  }
 ],
 "metadata": {
  "kernelspec": {
   "display_name": "Python 3",
   "language": "python",
   "name": "python3"
  },
  "language_info": {
   "codemirror_mode": {
    "name": "ipython",
    "version": 3
   },
   "file_extension": ".py",
   "mimetype": "text/x-python",
   "name": "python",
   "nbconvert_exporter": "python",
   "pygments_lexer": "ipython3",
   "version": "3.6.3"
  }
 },
 "nbformat": 4,
 "nbformat_minor": 2
}
