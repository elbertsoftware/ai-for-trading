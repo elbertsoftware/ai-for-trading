{
 "cells": [
  {
   "cell_type": "markdown",
   "metadata": {},
   "source": [
    "# Regular Expressions (Regexes)\n",
    "\n",
    "### Introduction\n",
    "\n",
    "In the following lessons we will learn how to create basic **Regular Expressions** in Python. Regular Expressions, also known as Regexes, are used to find different patterns of text. In general, regexes work by first specifying the rules for the set of possible patterns that you want to find and then making queries such as \"Is this pattern found at the beginning of this string?\" or “Is there a match for this pattern anywhere in this string?”. We will learn for example, how to write regular expressions to find phone numbers, names, and email addresses. \n",
    "\n",
    "By the end this lesson you should be able to read and write basic regular expressions in Python and know how to apply them to get useful financial information from 10-Ks."
   ]
  },
  {
   "cell_type": "markdown",
   "metadata": {},
   "source": [
    "# Raw Strings\n",
    "\n",
    "Before we dive in and start creating our first regular expression, let's take a quick look at **Raw Strings**, since we will be using them to create our regexes.\n",
    "\n",
    "In Python string literals are specified using either single quotes (`'`) or double quotes (`\"`); and the backslash (`\\`) character is used to escape characters that have a special meaning, such as a newline (`\\n`) or tab (`\\t`). Let's see a simple example:"
   ]
  },
  {
   "cell_type": "code",
   "execution_count": 1,
   "metadata": {},
   "outputs": [
    {
     "name": "stdout",
     "output_type": "stream",
     "text": [
      "Hello\n",
      "\tWorld\n"
     ]
    }
   ],
   "source": [
    "print('Hello\\n\\tWorld')"
   ]
  },
  {
   "cell_type": "markdown",
   "metadata": {},
   "source": [
    "We can clearly see that the `print()` function has replaced the `\\n` with a new line, and the `\\t` with a tab. \n",
    "\n",
    "In some cases, however, you may want the `print()` function to interpret the string literally. This means that you don’t want characters preceded by a backslash (`\\`) to be interpreted as special characters. In these cases, you can prefix the string literal with the letter `r`. Such strings are known as **Raw Strings** and treat backslashes (`\\`) as literal characters. To see how this works, let's print the same string literal we had before but now as a raw string:"
   ]
  },
  {
   "cell_type": "code",
   "execution_count": 2,
   "metadata": {},
   "outputs": [
    {
     "name": "stdout",
     "output_type": "stream",
     "text": [
      "Hello\\n\\tWorld\n"
     ]
    }
   ],
   "source": [
    "print(r'Hello\\n\\tWorld')"
   ]
  },
  {
   "cell_type": "markdown",
   "metadata": {},
   "source": [
    "We can clearly see that by adding an `r` before the first quote of the string literal, both `\\n` and `\\t`, are no longer treated as special characters. It is important to note, that the `r` doesn't change the type of the string literal, but rather, it just changes how the string literal is interpreted. So, without the `r`, backslashes are used to escape characters and with the `r`, backslashes are treated as literal characters. \n",
    "\n",
    "We will be using raw strings to create our regular expressions, because regular expressions themselves, also use the backslash character (`\\`) to indicate their own special characters. Therefore, by using raw strings, we avoid the problem of Python interpreting the special characters in regexes in the wrong way."
   ]
  },
  {
   "cell_type": "code",
   "execution_count": null,
   "metadata": {},
   "outputs": [],
   "source": []
  }
 ],
 "metadata": {
  "kernelspec": {
   "display_name": "Python 3",
   "language": "python",
   "name": "python3"
  },
  "language_info": {
   "codemirror_mode": {
    "name": "ipython",
    "version": 3
   },
   "file_extension": ".py",
   "mimetype": "text/x-python",
   "name": "python",
   "nbconvert_exporter": "python",
   "pygments_lexer": "ipython3",
   "version": "3.6.3"
  }
 },
 "nbformat": 4,
 "nbformat_minor": 2
}
