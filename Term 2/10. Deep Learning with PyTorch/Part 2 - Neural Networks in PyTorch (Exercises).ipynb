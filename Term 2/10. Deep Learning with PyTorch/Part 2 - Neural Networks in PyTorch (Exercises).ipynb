{
 "cells": [
  {
   "cell_type": "markdown",
   "metadata": {},
   "source": [
    "# Neural networks with PyTorch\n",
    "\n",
    "Deep learning networks tend to be massive with dozens or hundreds of layers, that's where the term \"deep\" comes from. You can build one of these deep networks using only weight matrices as we did in the previous notebook, but in general it's very cumbersome and difficult to implement. PyTorch has a nice module `nn` that provides a nice way to efficiently build large neural networks."
   ]
  },
  {
   "cell_type": "code",
   "execution_count": 1,
   "metadata": {},
   "outputs": [],
   "source": [
    "# Import necessary packages\n",
    "\n",
    "%matplotlib inline\n",
    "%config InlineBackend.figure_format = 'retina'\n",
    "\n",
    "import numpy as np\n",
    "import torch\n",
    "\n",
    "import helper\n",
    "\n",
    "import matplotlib.pyplot as plt"
   ]
  },
  {
   "cell_type": "markdown",
   "metadata": {},
   "source": [
    "\n",
    "Now we're going to build a larger network that can solve a (formerly) difficult problem, identifying text in an image. Here we'll use the MNIST dataset which consists of greyscale handwritten digits. Each image is 28x28 pixels, you can see a sample below\n",
    "\n",
    "<img src='assets/mnist.png'>\n",
    "\n",
    "Our goal is to build a neural network that can take one of these images and predict the digit in the image.\n",
    "\n",
    "First up, we need to get our dataset. This is provided through the `torchvision` package. The code below will download the MNIST dataset, then create training and test datasets for us. Don't worry too much about the details here, you'll learn more about this later."
   ]
  },
  {
   "cell_type": "code",
   "execution_count": 2,
   "metadata": {},
   "outputs": [],
   "source": [
    "# The MNIST datasets are hosted on yann.lecun.com that has moved under CloudFlare protection\n",
    "# Run this script to enable the datasets download\n",
    "# Reference: https://github.com/pytorch/vision/issues/1938\n",
    "\n",
    "from six.moves import urllib\n",
    "opener = urllib.request.build_opener()\n",
    "opener.addheaders = [('User-agent', 'Mozilla/5.0')]\n",
    "urllib.request.install_opener(opener)"
   ]
  },
  {
   "cell_type": "code",
   "execution_count": 3,
   "metadata": {},
   "outputs": [],
   "source": [
    "from torchvision import datasets, transforms\n",
    "\n",
    "\n",
    "# Define a transform to normalize the data\n",
    "transform = transforms.Compose([\n",
    "    transforms.ToTensor(),\n",
    "    transforms.Normalize((0.5,), (0.5,)),\n",
    "])\n",
    "\n",
    "# Download and load the training data\n",
    "trainset = datasets.MNIST('~/.pytorch/MNIST_data/', download=True, train=True, transform=transform)\n",
    "trainloader = torch.utils.data.DataLoader(trainset, batch_size=64, shuffle=True)"
   ]
  },
  {
   "cell_type": "markdown",
   "metadata": {},
   "source": [
    "We have the training data loaded into `trainloader` and we make that an iterator with `iter(trainloader)`. Later, we'll use this to loop through the dataset for training, like\n",
    "\n",
    "```python\n",
    "for image, label in trainloader:\n",
    "    ## do things with images and labels\n",
    "```\n",
    "\n",
    "You'll notice I created the `trainloader` with a batch size of 64, and `shuffle=True`. The batch size is the number of images we get in one iteration from the data loader and pass through our network, often called a *batch*. And `shuffle=True` tells it to shuffle the dataset every time we start going through the data loader again. But here I'm just grabbing the first batch so we can check out the data. We can see below that `images` is just a tensor with size `(64, 1, 28, 28)`. So, 64 images per batch, 1 color channel, and 28x28 images."
   ]
  },
  {
   "cell_type": "code",
   "execution_count": 4,
   "metadata": {},
   "outputs": [
    {
     "name": "stdout",
     "output_type": "stream",
     "text": [
      "<class 'torch.Tensor'>\n",
      "torch.Size([64, 1, 28, 28])\n",
      "torch.Size([64])\n"
     ]
    }
   ],
   "source": [
    "dataiter = iter(trainloader)\n",
    "images, labels = dataiter.next()\n",
    "print(type(images))\n",
    "print(images.shape)\n",
    "print(labels.shape)"
   ]
  },
  {
   "cell_type": "code",
   "execution_count": 5,
   "metadata": {},
   "outputs": [
    {
     "data": {
      "text/plain": [
       "(1, 28, 28)"
      ]
     },
     "execution_count": 5,
     "metadata": {},
     "output_type": "execute_result"
    }
   ],
   "source": [
    "images[0].numpy().shape"
   ]
  },
  {
   "cell_type": "code",
   "execution_count": 6,
   "metadata": {},
   "outputs": [
    {
     "data": {
      "text/plain": [
       "(28, 28)"
      ]
     },
     "execution_count": 6,
     "metadata": {},
     "output_type": "execute_result"
    }
   ],
   "source": [
    "images[0].numpy().squeeze().shape"
   ]
  },
  {
   "cell_type": "code",
   "execution_count": 7,
   "metadata": {},
   "outputs": [
    {
     "name": "stdout",
     "output_type": "stream",
     "text": [
      "tensor([2, 7, 2, 2, 2, 2, 9, 6, 1, 1, 1, 4, 8, 9, 4, 1, 8, 9, 4, 5, 2, 0, 5, 4,\n",
      "        6, 9, 8, 6, 7, 6, 0, 4, 2, 8, 4, 1, 9, 3, 9, 4, 8, 8, 9, 3, 8, 3, 7, 9,\n",
      "        5, 7, 0, 3, 6, 6, 3, 2, 8, 8, 9, 9, 8, 0, 6, 4])\n"
     ]
    }
   ],
   "source": [
    "print(labels)"
   ]
  },
  {
   "cell_type": "markdown",
   "metadata": {},
   "source": [
    "This is what one of the images looks like. "
   ]
  },
  {
   "cell_type": "code",
   "execution_count": 8,
   "metadata": {},
   "outputs": [
    {
     "data": {
      "image/png": "[encoded data removed]",
      "text/plain": [
       "<Figure size 432x288 with 1 Axes>"
      ]
     },
     "metadata": {
      "image/png": {
       "height": 248,
       "width": 251
      },
      "needs_background": "light"
     },
     "output_type": "display_data"
    }
   ],
   "source": [
    "plt.imshow(images[0].numpy().squeeze(), cmap='Greys_r');"
   ]
  },
  {
   "cell_type": "markdown",
   "metadata": {},
   "source": [
    "First, let's try to build a simple network for this dataset using weight matrices and matrix multiplications. Then, we'll see how to do it using PyTorch's `nn` module which provides a much more convenient and powerful method for defining network architectures.\n",
    "\n",
    "The networks you've seen so far are called *fully-connected* or *dense* networks. Each unit in one layer is connected to each unit in the next layer. In fully-connected networks, the input to each layer must be a one-dimensional vector (which can be stacked into a 2D tensor as a batch of multiple examples). However, our images are 28x28 2D tensors, so we need to convert them into 1D vectors. Thinking about sizes, we need to convert the batch of images with shape `(64, 1, 28, 28)` to a have a shape of `(64, 784)`, 784 is 28 times 28. This is typically called *flattening*, we flattened the 2D images into 1D vectors.\n",
    "\n",
    "Previously you built a network with one output unit. Here we need 10 output units, one for each digit. We want our network to predict the digit shown in an image, so what we'll do is calculate probabilities that the image is of any one digit or class. This ends up being a discrete probability distribution over the classes (digits) that tells us the most likely class for the image. That means we need 10 output units for the 10 classes (digits). We'll see how to convert the network output into a probability distribution next.\n",
    "\n",
    "> **Exercise:** Flatten the batch of images `images`. Then build a multi-layer network with 784 input units, 256 hidden units, and 10 output units using random tensors for the weights and biases. For now, use a sigmoid activation for the hidden layer. Leave the output layer without an activation, we'll add one that gives us a probability distribution next."
   ]
  },
  {
   "cell_type": "code",
   "execution_count": 9,
   "metadata": {},
   "outputs": [
    {
     "data": {
      "text/plain": [
       "64"
      ]
     },
     "execution_count": 9,
     "metadata": {},
     "output_type": "execute_result"
    }
   ],
   "source": [
    "images.shape[0]"
   ]
  },
  {
   "cell_type": "code",
   "execution_count": 10,
   "metadata": {},
   "outputs": [
    {
     "data": {
      "text/plain": [
       "torch.Size([64, 784])"
      ]
     },
     "execution_count": 10,
     "metadata": {},
     "output_type": "execute_result"
    }
   ],
   "source": [
    "# only the first element of shape is 64, the rest is just 1, flatten\n",
    "# -1 can be replaced by 784 but no need since the view() will calculate based on the number of elements\n",
    "images.view(images.shape[0], -1).shape  "
   ]
  },
  {
   "cell_type": "code",
   "execution_count": 11,
   "metadata": {},
   "outputs": [],
   "source": [
    "np.set_printoptions(precision=4, suppress=True)\n",
    "torch.set_printoptions(precision=4, sci_mode=False)"
   ]
  },
  {
   "cell_type": "code",
   "execution_count": 12,
   "metadata": {},
   "outputs": [
    {
     "data": {
      "text/plain": [
       "tensor([[    -7.0741,    -12.2431,      2.8959,      5.6500,      3.4228,\n",
       "             12.3437,     -7.6812,    -18.9266,      0.8049,     -9.3399],\n",
       "        [     8.4177,    -15.2602,     -1.3416,     -5.9550,    -12.6516,\n",
       "             -2.3461,    -14.6222,      1.7918,      0.9458,    -22.5410],\n",
       "        [     1.8754,     -5.5415,     -1.9717,    -16.4916,     -0.6452,\n",
       "              6.2270,    -11.4378,     -3.4171,      4.1190,      0.8363],\n",
       "        [     5.2747,     -8.2316,      2.1056,     -3.8639,     -9.4924,\n",
       "             -2.4825,     -5.0213,     -9.7516,      8.7007,     -4.8808],\n",
       "        [     5.8758,     -6.2266,     10.2027,     -3.8619,     10.3628,\n",
       "             11.0468,     -1.2176,    -20.0207,     -0.6338,      4.9226],\n",
       "        [    -1.7695,     -6.6815,      0.5486,     -5.9849,      0.0547,\n",
       "             14.3272,    -17.7539,      2.5113,     12.1463,      2.4950],\n",
       "        [   -12.1184,     -9.2920,     -2.7737,     -8.0022,     -6.1767,\n",
       "             -3.0800,     -8.6609,      6.1476,      2.3359,     -1.1244],\n",
       "        [     2.4811,    -11.2651,     -8.2829,    -10.9857,     -4.8080,\n",
       "              3.4212,    -12.1634,    -10.4126,     -0.6656,      1.9517],\n",
       "        [     4.4413,     -8.1117,      3.0532,      1.9795,      1.9868,\n",
       "              8.0272,    -12.3919,     -5.0351,      4.4665,     -6.9919],\n",
       "        [     8.6434,     -0.3788,     -1.6286,      0.8966,     -3.3149,\n",
       "              9.3564,    -11.0154,     -4.6635,      5.6620,    -12.1256],\n",
       "        [     4.0700,    -12.4511,     -1.4455,     -0.5801,     -7.1273,\n",
       "              4.5278,     -5.4074,    -10.8915,     -6.9824,      1.7207],\n",
       "        [     3.6854,     -8.4487,      0.9346,     -5.0360,    -13.9074,\n",
       "             -8.0709,      0.3088,     -3.6508,      0.8224,    -11.5378],\n",
       "        [     3.7147,     -7.7977,      3.7807,     -6.0254,      0.0824,\n",
       "              2.8274,     -5.7906,     -3.3272,      3.0080,     -1.0482],\n",
       "        [     2.7273,     -2.0776,     -0.9896,     -2.5086,     -7.6122,\n",
       "             -1.8799,     -1.3590,     -9.1352,      3.2032,     -3.0557],\n",
       "        [     4.1822,     -8.2144,     10.2292,     -9.5231,     -1.9571,\n",
       "              5.7726,     -3.0124,     -2.2497,     -2.2934,    -25.5699],\n",
       "        [    -2.3182,     -6.1195,     -5.5790,     -2.0727,      0.3760,\n",
       "              9.5190,     -6.5934,     -6.1949,      1.8755,     -7.2963],\n",
       "        [     4.1933,     -6.2061,      5.4559,     -9.7447,     -0.5870,\n",
       "              9.9999,    -10.9297,     -0.9612,      7.7153,     -9.3694],\n",
       "        [     3.6024,     -9.0464,     -3.3001,    -11.8208,     -4.8040,\n",
       "             12.2808,      3.7473,     -5.6108,      1.2826,     -8.7088],\n",
       "        [     5.3689,    -16.1877,      1.4550,      3.8094,    -10.9998,\n",
       "              7.2838,     -2.3986,     -8.8290,     -2.0714,    -10.7178],\n",
       "        [    -0.9158,     -7.9595,     -2.4279,    -14.1697,      7.2959,\n",
       "              3.0010,      1.9338,     -4.5561,     -9.4317,    -15.0736],\n",
       "        [     1.2221,     -7.0928,     -0.1467,      2.4766,     -1.1403,\n",
       "             10.5120,     -3.9313,    -12.1038,      6.3680,     12.1800],\n",
       "        [    -5.1161,      1.2733,      7.6708,      1.3950,     -5.3623,\n",
       "             12.7412,     -3.5262,    -18.4528,      5.8253,     -3.8947],\n",
       "        [    -4.7814,     -0.6653,     -1.1620,     -0.8835,      5.3675,\n",
       "             13.0283,      1.9053,    -11.8323,      1.9327,    -22.6907],\n",
       "        [     1.8733,    -11.1837,     -0.0230,     -7.6092,    -12.5779,\n",
       "              7.4202,     -3.4982,    -10.3159,     -1.0751,    -10.2778],\n",
       "        [    -0.9296,     -9.8076,      2.7763,      3.5982,     -1.9483,\n",
       "             14.6534,     -8.3981,     -5.4871,      8.7385,     -1.8446],\n",
       "        [    -1.4914,     -6.8024,      0.8788,      2.7544,     -7.0027,\n",
       "              5.4910,      0.5492,     -7.3608,     -0.5611,     -3.0209],\n",
       "        [    -8.1839,     -2.9320,     -1.3168,    -13.6250,      3.0304,\n",
       "             10.1416,     -8.6144,     -2.8340,     -3.6618,     -8.6974],\n",
       "        [     4.5053,    -17.1793,      5.9219,      0.3647,     -2.6268,\n",
       "              4.5670,    -13.1540,     -6.1330,      9.5679,     -4.6935],\n",
       "        [     3.1680,    -12.7144,     -0.9786,     -2.6748,    -10.2634,\n",
       "              8.7472,     -3.7860,      2.7858,     -2.0871,    -15.6854],\n",
       "        [     7.6275,    -10.4423,      4.1724,      2.9141,     -2.8435,\n",
       "              6.7159,     -9.6817,     -9.0480,     -4.0478,     -6.7066],\n",
       "        [    -0.3942,     -4.7006,      6.2365,     -1.4589,     -0.6962,\n",
       "             15.7089,     -4.5259,     -3.6627,      6.4475,    -12.5897],\n",
       "        [     0.9009,    -14.0249,     -2.1189,     -5.6571,    -11.8784,\n",
       "             -0.3660,    -19.5789,    -11.4921,      3.6825,     -4.7675],\n",
       "        [    -1.9640,     -4.8369,      4.4229,     -6.5911,     -2.1457,\n",
       "              8.2388,     -5.3720,    -13.9611,      0.2271,     -7.4596],\n",
       "        [     2.8857,    -11.0495,     -2.1832,     -5.1787,     -3.2854,\n",
       "              9.3703,     -7.2903,     -8.8027,     14.1250,     -5.5626],\n",
       "        [     6.2051,     -8.1876,     -0.8634,    -10.3283,      2.6730,\n",
       "             10.9640,     -3.0030,     -2.6670,     -1.7171,     -8.5449],\n",
       "        [    -3.8459,     -7.7698,     -3.7016,     -7.3979,     -4.4292,\n",
       "              2.5655,     -4.3905,    -13.5614,      2.8201,     -0.1513],\n",
       "        [    -6.7863,      2.1394,      3.8116,     -1.3013,      4.8514,\n",
       "              8.4818,      1.6775,     -0.6256,      2.5546,     -1.9511],\n",
       "        [   -10.8199,     -8.5417,     -0.9850,     -8.5386,      2.1538,\n",
       "             10.5880,     -1.4341,    -16.2294,     -6.2627,     -4.7196],\n",
       "        [     7.8553,     -7.5756,     -5.1610,      2.8682,     -7.2852,\n",
       "              0.4340,     -5.5075,     -4.8827,      0.8887,     -5.3775],\n",
       "        [    -4.8172,     -5.9426,     -2.5330,      3.7762,     -8.4641,\n",
       "              7.6764,     -3.7228,      6.8447,      8.4554,    -11.3146],\n",
       "        [     5.2131,      0.6410,     -3.0835,    -12.8339,      8.1859,\n",
       "             12.4453,      1.7616,    -10.0246,      1.1915,     -3.4081],\n",
       "        [     2.5512,      0.1958,      0.8965,    -13.5199,     -6.3610,\n",
       "              8.4209,    -13.0563,     -8.7814,      0.0517,     -8.8833],\n",
       "        [     0.5421,     -7.3923,      6.6252,     -1.3700,     -3.0712,\n",
       "             12.3603,      0.7062,    -13.3145,     -7.5512,     -9.7043],\n",
       "        [     8.3229,     -8.2897,     -5.0688,     -3.0945,     -6.3529,\n",
       "              6.9024,     -8.9938,      2.3593,      3.0057,     -3.4063],\n",
       "        [     3.9796,     -7.3379,     -6.3934,    -13.7978,      7.9211,\n",
       "              4.3826,    -12.5515,     -6.9410,     -4.4440,    -10.2783],\n",
       "        [    -2.3492,     -2.8540,     -4.7878,     -4.7208,     -1.9610,\n",
       "              5.5574,     -4.1679,      3.5560,      2.6194,    -10.5013],\n",
       "        [    -3.2715,     -9.8086,      0.3215,      0.1266,     -2.5954,\n",
       "              4.3670,     -9.3258,     -9.2211,      1.7227,    -16.3108],\n",
       "        [    -0.6586,    -13.1978,      1.8501,      0.7745,     -6.2722,\n",
       "              0.2650,    -15.7282,     -9.3372,      1.8298,     -3.1470],\n",
       "        [    -4.7741,     -1.9730,      3.5764,     -6.6809,      2.3251,\n",
       "              7.7721,     -1.8589,     -4.2065,      5.3538,     -7.5267],\n",
       "        [    -1.1271,     -7.1790,     -3.6711,     -9.3927,     -7.0961,\n",
       "             11.0464,      1.8695,     -2.3409,      1.2445,    -10.8354],\n",
       "        [    -1.9891,     -6.3805,      6.7495,    -11.9859,     -8.6724,\n",
       "             15.2439,     -3.9660,     -5.1704,      0.6981,     -0.7758],\n",
       "        [     2.8441,     -1.0091,      0.8398,     -2.5362,     -0.3168,\n",
       "              4.9411,     -3.0499,     -6.1042,      8.9297,      2.4317],\n",
       "        [     3.9084,    -14.2994,      8.0695,      3.6600,    -11.5072,\n",
       "              5.5226,     -6.9796,    -13.7926,      2.0085,    -16.1381],\n",
       "        [    -0.8203,    -11.5010,     -0.8261,     -8.0885,    -11.6582,\n",
       "              9.2310,     -7.8431,     -9.9219,      9.8457,     -0.4309],\n",
       "        [    -3.0814,     -9.6423,     -3.5538,    -14.3589,     -1.4492,\n",
       "              8.0167,     -3.1045,     -7.2899,     12.2133,     -7.4649],\n",
       "        [     6.7157,      2.6631,      7.4932,     -0.2806,     -2.4462,\n",
       "              3.0387,     -8.9844,     -6.1449,      8.4345,    -16.1622],\n",
       "        [     4.4022,     -6.5268,     -2.0440,     -7.8960,     -7.6778,\n",
       "             10.7001,     -8.3844,     -0.4801,      2.5172,    -12.6337],\n",
       "        [     8.2800,     -6.1574,      2.0657,     -0.2231,      0.6499,\n",
       "             11.4022,     -5.0683,     -6.1463,      3.0463,     -3.1070],\n",
       "        [     2.4224,    -15.6041,      2.9309,     -4.0218,    -12.0962,\n",
       "              0.7104,     -9.1026,     -7.7453,      4.4490,     -2.4101],\n",
       "        [     5.1545,     -5.0707,     -5.3404,     -1.9721,     -6.3420,\n",
       "              5.1338,     -3.2704,     -3.0309,      9.4770,     -9.9829],\n",
       "        [    -4.5060,    -13.3606,      0.1161,    -15.5318,     -0.5142,\n",
       "             12.3967,    -10.1657,     -4.5133,      9.9691,    -17.6896],\n",
       "        [    -8.3244,    -11.6562,      3.2604,      1.6795,     -9.3273,\n",
       "              9.6514,     -0.3644,     -2.1889,      5.5967,     -3.5773],\n",
       "        [     3.6518,     -2.2983,     12.1093,      4.2186,     -5.5211,\n",
       "              9.2870,     -9.0859,     -0.4387,      7.7160,     -8.6287],\n",
       "        [    -0.1301,     -2.9523,     -1.4775,     -1.1066,     -7.2823,\n",
       "              0.0702,     -4.9850,     -1.8531,     10.6615,     -9.7550]])"
      ]
     },
     "execution_count": 12,
     "metadata": {},
     "output_type": "execute_result"
    }
   ],
   "source": [
    "## Your solution\n",
    "torch.manual_seed(7) # Set the random seed so things are predictable\n",
    "\n",
    "def activation(x):\n",
    "    return 1/(1 + torch.exp(-x))\n",
    "\n",
    "# flatten the input images\n",
    "inputs = images.view(images.shape[0], -1)\n",
    "\n",
    "# random weights and biases\n",
    "w1 = torch.randn(784, 256)\n",
    "b1 = torch.randn(256)\n",
    "\n",
    "w2 = torch.randn(256, 10)\n",
    "b2 = torch.randn(10)\n",
    "\n",
    "h = activation(torch.mm(inputs, w1) + b1)\n",
    "\n",
    "out = torch.mm(h, w2) + b2 # output of your network, should have shape (64,10)\n",
    "out"
   ]
  },
  {
   "cell_type": "code",
   "execution_count": 13,
   "metadata": {},
   "outputs": [
    {
     "data": {
      "text/plain": [
       "torch.Size([64, 10])"
      ]
     },
     "execution_count": 13,
     "metadata": {},
     "output_type": "execute_result"
    }
   ],
   "source": [
    "out.shape"
   ]
  },
  {
   "cell_type": "markdown",
   "metadata": {},
   "source": [
    "Now we have 10 outputs for our network. We want to pass in an image to our network and get out a probability distribution over the classes that tells us the likely class(es) the image belongs to. Something that looks like this:\n",
    "<img src='assets/image_distribution.png' width=500px>\n",
    "\n",
    "Here we see that the probability for each class is roughly the same. This is representing an untrained network, it hasn't seen any data yet so it just returns a uniform distribution with equal probabilities for each class.\n",
    "\n",
    "To calculate this probability distribution, we often use the [**softmax** function](https://en.wikipedia.org/wiki/Softmax_function). Mathematically this looks like\n",
    "\n",
    "$$\n",
    "\\Large \\sigma(x_i) = \\cfrac{e^{x_i}}{\\sum_k^K{e^{x_k}}}\n",
    "$$\n",
    "\n",
    "What this does is squish each input $x_i$ between 0 and 1 and normalizes the values to give you a proper probability distribution where the probabilites sum up to one.\n",
    "\n",
    "> **Exercise:** Implement a function `softmax` that performs the softmax calculation and returns probability distributions for each example in the batch. Note that you'll need to pay attention to the shapes when doing this. If you have a tensor `a` with shape `(64, 10)` and a tensor `b` with shape `(64,)`, doing `a/b` will give you an error because PyTorch will try to do the division across the columns (called broadcasting) but you'll get a size mismatch. The way to think about this is for each of the 64 examples, you only want to divide by one value, the sum in the denominator. So you need `b` to have a shape of `(64, 1)`. This way PyTorch will divide the 10 values in each row of `a` by the one value in each row of `b`. Pay attention to how you take the sum as well. You'll need to define the `dim` keyword in `torch.sum`. Setting `dim=0` takes the sum across the rows while `dim=1` takes the sum across the columns."
   ]
  },
  {
   "cell_type": "code",
   "execution_count": 14,
   "metadata": {},
   "outputs": [
    {
     "data": {
      "text/plain": [
       "torch.Size([10])"
      ]
     },
     "execution_count": 14,
     "metadata": {},
     "output_type": "execute_result"
    }
   ],
   "source": [
    "torch.exp(out).sum(dim=0).shape  # sum by rows"
   ]
  },
  {
   "cell_type": "code",
   "execution_count": 15,
   "metadata": {},
   "outputs": [
    {
     "data": {
      "text/plain": [
       "torch.Size([64])"
      ]
     },
     "execution_count": 15,
     "metadata": {},
     "output_type": "execute_result"
    }
   ],
   "source": [
    "torch.exp(out).sum(dim=1).shape  # sum by columns"
   ]
  },
  {
   "cell_type": "code",
   "execution_count": 16,
   "metadata": {},
   "outputs": [
    {
     "data": {
      "text/plain": [
       "torch.Size([64, 1])"
      ]
     },
     "execution_count": 16,
     "metadata": {},
     "output_type": "execute_result"
    }
   ],
   "source": [
    "torch.exp(out).sum(dim=1).view(-1, 1).shape  # convert to 64 x 1 tensor"
   ]
  },
  {
   "cell_type": "code",
   "execution_count": 17,
   "metadata": {},
   "outputs": [
    {
     "name": "stdout",
     "output_type": "stream",
     "text": [
      "torch.Size([64, 10])\n",
      "tensor([1.0000, 1.0000, 1.0000, 1.0000, 1.0000, 1.0000, 1.0000, 1.0000, 1.0000,\n",
      "        1.0000, 1.0000, 1.0000, 1.0000, 1.0000, 1.0000, 1.0000, 1.0000, 1.0000,\n",
      "        1.0000, 1.0000, 1.0000, 1.0000, 1.0000, 1.0000, 1.0000, 1.0000, 1.0000,\n",
      "        1.0000, 1.0000, 1.0000, 1.0000, 1.0000, 1.0000, 1.0000, 1.0000, 1.0000,\n",
      "        1.0000, 1.0000, 1.0000, 1.0000, 1.0000, 1.0000, 1.0000, 1.0000, 1.0000,\n",
      "        1.0000, 1.0000, 1.0000, 1.0000, 1.0000, 1.0000, 1.0000, 1.0000, 1.0000,\n",
      "        1.0000, 1.0000, 1.0000, 1.0000, 1.0000, 1.0000, 1.0000, 1.0000, 1.0000,\n",
      "        1.0000])\n"
     ]
    }
   ],
   "source": [
    "def softmax(x):\n",
    "    ## TODO: Implement the softmax function here\n",
    "    return torch.exp(x)/torch.sum(torch.exp(x), dim=1).view(-1, 1)\n",
    "\n",
    "# Here, out should be the output of the network in the previous excercise with shape (64,10)\n",
    "probabilities = softmax(out)\n",
    "\n",
    "# Does it have the right shape? Should be (64, 10)\n",
    "print(probabilities.shape)\n",
    "\n",
    "# Does it sum to 1?\n",
    "print(probabilities.sum(dim=1))"
   ]
  },
  {
   "cell_type": "markdown",
   "metadata": {},
   "source": [
    "## Building networks with PyTorch\n",
    "\n",
    "PyTorch provides a module `nn` that makes building networks much simpler. Here I'll show you how to build the same one as above with 784 inputs, 256 hidden units, 10 output units and a softmax output."
   ]
  },
  {
   "cell_type": "code",
   "execution_count": 18,
   "metadata": {},
   "outputs": [],
   "source": [
    "from torch import nn"
   ]
  },
  {
   "cell_type": "code",
   "execution_count": 19,
   "metadata": {},
   "outputs": [],
   "source": [
    "class Network(nn.Module):\n",
    "    def __init__(self):\n",
    "        super().__init__()\n",
    "        \n",
    "        # Inputs to hidden layer linear transformation\n",
    "        self.hidden = nn.Linear(784, 256)\n",
    "        \n",
    "        # Output layer, 10 units - one for each digit\n",
    "        self.output = nn.Linear(256, 10)\n",
    "        \n",
    "        # Define sigmoid activation and softmax output \n",
    "        self.sigmoid = nn.Sigmoid()\n",
    "        self.softmax = nn.Softmax(dim=1)\n",
    "        \n",
    "    def forward(self, x):\n",
    "        # Pass the input tensor through each of our operations\n",
    "        x = self.hidden(x)\n",
    "        x = self.sigmoid(x)\n",
    "        x = self.output(x)\n",
    "        x = self.softmax(x)\n",
    "        \n",
    "        return x"
   ]
  },
  {
   "cell_type": "markdown",
   "metadata": {},
   "source": [
    "Let's go through this bit by bit.\n",
    "\n",
    "```python\n",
    "class Network(nn.Module):\n",
    "```\n",
    "\n",
    "Here we're inheriting from `nn.Module`. Combined with `super().__init__()` this creates a class that tracks the architecture and provides a lot of useful methods and attributes. It is mandatory to inherit from `nn.Module` when you're creating a class for your network. The name of the class itself can be anything.\n",
    "\n",
    "```python\n",
    "self.hidden = nn.Linear(784, 256)\n",
    "```\n",
    "\n",
    "This line creates a module for a linear transformation, $x\\mathbf{W} + b$, with 784 inputs and 256 outputs and assigns it to `self.hidden`. The module automatically creates the weight and bias tensors which we'll use in the `forward` method. You can access the weight and bias tensors once the network (`net`) is created with `net.hidden.weight` and `net.hidden.bias`.\n",
    "\n",
    "```python\n",
    "self.output = nn.Linear(256, 10)\n",
    "```\n",
    "\n",
    "Similarly, this creates another linear transformation with 256 inputs and 10 outputs.\n",
    "\n",
    "```python\n",
    "self.sigmoid = nn.Sigmoid()\n",
    "self.softmax = nn.Softmax(dim=1)\n",
    "```\n",
    "\n",
    "Here I defined operations for the sigmoid activation and softmax output. Setting `dim=1` in `nn.Softmax(dim=1)` calculates softmax across the columns.\n",
    "\n",
    "```python\n",
    "def forward(self, x):\n",
    "```\n",
    "\n",
    "PyTorch networks created with `nn.Module` must have a `forward` method defined. It takes in a tensor `x` and passes it through the operations you defined in the `__init__` method.\n",
    "\n",
    "```python\n",
    "x = self.hidden(x)\n",
    "x = self.sigmoid(x)\n",
    "x = self.output(x)\n",
    "x = self.softmax(x)\n",
    "```\n",
    "\n",
    "Here the input tensor `x` is passed through each operation and reassigned to `x`. We can see that the input tensor goes through the hidden layer, then a sigmoid function, then the output layer, and finally the softmax function. It doesn't matter what you name the variables here, as long as the inputs and outputs of the operations match the network architecture you want to build. The order in which you define things in the `__init__` method doesn't matter, but you'll need to sequence the operations correctly in the `forward` method.\n",
    "\n",
    "Now we can create a `Network` object."
   ]
  },
  {
   "cell_type": "code",
   "execution_count": 20,
   "metadata": {},
   "outputs": [
    {
     "data": {
      "text/plain": [
       "Network(\n",
       "  (hidden): Linear(in_features=784, out_features=256, bias=True)\n",
       "  (output): Linear(in_features=256, out_features=10, bias=True)\n",
       "  (sigmoid): Sigmoid()\n",
       "  (softmax): Softmax(dim=1)\n",
       ")"
      ]
     },
     "execution_count": 20,
     "metadata": {},
     "output_type": "execute_result"
    }
   ],
   "source": [
    "# Create the network and look at it's text representation\n",
    "model = Network()\n",
    "model"
   ]
  },
  {
   "cell_type": "code",
   "execution_count": 21,
   "metadata": {},
   "outputs": [
    {
     "name": "stdout",
     "output_type": "stream",
     "text": [
      "torch.Size([256, 784])\n",
      "Parameter containing:\n",
      "tensor([[ 0.0291,  0.0350, -0.0324,  ..., -0.0256,  0.0052, -0.0147],\n",
      "        [-0.0227,  0.0193, -0.0006,  ...,  0.0181, -0.0197, -0.0230],\n",
      "        [ 0.0266, -0.0159,  0.0321,  ...,  0.0334, -0.0241,  0.0124],\n",
      "        ...,\n",
      "        [-0.0004, -0.0146,  0.0351,  ..., -0.0297,  0.0224, -0.0271],\n",
      "        [ 0.0242,  0.0055,  0.0217,  ...,  0.0127, -0.0118,  0.0197],\n",
      "        [ 0.0180, -0.0246,  0.0035,  ..., -0.0142, -0.0109,  0.0196]],\n",
      "       requires_grad=True)\n"
     ]
    }
   ],
   "source": [
    "print(model.hidden.weight.shape)\n",
    "print(model.hidden.weight)"
   ]
  },
  {
   "cell_type": "code",
   "execution_count": 22,
   "metadata": {},
   "outputs": [
    {
     "name": "stdout",
     "output_type": "stream",
     "text": [
      "torch.Size([256])\n",
      "Parameter containing:\n",
      "tensor([-0.0107, -0.0275,  0.0321, -0.0302, -0.0266, -0.0239,  0.0053,  0.0131,\n",
      "        -0.0113, -0.0025,  0.0227,  0.0195,  0.0104,  0.0235, -0.0144,  0.0316,\n",
      "         0.0304,  0.0327, -0.0348,  0.0352, -0.0120,  0.0291,  0.0023,  0.0192,\n",
      "        -0.0340, -0.0225, -0.0171,  0.0056,  0.0068, -0.0178, -0.0227,  0.0177,\n",
      "         0.0013, -0.0133,  0.0046,  0.0273, -0.0289,  0.0072, -0.0209, -0.0251,\n",
      "         0.0319,  0.0214,  0.0302,  0.0122, -0.0166,  0.0322,  0.0078,  0.0147,\n",
      "        -0.0014, -0.0066, -0.0021, -0.0006, -0.0162,  0.0356,  0.0086,  0.0335,\n",
      "         0.0214, -0.0085,  0.0280,  0.0139,  0.0054,  0.0228,  0.0235, -0.0081,\n",
      "        -0.0356,  0.0303,  0.0205, -0.0158,  0.0069, -0.0245, -0.0154, -0.0079,\n",
      "        -0.0224, -0.0339,  0.0274, -0.0091,  0.0058,  0.0349, -0.0165,  0.0011,\n",
      "        -0.0212, -0.0224,  0.0006,  0.0269, -0.0071,  0.0253, -0.0116,  0.0112,\n",
      "        -0.0175, -0.0247, -0.0329, -0.0308,  0.0194,  0.0162,  0.0155, -0.0064,\n",
      "        -0.0198,  0.0071, -0.0247, -0.0152, -0.0037,  0.0302,  0.0089, -0.0223,\n",
      "        -0.0228,  0.0073,  0.0078, -0.0355, -0.0204, -0.0209, -0.0125, -0.0191,\n",
      "         0.0263,  0.0250,  0.0204,  0.0241,  0.0207, -0.0208,  0.0084, -0.0118,\n",
      "         0.0093,  0.0344, -0.0238, -0.0225, -0.0060,  0.0119,  0.0190,  0.0099,\n",
      "        -0.0206,  0.0070,  0.0101,  0.0125, -0.0229,  0.0322,  0.0263, -0.0256,\n",
      "         0.0198, -0.0063,  0.0126,  0.0302,  0.0119,  0.0311, -0.0325, -0.0135,\n",
      "        -0.0323, -0.0131, -0.0179,  0.0237, -0.0328, -0.0050,  0.0216,  0.0160,\n",
      "         0.0114, -0.0073,  0.0330,  0.0103,  0.0190, -0.0037, -0.0202,  0.0293,\n",
      "        -0.0285,  0.0281,  0.0090,  0.0342, -0.0034, -0.0201,  0.0287,  0.0087,\n",
      "         0.0167,  0.0153, -0.0210,  0.0275,  0.0141,  0.0054,  0.0340, -0.0189,\n",
      "        -0.0021,  0.0323, -0.0096,  0.0280,  0.0040,  0.0023, -0.0292, -0.0079,\n",
      "         0.0082, -0.0197,  0.0088,  0.0081,  0.0029,  0.0063, -0.0305, -0.0104,\n",
      "         0.0034,  0.0324, -0.0098,  0.0316,  0.0276, -0.0211,  0.0333, -0.0082,\n",
      "        -0.0034,  0.0199,  0.0250, -0.0283, -0.0298, -0.0170, -0.0290,  0.0006,\n",
      "        -0.0275, -0.0181,  0.0203, -0.0210,  0.0054, -0.0348, -0.0068,  0.0231,\n",
      "        -0.0240, -0.0259,  0.0146,  0.0188,  0.0107, -0.0155,  0.0154, -0.0079,\n",
      "         0.0128,  0.0131, -0.0287,  0.0072, -0.0233,  0.0309, -0.0292, -0.0190,\n",
      "        -0.0035,  0.0349,  0.0199,  0.0160, -0.0153,  0.0125,  0.0151,  0.0340,\n",
      "        -0.0336,  0.0217, -0.0035, -0.0327,  0.0047, -0.0114, -0.0071,  0.0081,\n",
      "        -0.0186,  0.0310, -0.0144, -0.0011,  0.0286, -0.0279,  0.0348, -0.0315],\n",
      "       requires_grad=True)\n"
     ]
    }
   ],
   "source": [
    "print(model.hidden.bias.shape)\n",
    "print(model.hidden.bias)"
   ]
  },
  {
   "cell_type": "markdown",
   "metadata": {},
   "source": [
    "You can define the network somewhat more concisely and clearly using the `torch.nn.functional` module. This is the most common way you'll see networks defined as many operations are simple element-wise functions. We normally import this module as `F`, `import torch.nn.functional as F`."
   ]
  },
  {
   "cell_type": "code",
   "execution_count": 23,
   "metadata": {},
   "outputs": [],
   "source": [
    "import torch.nn.functional as F\n",
    "\n",
    "\n",
    "class Network(nn.Module):\n",
    "    def __init__(self):\n",
    "        super().__init__()\n",
    "        \n",
    "        # Inputs to hidden layer linear transformation\n",
    "        self.hidden = nn.Linear(784, 256)\n",
    "        \n",
    "        # Output layer, 10 units - one for each digit\n",
    "        self.output = nn.Linear(256, 10)\n",
    "        \n",
    "        \n",
    "    def forward(self, x):\n",
    "        # Hidden layer with sigmoid activation\n",
    "        x = F.sigmoid(self.hidden(x))\n",
    "        \n",
    "        # Output layer with softmax activation\n",
    "        x = F.softmax(self.output(x), dim=1)\n",
    "        \n",
    "        return x"
   ]
  },
  {
   "cell_type": "markdown",
   "metadata": {},
   "source": [
    "### Activation functions\n",
    "\n",
    "So far we've only been looking at the sigmoid activation function, but in general any function can be used as an activation function. The only requirement is that for a network to approximate a non-linear function, the activation functions must be non-linear. Here are a few more examples of common activation functions: Tanh (hyperbolic tangent), and ReLU (rectified linear unit).\n",
    "\n",
    "<img src=\"assets/activation.png\" width=700px>\n",
    "\n",
    "In practice, the ReLU function is used almost exclusively as the activation function for hidden layers."
   ]
  },
  {
   "cell_type": "markdown",
   "metadata": {},
   "source": [
    "### Your Turn to Build a Network\n",
    "\n",
    "<img src=\"assets/mlp_mnist.png\" width=600px>\n",
    "\n",
    "> **Exercise:** Create a network with 784 input units, a hidden layer with 128 units and a ReLU activation, then a hidden layer with 64 units and a ReLU activation, and finally an output layer with a softmax activation as shown above. You can use a ReLU activation with the `nn.ReLU` module or `F.relu` function.\n",
    "\n",
    "It's good practice to name your layers by their type of network, for instance 'fc' to represent a fully-connected layer. As you code your solution, use `fc1`, `fc2`, and `fc3` as your layer names."
   ]
  },
  {
   "cell_type": "code",
   "execution_count": 24,
   "metadata": {
    "scrolled": true
   },
   "outputs": [
    {
     "data": {
      "text/plain": [
       "MyNetwork(\n",
       "  (fc1): Linear(in_features=784, out_features=128, bias=True)\n",
       "  (fc2): Linear(in_features=128, out_features=64, bias=True)\n",
       "  (output): Linear(in_features=64, out_features=10, bias=True)\n",
       ")"
      ]
     },
     "execution_count": 24,
     "metadata": {},
     "output_type": "execute_result"
    }
   ],
   "source": [
    "## Your solution here\n",
    "class MyNetwork(nn.Module):\n",
    "    def __init__(self):\n",
    "        super().__init__()\n",
    "        \n",
    "        self.fc1 = nn.Linear(784, 128)\n",
    "        self.fc2 = nn.Linear(128, 64)\n",
    "        self.output = nn.Linear(64, 10)\n",
    "        \n",
    "    def forward(self, x):\n",
    "        x = self.fc1(x)\n",
    "        x = F.relu(x)\n",
    "        x = self.fc2(x)\n",
    "        x = F.relu(x)\n",
    "        x = self.output(x)\n",
    "        x = F.softmax(x, dim=1)\n",
    "        \n",
    "        return x\n",
    "    \n",
    "    \n",
    "model = MyNetwork()\n",
    "model"
   ]
  },
  {
   "cell_type": "markdown",
   "metadata": {},
   "source": [
    "### Initializing weights and biases\n",
    "\n",
    "The weights and such are automatically initialized for you, but it's possible to customize how they are initialized. The weights and biases are tensors attached to the layer you defined, you can get them with `model.fc1.weight` for instance."
   ]
  },
  {
   "cell_type": "code",
   "execution_count": 25,
   "metadata": {},
   "outputs": [
    {
     "name": "stdout",
     "output_type": "stream",
     "text": [
      "Parameter containing:\n",
      "tensor([[ 0.0019,  0.0005, -0.0266,  ...,  0.0021,  0.0257,  0.0180],\n",
      "        [-0.0291,  0.0194,  0.0033,  ..., -0.0058, -0.0152, -0.0074],\n",
      "        [-0.0255,  0.0141, -0.0173,  ..., -0.0066,  0.0269,  0.0035],\n",
      "        ...,\n",
      "        [-0.0114,  0.0222,  0.0197,  ...,  0.0243,  0.0304,  0.0111],\n",
      "        [-0.0090, -0.0345, -0.0355,  ..., -0.0130,  0.0239, -0.0339],\n",
      "        [ 0.0088,  0.0205,  0.0327,  ..., -0.0091,  0.0315,  0.0055]],\n",
      "       requires_grad=True)\n",
      "Parameter containing:\n",
      "tensor([-0.0006, -0.0100,  0.0276, -0.0134, -0.0039,  0.0245, -0.0207,  0.0039,\n",
      "        -0.0155,  0.0004,  0.0028, -0.0305,  0.0163,  0.0109, -0.0037,  0.0187,\n",
      "         0.0095,  0.0269, -0.0096, -0.0019, -0.0355,  0.0344,  0.0178, -0.0305,\n",
      "        -0.0307, -0.0113, -0.0355,  0.0336, -0.0058, -0.0032,  0.0309,  0.0017,\n",
      "         0.0203, -0.0101,  0.0036, -0.0251, -0.0256, -0.0087,  0.0092, -0.0355,\n",
      "         0.0127, -0.0146, -0.0254, -0.0126, -0.0269,  0.0212,  0.0112, -0.0237,\n",
      "         0.0278,  0.0016, -0.0003,  0.0029, -0.0072,  0.0156,  0.0173, -0.0053,\n",
      "         0.0148,  0.0055,  0.0167, -0.0079,  0.0071,  0.0239,  0.0309,  0.0081,\n",
      "         0.0260,  0.0178, -0.0177,  0.0286, -0.0192,  0.0316, -0.0331, -0.0061,\n",
      "        -0.0203, -0.0219,  0.0069, -0.0191,  0.0133, -0.0211,  0.0017,  0.0135,\n",
      "        -0.0236, -0.0094,  0.0270,  0.0357, -0.0104,  0.0139,  0.0025, -0.0290,\n",
      "         0.0053, -0.0285,  0.0193, -0.0171,  0.0198,  0.0064,  0.0045,  0.0033,\n",
      "        -0.0205, -0.0122,  0.0348, -0.0299, -0.0246,  0.0097, -0.0101, -0.0285,\n",
      "         0.0185,  0.0236,  0.0244, -0.0269, -0.0338, -0.0353,  0.0282,  0.0088,\n",
      "        -0.0025, -0.0083, -0.0050,  0.0320, -0.0272, -0.0181,  0.0189,  0.0148,\n",
      "        -0.0171, -0.0174, -0.0209, -0.0208, -0.0314, -0.0042, -0.0348, -0.0181],\n",
      "       requires_grad=True)\n"
     ]
    }
   ],
   "source": [
    "print(model.fc1.weight)\n",
    "print(model.fc1.bias)"
   ]
  },
  {
   "cell_type": "markdown",
   "metadata": {},
   "source": [
    "For custom initialization, we want to modify these tensors in place. These are actually autograd *Variables*, so we need to get back the actual tensors with `model.fc1.weight.data`. Once we have the tensors, we can fill them with zeros (for biases) or random normal values."
   ]
  },
  {
   "cell_type": "code",
   "execution_count": 26,
   "metadata": {},
   "outputs": [
    {
     "data": {
      "text/plain": [
       "tensor([0., 0., 0., 0., 0., 0., 0., 0., 0., 0., 0., 0., 0., 0., 0., 0., 0., 0., 0., 0., 0., 0., 0., 0.,\n",
       "        0., 0., 0., 0., 0., 0., 0., 0., 0., 0., 0., 0., 0., 0., 0., 0., 0., 0., 0., 0., 0., 0., 0., 0.,\n",
       "        0., 0., 0., 0., 0., 0., 0., 0., 0., 0., 0., 0., 0., 0., 0., 0., 0., 0., 0., 0., 0., 0., 0., 0.,\n",
       "        0., 0., 0., 0., 0., 0., 0., 0., 0., 0., 0., 0., 0., 0., 0., 0., 0., 0., 0., 0., 0., 0., 0., 0.,\n",
       "        0., 0., 0., 0., 0., 0., 0., 0., 0., 0., 0., 0., 0., 0., 0., 0., 0., 0., 0., 0., 0., 0., 0., 0.,\n",
       "        0., 0., 0., 0., 0., 0., 0., 0.])"
      ]
     },
     "execution_count": 26,
     "metadata": {},
     "output_type": "execute_result"
    }
   ],
   "source": [
    "# Set biases to all zeros\n",
    "model.fc1.bias.data.fill_(0)"
   ]
  },
  {
   "cell_type": "code",
   "execution_count": 27,
   "metadata": {},
   "outputs": [
    {
     "data": {
      "text/plain": [
       "tensor([[ 0.0013, -0.0097, -0.0107,  ...,  0.0088, -0.0066,  0.0040],\n",
       "        [-0.0093,  0.0021,  0.0107,  ...,  0.0003,  0.0007,  0.0027],\n",
       "        [ 0.0085, -0.0038,  0.0023,  ..., -0.0218, -0.0126,  0.0017],\n",
       "        ...,\n",
       "        [ 0.0034, -0.0230,  0.0046,  ...,  0.0049, -0.0056,  0.0109],\n",
       "        [-0.0020,  0.0027, -0.0104,  ...,  0.0089, -0.0030,  0.0080],\n",
       "        [ 0.0027,  0.0078, -0.0043,  ..., -0.0089,  0.0020,  0.0119]])"
      ]
     },
     "execution_count": 27,
     "metadata": {},
     "output_type": "execute_result"
    }
   ],
   "source": [
    "# sample from random normal with standard dev = 0.01\n",
    "model.fc1.weight.data.normal_(std=0.01)"
   ]
  },
  {
   "cell_type": "markdown",
   "metadata": {},
   "source": [
    "### Forward pass\n",
    "\n",
    "Now that we have a network, let's see what happens when we pass in an image."
   ]
  },
  {
   "cell_type": "code",
   "execution_count": 28,
   "metadata": {},
   "outputs": [
    {
     "data": {
      "image/png": "[encoded data removed]",
      "text/plain": [
       "<Figure size 432x648 with 2 Axes>"
      ]
     },
     "metadata": {
      "image/png": {
       "height": 235,
       "width": 424
      },
      "needs_background": "light"
     },
     "output_type": "display_data"
    }
   ],
   "source": [
    "# Grab some data \n",
    "dataiter = iter(trainloader)\n",
    "images, labels = dataiter.next()\n",
    "\n",
    "# Resize images into a 1D vector, new shape is (batch size, color channels, image pixels) \n",
    "images.resize_(64, 1, 784)\n",
    "# or images.resize_(images.shape[0], 1, 784) to automatically get batch size\n",
    "\n",
    "# Forward pass through the network\n",
    "img_idx = 0\n",
    "ps = model.forward(images[img_idx,:])\n",
    "\n",
    "img = images[img_idx]\n",
    "helper.view_classify(img.view(1, 28, 28), ps)"
   ]
  },
  {
   "cell_type": "markdown",
   "metadata": {},
   "source": [
    "As you can see above, our network has basically no idea what this digit is. It's because we haven't trained it yet, all the weights are random!\n",
    "\n",
    "### Using `nn.Sequential`\n",
    "\n",
    "PyTorch provides a convenient way to build networks like this where a tensor is passed sequentially through operations, `nn.Sequential` ([documentation](https://pytorch.org/docs/master/nn.html#torch.nn.Sequential)). Using this to build the equivalent network:"
   ]
  },
  {
   "cell_type": "code",
   "execution_count": 29,
   "metadata": {},
   "outputs": [
    {
     "name": "stdout",
     "output_type": "stream",
     "text": [
      "Sequential(\n",
      "  (0): Linear(in_features=784, out_features=128, bias=True)\n",
      "  (1): ReLU()\n",
      "  (2): Linear(in_features=128, out_features=64, bias=True)\n",
      "  (3): ReLU()\n",
      "  (4): Linear(in_features=64, out_features=10, bias=True)\n",
      "  (5): Softmax(dim=1)\n",
      ")\n"
     ]
    },
    {
     "data": {
      "image/png": "[encoded data removed]",
      "text/plain": [
       "<Figure size 432x648 with 2 Axes>"
      ]
     },
     "metadata": {
      "image/png": {
       "height": 235,
       "width": 424
      },
      "needs_background": "light"
     },
     "output_type": "display_data"
    }
   ],
   "source": [
    "# Hyperparameters for our network\n",
    "input_size = 784\n",
    "hidden_sizes = [128, 64]\n",
    "output_size = 10\n",
    "\n",
    "# Build a feed-forward network\n",
    "model = nn.Sequential(nn.Linear(input_size, hidden_sizes[0]),\n",
    "                      nn.ReLU(),\n",
    "                      nn.Linear(hidden_sizes[0], hidden_sizes[1]),\n",
    "                      nn.ReLU(),\n",
    "                      nn.Linear(hidden_sizes[1], output_size),\n",
    "                      nn.Softmax(dim=1))\n",
    "print(model)\n",
    "\n",
    "# Forward pass through the network and display output\n",
    "images, labels = next(iter(trainloader))\n",
    "images.resize_(images.shape[0], 1, 784)\n",
    "ps = model.forward(images[0,:])\n",
    "helper.view_classify(images[0].view(1, 28, 28), ps)"
   ]
  },
  {
   "cell_type": "markdown",
   "metadata": {},
   "source": [
    "Here our model is the same as before: 784 input units, a hidden layer with 128 units, ReLU activation, 64 unit hidden layer, another ReLU, then the output layer with 10 units, and the softmax output.\n",
    "\n",
    "The operations are available by passing in the appropriate index. For example, if you want to get first Linear operation and look at the weights, you'd use `model[0]`."
   ]
  },
  {
   "cell_type": "code",
   "execution_count": 30,
   "metadata": {},
   "outputs": [
    {
     "name": "stdout",
     "output_type": "stream",
     "text": [
      "Linear(in_features=784, out_features=128, bias=True)\n"
     ]
    },
    {
     "data": {
      "text/plain": [
       "Parameter containing:\n",
       "tensor([[-0.0251,  0.0338,  0.0176,  ...,  0.0221, -0.0095, -0.0079],\n",
       "        [-0.0285, -0.0124, -0.0166,  ..., -0.0159, -0.0288,  0.0111],\n",
       "        [ 0.0197,  0.0228,  0.0170,  ..., -0.0051,  0.0034, -0.0076],\n",
       "        ...,\n",
       "        [-0.0216, -0.0357,  0.0255,  ..., -0.0083, -0.0290, -0.0005],\n",
       "        [ 0.0196,  0.0272, -0.0089,  ..., -0.0232,  0.0165,  0.0093],\n",
       "        [-0.0166,  0.0106,  0.0018,  ...,  0.0203,  0.0262,  0.0296]],\n",
       "       requires_grad=True)"
      ]
     },
     "execution_count": 30,
     "metadata": {},
     "output_type": "execute_result"
    }
   ],
   "source": [
    "print(model[0])\n",
    "model[0].weight"
   ]
  },
  {
   "cell_type": "markdown",
   "metadata": {},
   "source": [
    "You can also pass in an `OrderedDict` to name the individual layers and operations, instead of using incremental integers. Note that dictionary keys must be unique, so _each operation must have a different name_."
   ]
  },
  {
   "cell_type": "code",
   "execution_count": 31,
   "metadata": {},
   "outputs": [
    {
     "data": {
      "text/plain": [
       "Sequential(\n",
       "  (fc1): Linear(in_features=784, out_features=128, bias=True)\n",
       "  (relu1): ReLU()\n",
       "  (fc2): Linear(in_features=128, out_features=64, bias=True)\n",
       "  (relu2): ReLU()\n",
       "  (output): Linear(in_features=64, out_features=10, bias=True)\n",
       "  (softmax): Softmax(dim=1)\n",
       ")"
      ]
     },
     "execution_count": 31,
     "metadata": {},
     "output_type": "execute_result"
    }
   ],
   "source": [
    "from collections import OrderedDict\n",
    "\n",
    "\n",
    "model = nn.Sequential(OrderedDict([\n",
    "                      ('fc1', nn.Linear(input_size, hidden_sizes[0])),\n",
    "                      ('relu1', nn.ReLU()),\n",
    "                      ('fc2', nn.Linear(hidden_sizes[0], hidden_sizes[1])),\n",
    "                      ('relu2', nn.ReLU()),\n",
    "                      ('output', nn.Linear(hidden_sizes[1], output_size)),\n",
    "                      ('softmax', nn.Softmax(dim=1))\n",
    "]))\n",
    "\n",
    "model"
   ]
  },
  {
   "cell_type": "markdown",
   "metadata": {},
   "source": [
    "Now you can access layers either by integer or the name"
   ]
  },
  {
   "cell_type": "code",
   "execution_count": 32,
   "metadata": {},
   "outputs": [
    {
     "name": "stdout",
     "output_type": "stream",
     "text": [
      "Linear(in_features=784, out_features=128, bias=True)\n",
      "Linear(in_features=784, out_features=128, bias=True)\n"
     ]
    }
   ],
   "source": [
    "print(model[0])\n",
    "print(model.fc1)"
   ]
  },
  {
   "cell_type": "markdown",
   "metadata": {},
   "source": [
    "In the next notebook, we'll see how we can train a neural network to accuractly predict the numbers appearing in the MNIST images."
   ]
  }
 ],
 "metadata": {
  "kernelspec": {
   "display_name": "Python 3 (ipykernel)",
   "language": "python",
   "name": "python3"
  },
  "language_info": {
   "codemirror_mode": {
    "name": "ipython",
    "version": 3
   },
   "file_extension": ".py",
   "mimetype": "text/x-python",
   "name": "python",
   "nbconvert_exporter": "python",
   "pygments_lexer": "ipython3",
   "version": "3.8.12"
  }
 },
 "nbformat": 4,
 "nbformat_minor": 2
}
