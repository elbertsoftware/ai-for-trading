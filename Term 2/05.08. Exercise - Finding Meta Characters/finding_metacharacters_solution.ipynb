{
 "cells": [
  {
   "cell_type": "markdown",
   "metadata": {},
   "source": [
    "# TODO: Find All The MetaCharacters\n",
    "\n",
    "In the cell below, we have a string that contains all the metacharacters. Write a single regular expression to check that you can match all the metacharacters using a backslash, and save the regular expression object in a variable called `regex`. Then use the `.finditer()` method to search the `sample_text` string for the given regular expression.  Then, write a loop to print all the `matches` found by the `.finditer()` method . Finally, use the ` match.span()` method to print the match from the `sample_text` string."
   ]
  },
  {
   "cell_type": "code",
   "execution_count": 1,
   "metadata": {},
   "outputs": [
    {
     "name": "stdout",
     "output_type": "stream",
     "text": [
      "<_sre.SRE_Match object; span=(0, 27), match='. ^ $ * + ? { } [ ] \\\\ | ( )'>\n",
      "\n",
      "Match from the original text: . ^ $ * + ? { } [ ] \\ | ( )\n"
     ]
    }
   ],
   "source": [
    "# Import re module\n",
    "import re\n",
    "\n",
    "# Sample text\n",
    "sample_text = '. ^ $ * + ? { } [ ] \\ | ( )'\n",
    "\n",
    "# Create a regular expression object with the regular expression \n",
    "regex = re.compile(r'\\. \\^ \\$ \\* \\+ \\? \\{ \\} \\[ \\] \\\\ \\| \\( \\)')\n",
    "\n",
    "# Search the sample_text for the regular expression\n",
    "matches = regex.finditer(sample_text)\n",
    "\n",
    "# Print all the matches\n",
    "for match in matches:\n",
    "    print(match)\n",
    "\n",
    "    # Using the span information from the match, print the match from the original string\n",
    "    print('\\nMatch from the original text:', sample_text[match.span()[0]:match.span()[1]])"
   ]
  },
  {
   "cell_type": "markdown",
   "metadata": {},
   "source": [
    "# TODO: Find The Price\n",
    "\n",
    "In the cell below, write a regular expression that matches the price of the coat bought by John and save the regular expression object in a variable called `regex`. Then use the `.finditer()` method to search the `sample_text` string for the given regular expression.  Then, write a loop to print all the `matches` found by the `.finditer()` method . Finally, use the ` match.span()` method to print the match from the `sample_text` string."
   ]
  },
  {
   "cell_type": "code",
   "execution_count": 2,
   "metadata": {},
   "outputs": [
    {
     "name": "stdout",
     "output_type": "stream",
     "text": [
      "<_sre.SRE_Match object; span=(30, 36), match='$25.99'>\n",
      "\n",
      "Match from the original text: $25.99\n"
     ]
    }
   ],
   "source": [
    "# Import re module\n",
    "import re\n",
    "\n",
    "# Sample text\n",
    "sample_text = 'John bought a winter coat for $25.99 dollars.'\n",
    "\n",
    "# Create a regular expression object with the regular expression\n",
    "regex = re.compile(r'\\$25\\.99')\n",
    "\n",
    "# Search the sample_text for the regular expression\n",
    "matches = regex.finditer(sample_text)\n",
    "\n",
    "# Print all the matches\n",
    "for match in matches:\n",
    "    print(match)\n",
    "    \n",
    "    # Using the span information from the match, print the match from the original string\n",
    "    print('\\nMatch from the original text:', sample_text[match.span()[0]:match.span()[1]])"
   ]
  },
  {
   "cell_type": "code",
   "execution_count": null,
   "metadata": {},
   "outputs": [],
   "source": []
  }
 ],
 "metadata": {
  "kernelspec": {
   "display_name": "Python 3",
   "language": "python",
   "name": "python3"
  },
  "language_info": {
   "codemirror_mode": {
    "name": "ipython",
    "version": 3
   },
   "file_extension": ".py",
   "mimetype": "text/x-python",
   "name": "python",
   "nbconvert_exporter": "python",
   "pygments_lexer": "ipython3",
   "version": "3.6.3"
  }
 },
 "nbformat": 4,
 "nbformat_minor": 2
}
