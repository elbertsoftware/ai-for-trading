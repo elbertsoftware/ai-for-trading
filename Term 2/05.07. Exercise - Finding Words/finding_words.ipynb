{
 "cells": [
  {
   "cell_type": "markdown",
   "metadata": {},
   "source": [
    "# Finding Words Using Regexes\n",
    "\n",
    "In this notebook we will learn how to find letters and words in a string using regular expressions. Throughout these lessons, we will use the `re` module from Python's standard library to work with regular expressions. The `re` module not only contains functions that allow us to check if a given regular expression matches a particular string, but also contains functions that allow us to modify strings in various ways. \n",
    "\n",
    "Let’s begin by using a regular expression to find all the locations of a single letter in a given string. To do this, we will use the `re.compile()` function from the `re` module. The `re.compile(pattern)` function converts a regular expression `pattern` into a regular expression object. This allows us to save our regular expressions into objects that can be used later to perform pattern matching using various methods, such as `.match()`, `.search()`, `.findall()`, and `.finditer()`. Let’s see how this works.\n",
    "\n",
    "In the code below, we will find all the locations of the letter `a` in a string named `sample_text`. In this case, our regular expression pattern will just be `'a'` and we will pass it to the `re.compile()` function as a raw string. We will save the regular expression object returned by the `re.compile()` function in a variable called `regex`. We will then use the `.finditer()` method to search our `sample_text` for the given regular expression contained in the `regex` object. The `.finditer()` method returns an iterator with all the non-overlapping matches of our regular expression pattern in the string. We should also mention that the `.finditer()` method scans the strings from left-to-right, and returns the matches in the order found. Since the `.finditer()` method returns an iterator, we can loop through it to print all the matches, as shown below:"
   ]
  },
  {
   "cell_type": "code",
   "execution_count": 1,
   "metadata": {},
   "outputs": [
    {
     "name": "stdout",
     "output_type": "stream",
     "text": [
      "<_sre.SRE_Match object; span=(6, 7), match='a'>\n",
      "<_sre.SRE_Match object; span=(11, 12), match='a'>\n",
      "<_sre.SRE_Match object; span=(17, 18), match='a'>\n",
      "<_sre.SRE_Match object; span=(22, 23), match='a'>\n"
     ]
    }
   ],
   "source": [
    "# Import re module\n",
    "import re\n",
    "\n",
    "# Sample text\n",
    "sample_text = 'Alice and Walter are walking to the store.'\n",
    "\n",
    "# Create a regular expression object with the regular expression 'a'\n",
    "regex = re.compile(r'a')\n",
    "\n",
    "# Search the sample_text for the regular expression\n",
    "matches = regex.finditer(sample_text)\n",
    "\n",
    "# Print all the matches\n",
    "for match in matches:\n",
    "    print(match)"
   ]
  },
  {
   "cell_type": "markdown",
   "metadata": {},
   "source": [
    "We can see that each match corresponds to a Match Object with a given `span` and corresponding `match`. The `span=(start,end)` is a tuple that indicates the `start` and `end` indices of the given `match` in the string `sample_text`. For example, if we look at the `span` of the first match, we can see that the first `a` is located between indices `6` through `7`. Therefore, if we print the `sample_text` string from index `6` through `7` we will see that it corresponds to the letter `a`:"
   ]
  },
  {
   "cell_type": "code",
   "execution_count": 2,
   "metadata": {},
   "outputs": [
    {
     "name": "stdout",
     "output_type": "stream",
     "text": [
      "a\n"
     ]
    }
   ],
   "source": [
    "# Print the sample_text string from index 6 through 7\n",
    "print(sample_text[6:7])"
   ]
  },
  {
   "cell_type": "markdown",
   "metadata": {},
   "source": [
    "Notice, however that even though the first letter in our `sample_text` is an uppercase `A`, the `.finditer()` method didn't return it as a match. This is because, regular expressions are case sensitive. Therefore, in order to match this uppercase `A` we will need to use `'A'` as our regular expression, as shown below:"
   ]
  },
  {
   "cell_type": "code",
   "execution_count": 3,
   "metadata": {},
   "outputs": [
    {
     "name": "stdout",
     "output_type": "stream",
     "text": [
      "<_sre.SRE_Match object; span=(0, 1), match='A'>\n"
     ]
    }
   ],
   "source": [
    "# Import re module\n",
    "import re\n",
    "\n",
    "# Sample text\n",
    "sample_text = 'Alice and Walter are walking to the store.'\n",
    "\n",
    "# Create a regular expression object with the regular expression 'A'\n",
    "regex = re.compile(r'A')\n",
    "\n",
    "# Search the sample_text for the regular expression\n",
    "matches = regex.finditer(sample_text)\n",
    "\n",
    "# Print all the matches\n",
    "for match in matches:\n",
    "    print(match)"
   ]
  },
  {
   "cell_type": "markdown",
   "metadata": {},
   "source": [
    "Notice that now, the `.finditer()` method only returned one match, since there is only one uppercase `A` in our `sample_text`. Also, notice that the `span=(0,1)` tells us that the uppercase `A` is the first letter in the `sample_text` string. \n",
    "\n",
    "We should note that the `re` module allows us to perform **case-insensitive** searches by the means of **Flags**. For example, we might want to search our string for the letter `a`, regardless if it is uppercase or lowercase. We will learn about flags in a later lesson. \n",
    "\n",
    "Besides searching for single letter, we can also search for groups of letters. This is done in exactly the same manner as with single letters. Let's search for the word `walking` in our `sample_text` string:"
   ]
  },
  {
   "cell_type": "code",
   "execution_count": 4,
   "metadata": {},
   "outputs": [
    {
     "name": "stdout",
     "output_type": "stream",
     "text": [
      "<_sre.SRE_Match object; span=(21, 28), match='walking'>\n",
      "\n",
      "Match from the original text: walking\n"
     ]
    }
   ],
   "source": [
    "# Import re module\n",
    "import re\n",
    "\n",
    "# Sample text\n",
    "sample_text = 'Alice and Walter are walking to the store.'\n",
    "\n",
    "# Create a regular expression object with the regular expression 'walking'\n",
    "regex = re.compile(r'walking')\n",
    "\n",
    "# Search the sample_text for the regular expression\n",
    "matches = regex.finditer(sample_text)\n",
    "\n",
    "# Print all the matches\n",
    "for match in matches:\n",
    "    print(match)\n",
    "\n",
    "    print('\\nMatch from the original text:', sample_text[match.span()[0]:match.span()[1]])"
   ]
  },
  {
   "cell_type": "markdown",
   "metadata": {},
   "source": [
    "Notice that we only get one match, since there is only one instance of the word `walking` in our `sample_text`. Also, notice that in the above example we used the ` match.span()` method to get the start and end indices of our match. \n",
    "\n",
    "When using regular expressions to search for groups of letters, we should note that the order of the letters matters. For example, if we were to search for `ginwakl` in our `sample_text`, we wouldn't find any matches even though the same group of letters are contained in the word walking, as shown in the code below:"
   ]
  },
  {
   "cell_type": "code",
   "execution_count": 5,
   "metadata": {},
   "outputs": [],
   "source": [
    "# Import re module\n",
    "import re\n",
    "\n",
    "# Sample text\n",
    "sample_text = 'Alice and Walter are walking to the store.'\n",
    "\n",
    "# Create a regular expression object with the regular expression 'ginwakl'\n",
    "regex = re.compile(r'ginwakl')\n",
    "\n",
    "# Search the sample_text for the regular expression\n",
    "matches = regex.finditer(sample_text)\n",
    "\n",
    "# Print all the matches\n",
    "for match in matches:\n",
    "    print(match)"
   ]
  },
  {
   "cell_type": "markdown",
   "metadata": {},
   "source": [
    "We can clearly see that there are no matches because the `.finditer()` method is looking for those letters in that particular order in our `sample_text` string."
   ]
  },
  {
   "cell_type": "markdown",
   "metadata": {},
   "source": [
    "# TODO: Find Words\n",
    "\n",
    "In the cell below, the `sample_text` string contains the name Walter Brown written in a mixture of uppercase and lowercase letters. Write a regular expression that matches the name `WaLtEr BroWN` and save the regular expression object in a variable called `regex`. Then use the `.finditer()` method to search the `sample_text` string for the given regular expression. Then, write a loop to print all the `matches` found by the `.finditer()` method . Finally, use the ` match.span()` method to print the match from the `sample_text` string."
   ]
  },
  {
   "cell_type": "code",
   "execution_count": null,
   "metadata": {},
   "outputs": [],
   "source": [
    "# import re module\n",
    "\n",
    "\n",
    "# Sample text\n",
    "sample_text = 'Alice and WaLtEr BroWN are talking with wAlTer Jackson.'\n",
    "\n",
    "# Create a regular expression object with the regular expression\n",
    "regex = \n",
    "\n",
    "# Search the sample_text for the regular expression\n",
    "matches = \n",
    "\n",
    "# Print all the matches\n"
   ]
  },
  {
   "cell_type": "markdown",
   "metadata": {},
   "source": [
    "# Matching a Period (`.`)\n",
    "\n",
    "Now, let's use a regular expression to find the period (`.`) at the end of our `sample_text` string. Let's search for the period in the same manner as we did for single letters:"
   ]
  },
  {
   "cell_type": "code",
   "execution_count": 7,
   "metadata": {},
   "outputs": [
    {
     "name": "stdout",
     "output_type": "stream",
     "text": [
      "<_sre.SRE_Match object; span=(0, 1), match='A'>\n",
      "<_sre.SRE_Match object; span=(1, 2), match='l'>\n",
      "<_sre.SRE_Match object; span=(2, 3), match='i'>\n",
      "<_sre.SRE_Match object; span=(3, 4), match='c'>\n",
      "<_sre.SRE_Match object; span=(4, 5), match='e'>\n",
      "<_sre.SRE_Match object; span=(5, 6), match=' '>\n",
      "<_sre.SRE_Match object; span=(6, 7), match='a'>\n",
      "<_sre.SRE_Match object; span=(7, 8), match='n'>\n",
      "<_sre.SRE_Match object; span=(8, 9), match='d'>\n",
      "<_sre.SRE_Match object; span=(9, 10), match=' '>\n",
      "<_sre.SRE_Match object; span=(10, 11), match='W'>\n",
      "<_sre.SRE_Match object; span=(11, 12), match='a'>\n",
      "<_sre.SRE_Match object; span=(12, 13), match='l'>\n",
      "<_sre.SRE_Match object; span=(13, 14), match='t'>\n",
      "<_sre.SRE_Match object; span=(14, 15), match='e'>\n",
      "<_sre.SRE_Match object; span=(15, 16), match='r'>\n",
      "<_sre.SRE_Match object; span=(16, 17), match=' '>\n",
      "<_sre.SRE_Match object; span=(17, 18), match='a'>\n",
      "<_sre.SRE_Match object; span=(18, 19), match='r'>\n",
      "<_sre.SRE_Match object; span=(19, 20), match='e'>\n",
      "<_sre.SRE_Match object; span=(20, 21), match=' '>\n",
      "<_sre.SRE_Match object; span=(21, 22), match='w'>\n",
      "<_sre.SRE_Match object; span=(22, 23), match='a'>\n",
      "<_sre.SRE_Match object; span=(23, 24), match='l'>\n",
      "<_sre.SRE_Match object; span=(24, 25), match='k'>\n",
      "<_sre.SRE_Match object; span=(25, 26), match='i'>\n",
      "<_sre.SRE_Match object; span=(26, 27), match='n'>\n",
      "<_sre.SRE_Match object; span=(27, 28), match='g'>\n",
      "<_sre.SRE_Match object; span=(28, 29), match=' '>\n",
      "<_sre.SRE_Match object; span=(29, 30), match='t'>\n",
      "<_sre.SRE_Match object; span=(30, 31), match='o'>\n",
      "<_sre.SRE_Match object; span=(31, 32), match=' '>\n",
      "<_sre.SRE_Match object; span=(32, 33), match='t'>\n",
      "<_sre.SRE_Match object; span=(33, 34), match='h'>\n",
      "<_sre.SRE_Match object; span=(34, 35), match='e'>\n",
      "<_sre.SRE_Match object; span=(35, 36), match=' '>\n",
      "<_sre.SRE_Match object; span=(36, 37), match='s'>\n",
      "<_sre.SRE_Match object; span=(37, 38), match='t'>\n",
      "<_sre.SRE_Match object; span=(38, 39), match='o'>\n",
      "<_sre.SRE_Match object; span=(39, 40), match='r'>\n",
      "<_sre.SRE_Match object; span=(40, 41), match='e'>\n",
      "<_sre.SRE_Match object; span=(41, 42), match='.'>\n"
     ]
    }
   ],
   "source": [
    "# import re module\n",
    "import re\n",
    "\n",
    "# Sample text\n",
    "sample_text = 'Alice and Walter are walking to the store.'\n",
    "\n",
    "# Create a regular expression object with the regular expression '.'\n",
    "regex = re.compile(r'.')\n",
    "\n",
    "# Search the sample_text for the regular expression\n",
    "matches = regex.finditer(sample_text)\n",
    "\n",
    "# Print all the matches\n",
    "for match in matches:\n",
    "    print(match)"
   ]
  },
  {
   "cell_type": "markdown",
   "metadata": {},
   "source": [
    "We can clearly see that something has gone wrong, the `.finditer()` method has matched every single character in the `sample_text` string, including whitespaces, uppercase and lowercase letters, and the period at the end.\n",
    "\n",
    "This because, in regular expressions, the `.` is a special character known as a **Metacharacter**. Metacharacters are used to give special instructions and we will learn about them in the next lesson."
   ]
  },
  {
   "cell_type": "markdown",
   "metadata": {},
   "source": [
    "# Solution\n",
    "\n",
    "[Solution notebook](finding_words_solution.ipynb)"
   ]
  },
  {
   "cell_type": "code",
   "execution_count": null,
   "metadata": {},
   "outputs": [],
   "source": []
  }
 ],
 "metadata": {
  "kernelspec": {
   "display_name": "Python 3",
   "language": "python",
   "name": "python3"
  },
  "language_info": {
   "codemirror_mode": {
    "name": "ipython",
    "version": 3
   },
   "file_extension": ".py",
   "mimetype": "text/x-python",
   "name": "python",
   "nbconvert_exporter": "python",
   "pygments_lexer": "ipython3",
   "version": "3.6.3"
  }
 },
 "nbformat": 4,
 "nbformat_minor": 2
}
