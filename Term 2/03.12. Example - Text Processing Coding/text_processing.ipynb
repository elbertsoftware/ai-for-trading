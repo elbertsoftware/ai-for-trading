{
 "cells": [
  {
   "cell_type": "markdown",
   "metadata": {},
   "source": [
    "# Text Processing\n",
    "\n",
    "## Capturing Text Data\n",
    "\n",
    "### Plain Text"
   ]
  },
  {
   "cell_type": "code",
   "execution_count": 1,
   "metadata": {},
   "outputs": [
    {
     "name": "stdout",
     "output_type": "stream",
     "text": [
      "Hieroglyphic writing dates from c. 3000 BC, and is composed of hundreds of symbols. A hieroglyph can represent a word, a sound, or a silent determinative; and the same symbol can serve different purposes in different contexts. Hieroglyphs were a formal script, used on stone monuments and in tombs, that could be as detailed as individual works of art.\n",
      "\n"
     ]
    }
   ],
   "source": [
    "import os\n",
    "\n",
    "# Read in a plain text file\n",
    "with open(os.path.join(\"data\", \"hieroglyph.txt\"), \"r\") as f:\n",
    "    text = f.read()\n",
    "    print(text)"
   ]
  },
  {
   "cell_type": "markdown",
   "metadata": {},
   "source": [
    "### Tabular Data"
   ]
  },
  {
   "cell_type": "code",
   "execution_count": 2,
   "metadata": {
    "scrolled": true
   },
   "outputs": [
    {
     "data": {
      "text/html": [
       "<div>\n",
       "<style scoped>\n",
       "    .dataframe tbody tr th:only-of-type {\n",
       "        vertical-align: middle;\n",
       "    }\n",
       "\n",
       "    .dataframe tbody tr th {\n",
       "        vertical-align: top;\n",
       "    }\n",
       "\n",
       "    .dataframe thead th {\n",
       "        text-align: right;\n",
       "    }\n",
       "</style>\n",
       "<table border=\"1\" class=\"dataframe\">\n",
       "  <thead>\n",
       "    <tr style=\"text-align: right;\">\n",
       "      <th></th>\n",
       "      <th>publisher</th>\n",
       "      <th>title</th>\n",
       "    </tr>\n",
       "  </thead>\n",
       "  <tbody>\n",
       "    <tr>\n",
       "      <th>0</th>\n",
       "      <td>Livemint</td>\n",
       "      <td>fed's charles plosser sees high bar for change...</td>\n",
       "    </tr>\n",
       "    <tr>\n",
       "      <th>1</th>\n",
       "      <td>IFA Magazine</td>\n",
       "      <td>us open: stocks fall after fed official hints ...</td>\n",
       "    </tr>\n",
       "    <tr>\n",
       "      <th>2</th>\n",
       "      <td>IFA Magazine</td>\n",
       "      <td>fed risks falling 'behind the curve', charles ...</td>\n",
       "    </tr>\n",
       "    <tr>\n",
       "      <th>3</th>\n",
       "      <td>Moneynews</td>\n",
       "      <td>fed's plosser: nasty weather has curbed job gr...</td>\n",
       "    </tr>\n",
       "    <tr>\n",
       "      <th>4</th>\n",
       "      <td>NASDAQ</td>\n",
       "      <td>plosser: fed may have to accelerate tapering pace</td>\n",
       "    </tr>\n",
       "  </tbody>\n",
       "</table>\n",
       "</div>"
      ],
      "text/plain": [
       "      publisher                                              title\n",
       "0      Livemint  fed's charles plosser sees high bar for change...\n",
       "1  IFA Magazine  us open: stocks fall after fed official hints ...\n",
       "2  IFA Magazine  fed risks falling 'behind the curve', charles ...\n",
       "3     Moneynews  fed's plosser: nasty weather has curbed job gr...\n",
       "4        NASDAQ  plosser: fed may have to accelerate tapering pace"
      ]
     },
     "execution_count": 2,
     "metadata": {},
     "output_type": "execute_result"
    }
   ],
   "source": [
    "import pandas as pd\n",
    "\n",
    "# Extract text column from a dataframe\n",
    "df = pd.read_csv(os.path.join(\"data\", \"news.csv\"))\n",
    "df.head()[['publisher', 'title']]\n",
    "\n",
    "# Convert text column to lowercase\n",
    "df['title'] = df['title'].str.lower()\n",
    "df.head()[['publisher', 'title']]"
   ]
  },
  {
   "cell_type": "markdown",
   "metadata": {},
   "source": [
    "### Online Resource"
   ]
  },
  {
   "cell_type": "code",
   "execution_count": 3,
   "metadata": {
    "scrolled": true
   },
   "outputs": [
    {
     "name": "stdout",
     "output_type": "stream",
     "text": [
      "{\n",
      "    \"success\": {\n",
      "        \"total\": 1\n",
      "    },\n",
      "    \"contents\": {\n",
      "        \"quotes\": [\n",
      "            {\n",
      "                \"quote\": \"Climb the mountains and get their good tidings. Nature's peace will flow into you as sunshine flows into trees. The winds will blow their own freshness into you, and the storms their energy, while cares will drop away from you like the leaves of Autumn.\",\n",
      "                \"length\": \"253\",\n",
      "                \"author\": \"John Muir\",\n",
      "                \"tags\": [\n",
      "                    \"autumn\",\n",
      "                    \"inspire\",\n",
      "                    \"life\",\n",
      "                    \"mountaineering\",\n",
      "                    \"peace\"\n",
      "                ],\n",
      "                \"category\": \"inspire\",\n",
      "                \"language\": \"en\",\n",
      "                \"date\": \"2021-10-24\",\n",
      "                \"permalink\": \"https://theysaidso.com/quote/john-muir-climb-the-mountains-and-get-their-good-tidings-natures-peace-will-flow\",\n",
      "                \"id\": \"AplDeYJXEVuZ8_Qsl4d7QweF\",\n",
      "                \"background\": \"https://theysaidso.com/img/qod/qod-inspire.jpg\",\n",
      "                \"title\": \"Inspiring Quote of the day\"\n",
      "            }\n",
      "        ]\n",
      "    },\n",
      "    \"baseurl\": \"https://theysaidso.com\",\n",
      "    \"copyright\": {\n",
      "        \"year\": 2023,\n",
      "        \"url\": \"https://theysaidso.com\"\n",
      "    }\n",
      "}\n",
      "Climb the mountains and get their good tidings. Nature's peace will flow into you as sunshine flows into trees. The winds will blow their own freshness into you, and the storms their energy, while cares will drop away from you like the leaves of Autumn. \n",
      "-- John Muir\n"
     ]
    }
   ],
   "source": [
    "import requests\n",
    "import json\n",
    "\n",
    "# Fetch data from a REST API\n",
    "r = requests.get(\n",
    "    \"http://quotes.rest/qod.json\")\n",
    "res = r.json()\n",
    "print(json.dumps(res, indent=4))\n",
    "\n",
    "# Extract relevant object and field\n",
    "q = res[\"contents\"][\"quotes\"][0]\n",
    "print(q[\"quote\"], \"\\n--\", q[\"author\"])"
   ]
  },
  {
   "cell_type": "markdown",
   "metadata": {},
   "source": [
    "## Cleaning"
   ]
  },
  {
   "cell_type": "code",
   "execution_count": 4,
   "metadata": {
    "scrolled": true
   },
   "outputs": [
    {
     "name": "stdout",
     "output_type": "stream",
     "text": [
      "<html lang=\"en\" op=\"news\"><head><meta name=\"referrer\" content=\"origin\"><meta name=\"viewport\" content=\"width=device-width, initial-scale=1.0\"><link rel=\"stylesheet\" type=\"text/css\" href=\"news.css?YPQ9qcN1caMCuSSCIdR0\">\n",
      "        <link rel=\"shortcut icon\" href=\"favicon.ico\">\n",
      "          <link rel=\"alternate\" type=\"application/rss+xml\" title=\"RSS\" href=\"rss\">\n",
      "        <title>Hacker News</title></head><body><center><table id=\"hnmain\" border=\"0\" cellpadding=\"0\" cellspacing=\"0\" width=\"85%\" bgcolor=\"#f6f6ef\">\n",
      "        <tr><td bgcolor=\"#ff6600\"><table border=\"0\" cellpadding=\"0\" cellspacing=\"0\" width=\"100%\" style=\"padding:2px\"><tr><td style=\"width:18px;padding-right:4px\"><a href=\"https://news.ycombinator.com\"><img src=\"y18.gif\" width=\"18\" height=\"18\" style=\"border:1px white solid;\"></a></td>\n",
      "                  <td style=\"line-height:12pt; height:10px;\"><span class=\"pagetop\"><b class=\"hnname\"><a href=\"news\">Hacker News</a></b>\n",
      "              <a href=\"newest\">new</a> | <a href=\"front\">past</a> | <a href=\"newcomments\">comments</a> | <a href=\"ask\">ask</a> | <a href=\"show\">show</a> | <a href=\"jobs\">jobs</a> | <a href=\"submit\">submit</a>            </span></td><td style=\"text-align:right;padding-right:4px;\"><span class=\"pagetop\">\n",
      "                              <a href=\"login?goto=news\">login</a>\n",
      "                          </span></td>\n",
      "              </tr></table></td></tr>\n",
      "<tr id=\"pagespace\" title=\"\" style=\"height:10px\"></tr><tr><td><table border=\"0\" cellpadding=\"0\" cellspacing=\"0\" class=\"itemlist\">\n",
      "              <tr class='athing' id='28980382'>\n",
      "      <td align=\"right\" valign=\"top\" class=\"title\"><span class=\"rank\">1.</span></td>      <td valign=\"top\" class=\"votelinks\"><center><a id='up_28980382' href='vote?id=28980382&amp;how=up&amp;goto=news'><div class='votearrow' title='upvote'></div></a></center></td><td class=\"title\"><a href=\"https://citizenlab.ca/2021/10/breaking-news-new-york-times-journalist-ben-hubbard-pegasus/\" class=\"titlelink\">NYT journalist hacked with Pegasus after reporting on previous hacking attempts</a><span class=\"sitebit comhead\"> (<a href=\"from?site=citizenlab.ca\"><span class=\"sitestr\">citizenlab.ca</span></a>)</span></td></tr><tr><td colspan=\"2\"></td><td class=\"subtext\">\n",
      "        <span class=\"score\" id=\"score_28980382\">496 points</span> by <a href=\"user?id=giuliomagnifico\" class=\"hnuser\">giuliomagnifico</a> <span class=\"age\" title=\"2021-10-24T18:01:16\"><a href=\"item?id=28980382\">5 hours ago</a></span> <span id=\"unv_28980382\"></span> | <a href=\"hide?id=28980382&amp;goto=news\">hide</a> | <a href=\"item?id=28980382\">160&nbsp;comments</a>              </td></tr>\n",
      "      <tr class=\"spacer\" style=\"height:5px\"></tr>\n",
      "                <tr class='athing' id='28980691'>\n",
      "      <td align=\"right\" valign=\"top\" class=\"title\"><span class=\"rank\">2.</span></td>      <td valign=\"top\" class=\"votelinks\"><center><a id='up_28980691' href='vote?id=28980691&amp;how=up&amp;goto=news'><div class='votearrow' title='upvote'></div></a></center></td><td class=\"title\"><a href=\"https://kwcodes.com/how-i-failed-5-side-projects-in-6-years-earning-0/\" class=\"titlelink\">5 side projects in 6 years, earning $0</a><span class=\"sitebit comhead\"> (<a href=\"from?site=kwcodes.com\"><span class=\"sitestr\">kwcodes.com</span></a>)</span></td></tr><tr><td colspan=\"2\"></td><td class=\"subtext\">\n",
      "        <span class=\"score\" id=\"score_28980691\">196 points</span> by <a href=\"user?id=kw_dev\" class=\"hnuser\">kw_dev</a> <span class=\"age\" title=\"2021-10-24T18:35:17\"><a href=\"item?id=28980691\">4 hours ago</a></span> <span id=\"unv_28980691\"></span> | <a href=\"hide?id=28980691&amp;goto=news\">hide</a> | <a href=\"item?id=28980691\">84&nbsp;comments</a>              </td></tr>\n",
      "      <tr class=\"spacer\" style=\"height:5px\"></tr>\n",
      "                <tr class='athing' id='28975453'>\n",
      "      <td align=\"right\" valign=\"top\" class=\"title\"><span class=\"rank\">3.</span></td>      <td valign=\"top\" class=\"votelinks\"><center><a id='up_28975453' href='vote?id=28975453&amp;how=up&amp;goto=news'><div class='votearrow' title='upvote'></div></a></center></td><td class=\"title\"><a href=\"http://patshaughnessy.net/2021/10/23/to-learn-a-new-language-read-its-standard-library\" class=\"titlelink\">To learn a new language, read its standard library</a><span class=\"sitebit comhead\"> (<a href=\"from?site=patshaughnessy.net\"><span class=\"sitestr\">patshaughnessy.net</span></a>)</span></td></tr><tr><td colspan=\"2\"></td><td class=\"subtext\">\n",
      "        <span class=\"score\" id=\"score_28975453\">60 points</span> by <a href=\"user?id=sferik\" class=\"hnuser\">sferik</a> <span class=\"age\" title=\"2021-10-24T06:38:24\"><a href=\"item?id=28975453\">2 hours ago</a></span> <span id=\"unv_28975453\"></span> | <a href=\"hide?id=28975453&amp;goto=news\">hide</a> | <a href=\"item?id=28975453\">21&nbsp;comments</a>              </td></tr>\n",
      "      <tr class=\"spacer\" style=\"height:5px\"></tr>\n",
      "                <tr class='athing' id='28981861'>\n",
      "      <td align=\"right\" valign=\"top\" class=\"title\"><span class=\"rank\">4.</span></td>      <td valign=\"top\" class=\"votelinks\"><center><a id='up_28981861' href='vote?id=28981861&amp;how=up&amp;goto=news'><div class='votearrow' title='upvote'></div></a></center></td><td class=\"title\"><a href=\"https://www.statnews.com/2021/10/22/melioidosis-outbreak-georgia-walmart/\" class=\"titlelink\">Deadly infection linked to contaminated room spray sold at Walmart</a><span class=\"sitebit comhead\"> (<a href=\"from?site=statnews.com\"><span class=\"sitestr\">statnews.com</span></a>)</span></td></tr><tr><td colspan=\"2\"></td><td class=\"subtext\">\n",
      "        <span class=\"score\" id=\"score_28981861\">117 points</span> by <a href=\"user?id=vanilla-almond\" class=\"hnuser\">vanilla-almond</a> <span class=\"age\" title=\"2021-10-24T21:00:31\"><a href=\"item?id=28981861\">2 hours ago</a></span> <span id=\"unv_28981861\"></span> | <a href=\"hide?id=28981861&amp;goto=news\">hide</a> | <a href=\"item?id=28981861\">33&nbsp;comments</a>              </td></tr>\n",
      "      <tr class=\"spacer\" style=\"height:5px\"></tr>\n",
      "                <tr class='athing' id='28954052'>\n",
      "      <td align=\"right\" valign=\"top\" class=\"title\"><span class=\"rank\">5.</span></td>      <td valign=\"top\" class=\"votelinks\"><center><a id='up_28954052' href='vote?id=28954052&amp;how=up&amp;goto=news'><div class='votearrow' title='upvote'></div></a></center></td><td class=\"title\"><a href=\"https://www.me.gatech.edu/news/exosuit-designed-woodruff-school-helps-awkward-lifts\" class=\"titlelink\">Exosuit Designed in Woodruff School Helps with Awkward Lifts</a><span class=\"sitebit comhead\"> (<a href=\"from?site=gatech.edu\"><span class=\"sitestr\">gatech.edu</span></a>)</span></td></tr><tr><td colspan=\"2\"></td><td class=\"subtext\">\n",
      "        <span class=\"score\" id=\"score_28954052\">17 points</span> by <a href=\"user?id=rbanffy\" class=\"hnuser\">rbanffy</a> <span class=\"age\" title=\"2021-10-22T05:46:49\"><a href=\"item?id=28954052\">2 hours ago</a></span> <span id=\"unv_28954052\"></span> | <a href=\"hide?id=28954052&amp;goto=news\">hide</a> | <a href=\"item?id=28954052\">1&nbsp;comment</a>              </td></tr>\n",
      "      <tr class=\"spacer\" style=\"height:5px\"></tr>\n",
      "                <tr class='athing' id='28954883'>\n",
      "      <td align=\"right\" valign=\"top\" class=\"title\"><span class=\"rank\">6.</span></td>      <td valign=\"top\" class=\"votelinks\"><center><a id='up_28954883' href='vote?id=28954883&amp;how=up&amp;goto=news'><div class='votearrow' title='upvote'></div></a></center></td><td class=\"title\"><a href=\"https://www.theregister.com/2021/10/22/on_call/\" class=\"titlelink\">How to keep a support contract: Make the user think they solved the problem</a><span class=\"sitebit comhead\"> (<a href=\"from?site=theregister.com\"><span class=\"sitestr\">theregister.com</span></a>)</span></td></tr><tr><td colspan=\"2\"></td><td class=\"subtext\">\n",
      "        <span class=\"score\" id=\"score_28954883\">62 points</span> by <a href=\"user?id=sohkamyung\" class=\"hnuser\">sohkamyung</a> <span class=\"age\" title=\"2021-10-22T08:33:18\"><a href=\"item?id=28954883\">4 hours ago</a></span> <span id=\"unv_28954883\"></span> | <a href=\"hide?id=28954883&amp;goto=news\">hide</a> | <a href=\"item?id=28954883\">7&nbsp;comments</a>              </td></tr>\n",
      "      <tr class=\"spacer\" style=\"height:5px\"></tr>\n",
      "                <tr class='athing' id='28976526'>\n",
      "      <td align=\"right\" valign=\"top\" class=\"title\"><span class=\"rank\">7.</span></td>      <td valign=\"top\" class=\"votelinks\"><center><a id='up_28976526' href='vote?id=28976526&amp;how=up&amp;goto=news'><div class='votearrow' title='upvote'></div></a></center></td><td class=\"title\"><a href=\"https://ijmacd.github.io/rfc3339-iso8601/\" class=\"titlelink\">RFC 3339 vs. ISO 8601</a><span class=\"sitebit comhead\"> (<a href=\"from?site=ijmacd.github.io\"><span class=\"sitestr\">ijmacd.github.io</span></a>)</span></td></tr><tr><td colspan=\"2\"></td><td class=\"subtext\">\n",
      "        <span class=\"score\" id=\"score_28976526\">417 points</span> by <a href=\"user?id=rdpintqogeogsaa\" class=\"hnuser\">rdpintqogeogsaa</a> <span class=\"age\" title=\"2021-10-24T10:19:21\"><a href=\"item?id=28976526\">12 hours ago</a></span> <span id=\"unv_28976526\"></span> | <a href=\"hide?id=28976526&amp;goto=news\">hide</a> | <a href=\"item?id=28976526\">132&nbsp;comments</a>              </td></tr>\n",
      "      <tr class=\"spacer\" style=\"height:5px\"></tr>\n",
      "                <tr class='athing' id='28981275'>\n",
      "      <td align=\"right\" valign=\"top\" class=\"title\"><span class=\"rank\">8.</span></td>      <td valign=\"top\" class=\"votelinks\"><center><a id='up_28981275' href='vote?id=28981275&amp;how=up&amp;goto=news'><div class='votearrow' title='upvote'></div></a></center></td><td class=\"title\"><a href=\"https://longnow.org/essays/richard-feynman-connection-machine/\" class=\"titlelink\">Richard Feynman and the Connection Machine (1989)</a><span class=\"sitebit comhead\"> (<a href=\"from?site=longnow.org\"><span class=\"sitestr\">longnow.org</span></a>)</span></td></tr><tr><td colspan=\"2\"></td><td class=\"subtext\">\n",
      "        <span class=\"score\" id=\"score_28981275\">29 points</span> by <a href=\"user?id=rl3\" class=\"hnuser\">rl3</a> <span class=\"age\" title=\"2021-10-24T19:48:35\"><a href=\"item?id=28981275\">3 hours ago</a></span> <span id=\"unv_28981275\"></span> | <a href=\"hide?id=28981275&amp;goto=news\">hide</a> | <a href=\"item?id=28981275\">4&nbsp;comments</a>              </td></tr>\n",
      "      <tr class=\"spacer\" style=\"height:5px\"></tr>\n",
      "                <tr class='athing' id='28970067'>\n",
      "      <td align=\"right\" valign=\"top\" class=\"title\"><span class=\"rank\">9.</span></td>      <td valign=\"top\" class=\"votelinks\"><center><a id='up_28970067' href='vote?id=28970067&amp;how=up&amp;goto=news'><div class='votearrow' title='upvote'></div></a></center></td><td class=\"title\"><a href=\"https://bam.kalzumeus.com/archive/community-banking-and-fintech/\" class=\"titlelink\">Community Banking and Fintech</a><span class=\"sitebit comhead\"> (<a href=\"from?site=kalzumeus.com\"><span class=\"sitestr\">kalzumeus.com</span></a>)</span></td></tr><tr><td colspan=\"2\"></td><td class=\"subtext\">\n",
      "        <span class=\"score\" id=\"score_28970067\">24 points</span> by <a href=\"user?id=Ozzie_osman\" class=\"hnuser\">Ozzie_osman</a> <span class=\"age\" title=\"2021-10-23T16:39:43\"><a href=\"item?id=28970067\">2 hours ago</a></span> <span id=\"unv_28970067\"></span> | <a href=\"hide?id=28970067&amp;goto=news\">hide</a> | <a href=\"item?id=28970067\">5&nbsp;comments</a>              </td></tr>\n",
      "      <tr class=\"spacer\" style=\"height:5px\"></tr>\n",
      "                <tr class='athing' id='28981871'>\n",
      "      <td align=\"right\" valign=\"top\" class=\"title\"><span class=\"rank\">10.</span></td>      <td></td><td class=\"title\"><a href=\"https://www.tesorio.com/careers#job-openings\" class=\"titlelink\" rel=\"nofollow\">Tesorio (YC S15) is hiring – join our 100% distributed fintech team</a><span class=\"sitebit comhead\"> (<a href=\"from?site=tesorio.com\"><span class=\"sitestr\">tesorio.com</span></a>)</span></td></tr><tr><td colspan=\"2\"></td><td class=\"subtext\">\n",
      "        <span class=\"age\" title=\"2021-10-24T21:01:00\"><a href=\"item?id=28981871\">2 hours ago</a></span> | <a href=\"hide?id=28981871&amp;goto=news\">hide</a>      </td></tr>\n",
      "      <tr class=\"spacer\" style=\"height:5px\"></tr>\n",
      "                <tr class='athing' id='28975856'>\n",
      "      <td align=\"right\" valign=\"top\" class=\"title\"><span class=\"rank\">11.</span></td>      <td valign=\"top\" class=\"votelinks\"><center><a id='up_28975856' href='vote?id=28975856&amp;how=up&amp;goto=news'><div class='votearrow' title='upvote'></div></a></center></td><td class=\"title\"><a href=\"https://borncity.com/win/2021/10/23/microsoft-signiert-windows-treiber-fr-process-hacker-nicht-mehr/\" class=\"titlelink\">Microsoft no longer signs Windows drivers for Process Hacker</a><span class=\"sitebit comhead\"> (<a href=\"from?site=borncity.com\"><span class=\"sitestr\">borncity.com</span></a>)</span></td></tr><tr><td colspan=\"2\"></td><td class=\"subtext\">\n",
      "        <span class=\"score\" id=\"score_28975856\">558 points</span> by <a href=\"user?id=XzetaU8\" class=\"hnuser\">XzetaU8</a> <span class=\"age\" title=\"2021-10-24T08:14:55\"><a href=\"item?id=28975856\">14 hours ago</a></span> <span id=\"unv_28975856\"></span> | <a href=\"hide?id=28975856&amp;goto=news\">hide</a> | <a href=\"item?id=28975856\">429&nbsp;comments</a>              </td></tr>\n",
      "      <tr class=\"spacer\" style=\"height:5px\"></tr>\n",
      "                <tr class='athing' id='28979048'>\n",
      "      <td align=\"right\" valign=\"top\" class=\"title\"><span class=\"rank\">12.</span></td>      <td valign=\"top\" class=\"votelinks\"><center><a id='up_28979048' href='vote?id=28979048&amp;how=up&amp;goto=news'><div class='votearrow' title='upvote'></div></a></center></td><td class=\"title\"><a href=\"https://advancedweb.hu/new-language-features-since-java-8-to-17/\" class=\"titlelink\">New language features since Java 8 to 17</a><span class=\"sitebit comhead\"> (<a href=\"from?site=advancedweb.hu\"><span class=\"sitestr\">advancedweb.hu</span></a>)</span></td></tr><tr><td colspan=\"2\"></td><td class=\"subtext\">\n",
      "        <span class=\"score\" id=\"score_28979048\">265 points</span> by <a href=\"user?id=dmitryminkovsky\" class=\"hnuser\">dmitryminkovsky</a> <span class=\"age\" title=\"2021-10-24T15:50:04\"><a href=\"item?id=28979048\">7 hours ago</a></span> <span id=\"unv_28979048\"></span> | <a href=\"hide?id=28979048&amp;goto=news\">hide</a> | <a href=\"item?id=28979048\">205&nbsp;comments</a>              </td></tr>\n",
      "      <tr class=\"spacer\" style=\"height:5px\"></tr>\n",
      "                <tr class='athing' id='28980927'>\n",
      "      <td align=\"right\" valign=\"top\" class=\"title\"><span class=\"rank\">13.</span></td>      <td valign=\"top\" class=\"votelinks\"><center><a id='up_28980927' href='vote?id=28980927&amp;how=up&amp;goto=news'><div class='votearrow' title='upvote'></div></a></center></td><td class=\"title\"><a href=\"https://www.ft.com/3lJQa6w\" class=\"titlelink\">The Financial Times’ 404 page</a><span class=\"sitebit comhead\"> (<a href=\"from?site=ft.com\"><span class=\"sitestr\">ft.com</span></a>)</span></td></tr><tr><td colspan=\"2\"></td><td class=\"subtext\">\n",
      "        <span class=\"score\" id=\"score_28980927\">261 points</span> by <a href=\"user?id=ColinWright\" class=\"hnuser\">ColinWright</a> <span class=\"age\" title=\"2021-10-24T19:06:49\"><a href=\"item?id=28980927\">3 hours ago</a></span> <span id=\"unv_28980927\"></span> | <a href=\"hide?id=28980927&amp;goto=news\">hide</a> | <a href=\"item?id=28980927\">36&nbsp;comments</a>              </td></tr>\n",
      "      <tr class=\"spacer\" style=\"height:5px\"></tr>\n",
      "                <tr class='athing' id='28979532'>\n",
      "      <td align=\"right\" valign=\"top\" class=\"title\"><span class=\"rank\">14.</span></td>      <td valign=\"top\" class=\"votelinks\"><center><a id='up_28979532' href='vote?id=28979532&amp;how=up&amp;goto=news'><div class='votearrow' title='upvote'></div></a></center></td><td class=\"title\"><a href=\"https://thewalrus.ca/new-brunswicks-medical-mystery/\" class=\"titlelink\">New Brunswick’s Mystery Disease</a><span class=\"sitebit comhead\"> (<a href=\"from?site=thewalrus.ca\"><span class=\"sitestr\">thewalrus.ca</span></a>)</span></td></tr><tr><td colspan=\"2\"></td><td class=\"subtext\">\n",
      "        <span class=\"score\" id=\"score_28979532\">98 points</span> by <a href=\"user?id=Geekette\" class=\"hnuser\">Geekette</a> <span class=\"age\" title=\"2021-10-24T16:40:13\"><a href=\"item?id=28979532\">6 hours ago</a></span> <span id=\"unv_28979532\"></span> | <a href=\"hide?id=28979532&amp;goto=news\">hide</a> | <a href=\"item?id=28979532\">46&nbsp;comments</a>              </td></tr>\n",
      "      <tr class=\"spacer\" style=\"height:5px\"></tr>\n",
      "                <tr class='athing' id='28978086'>\n",
      "      <td align=\"right\" valign=\"top\" class=\"title\"><span class=\"rank\">15.</span></td>      <td valign=\"top\" class=\"votelinks\"><center><a id='up_28978086' href='vote?id=28978086&amp;how=up&amp;goto=news'><div class='votearrow' title='upvote'></div></a></center></td><td class=\"title\"><a href=\"https://old.reddit.com/r/gamedev/comments/qeqn3b/despite_having_just_58_sales_over_38_of_bug/\" class=\"titlelink\">Despite having just 5.8% sales, over 38% of bug reports come from Linux</a><span class=\"sitebit comhead\"> (<a href=\"from?site=reddit.com\"><span class=\"sitestr\">reddit.com</span></a>)</span></td></tr><tr><td colspan=\"2\"></td><td class=\"subtext\">\n",
      "        <span class=\"score\" id=\"score_28978086\">926 points</span> by <a href=\"user?id=otreblan\" class=\"hnuser\">otreblan</a> <span class=\"age\" title=\"2021-10-24T14:14:11\"><a href=\"item?id=28978086\">8 hours ago</a></span> <span id=\"unv_28978086\"></span> | <a href=\"hide?id=28978086&amp;goto=news\">hide</a> | <a href=\"item?id=28978086\">173&nbsp;comments</a>              </td></tr>\n",
      "      <tr class=\"spacer\" style=\"height:5px\"></tr>\n",
      "                <tr class='athing' id='28979740'>\n",
      "      <td align=\"right\" valign=\"top\" class=\"title\"><span class=\"rank\">16.</span></td>      <td valign=\"top\" class=\"votelinks\"><center><a id='up_28979740' href='vote?id=28979740&amp;how=up&amp;goto=news'><div class='votearrow' title='upvote'></div></a></center></td><td class=\"title\"><a href=\"https://pimp-my-readme.webapp.io/\" class=\"titlelink\">Show HN: Pimp My Readme</a><span class=\"sitebit comhead\"> (<a href=\"from?site=webapp.io\"><span class=\"sitestr\">webapp.io</span></a>)</span></td></tr><tr><td colspan=\"2\"></td><td class=\"subtext\">\n",
      "        <span class=\"score\" id=\"score_28979740\">70 points</span> by <a href=\"user?id=joshdsouza\" class=\"hnuser\">joshdsouza</a> <span class=\"age\" title=\"2021-10-24T17:00:01\"><a href=\"item?id=28979740\">6 hours ago</a></span> <span id=\"unv_28979740\"></span> | <a href=\"hide?id=28979740&amp;goto=news\">hide</a> | <a href=\"item?id=28979740\">25&nbsp;comments</a>              </td></tr>\n",
      "      <tr class=\"spacer\" style=\"height:5px\"></tr>\n",
      "                <tr class='athing' id='28976487'>\n",
      "      <td align=\"right\" valign=\"top\" class=\"title\"><span class=\"rank\">17.</span></td>      <td valign=\"top\" class=\"votelinks\"><center><a id='up_28976487' href='vote?id=28976487&amp;how=up&amp;goto=news'><div class='votearrow' title='upvote'></div></a></center></td><td class=\"title\"><a href=\"https://twitter.com/fasterthanlime/status/1452053940024057857\" class=\"titlelink\">Google has a secret deal with FB called “Jedi Blue” that they knew was illegal</a><span class=\"sitebit comhead\"> (<a href=\"from?site=twitter.com/fasterthanlime\"><span class=\"sitestr\">twitter.com/fasterthanlime</span></a>)</span></td></tr><tr><td colspan=\"2\"></td><td class=\"subtext\">\n",
      "        <span class=\"score\" id=\"score_28976487\">1133 points</span> by <a href=\"user?id=ColinWright\" class=\"hnuser\">ColinWright</a> <span class=\"age\" title=\"2021-10-24T10:12:28\"><a href=\"item?id=28976487\">12 hours ago</a></span> <span id=\"unv_28976487\"></span> | <a href=\"hide?id=28976487&amp;goto=news\">hide</a> | <a href=\"item?id=28976487\">325&nbsp;comments</a>              </td></tr>\n",
      "      <tr class=\"spacer\" style=\"height:5px\"></tr>\n",
      "                <tr class='athing' id='28976084'>\n",
      "      <td align=\"right\" valign=\"top\" class=\"title\"><span class=\"rank\">18.</span></td>      <td valign=\"top\" class=\"votelinks\"><center><a id='up_28976084' href='vote?id=28976084&amp;how=up&amp;goto=news'><div class='votearrow' title='upvote'></div></a></center></td><td class=\"title\"><a href=\"https://www.npr.org/2021/10/22/1047341052/barcelona-bicibus-kids-parents-bike-ride-to-school\" class=\"titlelink\">Barcelona’s Bicibús: hundreds of families biking to school together</a><span class=\"sitebit comhead\"> (<a href=\"from?site=npr.org\"><span class=\"sitestr\">npr.org</span></a>)</span></td></tr><tr><td colspan=\"2\"></td><td class=\"subtext\">\n",
      "        <span class=\"score\" id=\"score_28976084\">227 points</span> by <a href=\"user?id=crousto\" class=\"hnuser\">crousto</a> <span class=\"age\" title=\"2021-10-24T09:02:11\"><a href=\"item?id=28976084\">13 hours ago</a></span> <span id=\"unv_28976084\"></span> | <a href=\"hide?id=28976084&amp;goto=news\">hide</a> | <a href=\"item?id=28976084\">138&nbsp;comments</a>              </td></tr>\n",
      "      <tr class=\"spacer\" style=\"height:5px\"></tr>\n",
      "                <tr class='athing' id='28966419'>\n",
      "      <td align=\"right\" valign=\"top\" class=\"title\"><span class=\"rank\">19.</span></td>      <td valign=\"top\" class=\"votelinks\"><center><a id='up_28966419' href='vote?id=28966419&amp;how=up&amp;goto=news'><div class='votearrow' title='upvote'></div></a></center></td><td class=\"title\"><a href=\"https://www.bbc.co.uk/news/science-environment-58919791\" class=\"titlelink\">Norfolk sand: Has a colossal experiment worked?</a><span class=\"sitebit comhead\"> (<a href=\"from?site=bbc.co.uk\"><span class=\"sitestr\">bbc.co.uk</span></a>)</span></td></tr><tr><td colspan=\"2\"></td><td class=\"subtext\">\n",
      "        <span class=\"score\" id=\"score_28966419\">42 points</span> by <a href=\"user?id=asplake\" class=\"hnuser\">asplake</a> <span class=\"age\" title=\"2021-10-23T07:24:06\"><a href=\"item?id=28966419\">5 hours ago</a></span> <span id=\"unv_28966419\"></span> | <a href=\"hide?id=28966419&amp;goto=news\">hide</a> | <a href=\"item?id=28966419\">21&nbsp;comments</a>              </td></tr>\n",
      "      <tr class=\"spacer\" style=\"height:5px\"></tr>\n",
      "                <tr class='athing' id='28980435'>\n",
      "      <td align=\"right\" valign=\"top\" class=\"title\"><span class=\"rank\">20.</span></td>      <td valign=\"top\" class=\"votelinks\"><center><a id='up_28980435' href='vote?id=28980435&amp;how=up&amp;goto=news'><div class='votearrow' title='upvote'></div></a></center></td><td class=\"title\"><a href=\"https://rchaves.app/why-agile-works/\" class=\"titlelink\">Understanding the reasoning behind the four agile values</a><span class=\"sitebit comhead\"> (<a href=\"from?site=rchaves.app\"><span class=\"sitestr\">rchaves.app</span></a>)</span></td></tr><tr><td colspan=\"2\"></td><td class=\"subtext\">\n",
      "        <span class=\"score\" id=\"score_28980435\">16 points</span> by <a href=\"user?id=rchaves\" class=\"hnuser\">rchaves</a> <span class=\"age\" title=\"2021-10-24T18:07:40\"><a href=\"item?id=28980435\">2 hours ago</a></span> <span id=\"unv_28980435\"></span> | <a href=\"hide?id=28980435&amp;goto=news\">hide</a> | <a href=\"item?id=28980435\">4&nbsp;comments</a>              </td></tr>\n",
      "      <tr class=\"spacer\" style=\"height:5px\"></tr>\n",
      "                <tr class='athing' id='28979482'>\n",
      "      <td align=\"right\" valign=\"top\" class=\"title\"><span class=\"rank\">21.</span></td>      <td valign=\"top\" class=\"votelinks\"><center><a id='up_28979482' href='vote?id=28979482&amp;how=up&amp;goto=news'><div class='votearrow' title='upvote'></div></a></center></td><td class=\"title\"><a href=\"https://turtleware.eu/posts/Controlling-the-terminal.html\" class=\"titlelink\">Controlling the terminal with Common Lisp (2020)</a><span class=\"sitebit comhead\"> (<a href=\"from?site=turtleware.eu\"><span class=\"sitestr\">turtleware.eu</span></a>)</span></td></tr><tr><td colspan=\"2\"></td><td class=\"subtext\">\n",
      "        <span class=\"score\" id=\"score_28979482\">67 points</span> by <a href=\"user?id=winkywooster\" class=\"hnuser\">winkywooster</a> <span class=\"age\" title=\"2021-10-24T16:36:02\"><a href=\"item?id=28979482\">6 hours ago</a></span> <span id=\"unv_28979482\"></span> | <a href=\"hide?id=28979482&amp;goto=news\">hide</a> | <a href=\"item?id=28979482\">13&nbsp;comments</a>              </td></tr>\n",
      "      <tr class=\"spacer\" style=\"height:5px\"></tr>\n",
      "                <tr class='athing' id='28981949'>\n",
      "      <td align=\"right\" valign=\"top\" class=\"title\"><span class=\"rank\">22.</span></td>      <td valign=\"top\" class=\"votelinks\"><center><a id='up_28981949' href='vote?id=28981949&amp;how=up&amp;goto=news'><div class='votearrow' title='upvote'></div></a></center></td><td class=\"title\"><a href=\"https://www.themarshallproject.org/2018/03/13/let-s-put-an-end-to-prosecutorial-immunity\" class=\"titlelink\">Let’s Put an End to Prosecutorial Immunity (2018)</a><span class=\"sitebit comhead\"> (<a href=\"from?site=themarshallproject.org\"><span class=\"sitestr\">themarshallproject.org</span></a>)</span></td></tr><tr><td colspan=\"2\"></td><td class=\"subtext\">\n",
      "        <span class=\"score\" id=\"score_28981949\">69 points</span> by <a href=\"user?id=dredmorbius\" class=\"hnuser\">dredmorbius</a> <span class=\"age\" title=\"2021-10-24T21:10:07\"><a href=\"item?id=28981949\">1 hour ago</a></span> <span id=\"unv_28981949\"></span> | <a href=\"hide?id=28981949&amp;goto=news\">hide</a> | <a href=\"item?id=28981949\">18&nbsp;comments</a>              </td></tr>\n",
      "      <tr class=\"spacer\" style=\"height:5px\"></tr>\n",
      "                <tr class='athing' id='28967225'>\n",
      "      <td align=\"right\" valign=\"top\" class=\"title\"><span class=\"rank\">23.</span></td>      <td valign=\"top\" class=\"votelinks\"><center><a id='up_28967225' href='vote?id=28967225&amp;how=up&amp;goto=news'><div class='votearrow' title='upvote'></div></a></center></td><td class=\"title\"><a href=\"https://nautil.us/issue/107/the-edge/one-of-the-most-egregious-ripoffs-in-the-history-of-science\" class=\"titlelink\">A new history of the race to decipher DNA</a><span class=\"sitebit comhead\"> (<a href=\"from?site=nautil.us\"><span class=\"sitestr\">nautil.us</span></a>)</span></td></tr><tr><td colspan=\"2\"></td><td class=\"subtext\">\n",
      "        <span class=\"score\" id=\"score_28967225\">17 points</span> by <a href=\"user?id=dnetesn\" class=\"hnuser\">dnetesn</a> <span class=\"age\" title=\"2021-10-23T10:43:24\"><a href=\"item?id=28967225\">3 hours ago</a></span> <span id=\"unv_28967225\"></span> | <a href=\"hide?id=28967225&amp;goto=news\">hide</a> | <a href=\"item?id=28967225\">2&nbsp;comments</a>              </td></tr>\n",
      "      <tr class=\"spacer\" style=\"height:5px\"></tr>\n",
      "                <tr class='athing' id='28975071'>\n",
      "      <td align=\"right\" valign=\"top\" class=\"title\"><span class=\"rank\">24.</span></td>      <td valign=\"top\" class=\"votelinks\"><center><a id='up_28975071' href='vote?id=28975071&amp;how=up&amp;goto=news'><div class='votearrow' title='upvote'></div></a></center></td><td class=\"title\"><a href=\"https://longreads.com/2021/10/05/mr-x-mystery-amnesia-atavist-magazine/\" class=\"titlelink\" rel=\"nofollow\">The Mysterious Case of Mr. X</a><span class=\"sitebit comhead\"> (<a href=\"from?site=longreads.com\"><span class=\"sitestr\">longreads.com</span></a>)</span></td></tr><tr><td colspan=\"2\"></td><td class=\"subtext\">\n",
      "        <span class=\"score\" id=\"score_28975071\">4 points</span> by <a href=\"user?id=samclemens\" class=\"hnuser\">samclemens</a> <span class=\"age\" title=\"2021-10-24T04:51:57\"><a href=\"item?id=28975071\">1 hour ago</a></span> <span id=\"unv_28975071\"></span> | <a href=\"hide?id=28975071&amp;goto=news\">hide</a> | <a href=\"item?id=28975071\">discuss</a>              </td></tr>\n",
      "      <tr class=\"spacer\" style=\"height:5px\"></tr>\n",
      "                <tr class='athing' id='28977243'>\n",
      "      <td align=\"right\" valign=\"top\" class=\"title\"><span class=\"rank\">25.</span></td>      <td valign=\"top\" class=\"votelinks\"><center><a id='up_28977243' href='vote?id=28977243&amp;how=up&amp;goto=news'><div class='votearrow' title='upvote'></div></a></center></td><td class=\"title\"><a href=\"https://polyhedra.tessera.li/\" class=\"titlelink\">Polyhedra Viewer: Visualize relationships between convex regular-faced polyhedra</a><span class=\"sitebit comhead\"> (<a href=\"from?site=tessera.li\"><span class=\"sitestr\">tessera.li</span></a>)</span></td></tr><tr><td colspan=\"2\"></td><td class=\"subtext\">\n",
      "        <span class=\"score\" id=\"score_28977243\">110 points</span> by <a href=\"user?id=lioeters\" class=\"hnuser\">lioeters</a> <span class=\"age\" title=\"2021-10-24T12:23:14\"><a href=\"item?id=28977243\">10 hours ago</a></span> <span id=\"unv_28977243\"></span> | <a href=\"hide?id=28977243&amp;goto=news\">hide</a> | <a href=\"item?id=28977243\">11&nbsp;comments</a>              </td></tr>\n",
      "      <tr class=\"spacer\" style=\"height:5px\"></tr>\n",
      "                <tr class='athing' id='28978915'>\n",
      "      <td align=\"right\" valign=\"top\" class=\"title\"><span class=\"rank\">26.</span></td>      <td valign=\"top\" class=\"votelinks\"><center><a id='up_28978915' href='vote?id=28978915&amp;how=up&amp;goto=news'><div class='votearrow' title='upvote'></div></a></center></td><td class=\"title\"><a href=\"https://www.cbc.ca/radio/quirks/oct-23-vikings-in-newfoundland-new-rocks-from-the-moon-making-wood-better-and-more-1.6219865/scientists-have-found-a-way-to-harden-wood-to-make-a-knife-that-rivals-steel-1.6219874\" class=\"titlelink\">Scientists have found a way to harden wood to make a knife that rivals steel</a><span class=\"sitebit comhead\"> (<a href=\"from?site=cbc.ca\"><span class=\"sitestr\">cbc.ca</span></a>)</span></td></tr><tr><td colspan=\"2\"></td><td class=\"subtext\">\n",
      "        <span class=\"score\" id=\"score_28978915\">177 points</span> by <a href=\"user?id=curmudgeon22\" class=\"hnuser\">curmudgeon22</a> <span class=\"age\" title=\"2021-10-24T15:38:15\"><a href=\"item?id=28978915\">7 hours ago</a></span> <span id=\"unv_28978915\"></span> | <a href=\"hide?id=28978915&amp;goto=news\">hide</a> | <a href=\"item?id=28978915\">114&nbsp;comments</a>              </td></tr>\n",
      "      <tr class=\"spacer\" style=\"height:5px\"></tr>\n",
      "                <tr class='athing' id='28977313'>\n",
      "      <td align=\"right\" valign=\"top\" class=\"title\"><span class=\"rank\">27.</span></td>      <td valign=\"top\" class=\"votelinks\"><center><a id='up_28977313' href='vote?id=28977313&amp;how=up&amp;goto=news'><div class='votearrow' title='upvote'></div></a></center></td><td class=\"title\"><a href=\"https://media.defense.gov/2021/Jul/01/2002754533/-1/-1/0/6586785-NSA-KEY-ROLE-IN-MAJOR-DEVELOPMENTS-IN-COMPUTER-SCIENCE.PDF\" class=\"titlelink\">NSA's Key Role in Major Developments in Computer Science [pdf]</a><span class=\"sitebit comhead\"> (<a href=\"from?site=defense.gov\"><span class=\"sitestr\">defense.gov</span></a>)</span></td></tr><tr><td colspan=\"2\"></td><td class=\"subtext\">\n",
      "        <span class=\"score\" id=\"score_28977313\">95 points</span> by <a href=\"user?id=graderjs\" class=\"hnuser\">graderjs</a> <span class=\"age\" title=\"2021-10-24T12:33:57\"><a href=\"item?id=28977313\">10 hours ago</a></span> <span id=\"unv_28977313\"></span> | <a href=\"hide?id=28977313&amp;goto=news\">hide</a> | <a href=\"item?id=28977313\">18&nbsp;comments</a>              </td></tr>\n",
      "      <tr class=\"spacer\" style=\"height:5px\"></tr>\n",
      "                <tr class='athing' id='28979872'>\n",
      "      <td align=\"right\" valign=\"top\" class=\"title\"><span class=\"rank\">28.</span></td>      <td valign=\"top\" class=\"votelinks\"><center><a id='up_28979872' href='vote?id=28979872&amp;how=up&amp;goto=news'><div class='votearrow' title='upvote'></div></a></center></td><td class=\"title\"><a href=\"https://www.smallstepcap.com/\" class=\"titlelink\">Self studying the MIT applied math curriculum (2019)</a><span class=\"sitebit comhead\"> (<a href=\"from?site=smallstepcap.com\"><span class=\"sitestr\">smallstepcap.com</span></a>)</span></td></tr><tr><td colspan=\"2\"></td><td class=\"subtext\">\n",
      "        <span class=\"score\" id=\"score_28979872\">191 points</span> by <a href=\"user?id=jiggle123\" class=\"hnuser\">jiggle123</a> <span class=\"age\" title=\"2021-10-24T17:12:02\"><a href=\"item?id=28979872\">5 hours ago</a></span> <span id=\"unv_28979872\"></span> | <a href=\"hide?id=28979872&amp;goto=news\">hide</a> | <a href=\"item?id=28979872\">37&nbsp;comments</a>              </td></tr>\n",
      "      <tr class=\"spacer\" style=\"height:5px\"></tr>\n",
      "                <tr class='athing' id='28980203'>\n",
      "      <td align=\"right\" valign=\"top\" class=\"title\"><span class=\"rank\">29.</span></td>      <td valign=\"top\" class=\"votelinks\"><center><a id='up_28980203' href='vote?id=28980203&amp;how=up&amp;goto=news'><div class='votearrow' title='upvote'></div></a></center></td><td class=\"title\"><a href=\"https://www.youtube.com/watch?v=F3Qixy-r_rQ\" class=\"titlelink\">A few of the best math explainers from this summer [video]</a><span class=\"sitebit comhead\"> (<a href=\"from?site=youtube.com\"><span class=\"sitestr\">youtube.com</span></a>)</span></td></tr><tr><td colspan=\"2\"></td><td class=\"subtext\">\n",
      "        <span class=\"score\" id=\"score_28980203\">59 points</span> by <a href=\"user?id=ykonstant\" class=\"hnuser\">ykonstant</a> <span class=\"age\" title=\"2021-10-24T17:42:31\"><a href=\"item?id=28980203\">3 hours ago</a></span> <span id=\"unv_28980203\"></span> | <a href=\"hide?id=28980203&amp;goto=news\">hide</a> | <a href=\"item?id=28980203\">5&nbsp;comments</a>              </td></tr>\n",
      "      <tr class=\"spacer\" style=\"height:5px\"></tr>\n",
      "                <tr class='athing' id='28975999'>\n",
      "      <td align=\"right\" valign=\"top\" class=\"title\"><span class=\"rank\">30.</span></td>      <td valign=\"top\" class=\"votelinks\"><center><a id='up_28975999' href='vote?id=28975999&amp;how=up&amp;goto=news'><div class='votearrow' title='upvote'></div></a></center></td><td class=\"title\"><a href=\"https://www.youtube.com/watch?v=n-uH36w9xg8\" class=\"titlelink\">230 people living communally on 175 acre eco village [video]</a><span class=\"sitebit comhead\"> (<a href=\"from?site=youtube.com\"><span class=\"sitestr\">youtube.com</span></a>)</span></td></tr><tr><td colspan=\"2\"></td><td class=\"subtext\">\n",
      "        <span class=\"score\" id=\"score_28975999\">159 points</span> by <a href=\"user?id=jelliclesfarm\" class=\"hnuser\">jelliclesfarm</a> <span class=\"age\" title=\"2021-10-24T08:44:32\"><a href=\"item?id=28975999\">14 hours ago</a></span> <span id=\"unv_28975999\"></span> | <a href=\"hide?id=28975999&amp;goto=news\">hide</a> | <a href=\"item?id=28975999\">157&nbsp;comments</a>              </td></tr>\n",
      "      <tr class=\"spacer\" style=\"height:5px\"></tr>\n",
      "            <tr class=\"morespace\" style=\"height:10px\"></tr><tr><td colspan=\"2\"></td><td class=\"title\"><a href=\"news?p=2\" class=\"morelink\" rel=\"next\">More</a></td></tr>\n",
      "  </table>\n",
      "</td></tr>\n",
      "<tr><td><img src=\"s.gif\" height=\"10\" width=\"0\"><table width=\"100%\" cellspacing=\"0\" cellpadding=\"1\"><tr><td bgcolor=\"#ff6600\"></td></tr></table><br><center><span class=\"yclinks\"><a href=\"newsguidelines.html\">Guidelines</a>\n",
      "        | <a href=\"newsfaq.html\">FAQ</a>\n",
      "        | <a href=\"lists\">Lists</a>\n",
      "        | <a href=\"https://github.com/HackerNews/API\">API</a>\n",
      "        | <a href=\"security.html\">Security</a>\n",
      "        | <a href=\"http://www.ycombinator.com/legal/\">Legal</a>\n",
      "        | <a href=\"http://www.ycombinator.com/apply/\">Apply to YC</a>\n",
      "        | <a href=\"mailto:hn@ycombinator.com\">Contact</a></span><br><br><form method=\"get\" action=\"//hn.algolia.com/\">Search:\n",
      "          <input type=\"text\" name=\"q\" value=\"\" size=\"17\" autocorrect=\"off\" spellcheck=\"false\" autocapitalize=\"off\" autocomplete=\"false\"></form>\n",
      "            </center></td></tr>\n",
      "      </table></center></body><script type='text/javascript' src='hn.js?YPQ9qcN1caMCuSSCIdR0'></script></html>\n",
      "\n"
     ]
    }
   ],
   "source": [
    "import requests\n",
    "\n",
    "# Fetch a web page\n",
    "r = requests.get(\"https://news.ycombinator.com\")\n",
    "print(r.text)"
   ]
  },
  {
   "cell_type": "code",
   "execution_count": 5,
   "metadata": {},
   "outputs": [
    {
     "name": "stdout",
     "output_type": "stream",
     "text": [
      "\n",
      "        \n",
      "          \n",
      "        Hacker News\n",
      "        \n",
      "                  Hacker News\n",
      "              new | past | comments | ask | show | jobs | submit            \n",
      "                              login\n",
      "                          \n",
      "              \n",
      "\n",
      "              \n",
      "      1.      NYT journalist hacked with Pegasus after reporting on previous hacking attempts (citizenlab.ca)\n",
      "        496 points by giuliomagnifico 5 hours ago  | hide | 160&nbsp;comments              \n",
      "      \n",
      "                \n",
      "      2.      5 side projects in 6 years, earning $0 (kwcodes.com)\n",
      "        196 points by kw_dev 4 hours ago  | hide | 84&nbsp;comments              \n",
      "      \n",
      "                \n",
      "      3.      To learn a new language, read its standard library (patshaughnessy.net)\n",
      "        60 points by sferik 2 hours ago  | hide | 21&nbsp;comments              \n",
      "      \n",
      "                \n",
      "      4.      Deadly infection linked to contaminated room spray sold at Walmart (statnews.com)\n",
      "        117 points by vanilla-almond 2 hours ago  | hide | 33&nbsp;comments              \n",
      "      \n",
      "                \n",
      "      5.      Exosuit Designed in Woodruff School Helps with Awkward Lifts (gatech.edu)\n",
      "        17 points by rbanffy 2 hours ago  | hide | 1&nbsp;comment              \n",
      "      \n",
      "                \n",
      "      6.      How to keep a support contract: Make the user think they solved the problem (theregister.com)\n",
      "        62 points by sohkamyung 4 hours ago  | hide | 7&nbsp;comments              \n",
      "      \n",
      "                \n",
      "      7.      RFC 3339 vs. ISO 8601 (ijmacd.github.io)\n",
      "        417 points by rdpintqogeogsaa 12 hours ago  | hide | 132&nbsp;comments              \n",
      "      \n",
      "                \n",
      "      8.      Richard Feynman and the Connection Machine (1989) (longnow.org)\n",
      "        29 points by rl3 3 hours ago  | hide | 4&nbsp;comments              \n",
      "      \n",
      "                \n",
      "      9.      Community Banking and Fintech (kalzumeus.com)\n",
      "        24 points by Ozzie_osman 2 hours ago  | hide | 5&nbsp;comments              \n",
      "      \n",
      "                \n",
      "      10.      Tesorio (YC S15) is hiring – join our 100% distributed fintech team (tesorio.com)\n",
      "        2 hours ago | hide      \n",
      "      \n",
      "                \n",
      "      11.      Microsoft no longer signs Windows drivers for Process Hacker (borncity.com)\n",
      "        558 points by XzetaU8 14 hours ago  | hide | 429&nbsp;comments              \n",
      "      \n",
      "                \n",
      "      12.      New language features since Java 8 to 17 (advancedweb.hu)\n",
      "        265 points by dmitryminkovsky 7 hours ago  | hide | 205&nbsp;comments              \n",
      "      \n",
      "                \n",
      "      13.      The Financial Times’ 404 page (ft.com)\n",
      "        261 points by ColinWright 3 hours ago  | hide | 36&nbsp;comments              \n",
      "      \n",
      "                \n",
      "      14.      New Brunswick’s Mystery Disease (thewalrus.ca)\n",
      "        98 points by Geekette 6 hours ago  | hide | 46&nbsp;comments              \n",
      "      \n",
      "                \n",
      "      15.      Despite having just 5.8% sales, over 38% of bug reports come from Linux (reddit.com)\n",
      "        926 points by otreblan 8 hours ago  | hide | 173&nbsp;comments              \n",
      "      \n",
      "                \n",
      "      16.      Show HN: Pimp My Readme (webapp.io)\n",
      "        70 points by joshdsouza 6 hours ago  | hide | 25&nbsp;comments              \n",
      "      \n",
      "                \n",
      "      17.      Google has a secret deal with FB called “Jedi Blue” that they knew was illegal (twitter.com/fasterthanlime)\n",
      "        1133 points by ColinWright 12 hours ago  | hide | 325&nbsp;comments              \n",
      "      \n",
      "                \n",
      "      18.      Barcelona’s Bicibús: hundreds of families biking to school together (npr.org)\n",
      "        227 points by crousto 13 hours ago  | hide | 138&nbsp;comments              \n",
      "      \n",
      "                \n",
      "      19.      Norfolk sand: Has a colossal experiment worked? (bbc.co.uk)\n",
      "        42 points by asplake 5 hours ago  | hide | 21&nbsp;comments              \n",
      "      \n",
      "                \n",
      "      20.      Understanding the reasoning behind the four agile values (rchaves.app)\n",
      "        16 points by rchaves 2 hours ago  | hide | 4&nbsp;comments              \n",
      "      \n",
      "                \n",
      "      21.      Controlling the terminal with Common Lisp (2020) (turtleware.eu)\n",
      "        67 points by winkywooster 6 hours ago  | hide | 13&nbsp;comments              \n",
      "      \n",
      "                \n",
      "      22.      Let’s Put an End to Prosecutorial Immunity (2018) (themarshallproject.org)\n",
      "        69 points by dredmorbius 1 hour ago  | hide | 18&nbsp;comments              \n",
      "      \n",
      "                \n",
      "      23.      A new history of the race to decipher DNA (nautil.us)\n",
      "        17 points by dnetesn 3 hours ago  | hide | 2&nbsp;comments              \n",
      "      \n",
      "                \n",
      "      24.      The Mysterious Case of Mr. X (longreads.com)\n",
      "        4 points by samclemens 1 hour ago  | hide | discuss              \n",
      "      \n",
      "                \n",
      "      25.      Polyhedra Viewer: Visualize relationships between convex regular-faced polyhedra (tessera.li)\n",
      "        110 points by lioeters 10 hours ago  | hide | 11&nbsp;comments              \n",
      "      \n",
      "                \n",
      "      26.      Scientists have found a way to harden wood to make a knife that rivals steel (cbc.ca)\n",
      "        177 points by curmudgeon22 7 hours ago  | hide | 114&nbsp;comments              \n",
      "      \n",
      "                \n",
      "      27.      NSA's Key Role in Major Developments in Computer Science [pdf] (defense.gov)\n",
      "        95 points by graderjs 10 hours ago  | hide | 18&nbsp;comments              \n",
      "      \n",
      "                \n",
      "      28.      Self studying the MIT applied math curriculum (2019) (smallstepcap.com)\n",
      "        191 points by jiggle123 5 hours ago  | hide | 37&nbsp;comments              \n",
      "      \n",
      "                \n",
      "      29.      A few of the best math explainers from this summer [video] (youtube.com)\n",
      "        59 points by ykonstant 3 hours ago  | hide | 5&nbsp;comments              \n",
      "      \n",
      "                \n",
      "      30.      230 people living communally on 175 acre eco village [video] (youtube.com)\n",
      "        159 points by jelliclesfarm 14 hours ago  | hide | 157&nbsp;comments              \n",
      "      \n",
      "            More\n",
      "  \n",
      "\n",
      "Guidelines\n",
      "        | FAQ\n",
      "        | Lists\n",
      "        | API\n",
      "        | Security\n",
      "        | Legal\n",
      "        | Apply to YC\n",
      "        | ContactSearch:\n",
      "          \n",
      "            \n",
      "      \n",
      "\n"
     ]
    }
   ],
   "source": [
    "import re\n",
    "\n",
    "# Remove HTML tags using RegEx\n",
    "pattern = re.compile(r'<.*?>')  # tags look like <...>\n",
    "print(pattern.sub('', r.text))  # replace them with blank"
   ]
  },
  {
   "cell_type": "code",
   "execution_count": 6,
   "metadata": {},
   "outputs": [
    {
     "name": "stdout",
     "output_type": "stream",
     "text": [
      "\n",
      "        \n",
      "          \n",
      "        Hacker News\n",
      "        \n",
      "                  Hacker News\n",
      "              new | past | comments | ask | show | jobs | submit            \n",
      "                              login\n",
      "                          \n",
      "              \n",
      "\n",
      "              \n",
      "      1.      NYT journalist hacked with Pegasus after reporting on previous hacking attempts (citizenlab.ca)\n",
      "        496 points by giuliomagnifico 5 hours ago  | hide | 160 comments              \n",
      "      \n",
      "                \n",
      "      2.      5 side projects in 6 years, earning $0 (kwcodes.com)\n",
      "        196 points by kw_dev 4 hours ago  | hide | 84 comments              \n",
      "      \n",
      "                \n",
      "      3.      To learn a new language, read its standard library (patshaughnessy.net)\n",
      "        60 points by sferik 2 hours ago  | hide | 21 comments              \n",
      "      \n",
      "                \n",
      "      4.      Deadly infection linked to contaminated room spray sold at Walmart (statnews.com)\n",
      "        117 points by vanilla-almond 2 hours ago  | hide | 33 comments              \n",
      "      \n",
      "                \n",
      "      5.      Exosuit Designed in Woodruff School Helps with Awkward Lifts (gatech.edu)\n",
      "        17 points by rbanffy 2 hours ago  | hide | 1 comment              \n",
      "      \n",
      "                \n",
      "      6.      How to keep a support contract: Make the user think they solved the problem (theregister.com)\n",
      "        62 points by sohkamyung 4 hours ago  | hide | 7 comments              \n",
      "      \n",
      "                \n",
      "      7.      RFC 3339 vs. ISO 8601 (ijmacd.github.io)\n",
      "        417 points by rdpintqogeogsaa 12 hours ago  | hide | 132 comments              \n",
      "      \n",
      "                \n",
      "      8.      Richard Feynman and the Connection Machine (1989) (longnow.org)\n",
      "        29 points by rl3 3 hours ago  | hide | 4 comments              \n",
      "      \n",
      "                \n",
      "      9.      Community Banking and Fintech (kalzumeus.com)\n",
      "        24 points by Ozzie_osman 2 hours ago  | hide | 5 comments              \n",
      "      \n",
      "                \n",
      "      10.      Tesorio (YC S15) is hiring – join our 100% distributed fintech team (tesorio.com)\n",
      "        2 hours ago | hide      \n",
      "      \n",
      "                \n",
      "      11.      Microsoft no longer signs Windows drivers for Process Hacker (borncity.com)\n",
      "        558 points by XzetaU8 14 hours ago  | hide | 429 comments              \n",
      "      \n",
      "                \n",
      "      12.      New language features since Java 8 to 17 (advancedweb.hu)\n",
      "        265 points by dmitryminkovsky 7 hours ago  | hide | 205 comments              \n",
      "      \n",
      "                \n",
      "      13.      The Financial Times’ 404 page (ft.com)\n",
      "        261 points by ColinWright 3 hours ago  | hide | 36 comments              \n",
      "      \n",
      "                \n",
      "      14.      New Brunswick’s Mystery Disease (thewalrus.ca)\n",
      "        98 points by Geekette 6 hours ago  | hide | 46 comments              \n",
      "      \n",
      "                \n",
      "      15.      Despite having just 5.8% sales, over 38% of bug reports come from Linux (reddit.com)\n",
      "        926 points by otreblan 8 hours ago  | hide | 173 comments              \n",
      "      \n",
      "                \n",
      "      16.      Show HN: Pimp My Readme (webapp.io)\n",
      "        70 points by joshdsouza 6 hours ago  | hide | 25 comments              \n",
      "      \n",
      "                \n",
      "      17.      Google has a secret deal with FB called “Jedi Blue” that they knew was illegal (twitter.com/fasterthanlime)\n",
      "        1133 points by ColinWright 12 hours ago  | hide | 325 comments              \n",
      "      \n",
      "                \n",
      "      18.      Barcelona’s Bicibús: hundreds of families biking to school together (npr.org)\n",
      "        227 points by crousto 13 hours ago  | hide | 138 comments              \n",
      "      \n",
      "                \n",
      "      19.      Norfolk sand: Has a colossal experiment worked? (bbc.co.uk)\n",
      "        42 points by asplake 5 hours ago  | hide | 21 comments              \n",
      "      \n",
      "                \n",
      "      20.      Understanding the reasoning behind the four agile values (rchaves.app)\n",
      "        16 points by rchaves 2 hours ago  | hide | 4 comments              \n",
      "      \n",
      "                \n",
      "      21.      Controlling the terminal with Common Lisp (2020) (turtleware.eu)\n",
      "        67 points by winkywooster 6 hours ago  | hide | 13 comments              \n",
      "      \n",
      "                \n",
      "      22.      Let’s Put an End to Prosecutorial Immunity (2018) (themarshallproject.org)\n",
      "        69 points by dredmorbius 1 hour ago  | hide | 18 comments              \n",
      "      \n",
      "                \n",
      "      23.      A new history of the race to decipher DNA (nautil.us)\n",
      "        17 points by dnetesn 3 hours ago  | hide | 2 comments              \n",
      "      \n",
      "                \n",
      "      24.      The Mysterious Case of Mr. X (longreads.com)\n",
      "        4 points by samclemens 1 hour ago  | hide | discuss              \n",
      "      \n",
      "                \n",
      "      25.      Polyhedra Viewer: Visualize relationships between convex regular-faced polyhedra (tessera.li)\n",
      "        110 points by lioeters 10 hours ago  | hide | 11 comments              \n",
      "      \n",
      "                \n",
      "      26.      Scientists have found a way to harden wood to make a knife that rivals steel (cbc.ca)\n",
      "        177 points by curmudgeon22 7 hours ago  | hide | 114 comments              \n",
      "      \n",
      "                \n",
      "      27.      NSA's Key Role in Major Developments in Computer Science [pdf] (defense.gov)\n",
      "        95 points by graderjs 10 hours ago  | hide | 18 comments              \n",
      "      \n",
      "                \n",
      "      28.      Self studying the MIT applied math curriculum (2019) (smallstepcap.com)\n",
      "        191 points by jiggle123 5 hours ago  | hide | 37 comments              \n",
      "      \n",
      "                \n",
      "      29.      A few of the best math explainers from this summer [video] (youtube.com)\n",
      "        59 points by ykonstant 3 hours ago  | hide | 5 comments              \n",
      "      \n",
      "                \n",
      "      30.      230 people living communally on 175 acre eco village [video] (youtube.com)\n",
      "        159 points by jelliclesfarm 14 hours ago  | hide | 157 comments              \n",
      "      \n",
      "            More\n",
      "  \n",
      "\n",
      "Guidelines\n",
      "        | FAQ\n",
      "        | Lists\n",
      "        | API\n",
      "        | Security\n",
      "        | Legal\n",
      "        | Apply to YC\n",
      "        | ContactSearch:\n",
      "          \n",
      "            \n",
      "      \n",
      "\n"
     ]
    }
   ],
   "source": [
    "from bs4 import BeautifulSoup\n",
    "\n",
    "# Remove HTML tags using Beautiful Soup library\n",
    "soup = BeautifulSoup(r.text, \"html5lib\")\n",
    "print(soup.get_text())"
   ]
  },
  {
   "cell_type": "code",
   "execution_count": 7,
   "metadata": {
    "scrolled": true
   },
   "outputs": [
    {
     "data": {
      "text/plain": [
       "<tr class=\"athing\" id=\"28980382\">\n",
       "      <td align=\"right\" class=\"title\" valign=\"top\"><span class=\"rank\">1.</span></td>      <td class=\"votelinks\" valign=\"top\"><center><a href=\"vote?id=28980382&amp;how=up&amp;goto=news\" id=\"up_28980382\"><div class=\"votearrow\" title=\"upvote\"></div></a></center></td><td class=\"title\"><a class=\"titlelink\" href=\"https://citizenlab.ca/2021/10/breaking-news-new-york-times-journalist-ben-hubbard-pegasus/\">NYT journalist hacked with Pegasus after reporting on previous hacking attempts</a><span class=\"sitebit comhead\"> (<a href=\"from?site=citizenlab.ca\"><span class=\"sitestr\">citizenlab.ca</span></a>)</span></td></tr>"
      ]
     },
     "execution_count": 7,
     "metadata": {},
     "output_type": "execute_result"
    }
   ],
   "source": [
    "# Find all articles\n",
    "summaries = soup.find_all(\"tr\", class_=\"athing\")\n",
    "summaries[0]"
   ]
  },
  {
   "cell_type": "code",
   "execution_count": 8,
   "metadata": {},
   "outputs": [
    {
     "data": {
      "text/plain": [
       "'NYT journalist hacked with Pegasus after reporting on previous hacking attempts'"
      ]
     },
     "execution_count": 8,
     "metadata": {},
     "output_type": "execute_result"
    }
   ],
   "source": [
    "# Extract title\n",
    "summaries[0].find(\"a\", class_=\"titlelink\").get_text().strip()"
   ]
  },
  {
   "cell_type": "code",
   "execution_count": 9,
   "metadata": {},
   "outputs": [
    {
     "name": "stdout",
     "output_type": "stream",
     "text": [
      "30 Article summaries found. Sample:\n",
      "NYT journalist hacked with Pegasus after reporting on previous hacking attempts\n"
     ]
    }
   ],
   "source": [
    "# Find all articles, extract titles\n",
    "articles = []\n",
    "summaries = soup.find_all(\"tr\", class_=\"athing\")\n",
    "for summary in summaries:\n",
    "    title = summary.find(\"a\", class_=\"titlelink\").get_text().strip()\n",
    "    articles.append((title))\n",
    "\n",
    "print(len(articles), \"Article summaries found. Sample:\")\n",
    "print(articles[0])"
   ]
  },
  {
   "cell_type": "markdown",
   "metadata": {
    "collapsed": true
   },
   "source": [
    "## Normalization"
   ]
  },
  {
   "cell_type": "markdown",
   "metadata": {},
   "source": [
    "### Case Normalization"
   ]
  },
  {
   "cell_type": "code",
   "execution_count": 10,
   "metadata": {},
   "outputs": [
    {
     "name": "stdout",
     "output_type": "stream",
     "text": [
      "The first time you see The Second Renaissance it may look boring. Look at it at least twice and definitely watch part 2. It will change your view of the matrix. Are the human people the ones who started the war ? Is AI a bad thing ?\n"
     ]
    }
   ],
   "source": [
    "# Sample text\n",
    "text = \"The first time you see The Second Renaissance it may look boring. Look at it at least twice and definitely watch part 2. It will change your view of the matrix. Are the human people the ones who started the war ? Is AI a bad thing ?\"\n",
    "print(text)"
   ]
  },
  {
   "cell_type": "code",
   "execution_count": 11,
   "metadata": {},
   "outputs": [
    {
     "name": "stdout",
     "output_type": "stream",
     "text": [
      "the first time you see the second renaissance it may look boring. look at it at least twice and definitely watch part 2. it will change your view of the matrix. are the human people the ones who started the war ? is ai a bad thing ?\n"
     ]
    }
   ],
   "source": [
    "# Convert to lowercase\n",
    "text = text.lower() \n",
    "print(text)"
   ]
  },
  {
   "cell_type": "markdown",
   "metadata": {},
   "source": [
    "### Punctuation Removal"
   ]
  },
  {
   "cell_type": "code",
   "execution_count": 12,
   "metadata": {},
   "outputs": [
    {
     "name": "stdout",
     "output_type": "stream",
     "text": [
      "the first time you see the second renaissance it may look boring  look at it at least twice and definitely watch part 2  it will change your view of the matrix  are the human people the ones who started the war   is ai a bad thing  \n"
     ]
    }
   ],
   "source": [
    "import re\n",
    "\n",
    "# Remove punctuation characters\n",
    "text = re.sub(r\"[^a-zA-Z0-9]\", \" \", text) \n",
    "print(text)"
   ]
  },
  {
   "cell_type": "markdown",
   "metadata": {},
   "source": [
    "## Tokenization"
   ]
  },
  {
   "cell_type": "code",
   "execution_count": 13,
   "metadata": {},
   "outputs": [
    {
     "name": "stdout",
     "output_type": "stream",
     "text": [
      "['the', 'first', 'time', 'you', 'see', 'the', 'second', 'renaissance', 'it', 'may', 'look', 'boring', 'look', 'at', 'it', 'at', 'least', 'twice', 'and', 'definitely', 'watch', 'part', '2', 'it', 'will', 'change', 'your', 'view', 'of', 'the', 'matrix', 'are', 'the', 'human', 'people', 'the', 'ones', 'who', 'started', 'the', 'war', 'is', 'ai', 'a', 'bad', 'thing']\n"
     ]
    }
   ],
   "source": [
    "# Split text into tokens (words)\n",
    "words = text.split()\n",
    "print(words)"
   ]
  },
  {
   "cell_type": "markdown",
   "metadata": {},
   "source": [
    "### NLTK: Natural Language ToolKit"
   ]
  },
  {
   "cell_type": "code",
   "execution_count": 14,
   "metadata": {},
   "outputs": [],
   "source": [
    "import os\n",
    "import nltk\n",
    "nltk.data.path.append(os.path.join(os.getcwd(), \"nltk_data\"))"
   ]
  },
  {
   "cell_type": "code",
   "execution_count": 15,
   "metadata": {},
   "outputs": [
    {
     "name": "stdout",
     "output_type": "stream",
     "text": [
      "Dr. Smith graduated from the University of Washington. He later started an analytics firm called Lux, which catered to enterprise customers.\n"
     ]
    }
   ],
   "source": [
    "# Another sample text\n",
    "text = \"Dr. Smith graduated from the University of Washington. He later started an analytics firm called Lux, which catered to enterprise customers.\"\n",
    "print(text)"
   ]
  },
  {
   "cell_type": "code",
   "execution_count": 16,
   "metadata": {},
   "outputs": [
    {
     "name": "stdout",
     "output_type": "stream",
     "text": [
      "['Dr.', 'Smith', 'graduated', 'from', 'the', 'University', 'of', 'Washington', '.', 'He', 'later', 'started', 'an', 'analytics', 'firm', 'called', 'Lux', ',', 'which', 'catered', 'to', 'enterprise', 'customers', '.']\n"
     ]
    }
   ],
   "source": [
    "from nltk.tokenize import word_tokenize\n",
    "\n",
    "# Split text into words using NLTK\n",
    "words = word_tokenize(text)\n",
    "print(words)"
   ]
  },
  {
   "cell_type": "code",
   "execution_count": 17,
   "metadata": {},
   "outputs": [
    {
     "name": "stdout",
     "output_type": "stream",
     "text": [
      "['Dr. Smith graduated from the University of Washington.', 'He later started an analytics firm called Lux, which catered to enterprise customers.']\n"
     ]
    }
   ],
   "source": [
    "from nltk.tokenize import sent_tokenize\n",
    "\n",
    "# Split text into sentences\n",
    "sentences = sent_tokenize(text)\n",
    "print(sentences)"
   ]
  },
  {
   "cell_type": "code",
   "execution_count": 18,
   "metadata": {},
   "outputs": [
    {
     "name": "stdout",
     "output_type": "stream",
     "text": [
      "['i', 'me', 'my', 'myself', 'we', 'our', 'ours', 'ourselves', 'you', \"you're\", \"you've\", \"you'll\", \"you'd\", 'your', 'yours', 'yourself', 'yourselves', 'he', 'him', 'his', 'himself', 'she', \"she's\", 'her', 'hers', 'herself', 'it', \"it's\", 'its', 'itself', 'they', 'them', 'their', 'theirs', 'themselves', 'what', 'which', 'who', 'whom', 'this', 'that', \"that'll\", 'these', 'those', 'am', 'is', 'are', 'was', 'were', 'be', 'been', 'being', 'have', 'has', 'had', 'having', 'do', 'does', 'did', 'doing', 'a', 'an', 'the', 'and', 'but', 'if', 'or', 'because', 'as', 'until', 'while', 'of', 'at', 'by', 'for', 'with', 'about', 'against', 'between', 'into', 'through', 'during', 'before', 'after', 'above', 'below', 'to', 'from', 'up', 'down', 'in', 'out', 'on', 'off', 'over', 'under', 'again', 'further', 'then', 'once', 'here', 'there', 'when', 'where', 'why', 'how', 'all', 'any', 'both', 'each', 'few', 'more', 'most', 'other', 'some', 'such', 'no', 'nor', 'not', 'only', 'own', 'same', 'so', 'than', 'too', 'very', 's', 't', 'can', 'will', 'just', 'don', \"don't\", 'should', \"should've\", 'now', 'd', 'll', 'm', 'o', 're', 've', 'y', 'ain', 'aren', \"aren't\", 'couldn', \"couldn't\", 'didn', \"didn't\", 'doesn', \"doesn't\", 'hadn', \"hadn't\", 'hasn', \"hasn't\", 'haven', \"haven't\", 'isn', \"isn't\", 'ma', 'mightn', \"mightn't\", 'mustn', \"mustn't\", 'needn', \"needn't\", 'shan', \"shan't\", 'shouldn', \"shouldn't\", 'wasn', \"wasn't\", 'weren', \"weren't\", 'won', \"won't\", 'wouldn', \"wouldn't\"]\n"
     ]
    }
   ],
   "source": [
    "# List stop words\n",
    "from nltk.corpus import stopwords\n",
    "print(stopwords.words(\"english\"))"
   ]
  },
  {
   "cell_type": "code",
   "execution_count": 19,
   "metadata": {},
   "outputs": [
    {
     "name": "stdout",
     "output_type": "stream",
     "text": [
      "['the', 'first', 'time', 'you', 'see', 'the', 'second', 'renaissance', 'it', 'may', 'look', 'boring', 'look', 'at', 'it', 'at', 'least', 'twice', 'and', 'definitely', 'watch', 'part', '2', 'it', 'will', 'change', 'your', 'view', 'of', 'the', 'matrix', 'are', 'the', 'human', 'people', 'the', 'ones', 'who', 'started', 'the', 'war', 'is', 'ai', 'a', 'bad', 'thing']\n"
     ]
    }
   ],
   "source": [
    "# Reset text\n",
    "text = \"The first time you see The Second Renaissance it may look boring. Look at it at least twice and definitely watch part 2. It will change your view of the matrix. Are the human people the ones who started the war ? Is AI a bad thing ?\"\n",
    "\n",
    "# Normalize it\n",
    "text = re.sub(r\"[^a-zA-Z0-9]\", \" \", text.lower())\n",
    "\n",
    "# Tokenize it\n",
    "words = text.split()\n",
    "print(words)"
   ]
  },
  {
   "cell_type": "code",
   "execution_count": 20,
   "metadata": {},
   "outputs": [
    {
     "name": "stdout",
     "output_type": "stream",
     "text": [
      "['first', 'time', 'see', 'second', 'renaissance', 'may', 'look', 'boring', 'look', 'least', 'twice', 'definitely', 'watch', 'part', '2', 'change', 'view', 'matrix', 'human', 'people', 'ones', 'started', 'war', 'ai', 'bad', 'thing']\n"
     ]
    }
   ],
   "source": [
    "# Remove stop words\n",
    "words = [w for w in words if w not in stopwords.words(\"english\")]\n",
    "print(words)"
   ]
  },
  {
   "cell_type": "markdown",
   "metadata": {},
   "source": [
    "### Sentence Parsing"
   ]
  },
  {
   "cell_type": "code",
   "execution_count": 21,
   "metadata": {},
   "outputs": [
    {
     "name": "stdout",
     "output_type": "stream",
     "text": [
      "(S\n",
      "  (NP I)\n",
      "  (VP\n",
      "    (VP (V shot) (NP (Det an) (N elephant)))\n",
      "    (PP (P in) (NP (Det my) (N pajamas)))))\n",
      "(S\n",
      "  (NP I)\n",
      "  (VP\n",
      "    (V shot)\n",
      "    (NP (Det an) (N elephant) (PP (P in) (NP (Det my) (N pajamas))))))\n"
     ]
    }
   ],
   "source": [
    "import nltk\n",
    "\n",
    "# Define a custom grammar\n",
    "my_grammar = nltk.CFG.fromstring(\"\"\"\n",
    "S -> NP VP\n",
    "PP -> P NP\n",
    "NP -> Det N | Det N PP | 'I'\n",
    "VP -> V NP | VP PP\n",
    "Det -> 'an' | 'my'\n",
    "N -> 'elephant' | 'pajamas'\n",
    "V -> 'shot'\n",
    "P -> 'in'\n",
    "\"\"\")\n",
    "parser = nltk.ChartParser(my_grammar)\n",
    "\n",
    "# Parse a sentence\n",
    "sentence = word_tokenize(\"I shot an elephant in my pajamas\")\n",
    "for tree in parser.parse(sentence):\n",
    "    print(tree)"
   ]
  },
  {
   "cell_type": "markdown",
   "metadata": {},
   "source": [
    "## Stemming & Lemmatization\n",
    "\n",
    "### Stemming"
   ]
  },
  {
   "cell_type": "code",
   "execution_count": 22,
   "metadata": {},
   "outputs": [
    {
     "name": "stdout",
     "output_type": "stream",
     "text": [
      "['first', 'time', 'see', 'second', 'renaiss', 'may', 'look', 'bore', 'look', 'least', 'twice', 'definit', 'watch', 'part', '2', 'chang', 'view', 'matrix', 'human', 'peopl', 'one', 'start', 'war', 'ai', 'bad', 'thing']\n"
     ]
    }
   ],
   "source": [
    "from nltk.stem.porter import PorterStemmer\n",
    "\n",
    "# Reduce words to their stems\n",
    "stemmed = [PorterStemmer().stem(w) for w in words]\n",
    "print(stemmed)"
   ]
  },
  {
   "cell_type": "markdown",
   "metadata": {},
   "source": [
    "### Lemmatization"
   ]
  },
  {
   "cell_type": "code",
   "execution_count": 23,
   "metadata": {},
   "outputs": [
    {
     "name": "stdout",
     "output_type": "stream",
     "text": [
      "['first', 'time', 'see', 'second', 'renaissance', 'may', 'look', 'boring', 'look', 'least', 'twice', 'definitely', 'watch', 'part', '2', 'change', 'view', 'matrix', 'human', 'people', 'one', 'started', 'war', 'ai', 'bad', 'thing']\n"
     ]
    }
   ],
   "source": [
    "from nltk.stem.wordnet import WordNetLemmatizer\n",
    "\n",
    "# Reduce words to their root form\n",
    "lemmed = [WordNetLemmatizer().lemmatize(w) for w in words]\n",
    "print(lemmed)"
   ]
  },
  {
   "cell_type": "code",
   "execution_count": 24,
   "metadata": {},
   "outputs": [
    {
     "name": "stdout",
     "output_type": "stream",
     "text": [
      "['first', 'time', 'see', 'second', 'renaissance', 'may', 'look', 'bore', 'look', 'least', 'twice', 'definitely', 'watch', 'part', '2', 'change', 'view', 'matrix', 'human', 'people', 'one', 'start', 'war', 'ai', 'bad', 'thing']\n"
     ]
    }
   ],
   "source": [
    "# Lemmatize verbs by specifying pos\n",
    "lemmed = [WordNetLemmatizer().lemmatize(w, pos='v') for w in lemmed]\n",
    "print(lemmed)"
   ]
  }
 ],
 "metadata": {
  "kernelspec": {
   "display_name": "Python 3",
   "language": "python",
   "name": "python3"
  },
  "language_info": {
   "codemirror_mode": {
    "name": "ipython",
    "version": 3
   },
   "file_extension": ".py",
   "mimetype": "text/x-python",
   "name": "python",
   "nbconvert_exporter": "python",
   "pygments_lexer": "ipython3",
   "version": "3.6.3"
  }
 },
 "nbformat": 4,
 "nbformat_minor": 2
}
