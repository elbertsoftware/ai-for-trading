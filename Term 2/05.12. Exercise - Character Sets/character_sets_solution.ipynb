{
 "cells": [
  {
   "cell_type": "markdown",
   "metadata": {},
   "source": [
    "# TODO: Find Phone Numbers With Country Codes\n",
    "\n",
    "In the cell below, our `sample_text` consists of a multi-line string that mimics a phone book:\n",
    "\n",
    "```\n",
    "Mr. Brown: +1-555-123-4567\n",
    "Mrs. Smith: +61 455 555 4549\n",
    "Mr. Jackson: +375-655-777-7346\n",
    "Ms. Wilson: +213(555)999-8464\n",
    "```\n",
    "\n",
    "Notice that each phone number has a country calling code. The country calling codes are preceded by the `+` sign and can have anywhere from 1 to 3 numbers. Write a regular expression that can find all these phone numbers. This includes the `+` sign, the country calling code (regardless of the number of digits), and the phone number. As usual, save the regular expression object in a variable called `regex`. Then use the `.finditer()` method to search the `sample_text` string for the given regular expression. Finally, write a loop to print all the `matches` found by the `.finditer()` method.\n",
    "\n",
    "**HINT :** You can use the qualifier `{m,n}` in your regular expression.  This qualifier means there must be at least `m` repetitions, and at most `n` repetitions of the previous regular expression. For example, `a/{1,3}b` will match `a/b`, `a//b`, and `a///b`. It won’t match `ab`, which has no slashes, or `a////b`, which has four slashes."
   ]
  },
  {
   "cell_type": "code",
   "execution_count": 1,
   "metadata": {},
   "outputs": [
    {
     "name": "stdout",
     "output_type": "stream",
     "text": [
      "<_sre.SRE_Match object; span=(12, 27), match='+1-555-123-4567'>\n",
      "<_sre.SRE_Match object; span=(40, 56), match='+61 455 555 4549'>\n",
      "<_sre.SRE_Match object; span=(70, 87), match='+375-655-777-7346'>\n",
      "<_sre.SRE_Match object; span=(100, 117), match='+213(555)999-8464'>\n"
     ]
    }
   ],
   "source": [
    "# Import re module\n",
    "import re\n",
    "\n",
    "# Sample text\n",
    "sample_text = '''\n",
    "Mr. Brown: +1-555-123-4567\n",
    "Mrs. Smith: +61 455 555 4549\n",
    "Mr. Jackson: +375-655-777-7346\n",
    "Ms. Wilson: +213(555)999-8464\n",
    "'''\n",
    "\n",
    "# Create a regular expression object with a regular expression\n",
    "regex = re.compile(r'\\+\\d{1,3}.\\d{3}.\\d{3}.\\d{4}')\n",
    "\n",
    "# Search the sample_text for the regular expression\n",
    "matches = regex.finditer(sample_text)\n",
    "\n",
    "# Print all the matches\n",
    "for match in matches:\n",
    "    print(match)"
   ]
  },
  {
   "cell_type": "code",
   "execution_count": null,
   "metadata": {},
   "outputs": [],
   "source": []
  }
 ],
 "metadata": {
  "kernelspec": {
   "display_name": "Python 3",
   "language": "python",
   "name": "python3"
  },
  "language_info": {
   "codemirror_mode": {
    "name": "ipython",
    "version": 3
   },
   "file_extension": ".py",
   "mimetype": "text/x-python",
   "name": "python",
   "nbconvert_exporter": "python",
   "pygments_lexer": "ipython3",
   "version": "3.6.3"
  }
 },
 "nbformat": 4,
 "nbformat_minor": 2
}
