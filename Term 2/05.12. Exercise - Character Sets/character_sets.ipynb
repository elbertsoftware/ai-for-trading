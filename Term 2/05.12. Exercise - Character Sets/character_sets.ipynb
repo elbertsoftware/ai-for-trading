{
 "cells": [
  {
   "cell_type": "markdown",
   "metadata": {},
   "source": [
    "# Character Sets\n",
    "\n",
    "In this lesson, we will continue to look at metacharacters. In particular, we will learn how to look for phone numbers by employing the following metacharacters:\n",
    "\n",
    "```python\n",
    "{} []\n",
    "```\n",
    "\n",
    "### Finding Phone Numbers\n",
    "\n",
    "In the code below, our `sample_text` consists of a multi-line string that mimics a phone book:\n",
    "\n",
    "```\n",
    "Mr. Brown: 555-123-4567\n",
    "Mrs. Smith: 455 555 4549\n",
    "Mr. Jackson: 655-777-7346\n",
    "Ms. Wilson: (555)999-8464\n",
    "```\n",
    "\n",
    "We can notice that even though all the phone numbers have different digits, they all have the same pattern, namely, 3 digits followed by a single character, followed by 3 more digits, followed by another single character, followed by 4 digits. We will take advantage of this pattern to create a regular expression that can match all these phone numbers. To do this, we will use the special sequence `\\d` and the dot (`.`) in our regular expression, as shown in the code below:"
   ]
  },
  {
   "cell_type": "code",
   "execution_count": 1,
   "metadata": {},
   "outputs": [
    {
     "name": "stdout",
     "output_type": "stream",
     "text": [
      "<_sre.SRE_Match object; span=(12, 24), match='555-123-4567'>\n",
      "<_sre.SRE_Match object; span=(37, 49), match='455 555 4549'>\n",
      "<_sre.SRE_Match object; span=(63, 75), match='655-777-7346'>\n",
      "<_sre.SRE_Match object; span=(89, 101), match='555)999-8464'>\n"
     ]
    }
   ],
   "source": [
    "# Import re module\n",
    "import re\n",
    "\n",
    "# Sample text\n",
    "sample_text = '''\n",
    "Mr. Brown: 555-123-4567\n",
    "Mrs. Smith: 455 555 4549\n",
    "Mr. Jackson: 655-777-7346\n",
    "Ms. Wilson: (555)999-8464\n",
    "'''\n",
    "\n",
    "# Create a regular expression object with a regular expression that can match all the\n",
    "# phone numbers in our sample_text\n",
    "regex = re.compile(r'\\d\\d\\d.\\d\\d\\d.\\d\\d\\d\\d')\n",
    "\n",
    "# Search the sample_text for the regular expression\n",
    "matches = regex.finditer(sample_text)\n",
    "\n",
    "# Print all the matches\n",
    "for match in matches:\n",
    "    print(match)"
   ]
  },
  {
   "cell_type": "markdown",
   "metadata": {},
   "source": [
    "We can see that we managed to find all the phone numbers in our multi-line string even though, they all have different digits and different characters in between the groups of numbers. Notice that by using the dot we were able to match either the dash (`-`), the white space (` `), and the parenthesis `)` separating the groups of numbers. By using the dot we avoid having to create three different regular expressions to match the three possible characters separating the groups of numbers.\n",
    "\n",
    "Now we can write the above regular expression in a more compact form by using the `{ }` metacharacters. The sequence `{m}` specifies that exactly `m` copies of the previous regular expression should be matched. For example, the sequence `\\d{3}` specifies that exactly `3` copies of the `\\d` regular expression should be matched. Therefore, the sequence `\\d{3}` is equivalent to the sequence ` \\d\\d\\d`.\n",
    "\n",
    "Consequently, we can employ the `{}` metacharacters to write the previous code in a more compact form, as shown below:"
   ]
  },
  {
   "cell_type": "code",
   "execution_count": 2,
   "metadata": {},
   "outputs": [
    {
     "name": "stdout",
     "output_type": "stream",
     "text": [
      "<_sre.SRE_Match object; span=(12, 24), match='555-123-4567'>\n",
      "<_sre.SRE_Match object; span=(37, 49), match='455 555 4549'>\n",
      "<_sre.SRE_Match object; span=(63, 75), match='655-777-7346'>\n",
      "<_sre.SRE_Match object; span=(89, 101), match='555)999-8464'>\n"
     ]
    }
   ],
   "source": [
    "# Import re module\n",
    "import re\n",
    "\n",
    "# Sample text\n",
    "sample_text = '''\n",
    "Mr. Brown: 555-123-4567\n",
    "Mrs. Smith: 455 555 4549\n",
    "Mr. Jackson: 655-777-7346\n",
    "Ms. Wilson: (555)999-8464\n",
    "'''\n",
    "\n",
    "# Create a regular expression object with a regular expression that can match all the\n",
    "# phone numbers in our sample_text using the {} metacharacters\n",
    "regex = re.compile(r'\\d{3}.\\d{3}.\\d{4}')\n",
    "\n",
    "# Search the sample_text for the regular expression\n",
    "matches = regex.finditer(sample_text)\n",
    "\n",
    "# Print all the matches\n",
    "for match in matches:\n",
    "    print(match)"
   ]
  },
  {
   "cell_type": "markdown",
   "metadata": {},
   "source": [
    "As we can see, we get the same result as before."
   ]
  },
  {
   "cell_type": "markdown",
   "metadata": {},
   "source": [
    "### Finding Phone Numbers With Specific Separators\n",
    "\n",
    "Now let's suppose we only wanted to find phone numbers in which the groups of digits were separated by either a dash (`-`) or a white space (` `). In this case we can use what is known as a **Character Set**. Character sets are specified using the `[]` metacharacters and are used to indicate a set of characters that you wish to match. Let’s see an example.\n",
    "\n",
    "In the code below, we employ the character set `[-  ]` (notice that there is a whitespace after the dash) in our regular expression to only match phone numbers whose groups of numbers are separated by either a dash (`-`) or a white space (` `):"
   ]
  },
  {
   "cell_type": "code",
   "execution_count": 3,
   "metadata": {},
   "outputs": [
    {
     "name": "stdout",
     "output_type": "stream",
     "text": [
      "<_sre.SRE_Match object; span=(12, 24), match='555-123-4567'>\n",
      "<_sre.SRE_Match object; span=(37, 49), match='455 555 4549'>\n",
      "<_sre.SRE_Match object; span=(63, 75), match='655-777-7346'>\n"
     ]
    }
   ],
   "source": [
    "# Import re module\n",
    "import re\n",
    "\n",
    "# Sample text\n",
    "sample_text = '''\n",
    "Mr. Brown: 555-123-4567\n",
    "Mrs. Smith: 455 555 4549\n",
    "Mr. Jackson: 655-777-7346\n",
    "Ms. Wilson: (555)999-8464\n",
    "'''\n",
    "\n",
    "# Create a regular expression object with a regular expression that can match all the\n",
    "# phone numbers that have either a dash or a white space as a separator\n",
    "regex = re.compile(r'\\d{3}[- ]\\d{3}[- ]\\d{4}')\n",
    "\n",
    "# Search the sample_text for the regular expression\n",
    "matches = regex.finditer(sample_text)\n",
    "\n",
    "# Print all the matches\n",
    "for match in matches:\n",
    "    print(match)"
   ]
  },
  {
   "cell_type": "markdown",
   "metadata": {},
   "source": [
    "We can clearly see that now, we only match the phone numbers that have either a dash (`-`) or a white space (` `) as a separator. Notice, the last phone number is not matched because even though the last group of numbers is separated by a dash (`-`), the first group of numbers is separated by a parenthesis `)` which is not in our character set.\n",
    "\n",
    "It is important to note that even though a character set can have many characters, it only matches one of those characters at a time. For example, suppose I added a white space after the dash in Mr. Brown's phone number, as shown below:"
   ]
  },
  {
   "cell_type": "code",
   "execution_count": 4,
   "metadata": {},
   "outputs": [],
   "source": [
    "# Import re module\n",
    "import re\n",
    "\n",
    "# Sample text\n",
    "sample_text = '''\n",
    "Mr. Brown: 555- 123- 4567\n",
    "'''\n",
    "\n",
    "# Create a regular expression object with a regular expression that can match all the\n",
    "# phone numbers that have either a dash or a white space as a separator\n",
    "regex = re.compile(r'\\d{3}[- ]\\d{3}[- ]\\d{4}')\n",
    "\n",
    "# Search the sample_text for the regular expression\n",
    "matches = regex.finditer(sample_text)\n",
    "\n",
    "# Print all the matches\n",
    "for match in matches:\n",
    "    print(match)"
   ]
  },
  {
   "cell_type": "markdown",
   "metadata": {},
   "source": [
    "We can see that now, we get no matches. This is because the character set `[-  ]`, used in our regular expression, is only matching one of those characters at a time.  In other words, in order to get a match there must be either a dash **or** a white space separating the groups of numbers but **not** both."
   ]
  },
  {
   "cell_type": "markdown",
   "metadata": {},
   "source": [
    "### Finding Phone Numbers With Specific Separators and Area Codes\n",
    "\n",
    "Let's see another example of a character set. Now, let's suppose we only wanted to find phone numbers in which the groups of digits were separated by either a dash or a white space, and that have area code `455` or `655`. Since all the area codes in our `sample_text` end in 55:\n",
    "\n",
    "```\n",
    "Mr. Brown: 555-123-4567\n",
    "Mrs. Smith: 455 555 4549\n",
    "Mr. Jackson: 655-777-7346\n",
    "Ms. Wilson: (555)999-8464\n",
    "```\n",
    "\n",
    "Then, in order to find all the phone numbers that have area code `455` or `655`, we only need to indicate that the first digit in the area code must be either a `4` or a `6`. \n",
    "\n",
    "To do this, we can use the character set `[46]` in our regular expression to indicate that the first number should be either a `4` or a `6`, as shown in the code below:"
   ]
  },
  {
   "cell_type": "code",
   "execution_count": 5,
   "metadata": {},
   "outputs": [
    {
     "name": "stdout",
     "output_type": "stream",
     "text": [
      "<_sre.SRE_Match object; span=(37, 49), match='455 555 4549'>\n",
      "<_sre.SRE_Match object; span=(63, 75), match='655-777-7346'>\n"
     ]
    }
   ],
   "source": [
    "# Import re module\n",
    "import re\n",
    "\n",
    "# Sample text\n",
    "sample_text = '''\n",
    "Mr. Brown: 555-123-4567\n",
    "Mrs. Smith: 455 555 4549\n",
    "Mr. Jackson: 655-777-7346\n",
    "Ms. Wilson: (555)999-8464\n",
    "'''\n",
    "\n",
    "# Create a regular expression object with a regular expression that can match all the\n",
    "# phone numbers that have either a dash or a white space as a separator and have area\n",
    "# code 455 or 655\n",
    "regex = re.compile(r'[46]55[- ]\\d{3}[- ]\\d{4}')\n",
    "\n",
    "# Search the sample_text for the regular expression\n",
    "matches = regex.finditer(sample_text)\n",
    "\n",
    "# Print all the matches\n",
    "for match in matches:\n",
    "    print(match)"
   ]
  },
  {
   "cell_type": "markdown",
   "metadata": {},
   "source": [
    "We can see that we only get the two phone numbers that have area code `455` and `655`; and that have either a dash or a white space as a separator."
   ]
  },
  {
   "cell_type": "markdown",
   "metadata": {},
   "source": [
    "### Finding Phone Numbers With Specific Last Digits\n",
    "\n",
    "Now let's suppose we wanted to look for phone numbers that end on the numbers `6`, `7`, `8`, or `9`. In this case, we could use the character set `[6789]`. However, there is a more compact form of doing this. **Within** a character set, when a dash (`-`) is placed **between** digits or letters, it is used to specify a range. For example, the character set `[6-9]` is equivalent to the character set `[6789]` and the character set `[a-f]` is equivalent to the character set `[abcdef]`. It is important to note, that when a dash is placed at the **beginning** of a character set, as we did in the previous example, the dash is taken **literally**. Let’s see how this works.\n",
    "\n",
    "In the code below, we will use the character set `[6-9]` in our regular expression to find all the phone numbers that end on the numbers `6`, `7`, `8`, or `9`:"
   ]
  },
  {
   "cell_type": "code",
   "execution_count": 6,
   "metadata": {},
   "outputs": [
    {
     "name": "stdout",
     "output_type": "stream",
     "text": [
      "<_sre.SRE_Match object; span=(12, 24), match='555-123-4567'>\n",
      "<_sre.SRE_Match object; span=(37, 49), match='455 555 4549'>\n",
      "<_sre.SRE_Match object; span=(63, 75), match='655-777-7346'>\n"
     ]
    }
   ],
   "source": [
    "# Import re module\n",
    "import re\n",
    "\n",
    "# Sample text\n",
    "sample_text = '''\n",
    "Mr. Brown: 555-123-4567\n",
    "Mrs. Smith: 455 555 4549\n",
    "Mr. Jackson: 655-777-7346\n",
    "Ms. Wilson: (555)999-8464\n",
    "'''\n",
    "\n",
    "# Create a regular expression object with a regular expression that can match all the\n",
    "# phone numbers that end on the numbers 6, 7, 8, or 9.\n",
    "regex = re.compile(r'\\d{3}.\\d{3}.\\d{3}[6-9]')\n",
    "\n",
    "# Search the sample_text for the regular expression\n",
    "matches = regex.finditer(sample_text)\n",
    "\n",
    "# Print all the matches\n",
    "for match in matches:\n",
    "    print(match)"
   ]
  },
  {
   "cell_type": "markdown",
   "metadata": {},
   "source": [
    "As we can see, we get all the phone numbers that end on the numbers `6`, `7`, `8`, or `9`. Notice, that the last phone number is not matched because its last digit is a `4`.\n",
    "\n",
    "Now let's suppose we wanted to find the phone numbers that **do not** end on the numbers `6`, `7`, `8`, or `9`. In this case we could use the character set `[1-5]`. However, we could also use the regular expression `[^6-9]` (notice the caret (`^`) at the beginning). We already learned that **outside** of a character set, the caret matches a sequence of characters when they are located at the beginning of a string. However, when the caret (`^`) appears at the **beginning** of a character set it **negates** the set. This means it matches everything that is **not** in that character set. For example, the regular expression `[^6-9]` will match any character that is **not** a `6`, `7`, `8`, or `9`. Similarly, the regular expression `[^a-zA-Z] `will match any character that is **not** a lowercase or uppercase letter. Let’s see how this works.\n",
    "\n",
    "In the code below, we will use the character set `[^6-9]` in our regular expression to find all the phone numbers that **do not** end on the numbers `6`, `7`, `8`, or `9`:"
   ]
  },
  {
   "cell_type": "code",
   "execution_count": 7,
   "metadata": {},
   "outputs": [
    {
     "name": "stdout",
     "output_type": "stream",
     "text": [
      "<_sre.SRE_Match object; span=(89, 101), match='555)999-8464'>\n"
     ]
    }
   ],
   "source": [
    "# Import re module\n",
    "import re\n",
    "\n",
    "# Sample text\n",
    "sample_text = '''\n",
    "Mr. Brown: 555-123-4567\n",
    "Mrs. Smith: 455 555 4549\n",
    "Mr. Jackson: 655-777-7346\n",
    "Ms. Wilson: (555)999-8464\n",
    "'''\n",
    "\n",
    "# Create a regular expression object with a regular expression that can match all the\n",
    "# phone numbers that do not end on the numbers 6, 7, 8, or 9.\n",
    "regex = re.compile(r'\\d{3}.\\d{3}.\\d{3}[^6-9]')\n",
    "\n",
    "# Search the sample_text for the regular expression\n",
    "matches = regex.finditer(sample_text)\n",
    "\n",
    "# Print all the matches\n",
    "for match in matches:\n",
    "    print(match)"
   ]
  },
  {
   "cell_type": "markdown",
   "metadata": {},
   "source": [
    "As we can see, we only get one match since there is only one phone number that doesn't end with the numbers `6`, `7`, `8`, or `9`."
   ]
  },
  {
   "cell_type": "markdown",
   "metadata": {},
   "source": [
    "# TODO: Find Phone Numbers With Country Codes\n",
    "\n",
    "In the cell below, our `sample_text` consists of a multi-line string that mimics a phone book:\n",
    "\n",
    "```\n",
    "Mr. Brown: +1-555-123-4567\n",
    "Mrs. Smith: +61 455 555 4549\n",
    "Mr. Jackson: +375-655-777-7346\n",
    "Ms. Wilson: +213(555)999-8464\n",
    "```\n",
    "\n",
    "Notice that each phone number has a country calling code. The country calling codes are preceded by the `+` sign and can have anywhere from 1 to 3 numbers. Write a regular expression that can find all these phone numbers. This includes the `+` sign, the country calling code (regardless of the number of digits), and the phone number. As usual, save the regular expression object in a variable called `regex`. Then use the `.finditer()` method to search the `sample_text` string for the given regular expression. Finally, write a loop to print all the `matches` found by the `.finditer()` method.\n",
    "\n",
    "**HINT :** You can use the qualifier `{m,n}` in your regular expression.  This qualifier means there must be at least `m` repetitions, and at most `n` repetitions of the previous regular expression. For example, `a/{1,3}b` will match `a/b`, `a//b`, and `a///b`. It won’t match `ab`, which has no slashes, or `a////b`, which has four slashes."
   ]
  },
  {
   "cell_type": "code",
   "execution_count": null,
   "metadata": {},
   "outputs": [],
   "source": [
    "# Import re module\n",
    "\n",
    "\n",
    "# Sample text\n",
    "sample_text = '''\n",
    "Mr. Brown: +1-555-123-4567\n",
    "Mrs. Smith: +61 455 555 4549\n",
    "Mr. Jackson: +375-655-777-7346\n",
    "Ms. Wilson: +213(555)999-8464\n",
    "'''\n",
    "\n",
    "# Create a regular expression object with a regular expression\n",
    "regex =\n",
    "\n",
    "# Search the sample_text for the regular expression\n",
    "matches = \n",
    "\n",
    "# Print all the matches\n"
   ]
  },
  {
   "cell_type": "markdown",
   "metadata": {},
   "source": [
    "# Solution\n",
    "\n",
    "[Solution notebook](character_sets_solution.ipynb)"
   ]
  },
  {
   "cell_type": "code",
   "execution_count": null,
   "metadata": {},
   "outputs": [],
   "source": []
  }
 ],
 "metadata": {
  "kernelspec": {
   "display_name": "Python 3",
   "language": "python",
   "name": "python3"
  },
  "language_info": {
   "codemirror_mode": {
    "name": "ipython",
    "version": 3
   },
   "file_extension": ".py",
   "mimetype": "text/x-python",
   "name": "python",
   "nbconvert_exporter": "python",
   "pygments_lexer": "ipython3",
   "version": "3.6.3"
  }
 },
 "nbformat": 4,
 "nbformat_minor": 2
}
