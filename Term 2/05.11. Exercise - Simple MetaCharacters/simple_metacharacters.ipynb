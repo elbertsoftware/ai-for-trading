{
 "cells": [
  {
   "cell_type": "markdown",
   "metadata": {},
   "source": [
    "# Simple MetaCharacters\n",
    "\n",
    "As we indicated in a previous lesson, regular expressions use metacharacters to give special instructions. Here again is a complete list of all the metacharacters used in regular expressions:\n",
    "\n",
    "```python\n",
    ". ^ $ * + ? { } [ ] \\ | ( )\n",
    "```\n",
    "We already learned how to use one of these metacharacters, the backslash (`\\`), to create special sequences. In the following lessons we will learn how to use the remaining metacharacters to create more complicated regular expressions. \n",
    "\n",
    "In this notebook, we will take a look at the following metacharacters:\n",
    "\n",
    "```python\n",
    ". ^ $\n",
    "```\n",
    "\n",
    "Let’s start by looking at the dot (`.`) metacharacter."
   ]
  },
  {
   "cell_type": "markdown",
   "metadata": {},
   "source": [
    "### The Dot (`.`)\n",
    "\n",
    "As we saw in a previous lesson, the dot (`.`) matches any character except for newline (`\\n`) characters. In the code below, we will use `.` as our regular expression to find all the characters in our multi-line `sample_text` string:"
   ]
  },
  {
   "cell_type": "code",
   "execution_count": 1,
   "metadata": {},
   "outputs": [
    {
     "name": "stdout",
     "output_type": "stream",
     "text": [
      "<_sre.SRE_Match object; span=(1, 2), match='\\t'>\n",
      "<_sre.SRE_Match object; span=(2, 3), match='A'>\n",
      "<_sre.SRE_Match object; span=(3, 4), match='l'>\n",
      "<_sre.SRE_Match object; span=(4, 5), match='i'>\n",
      "<_sre.SRE_Match object; span=(5, 6), match='c'>\n",
      "<_sre.SRE_Match object; span=(6, 7), match='e'>\n",
      "<_sre.SRE_Match object; span=(7, 8), match=' '>\n",
      "<_sre.SRE_Match object; span=(8, 9), match='l'>\n",
      "<_sre.SRE_Match object; span=(9, 10), match='i'>\n",
      "<_sre.SRE_Match object; span=(10, 11), match='v'>\n",
      "<_sre.SRE_Match object; span=(11, 12), match='e'>\n",
      "<_sre.SRE_Match object; span=(12, 13), match='s'>\n",
      "<_sre.SRE_Match object; span=(13, 14), match=' '>\n",
      "<_sre.SRE_Match object; span=(14, 15), match='i'>\n",
      "<_sre.SRE_Match object; span=(15, 16), match='n'>\n",
      "<_sre.SRE_Match object; span=(16, 17), match=':'>\n",
      "<_sre.SRE_Match object; span=(17, 18), match='\\x0c'>\n",
      "<_sre.SRE_Match object; span=(19, 20), match='1'>\n",
      "<_sre.SRE_Match object; span=(20, 21), match='2'>\n",
      "<_sre.SRE_Match object; span=(21, 22), match='3'>\n",
      "<_sre.SRE_Match object; span=(22, 23), match='0'>\n",
      "<_sre.SRE_Match object; span=(23, 24), match=' '>\n",
      "<_sre.SRE_Match object; span=(24, 25), match='F'>\n",
      "<_sre.SRE_Match object; span=(25, 26), match='i'>\n",
      "<_sre.SRE_Match object; span=(26, 27), match='r'>\n",
      "<_sre.SRE_Match object; span=(27, 28), match='s'>\n",
      "<_sre.SRE_Match object; span=(28, 29), match='t'>\n",
      "<_sre.SRE_Match object; span=(29, 30), match=' '>\n",
      "<_sre.SRE_Match object; span=(30, 31), match='S'>\n",
      "<_sre.SRE_Match object; span=(31, 32), match='t'>\n",
      "<_sre.SRE_Match object; span=(32, 33), match='.'>\n",
      "<_sre.SRE_Match object; span=(33, 34), match='\\r'>\n",
      "<_sre.SRE_Match object; span=(35, 36), match='O'>\n",
      "<_sre.SRE_Match object; span=(36, 37), match='c'>\n",
      "<_sre.SRE_Match object; span=(37, 38), match='e'>\n",
      "<_sre.SRE_Match object; span=(38, 39), match='a'>\n",
      "<_sre.SRE_Match object; span=(39, 40), match='n'>\n",
      "<_sre.SRE_Match object; span=(40, 41), match=' '>\n",
      "<_sre.SRE_Match object; span=(41, 42), match='C'>\n",
      "<_sre.SRE_Match object; span=(42, 43), match='i'>\n",
      "<_sre.SRE_Match object; span=(43, 44), match='t'>\n",
      "<_sre.SRE_Match object; span=(44, 45), match='y'>\n",
      "<_sre.SRE_Match object; span=(45, 46), match=','>\n",
      "<_sre.SRE_Match object; span=(46, 47), match=' '>\n",
      "<_sre.SRE_Match object; span=(47, 48), match='M'>\n",
      "<_sre.SRE_Match object; span=(48, 49), match='D'>\n",
      "<_sre.SRE_Match object; span=(49, 50), match=' '>\n",
      "<_sre.SRE_Match object; span=(50, 51), match='1'>\n",
      "<_sre.SRE_Match object; span=(51, 52), match='5'>\n",
      "<_sre.SRE_Match object; span=(52, 53), match='6'>\n",
      "<_sre.SRE_Match object; span=(53, 54), match='7'>\n",
      "<_sre.SRE_Match object; span=(54, 55), match='8'>\n",
      "<_sre.SRE_Match object; span=(55, 56), match='9'>\n",
      "<_sre.SRE_Match object; span=(56, 57), match='.'>\n",
      "<_sre.SRE_Match object; span=(57, 58), match='\\x0b'>\n"
     ]
    }
   ],
   "source": [
    "# Import re module\n",
    "import re\n",
    "\n",
    "# Sample text\n",
    "sample_text = '''\n",
    "\\tAlice lives in:\\f\n",
    "1230 First St.\\r\n",
    "Ocean City, MD 156789.\\v\n",
    "'''\n",
    "\n",
    "# Create a regular expression object with the regular expression '.'\n",
    "regex = re.compile(r'.')\n",
    "\n",
    "# Search the sample_text for the regular expression\n",
    "matches = regex.finditer(sample_text)\n",
    "\n",
    "# Print all the matches\n",
    "for match in matches:\n",
    "    print(match)"
   ]
  },
  {
   "cell_type": "markdown",
   "metadata": {},
   "source": [
    "As we can see, we were able to match all the characters in our `sample_text` string, except for newline characters."
   ]
  },
  {
   "cell_type": "markdown",
   "metadata": {},
   "source": [
    "### The Caret (`^`)\n",
    "\n",
    "The caret (`^`) is used to match a sequence of characters when they appear at the beginning of a string. Let's take a look at an example.\n",
    "\n",
    "In the code below, our `sample_text` string has the word `this` written twice:\n",
    "\n",
    "```\n",
    "this watch belongs in this box.\n",
    "```\n",
    "\n",
    "As we can see, the first instance of the word `this` occurs at the beginning of the string; while the second instance of the word `this` occurs towards the end of the string.\n",
    "\n",
    "If we use `this` as our regular expression, we will match both instances of the word as shown in the code below:"
   ]
  },
  {
   "cell_type": "code",
   "execution_count": 2,
   "metadata": {},
   "outputs": [
    {
     "name": "stdout",
     "output_type": "stream",
     "text": [
      "<_sre.SRE_Match object; span=(0, 4), match='this'>\n",
      "<_sre.SRE_Match object; span=(22, 26), match='this'>\n"
     ]
    }
   ],
   "source": [
    "# Import re module\n",
    "import re\n",
    "\n",
    "# Sample text\n",
    "sample_text = 'this watch belongs in this box.'\n",
    "\n",
    "# Create a regular expression object with the regular expression 'this'\n",
    "regex = re.compile(r'this')\n",
    "\n",
    "# Search the sample_text for the regular expression\n",
    "matches = regex.finditer(sample_text)\n",
    "\n",
    "# Print all the matches\n",
    "for match in matches:\n",
    "    print(match)"
   ]
  },
  {
   "cell_type": "markdown",
   "metadata": {},
   "source": [
    "We can clearly see that we get two matches that correspond to both instances of the word `this` in our `sample_text` string.\n",
    "\n",
    "Now, let's use the caret to only find the word `this` that appears at the beginning of the string. We can do this by adding the caret (`^`) before the word `this` in our regular expression as shown below:"
   ]
  },
  {
   "cell_type": "code",
   "execution_count": 3,
   "metadata": {},
   "outputs": [
    {
     "name": "stdout",
     "output_type": "stream",
     "text": [
      "<_sre.SRE_Match object; span=(0, 4), match='this'>\n"
     ]
    }
   ],
   "source": [
    "# Import re module\n",
    "import re\n",
    "\n",
    "# Sample text\n",
    "sample_text = 'this watch belongs in this box.'\n",
    "\n",
    "# Create a regular expression object with the regular expression '^this'\n",
    "regex = re.compile(r'^this')\n",
    "\n",
    "# Search the sample_text for the regular expression\n",
    "matches = regex.finditer(sample_text)\n",
    "\n",
    "# Print all the matches\n",
    "for match in matches:\n",
    "    print(match)"
   ]
  },
  {
   "cell_type": "markdown",
   "metadata": {},
   "source": [
    "We can see that now, we only get one match, corresponding to the word `this` that appears at the beginning of the string. It didn't match the second instance of word `this` because it wasn't at the beginning of our `sample_text` string."
   ]
  },
  {
   "cell_type": "markdown",
   "metadata": {},
   "source": [
    "### The Dollar Sign (`$`)\n",
    "\n",
    "The dollar sign (`$`) is used to match a sequence of characters when they appear at the end of a string. Let's take a look at an example.\n",
    "\n",
    "In the code below, our `sample_text` string has the word `watch` written twice:\n",
    "\n",
    "```\n",
    "this watch is better than this watch\n",
    "```\n",
    "\n",
    "As we can see, the first instance of the word `watch` occurs towards the beginning of the string; while the second instance of the word `watch` occurs at the end of the string.\n",
    "\n",
    "If we use `watch` as our regular expression, we will match both instances of the word as shown in the code below:"
   ]
  },
  {
   "cell_type": "code",
   "execution_count": 4,
   "metadata": {},
   "outputs": [
    {
     "name": "stdout",
     "output_type": "stream",
     "text": [
      "<_sre.SRE_Match object; span=(5, 10), match='watch'>\n",
      "<_sre.SRE_Match object; span=(31, 36), match='watch'>\n"
     ]
    }
   ],
   "source": [
    "# Import re module\n",
    "import re\n",
    "\n",
    "# Sample text\n",
    "sample_text = 'this watch is better than this watch'\n",
    "\n",
    "# Create a regular expression object with the regular expression 'watch'\n",
    "regex = re.compile(r'watch')\n",
    "\n",
    "# Search the sample_text for the regular expression\n",
    "matches = regex.finditer(sample_text)\n",
    "\n",
    "# Print all the matches\n",
    "for match in matches:\n",
    "    print(match)"
   ]
  },
  {
   "cell_type": "markdown",
   "metadata": {},
   "source": [
    "We can clearly see that we get two matches that correspond to both instances of the word `watch` in our `sample_text` string.\n",
    "\n",
    "Now, let's use the dollar sign to only find the word `watch` that appears at the end of the string. We can do this by adding the dollar sign (`$`) after the word `watch` in our regular expression as shown below:"
   ]
  },
  {
   "cell_type": "code",
   "execution_count": 5,
   "metadata": {},
   "outputs": [
    {
     "name": "stdout",
     "output_type": "stream",
     "text": [
      "<_sre.SRE_Match object; span=(31, 36), match='watch'>\n"
     ]
    }
   ],
   "source": [
    "# Import re module\n",
    "import re\n",
    "\n",
    "# Sample text\n",
    "sample_text = 'this watch is better than this watch'\n",
    "\n",
    "# Create a regular expression object with the regular expression 'watch$'\n",
    "regex = re.compile(r'watch$')\n",
    "\n",
    "# Search the sample_text for the regular expression\n",
    "matches = regex.finditer(sample_text)\n",
    "\n",
    "# Print all the matches\n",
    "for match in matches:\n",
    "    print(match)"
   ]
  },
  {
   "cell_type": "markdown",
   "metadata": {},
   "source": [
    "We can see that now, we only get one match, corresponding to the word `watch` that appears at the end of the string. It didn't match the first instance of word `watch` because it wasn't at the end of our `sample_text` string."
   ]
  },
  {
   "cell_type": "code",
   "execution_count": null,
   "metadata": {},
   "outputs": [],
   "source": []
  }
 ],
 "metadata": {
  "kernelspec": {
   "display_name": "Python 3",
   "language": "python",
   "name": "python3"
  },
  "language_info": {
   "codemirror_mode": {
    "name": "ipython",
    "version": 3
   },
   "file_extension": ".py",
   "mimetype": "text/x-python",
   "name": "python",
   "nbconvert_exporter": "python",
   "pygments_lexer": "ipython3",
   "version": "3.6.3"
  }
 },
 "nbformat": 4,
 "nbformat_minor": 2
}
