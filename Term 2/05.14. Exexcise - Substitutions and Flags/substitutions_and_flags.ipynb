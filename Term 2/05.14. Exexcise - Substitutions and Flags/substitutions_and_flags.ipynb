{
 "cells": [
  {
   "cell_type": "markdown",
   "metadata": {},
   "source": [
    "# Substitutions\n",
    "\n",
    "As we mentioned at the beginning of this lesson, the `re` module also has functions that allow us to modify strings. Regex objects have the `.sub()` method that allows us to replace patterns within a string. Let' see an example.\n",
    "\n",
    "In the code below we have a multi-line string that contains two instances of the ampersand character, `&`. Let's use the `.sub` method to replace these ampersands with the word `and`. First we will create a regular expression that matches all the `&` characters in our string. Then we will use `regex.sub(r'and', sample_text)` to replace every match of the `regex` expression in the `sample_text` with the raw string `and`. Let's see this in action:"
   ]
  },
  {
   "cell_type": "code",
   "execution_count": 1,
   "metadata": {},
   "outputs": [
    {
     "name": "stdout",
     "output_type": "stream",
     "text": [
      "Original text: \n",
      "Ben & Jerry\n",
      "Jack & Jill\n",
      "\n",
      "Modified text: \n",
      "Ben and Jerry\n",
      "Jack and Jill\n",
      "\n"
     ]
    }
   ],
   "source": [
    "# Import re module\n",
    "import re\n",
    "\n",
    "# Sample text\n",
    "sample_text = '''\n",
    "Ben & Jerry\n",
    "Jack & Jill\n",
    "'''\n",
    "\n",
    "# Create a regular expression object with the regular expression '&'\n",
    "regex = re.compile(r'&')\n",
    "\n",
    "# Substitute all & in the sample_text with 'and'\n",
    "new_text = regex.sub(r'and', sample_text)\n",
    "\n",
    "# Print Original and Modified texts\n",
    "print('Original text:', sample_text)\n",
    "print('Modified text:', new_text)"
   ]
  },
  {
   "cell_type": "markdown",
   "metadata": {},
   "source": [
    "We can see that we have successfully replaced all the `&` characters with the word `and`. Being able to make this kind of substitutions can be really useful and save you a lot of time if you are working with large documents that you need to reformat."
   ]
  },
  {
   "cell_type": "markdown",
   "metadata": {},
   "source": [
    "# Substitutions with Groups\n",
    "\n",
    "We can do more sophisticated substitutions by using groups. Let's see an example. In the code below we have a multi-line string that contains the names of 4 people. As we can see, some people have middle names but other don't. Let's use the `.sub()` method to replace all names in the string with just the first and last name. For example, the name `John David Smith` should be replaced by `John Smith` and `Alice Jackson` should stay the same.\n",
    "\n",
    "The first step is to create a regular expression that matches all the names in the list. Now, keeping in mind that we need to be able to make replacements later we will use groups to be able to distinguish between the first name, the middle name, and the last name. Since all names have a first name then we can use this group `([a-zA-z]+)` to match all the first names. Now, not all names have middle names, so having a middle name is optional. Since the first and middle name are separated by a whitespace we also need to indicate that the whitespace is also optional. So, to do indicate that the whitespace and middle name are optional we will include the `?` metacharacter after the whitespace and second group, `[ ]?([a-zA-z]+)?`. After the first or middle name we have a whitespace that we can match with `\\[  \\]`. Notice that in this case we didn't use the sequence `\\\\s` since this will match newlines as well and we don't what match those. Finally we make a third group to match the last name. Since all names have last names, we don't need to use the `?` metacharacter. Putting all together we get:"
   ]
  },
  {
   "cell_type": "code",
   "execution_count": 2,
   "metadata": {},
   "outputs": [
    {
     "name": "stdout",
     "output_type": "stream",
     "text": [
      "<_sre.SRE_Match object; span=(1, 17), match='John David Smith'>\n",
      "<_sre.SRE_Match object; span=(18, 31), match='Alice Jackson'>\n",
      "<_sre.SRE_Match object; span=(32, 53), match='Mary Elizabeth Wilson'>\n",
      "<_sre.SRE_Match object; span=(54, 64), match='Mike Brown'>\n"
     ]
    }
   ],
   "source": [
    "# Import re module\n",
    "import re\n",
    "\n",
    "# Sample text\n",
    "sample_text = '''\n",
    "John David Smith\n",
    "Alice Jackson\n",
    "Mary Elizabeth Wilson\n",
    "Mike Brown\n",
    "'''\n",
    "\n",
    "# Create a regular expression object with a regular expression that can find all\n",
    "# the names in the sample_text and group the first, middle, and\n",
    "# last names separately\n",
    "regex = re.compile(r'([a-zA-z]+)[ ]?([a-zA-z]+)?[ ]([a-zA-z]+)')\n",
    "\n",
    "# Search the sample_text for the regular expression\n",
    "matches = regex.finditer(sample_text)\n",
    "\n",
    "# Print all the matches\n",
    "for match in matches:\n",
    "    print(match)"
   ]
  },
  {
   "cell_type": "markdown",
   "metadata": {},
   "source": [
    "We can clearly see that we matched all the four names in our list. Now, the cool thing about using groups is that we can reference them individually from the Match Objects using the `.group()` method. The `.group(N)` method selects the `N`th group in the match. Therefore, in our particular case, for each match, `.group(1)` will select the first name, `.group(2)` will select the middle name, and `.group(3)` will select the last name. Let's see how this works in the code below:"
   ]
  },
  {
   "cell_type": "code",
   "execution_count": 3,
   "metadata": {},
   "outputs": [
    {
     "name": "stdout",
     "output_type": "stream",
     "text": [
      "\n",
      "First Name: John\n",
      "Middle Name: David\n",
      "Last Name: Smith\n",
      "\n",
      "First Name: Alice\n",
      "Middle Name: None\n",
      "Last Name: Jackson\n",
      "\n",
      "First Name: Mary\n",
      "Middle Name: Elizabeth\n",
      "Last Name: Wilson\n",
      "\n",
      "First Name: Mike\n",
      "Middle Name: None\n",
      "Last Name: Brown\n"
     ]
    }
   ],
   "source": [
    "# Import re module\n",
    "import re\n",
    "\n",
    "# Sample text\n",
    "sample_text = '''\n",
    "John David Smith\n",
    "Alice Jackson\n",
    "Mary Elizabeth Wilson\n",
    "Mike Brown\n",
    "'''\n",
    "\n",
    "# Create a regular expression object with a regular expression that can find all\n",
    "# the names in the sample_text and group the first, middle, and\n",
    "# last names separately\n",
    "regex = re.compile(r'([a-zA-z]+)[ ]?([a-zA-z]+)?[ ]([a-zA-z]+)')\n",
    "\n",
    "# Search the sample_text for the regular expression\n",
    "matches = regex.finditer(sample_text)\n",
    "\n",
    "# For each match print the first, middle, and last name separately\n",
    "for match in matches:\n",
    "    print('\\nFirst Name: '+ match.group(1))\n",
    "    \n",
    "    if match.group(2) is None:\n",
    "        print('Middle Name: None')\n",
    "    else:\n",
    "        print('Middle Name: '+ match.group(2))\n",
    "    print('Last Name: '+ match.group(3))"
   ]
  },
  {
   "cell_type": "markdown",
   "metadata": {},
   "source": [
    "We can see that for each of the four matches we can selectively choose the first, middle, or last name. We should also mention that `.group(0)` (or equivalently `.group()`) selects all the groups at once. \n",
    "\n",
    "Now, that we know how to select groups individually for each match, we are ready to use the `.sub()` method to make substitutions. Remember, `regex.sub(r'string', sample_text)` will replace every match of the `regex` expression in the `sample_text` with the raw string `string`. So, what we want to do in our case, is to replace every match with only the first and last names, or equivalently replace every match with the first and third groups. We can refer to each group in the `string` by using the backslash. For example, `regex.sub(r'\\1', , sample_text)` will replace every match with the first group. Here we have reference the first group by using `\\1` inside the `string`. Let's put it all together to see how it works:"
   ]
  },
  {
   "cell_type": "code",
   "execution_count": 4,
   "metadata": {},
   "outputs": [
    {
     "name": "stdout",
     "output_type": "stream",
     "text": [
      "\n",
      "John Smith\n",
      "Alice Jackson\n",
      "Mary Wilson\n",
      "Mike Brown\n",
      "\n"
     ]
    }
   ],
   "source": [
    "# Import re module\n",
    "import re\n",
    "\n",
    "# Sample text\n",
    "sample_text = '''\n",
    "John David Smith\n",
    "Alice Jackson\n",
    "Mary Elizabeth Wilson\n",
    "Mike Brown\n",
    "'''\n",
    "\n",
    "# Create a regular expression object with a regular expression that can find all\n",
    "# the names in the sample_text and group the first, middle, and\n",
    "# last names separately\n",
    "regex = re.compile(r'([a-zA-z]+)[ ]?([a-zA-z]+)?[ ]([a-zA-z]+)')\n",
    "\n",
    "# Substitute all names in the sample_text with the first and last name\n",
    "new_text = regex.sub(r'\\1 \\3', sample_text)\n",
    "\n",
    "# Print the modified text\n",
    "print(new_text)"
   ]
  },
  {
   "cell_type": "markdown",
   "metadata": {},
   "source": [
    "# Flags\n",
    "\n",
    "We saw at the beginning of this lesson that regexes are case sensitive, therefore we often have to use regexes with both uppercase and lower case letters. However, the `re.compile(pattern, flags)` function, has a `flag` keyword that can be used to allow more flexibility. For example, the `re.IGNORECASE` flag can be used to perform **case-insensitive** matching. In the code below we have a string that contains the name Walter written in two different combinations of upper and lower case letters. In order to be able to find this two renditions of Walter, we will probably have to use a long character set to be able to account for all possible combinations of lower and upper case letters. However, in this case we can use the `re.IGNORECASE` to indicate that we don't care about the case of the letters, we just want to find the name Walter no matter how it is written. Let's see how this works:"
   ]
  },
  {
   "cell_type": "code",
   "execution_count": 5,
   "metadata": {},
   "outputs": [
    {
     "name": "stdout",
     "output_type": "stream",
     "text": [
      "<_sre.SRE_Match object; span=(10, 16), match='WaLtEr'>\n",
      "<_sre.SRE_Match object; span=(40, 46), match='wAlTer'>\n"
     ]
    }
   ],
   "source": [
    "# Import re module\n",
    "import re\n",
    "\n",
    "# Sample text\n",
    "sample_text = 'Alice and WaLtEr Brown are talking with wAlTer Jackson.'\n",
    "\n",
    "# Create a regular expression object with the regular expression 'walter'\n",
    "# that ignores the case of the letters\n",
    "regex = re.compile(r'walter', re.IGNORECASE)\n",
    "\n",
    "# Search the sample_text for the regular expression\n",
    "matches = regex.finditer(sample_text)\n",
    "\n",
    "# Print all the matches\n",
    "for match in matches:\n",
    "    print(match)"
   ]
  },
  {
   "cell_type": "markdown",
   "metadata": {},
   "source": [
    "We can clearly see that we were able to match both renditions of `walter` without any fancy regular expression. \n",
    "\n",
    "We have seen a lot in this lesson and we have just began to scratch the surface of regular expressions. For more information on regexes make sure to check out the Python [Regex Documentation ](https://docs.python.org/2/library/re.html#module-re)"
   ]
  },
  {
   "cell_type": "code",
   "execution_count": null,
   "metadata": {},
   "outputs": [],
   "source": []
  }
 ],
 "metadata": {
  "kernelspec": {
   "display_name": "Python 3",
   "language": "python",
   "name": "python3"
  },
  "language_info": {
   "codemirror_mode": {
    "name": "ipython",
    "version": 3
   },
   "file_extension": ".py",
   "mimetype": "text/x-python",
   "name": "python",
   "nbconvert_exporter": "python",
   "pygments_lexer": "ipython3",
   "version": "3.6.3"
  }
 },
 "nbformat": 4,
 "nbformat_minor": 2
}
