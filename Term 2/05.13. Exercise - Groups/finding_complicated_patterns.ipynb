{
 "cells": [
  {
   "cell_type": "markdown",
   "metadata": {},
   "source": [
    "# Finding Complicated Patterns\n",
    "\n",
    "In this lesson, we will learn how to use the remaining metacharacters in our list, namely:\n",
    "\n",
    "```python\n",
    "* + ? | ( )\n",
    "```\n",
    "We will employ these metacharacters to find more complicated patterns of text. \n",
    "\n",
    "### Finding Names\n",
    "\n",
    "In the code below, our `sample_text` consists of a multi-line string that contains the names and heights of the 4 highest mountains in the world according to Wikipedia:\n",
    "\n",
    "```\n",
    "Mt Everest: Height 8,848 m\n",
    "Mt. K2: Height 8,611 m\n",
    "Mt Kangchenjunga: Height 8,586 m\n",
    "Mt. Lhotse: Height 8,516 m\n",
    "```\n",
    "\n",
    "Let's create a regular expression that will allow us to find the names of these mountains. The first thing to notice is that the word mountain has been abbreviated in two different ways, as `Mt.` and as `Mt` (without the period). Therefore, if we want to find all the names of the mountains we need to indicate in our regular expression that the period (`.`) in the abbreviation is optional. We can do this by using the `?` metacharacter in our regular expression. The `?` will match 0 or 1 repetitions of the preceding regular expression. For example, the regular expression `ab?` will match either `a` or `ab`. In other words, the `?` after the `b` indicates that the `b` after the `a` is optional. Let’s see how this works.\n",
    "\n",
    "In the code below, we employ the `?` metacharacter to indicate that the period (`.`) after `Mt` is optional by using the regular expression `Mt\\.?`:"
   ]
  },
  {
   "cell_type": "code",
   "execution_count": 1,
   "metadata": {},
   "outputs": [
    {
     "name": "stdout",
     "output_type": "stream",
     "text": [
      "<_sre.SRE_Match object; span=(1, 3), match='Mt'>\n",
      "<_sre.SRE_Match object; span=(28, 31), match='Mt.'>\n",
      "<_sre.SRE_Match object; span=(51, 53), match='Mt'>\n",
      "<_sre.SRE_Match object; span=(84, 87), match='Mt.'>\n"
     ]
    }
   ],
   "source": [
    "# Import re module\n",
    "import re\n",
    "\n",
    "# Sample text\n",
    "sample_text = '''\n",
    "Mt Everest: Height 8,848 m\n",
    "Mt. K2: Height 8,611 m\n",
    "Mt Kangchenjunga: Height 8,586 m\n",
    "Mt. Lhotse: Height 8,516 m\n",
    "'''\n",
    "\n",
    "# Create a regular expression object with a regular expression 'Mt\\.?'\n",
    "regex = re.compile(r'Mt\\.?')\n",
    "\n",
    "# Search the sample_text for the regular expression\n",
    "matches = regex.finditer(sample_text)\n",
    "\n",
    "# Print all the matches\n",
    "for match in matches:\n",
    "    print(match)"
   ]
  },
  {
   "cell_type": "markdown",
   "metadata": {},
   "source": [
    "We can clearly see that the regular expression `Mt\\.?` was able to match either `Mt` or `Mt.`\n",
    "\n",
    "Now let's continue creating our regular expression so that it can match all the mountain names. \n",
    "We continue by matching the next character after the abbreviation. We notice that after each abbreviation there is a white space, therefore,  we will use the special sequence `\\s` to match it.\n",
    "\n",
    "After that white space, we have the name of mountain. We can see that the first letter in all the names is an uppercase letter, so we will use the character set `[A-Z]` to match any possible uppercase letter.\n",
    "\n",
    "Now comes the tricky part. We can see that the mountain names have different lengths. For example, the third mountain has a long name,  `Kangchenjunga`, but the second mountain has a very short name, `K2`. We can get around this problem by noticing that all the names are composed of only alphanumeric characters.\n",
    "\n",
    "To match any alphanumeric character we will use the special sequence `\\w`, and to help us match names of any length we will use the `*` metacharacter. The `*` metacharacter, matches 0 or more repetitions of the preceding regular expression. In other words, it matches 0 or as many repetitions as possible of the preceding regular expression. For example, the regular expression `ab*` will match `a` or `a` followed by any number of `b`'s, such as `ab` or `abbbbb`. Let's see how this works.\n",
    "\n",
    "In the code below, we employ the `*` metacharacter to find the names of the mountains regardless of their length:"
   ]
  },
  {
   "cell_type": "code",
   "execution_count": 2,
   "metadata": {},
   "outputs": [
    {
     "name": "stdout",
     "output_type": "stream",
     "text": [
      "<_sre.SRE_Match object; span=(1, 11), match='Mt Everest'>\n",
      "<_sre.SRE_Match object; span=(28, 34), match='Mt. K2'>\n",
      "<_sre.SRE_Match object; span=(51, 67), match='Mt Kangchenjunga'>\n",
      "<_sre.SRE_Match object; span=(84, 94), match='Mt. Lhotse'>\n"
     ]
    }
   ],
   "source": [
    "# Import re module\n",
    "import re\n",
    "\n",
    "# Sample text\n",
    "sample_text = '''\n",
    "Mt Everest: Height 8,848 m\n",
    "Mt. K2: Height 8,611 m\n",
    "Mt Kangchenjunga: Height 8,586 m\n",
    "Mt. Lhotse: Height 8,516 m\n",
    "'''\n",
    "\n",
    "# Create a regular expression object with a regular expression that can match all the\n",
    "# mountain names\n",
    "regex = re.compile(r'Mt\\.?\\s[A-Z]\\w*')\n",
    "\n",
    "# Search the sample_text for the regular expression\n",
    "matches = regex.finditer(sample_text)\n",
    "\n",
    "# Print all the matches\n",
    "for match in matches:\n",
    "    print(match)"
   ]
  },
  {
   "cell_type": "markdown",
   "metadata": {},
   "source": [
    "We can see that we managed to match all the mountain names regardless of their length or abbreviation."
   ]
  },
  {
   "cell_type": "markdown",
   "metadata": {},
   "source": [
    "# Groups\n",
    "\n",
    "In the code below, we have added a new mountain to our `sample_text` string:\n",
    "\n",
    "```\n",
    "Mnt makalu: Height 8,485 m\n",
    "```\n",
    "\n",
    "As we can see, the name of this mountain has two differences from the other ones. The first difference is that the word mountain has been abbreviated as `Mnt` instead of `Mt` or `Mt.`. The second difference is that the first letter of the name is lowercase not uppercase. \n",
    "\n",
    "To be able to match `Mnt` as well as `Mt` or `Mt.`, we will use the `( )` metacharacters to define a **Group**. As their name suggests, **groups**, group together the expressions contained inside of them. For example, we saw before that `ab*` will match `a` or `a` followed by any number of `b`'s, such as `ab` or `abbbbb`. But, if you put `ab` inside a parenthesis to define the **group** `(ab)`, then `(ab)*` will match zero or more repetitions of `ab`, for example `ab` or `abababab`. You can repeat the contents of a group with any repeating qualifier, such as `*, ?, or {m}` that we have seen before. We can also use the OR `|` metacharacter within the group to be able to select between two expressions. Let’s see how this works.\n",
    "\n",
    "In the code below, we will use the group `(Mt|Mnt)` in our regular expression to be able to match either `Mnt` or `Mt`:"
   ]
  },
  {
   "cell_type": "code",
   "execution_count": 3,
   "metadata": {},
   "outputs": [
    {
     "name": "stdout",
     "output_type": "stream",
     "text": [
      "<_sre.SRE_Match object; span=(1, 11), match='Mt Everest'>\n",
      "<_sre.SRE_Match object; span=(28, 34), match='Mt. K2'>\n",
      "<_sre.SRE_Match object; span=(51, 67), match='Mt Kangchenjunga'>\n",
      "<_sre.SRE_Match object; span=(84, 94), match='Mt. Lhotse'>\n",
      "<_sre.SRE_Match object; span=(111, 121), match='Mnt makalu'>\n"
     ]
    }
   ],
   "source": [
    "# Import re module\n",
    "import re\n",
    "\n",
    "# Sample text\n",
    "sample_text = '''\n",
    "Mt Everest: Height 8,848 m\n",
    "Mt. K2: Height 8,611 m\n",
    "Mt Kangchenjunga: Height 8,586 m\n",
    "Mt. Lhotse: Height 8,516 m\n",
    "Mnt makalu: Height 8,485 m\n",
    "'''\n",
    "\n",
    "# Create a regular expression object with a regular expression that can match all the\n",
    "# mountain names\n",
    "regex = re.compile(r'(Mt|Mnt)\\.?\\s[a-zA-Z]\\w*')\n",
    "\n",
    "# Search the sample_text for the regular expression\n",
    "matches = regex.finditer(sample_text)\n",
    "\n",
    "# Print all the matches\n",
    "for match in matches:\n",
    "    print(match)"
   ]
  },
  {
   "cell_type": "markdown",
   "metadata": {},
   "source": [
    "As we can see, we were able to match all the mountain names, including the new one. Also, notice that we added lowercase letters, `[a-zA-Z]`, to our previous character set in our regular expression. This was done in order to be able to match the first lowercase letter of the new name. \n",
    "\n",
    "We should point out, that since the first letter in both abbreviations is an `M`, we could have put the `M` outside of the group and gotten the same result, as shown below:"
   ]
  },
  {
   "cell_type": "code",
   "execution_count": 4,
   "metadata": {},
   "outputs": [
    {
     "name": "stdout",
     "output_type": "stream",
     "text": [
      "<_sre.SRE_Match object; span=(1, 11), match='Mt Everest'>\n",
      "<_sre.SRE_Match object; span=(28, 34), match='Mt. K2'>\n",
      "<_sre.SRE_Match object; span=(51, 67), match='Mt Kangchenjunga'>\n",
      "<_sre.SRE_Match object; span=(84, 94), match='Mt. Lhotse'>\n",
      "<_sre.SRE_Match object; span=(111, 121), match='Mnt makalu'>\n"
     ]
    }
   ],
   "source": [
    "# Import re module\n",
    "import re\n",
    "\n",
    "# Sample text\n",
    "sample_text = '''\n",
    "Mt Everest: Height 8,848 m\n",
    "Mt. K2: Height 8,611 m\n",
    "Mt Kangchenjunga: Height 8,586 m\n",
    "Mt. Lhotse: Height 8,516 m\n",
    "Mnt makalu: Height 8,485 m\n",
    "'''\n",
    "\n",
    "# Create a regular expression object with a regular expression that can match all the\n",
    "# mountain names\n",
    "regex = re.compile(r'M(t|nt)\\.?\\s[a-zA-Z]\\w*')\n",
    "\n",
    "# Search the sample_text for the regular expression\n",
    "matches = regex.finditer(sample_text)\n",
    "\n",
    "# Print all the matches\n",
    "for match in matches:\n",
    "    print(match)"
   ]
  },
  {
   "cell_type": "markdown",
   "metadata": {},
   "source": [
    "Notice that we get the same result as before."
   ]
  },
  {
   "cell_type": "markdown",
   "metadata": {},
   "source": [
    "# TODO: Finding email Addresses Revisited\n",
    "\n",
    "In the cell below, our `sample_text` consists of a multi-line string with four different email addresses. Write a regular expression that is able to find all these email addresses. As usual, save the regular expression object in a variable called `regex`. Then use the `.finditer()` method to search the `sample_text` string for the given regular expression. Finally, write a loop to print all the `matches` found by the `.finditer()` method.\n",
    "\n",
    "**HINTS:** Notice that all the characters before the `@` symbol only contain lowercase letters, underscores, and numbers. To match this part of the email address we can use the character set `[a-z_0-9]` followed by the `+` metacharacter, to account for the fact that all email addresses must have at least one character or more before the `@` symbol. The `+` metacharacter matches 1 or more repetitions of the preceding regular expression. For example, `ab+` will match `a` followed by any non-zero number of `b`’s, such as `ab` or `abb`, etc.., but it will not match just `a`.\n",
    "\n",
    "The `@` symbol is not a metacharacter so we can match it directly without the need of escaping it. Also, notice that the domain names contain lowercase letters, uppercase letters, underscores, and dashes. Again we can use the characters set `[a-zA-Z_-]` followed by the `+` metacharacter, to account for the fact that all domains must have at least one character or more after the `@` symbol. To match any dot (`.`), we need to use the backslash (`\\.`) because the dot is a metacharacter. You can use the character set `[a-z]+` to match either `com`, `edu`, or `gov`.\n",
    "\n",
    "To match the last email address you need to add an optional dot followed by another character set of only lowercase letters."
   ]
  },
  {
   "cell_type": "code",
   "execution_count": null,
   "metadata": {},
   "outputs": [],
   "source": [
    "# Import re module\n",
    "\n",
    "\n",
    "# Sample text\n",
    "sample_text = '''\n",
    "fake_email@fake-email.edu\n",
    "fakeemail43@fake_email.com\n",
    "fake891_email@fakemail.gov\n",
    "52fake_email@FAKE_email.com.nl\n",
    "'''\n",
    "\n",
    "# Create a regular expression object with a regular expression that can match all\n",
    "# the email addresses\n",
    "regex = \n",
    "\n",
    "# Search the sample_text for the regular expression\n",
    "matches = \n",
    "\n",
    "# Print all the matches\n"
   ]
  },
  {
   "cell_type": "markdown",
   "metadata": {},
   "source": [
    "# Solution\n",
    "\n",
    "[Solution notebook](finding_complicated_patterns_solution.ipynb)"
   ]
  },
  {
   "cell_type": "code",
   "execution_count": null,
   "metadata": {},
   "outputs": [],
   "source": []
  }
 ],
 "metadata": {
  "kernelspec": {
   "display_name": "Python 3",
   "language": "python",
   "name": "python3"
  },
  "language_info": {
   "codemirror_mode": {
    "name": "ipython",
    "version": 3
   },
   "file_extension": ".py",
   "mimetype": "text/x-python",
   "name": "python",
   "nbconvert_exporter": "python",
   "pygments_lexer": "ipython3",
   "version": "3.6.3"
  }
 },
 "nbformat": 4,
 "nbformat_minor": 2
}
