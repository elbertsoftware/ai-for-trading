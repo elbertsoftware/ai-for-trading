{
 "cells": [
  {
   "cell_type": "markdown",
   "metadata": {},
   "source": [
    "# 安装这节课的所有编程练习使用的库\n",
    "\n",
    "安装这节课的练习使用的库需要大约 8-9 分钟。为了提高学习效率，请在新的标签页中打开此页面，并运行此代码单元格以安装库，然后当安装流程在继续时，在原始页面中继续转到下个视频。这节课只需安装库一次。如果你在某个时刻依次选择“菜单”->“重置数据”，则需要重新安装这些库。"
   ]
  },
  {
   "cell_type": "code",
   "execution_count": null,
   "metadata": {},
   "outputs": [],
   "source": [
    "import sys\n",
    "!{sys.executable} -m pip install --upgrade pip \n",
    "!{sys.executable} -m pip install --upgrade wheel setuptools build \n",
    "!{sys.executable} -m pip install -r requirements.txt"
   ]
  }
 ],
 "metadata": {
  "kernelspec": {
   "display_name": "Python 3",
   "language": "python",
   "name": "python3"
  },
  "language_info": {
   "codemirror_mode": {
    "name": "ipython",
    "version": 3
   },
   "file_extension": ".py",
   "mimetype": "text/x-python",
   "name": "python",
   "nbconvert_exporter": "python",
   "pygments_lexer": "ipython3",
   "version": "3.6.3"
  }
 },
 "nbformat": 4,
 "nbformat_minor": 2
}
