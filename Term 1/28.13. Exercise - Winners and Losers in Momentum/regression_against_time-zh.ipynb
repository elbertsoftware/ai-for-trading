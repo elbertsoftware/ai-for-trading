{
 "cells": [
  {
   "cell_type": "markdown",
   "metadata": {},
   "source": [
    "# 时间回归\n",
    "\n",
    "## The Formation Process of Winners and Losers in Momentum Investing\n",
    "(https://papers.ssrn.com/sol3/papers.cfm?abstract_id=2610571)\n",
    "\n",
    "> **p. 3**: Intermediate-term (3–12 months) momentum has been documented by Jegadeesh\n",
    " nd Titman (1993, 2001, hereafter JT), while short-term (weekly) and long-term (3–5\n",
    " ears) reversals have been documented by Lehmann (1990) and Jegadeesh (1990) and\n",
    " y DeBondt and Thaler (1985), respectively. Various models and theories have been\n",
    " roposed to explain the coexistence of intermediate-term momentum and long-term\n",
    " eversal. However, most studies have focused primarily on which stocks are winners\n",
    " r losers; they have paid little attention to how those stocks become winners or losers.\n",
    " his paper develops a model to analyze whether the movement of historical prices is\n",
    " elated to future expected returns.\n",
    "\n",
    "> **p. 4**: This paper captures the idea that past returns and the formation process of past\n",
    " eturns have a joint effect on future expected returns. We argue that how one stock\n",
    " ecomes a winner or loser—that is, the movement of historical prices—plays an\n",
    " mportant role in momentum investing. Using a polynomial quadratic model to\n",
    " pproximate the nonlinear pattern of historical prices, the model shows that as long as\n",
    " wo stocks share the same return over the past n-month, the future expected return of\n",
    " he stock whose historical prices are convex shaped is not lower than one whose\n",
    " istorical prices are concave shaped. In other words, when there are two winner (or\n",
    " oser) stocks, the one with convex-shaped historical prices will possess higher future\n",
    " xpected returns than the one with concave-shaped historical prices.\n",
    "\n",
    "> **p. 4**: To test the model empirically, we regress previous daily prices in the ranking\n",
    " eriod on an ordinal time variable and the square of the ordinal time variable for each\n",
    " tock. The coefficient of the square of the ordinal time variable is denoted as $\\gamma$.\n",
    "\n",
    "## 安装软件包"
   ]
  },
  {
   "cell_type": "code",
   "execution_count": null,
   "metadata": {},
   "outputs": [],
   "source": [
    "import sys"
   ]
  },
  {
   "cell_type": "code",
   "execution_count": null,
   "metadata": {},
   "outputs": [],
   "source": [
    "!{sys.executable} -m pip install -r requirements.txt"
   ]
  },
  {
   "cell_type": "code",
   "execution_count": null,
   "metadata": {},
   "outputs": [],
   "source": [
    "import cvxpy as cvx\n",
    "import numpy as np\n",
    "import pandas as pd\n",
    "import time\n",
    "import os\n",
    "import quiz_helper\n",
    "import matplotlib.pyplot as plt"
   ]
  },
  {
   "cell_type": "code",
   "execution_count": null,
   "metadata": {},
   "outputs": [],
   "source": [
    "%matplotlib inline\n",
    "plt.style.use('ggplot')\n",
    "plt.rcParams['figure.figsize'] = (14, 8)"
   ]
  },
  {
   "cell_type": "markdown",
   "metadata": {},
   "source": [
    "### 数据包"
   ]
  },
  {
   "cell_type": "code",
   "execution_count": null,
   "metadata": {},
   "outputs": [],
   "source": [
    "import os\n",
    "import quiz_helper\n",
    "from zipline.data import bundles"
   ]
  },
  {
   "cell_type": "code",
   "execution_count": null,
   "metadata": {},
   "outputs": [],
   "source": [
    "os.environ['ZIPLINE_ROOT'] = os.path.join(os.getcwd(), '..', '..','data','module_4_quizzes_eod')\n",
    "ingest_func = bundles.csvdir.csvdir_equities(['daily'], quiz_helper.EOD_BUNDLE_NAME)\n",
    "bundles.register(quiz_helper.EOD_BUNDLE_NAME, ingest_func)\n",
    "print('Data Registered')"
   ]
  },
  {
   "cell_type": "markdown",
   "metadata": {},
   "source": [
    "### 构建管道引擎"
   ]
  },
  {
   "cell_type": "code",
   "execution_count": null,
   "metadata": {},
   "outputs": [],
   "source": [
    "from zipline.pipeline import Pipeline\n",
    "from zipline.pipeline.factors import AverageDollarVolume\n",
    "from zipline.utils.calendars import get_calendar\n",
    "\n",
    "universe = AverageDollarVolume(window_length=120).top(500) \n",
    "trading_calendar = get_calendar('NYSE') \n",
    "bundle_data = bundles.load(quiz_helper.EOD_BUNDLE_NAME)\n",
    "engine = quiz_helper.build_pipeline_engine(bundle_data, trading_calendar)"
   ]
  },
  {
   "cell_type": "markdown",
   "metadata": {},
   "source": [
    "### 查看数据\n",
    "\n",
    "构建管道引擎后，我们获取时段结束时股票池中的股票。我们将使用这些 ticker 生成风险模型的收益率数据。"
   ]
  },
  {
   "cell_type": "code",
   "execution_count": null,
   "metadata": {},
   "outputs": [],
   "source": [
    "universe_end_date = pd.Timestamp('2016-01-05', tz='UTC')\n",
    "\n",
    "universe_tickers = engine\\\n",
    "    .run_pipeline(\n",
    "        Pipeline(screen=universe),\n",
    "        universe_end_date,\n",
    "        universe_end_date)\\\n",
    "    .index.get_level_values(1)\\\n",
    "    .values.tolist()\n",
    "    \n",
    "universe_tickers"
   ]
  },
  {
   "cell_type": "markdown",
   "metadata": {},
   "source": [
    "# 获取收益率数据"
   ]
  },
  {
   "cell_type": "code",
   "execution_count": null,
   "metadata": {},
   "outputs": [],
   "source": [
    "from zipline.data.data_portal import DataPortal\n",
    "\n",
    "data_portal = DataPortal(\n",
    "    bundle_data.asset_finder,\n",
    "    trading_calendar=trading_calendar,\n",
    "    first_trading_day=bundle_data.equity_daily_bar_reader.first_trading_day,\n",
    "    equity_minute_reader=None,\n",
    "    equity_daily_reader=bundle_data.equity_daily_bar_reader,\n",
    "    adjustment_reader=bundle_data.adjustment_reader)"
   ]
  },
  {
   "cell_type": "markdown",
   "metadata": {},
   "source": [
    "## 获取股价数据的辅助函数"
   ]
  },
  {
   "cell_type": "code",
   "execution_count": null,
   "metadata": {},
   "outputs": [],
   "source": [
    "from quiz_helper import get_pricing"
   ]
  },
  {
   "cell_type": "markdown",
   "metadata": {},
   "source": [
    "## 将股价数据放入 dataframe 中"
   ]
  },
  {
   "cell_type": "code",
   "execution_count": null,
   "metadata": {},
   "outputs": [],
   "source": [
    "returns_df = \\\n",
    "    get_pricing(\n",
    "        data_portal,\n",
    "        trading_calendar,\n",
    "        universe_tickers,\n",
    "        universe_end_date - pd.DateOffset(years=5),\n",
    "        universe_end_date)\\\n",
    "    .pct_change()[1:].fillna(0) #convert prices into returns\n",
    "\n",
    "returns_df"
   ]
  },
  {
   "cell_type": "markdown",
   "metadata": {},
   "source": [
    "## 行业数据辅助函数\n",
    "\n",
    "我们将为你创建一个对象，它会针对每支股票定义一个行业。行业由整数表示。我们继承了 Classifier 类。[Classifier 文档](https://www.quantopian.com/posts/pipeline-classifiers-are-here)以及 [Classifier 的源代码](https://github.com/quantopian/zipline/blob/master/zipline/pipeline/classifiers/classifier.py)"
   ]
  },
  {
   "cell_type": "code",
   "execution_count": null,
   "metadata": {},
   "outputs": [],
   "source": [
    "from zipline.pipeline.classifiers import Classifier\n",
    "from zipline.utils.numpy_utils import int64_dtype\n",
    "class Sector(Classifier):\n",
    "    dtype = int64_dtype\n",
    "    window_length = 0\n",
    "    inputs = ()\n",
    "    missing_value = -1\n",
    "\n",
    "    def __init__(self):\n",
    "        self.data = np.load('../../data/project_4_sector/data.npy')\n",
    "\n",
    "    def _compute(self, arrays, dates, assets, mask):\n",
    "        return np.where(\n",
    "            mask,\n",
    "            self.data[assets],\n",
    "            self.missing_value,\n",
    "        )"
   ]
  },
  {
   "cell_type": "code",
   "execution_count": null,
   "metadata": {},
   "outputs": [],
   "source": [
    "sector = Sector()"
   ]
  },
  {
   "cell_type": "markdown",
   "metadata": {},
   "source": [
    "## 我们将使用 2 年的数据计算因子\n",
    "\n",
    "**注意：**2 年前的日期是休市日期。管道软件包不会处理开始或结束日期是休市的日期。为了解决这个问题，我们再往回推 2 天，这时候市场没有休市。"
   ]
  },
  {
   "cell_type": "code",
   "execution_count": null,
   "metadata": {},
   "outputs": [],
   "source": [
    "factor_start_date = universe_end_date - pd.DateOffset(years=2, days=2)\n",
    "factor_start_date"
   ]
  },
  {
   "cell_type": "markdown",
   "metadata": {},
   "source": [
    "## 用曲线描述股价随时间推移的轨迹\n",
    "\n",
    "为了描述股价随时间推移的轨迹，我们将使用每天递增的整数作为自变量，并将股价设为因变量。我们练习下使股价根据时间和时间的平方回归，并使用多项式描述股价随时间推移的轨迹。\n",
    "\n",
    "$ ClosePrice_i = \\beta \\times time_i + \\gamma \\times time_i^2$\n",
    "\n",
    "首先，我们将使用 `numpy.arange(days)` ，days 可能是一星期 5 天或一年 252 天的数据。我们将用整数表示时间窗口内的天数。 \n",
    "\n",
    "为了创建二维 numpy 数组，我们将它们组合成一个列表。默认情况下，`numpy.arange` 数组是行向量，我们通过转置将其变成列向量（每个自变量占一列）。\n",
    "\n",
    "实例化 LinearRegression 对象，然后调用 `.fit(X,y)` 并传入自变量和因变量。 \n",
    "\n",
    "我们将通过 `.coefficient` 访问根据数据估算的系数。每个自变量对应一个系数。"
   ]
  },
  {
   "cell_type": "code",
   "execution_count": null,
   "metadata": {},
   "outputs": [],
   "source": [
    "# we're choosing a window of 5 days as an example\n",
    "X = np.array([np.arange(5), np.arange(5)**2])\n",
    "X = X.T\n",
    "X"
   ]
  },
  {
   "cell_type": "code",
   "execution_count": null,
   "metadata": {},
   "outputs": [],
   "source": [
    "#we're making up some numbers to represent the stock price\n",
    "y = np.array(np.random.random(5)*2)\n",
    "y"
   ]
  },
  {
   "cell_type": "code",
   "execution_count": null,
   "metadata": {},
   "outputs": [],
   "source": [
    "from sklearn.linear_model import LinearRegression"
   ]
  },
  {
   "cell_type": "code",
   "execution_count": null,
   "metadata": {},
   "outputs": [],
   "source": [
    "reg = LinearRegression()\n",
    "reg.fit(X,y);"
   ]
  },
  {
   "cell_type": "markdown",
   "metadata": {},
   "source": [
    "## 小测验 1\n",
    "输出 $\\beta$ 和 $\\gamma$ 的估算值"
   ]
  },
  {
   "cell_type": "code",
   "execution_count": null,
   "metadata": {},
   "outputs": [],
   "source": [
    "# TODO Output the estimates for Beta and gamma\n"
   ]
  },
  {
   "cell_type": "markdown",
   "metadata": {},
   "source": [
    "## outputs\n",
    "`outputs` 是在 CustomFactor 类中定义的类变量。我们将 outputs 设为字符串列表，表示 `out` 对象中的成员变量。\n",
    "\n",
    "* outputs（可迭代的 [str]，可选）– 一个字符串可迭代对象，代表这个因子应该计算和返回的每个输出的名称。如果未向 CustomFactor 构造函数传入此参数，我们将寻找类级相同名称的输出。\n",
    "\n",
    ">例如，如果我们创建一个继承 CustomFactor 的子类，我们可以定义类级变量 `outputs = ['var1','var2']`，以字符串的形式传入变量名称。\n",
    "\n",
    "下面是此变量在 `compute` 函数中的使用方式：\n",
    ">out : np.array[self.dtype, ndim=1]\n",
    ">   输出形状和 `assets` 一样的数组。 `compute` 应该将其期望的返回值写入 `out`。如果指定了多个输出，`compute`  应该针对 `self.outputs` 中的每个输出名称将其期望的返回值写入  `out.<output_name>`。\n",
    "\n",
    "如果我们定义 `outputs = ['var1', 'var2']`，那么在 `compute` 函数中，我们将有 `out.var1` 和 `out.var2` numpy 数组。在每个 numpy 数组中，我们要处理的每支股票都对应一个元素（我们从 CustomFactor 继承的代码为我们执行了此操作。）\n",
    "\n",
    "## numpy.isfinite\n",
    "\n",
    "Numpy 可以使用 `numpy.isnan()` 检查是否有 `NaN`（非数字）。我们还可以使用 `numpy.isfinite()` 检查数字是否不是 `NaN` 或无穷值。\n",
    "\n",
    "# 小测验 2：时间回归\n",
    "\n",
    "我们将构建一个继承 CustomFactor 的类，称为 `RegressionAgainstTime`。它一次对一年的数据进行一次回归。如果股价是 NaN 或无穷值（糟糕的数据，或者无比惊人的公司！），那么不需要数据回归。\n",
    "\n",
    "**提示：**看看我们是如何处理 β 变量的，你也可以对 γ 变量做出相似的处理。"
   ]
  },
  {
   "cell_type": "code",
   "execution_count": null,
   "metadata": {},
   "outputs": [],
   "source": [
    "from zipline.pipeline.data import USEquityPricing\n",
    "from zipline.pipeline.factors import CustomFactor\n",
    "class RegressionAgainstTime(CustomFactor):\n",
    "\n",
    "    #TODO: choose a window length that spans one year's worth of trading days\n",
    "    window_length = # ...\n",
    "    \n",
    "    #TODO: use USEquityPricing's close price\n",
    "    inputs = # ...\n",
    "    \n",
    "    #TODO: set outputs to a list of strings, which are names of the outputs\n",
    "    #We're calculating regression coefficients for two independent variables, \n",
    "    # called beta and gamma\n",
    "    outputs = # [..., ...]\n",
    "    \n",
    "    def compute(self, today, assets, out, dependent):\n",
    "        \n",
    "        #TODO: define an independent variable that represents time from the start to end\n",
    "        # of the window length. E.g. [1,2,3...252]\n",
    "        t1 = # ...\n",
    "        \n",
    "        #TODO: define a second independent variable that represents time ^2\n",
    "        t2 = # ...\n",
    "        \n",
    "        # combine t1 and t2 into a 2D numpy array\n",
    "        X = # ...\n",
    "\n",
    "    \n",
    "        #TODO: the number of stocks is equal to the length of the \"out\" variable,\n",
    "        # because the \"out\" variable has one element for each stock\n",
    "        n_stocks = # ...\n",
    "        # loop over each asset\n",
    "\n",
    "        for i in range(n_stocks):\n",
    "            # TODO: \"dependent\" is a 2D numpy array that\n",
    "            # has one stock series in each column,\n",
    "            # and days are along the rows.\n",
    "            # set y equal to all rows for column i of \"dependent\"\n",
    "            y = # ...\n",
    "            \n",
    "            # TODO: run a regression only if all values of y\n",
    "            # are finite.\n",
    "            if # ... :\n",
    "                # create a LinearRegression object\n",
    "                regressor = LinearRegression()\n",
    "                \n",
    "                # TODO: fit the regressor on X and y\n",
    "                \n",
    "                \n",
    "                # store the beta coefficient\n",
    "                out.beta[i] = regressor.coef_[0]\n",
    "                \n",
    "                #TODO: store the gamma coefficient\n",
    "                # ...\n",
    "            else:\n",
    "                # store beta as not-a-number\n",
    "                out.beta[i] = np.nan\n",
    "                \n",
    "                # TODO: store gammas not-a-number\n",
    "                # ...\n",
    "\n"
   ]
  },
  {
   "cell_type": "markdown",
   "metadata": {},
   "source": [
    "# 小测验 3：创建条件因子\n",
    "\n",
    "我们可以用 β 和 γ 因子的乘积创建条件因子。\n",
    "\n",
    "$ joint_{Factor} = \\beta_{Factor} \\times \\gamma_{Factor} $\n",
    "\n",
    "\n",
    "请参阅 [actor 类的文档](https://www.zipline.io/appendix.html?highlight=customfactor#zipline.pipeline.factors.Factor)：\n",
    "\n",
    "> Factors can be combined, both with other Factors and with scalar values, via any of the builtin mathematical operators (+, -, *, etc). This makes it easy to write complex expressions that combine multiple Factors. For example, constructing a Factor that computes the average of two other Factors is simply:"
   ]
  },
  {
   "cell_type": "code",
   "execution_count": null,
   "metadata": {},
   "outputs": [],
   "source": [
    "f1 = SomeFactor(...)  \n",
    "f2 = SomeOtherFactor(...)  \n",
    "average = (f1 + f2) / 2.0  "
   ]
  },
  {
   "cell_type": "code",
   "execution_count": null,
   "metadata": {},
   "outputs": [],
   "source": [
    "#Example: we'll call the RegressionAgainstTime constructor,\n",
    "# pass in the \"universe\" variable as our mask, \n",
    "# and get the \"beta\" variable from that object.\n",
    "# Then we'll get the rank based on the beta value.\n",
    "beta_factor = (\n",
    "    RegressionAgainstTime(mask=universe).beta.\n",
    "    rank()\n",
    ")\n",
    "\n",
    "# TODO: similar to the beta factor,\n",
    "# We'll create the gamma factor\n",
    "gamma_factor = # ...\n",
    "\n",
    "# TODO: if we multiply the beta factor and gamma factor,\n",
    "# we can then rank that product to create the conditional factor\n",
    "conditional_factor = # ...\n",
    "\n",
    "p = Pipeline(screen=universe)\n",
    "# Add the beta, gamma and conditional factor to the pipeline\n",
    "p.add(beta_factor, 'time_beta')\n",
    "p.add(gamma_factor, 'time_gamma')\n",
    "p.add(conditional_factor, 'conditional_factor')"
   ]
  },
  {
   "cell_type": "markdown",
   "metadata": {},
   "source": [
    "## 可视化管道\n",
    "\n",
    "注意，如果图片太小，请右击图片并在单独的窗口中查看图片。"
   ]
  },
  {
   "cell_type": "code",
   "execution_count": null,
   "metadata": {},
   "outputs": [],
   "source": [
    "p.show_graph(format='png')"
   ]
  },
  {
   "cell_type": "markdown",
   "metadata": {},
   "source": [
    "## 运行管道并查看因子数据"
   ]
  },
  {
   "cell_type": "code",
   "execution_count": null,
   "metadata": {},
   "outputs": [],
   "source": [
    "df = engine.run_pipeline(p, factor_start_date, universe_end_date)"
   ]
  },
  {
   "cell_type": "code",
   "execution_count": null,
   "metadata": {},
   "outputs": [],
   "source": [
    "df.head()"
   ]
  },
  {
   "cell_type": "markdown",
   "metadata": {},
   "source": [
    "## 可视化因子收益率\n",
    "\n",
    "这些收益率是指按照单个 alpha 因子的值设定股票权重后的理论投资组合获得的收益率。"
   ]
  },
  {
   "cell_type": "code",
   "execution_count": null,
   "metadata": {},
   "outputs": [],
   "source": [
    "from quiz_helper import make_factor_plot"
   ]
  },
  {
   "cell_type": "code",
   "execution_count": null,
   "metadata": {},
   "outputs": [],
   "source": [
    "make_factor_plot(df, data_portal, trading_calendar, factor_start_date, universe_end_date);"
   ]
  },
  {
   "cell_type": "markdown",
   "metadata": {},
   "source": [
    "## 解答\n",
    "[解答 notebook](regression_against_time_solution.ipynb)"
   ]
  }
 ],
 "metadata": {
  "kernelspec": {
   "display_name": "Python 3",
   "language": "python",
   "name": "python3"
  },
  "language_info": {
   "codemirror_mode": {
    "name": "ipython",
    "version": 3
   },
   "file_extension": ".py",
   "mimetype": "text/x-python",
   "name": "python",
   "nbconvert_exporter": "python",
   "pygments_lexer": "ipython3",
   "version": "3.6.3"
  }
 },
 "nbformat": 4,
 "nbformat_minor": 2
}
