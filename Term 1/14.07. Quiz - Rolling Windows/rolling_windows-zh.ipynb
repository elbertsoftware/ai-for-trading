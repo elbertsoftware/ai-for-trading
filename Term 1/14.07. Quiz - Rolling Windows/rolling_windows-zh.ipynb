{
 "cells": [
  {
   "cell_type": "markdown",
   "metadata": {},
   "source": [
    "# 滚动窗口\n",
    "\n",
    "## Pandas.DataFrame.rolling\n",
    "\n",
    "\n",
    "你刚刚学习了滚动窗口。下面看看如何使用 pandas 中的 rolling 函数创建滚动窗口。\n",
    "\n",
    "先创建一个简单的 dataframe。"
   ]
  },
  {
   "cell_type": "code",
   "execution_count": null,
   "metadata": {},
   "outputs": [],
   "source": [
    "import numpy as np\n",
    "import pandas as pd\n",
    "from datetime import datetime\n",
    "\n",
    "dates = pd.date_range(datetime.strptime('10/10/2018', '%m/%d/%Y'), periods=11, freq='D')\n",
    "close_prices = np.arange(len(dates))\n",
    "\n",
    "close = pd.Series(close_prices, dates)\n",
    "close"
   ]
  },
  {
   "cell_type": "markdown",
   "metadata": {},
   "source": [
    "下面我们将介绍 pandas 中的 rolling 函数。rolling 函数会提供滚动窗口，并且我们能使用不同的参数自定义这些窗口。\n",
    "\n",
    "请点击[此处](https://pandas.pydata.org/pandas-docs/version/0.22/generated/pandas.DataFrame.rolling.html)详细了解 rolling 函数。\n",
    "\n",
    "下面看一个简单示例。"
   ]
  },
  {
   "cell_type": "code",
   "execution_count": null,
   "metadata": {},
   "outputs": [],
   "source": [
    "close.rolling(window = 3)"
   ]
  },
  {
   "cell_type": "markdown",
   "metadata": {},
   "source": [
    "这行代码返回一个 Rolling 对象。正如之前看到的，它是一个类似于 GroupBy 对象（将原始数据分成几组）的中间对象。所以我们需要对这些组应用运算。我们试试 sum 函数。"
   ]
  },
  {
   "cell_type": "code",
   "execution_count": null,
   "metadata": {},
   "outputs": [],
   "source": [
    "close.rolling(window = 3).sum()"
   ]
  },
  {
   "cell_type": "markdown",
   "metadata": {},
   "source": [
    "window 参数定义了移动窗口的大小。它等于计算统计量（即“sum”）所使用的观察量数量。\n",
    "\n",
    "例如，2018-10-12 的输出是 3，等于前 3 个数据点的和 0 + 1 + 2。\n",
    "而 2018-10-20 是 27，等于 8+ 9 + 10\n",
    "\n",
    "除了求和之外，我们还可以应用在之前的课程中学习的其他函数，例如 max、min 等。\n",
    "\n",
    "再看一个简单示例"
   ]
  },
  {
   "cell_type": "code",
   "execution_count": null,
   "metadata": {},
   "outputs": [],
   "source": [
    "close.rolling(window = 3).min()"
   ]
  },
  {
   "cell_type": "markdown",
   "metadata": {},
   "source": [
    "现在输出是前三个数据点的最小值。\n",
    "\n",
    "顺便提下，你发现 close.rolling(window = 3).sum() 的结果是 NaN 了吗？因为我们要计算前 3 个数据点的最小值。对于 2018-10-10 和 2018-10-11，过去没有足够的数据点供我们计算，所以输出是 NaN。\n",
    "\n",
    "这个 rolling 函数还有很多其他参数可以调整，例如 min_period。请参阅[这篇 python 文档](https://pandas.pydata.org/pandas-docs/version/0.22/generated/pandas.DataFrame.rolling.html)了解详情。\n",
    "\n",
    "\n",
    "## 小测验：计算简单移动平均值\n",
    "\n",
    "在这门课程中，你将生成 alpha 因子。但是，信号始终有噪点。常见行业做法是使用简单移动平均值平稳因子。在这个小测验中，我们可以创建一个简单函数，在其中指定滚动窗口，并计算时序的简单移动平均值。"
   ]
  },
  {
   "cell_type": "code",
   "execution_count": null,
   "metadata": {},
   "outputs": [],
   "source": [
    "import quiz_tests\n",
    "\n",
    "def calculate_simple_moving_average(rolling_window, close):\n",
    "    \"\"\"\n",
    "    Compute the simple moving average.\n",
    "    \n",
    "    Parameters\n",
    "    ----------\n",
    "    rolling_window: int\n",
    "        Rolling window length\n",
    "    close : DataFrame\n",
    "        Close prices for each ticker and date\n",
    "    \n",
    "    Returns\n",
    "    -------\n",
    "    simple_moving_average : DataFrame\n",
    "        Simple moving average for each ticker and date\n",
    "    \"\"\"\n",
    "    # TODO: Implement Function\n",
    "    \n",
    "    return None\n",
    "\n",
    "\n",
    "quiz_tests.test_calculate_simple_moving_average(calculate_simple_moving_average)"
   ]
  },
  {
   "cell_type": "markdown",
   "metadata": {},
   "source": [
    "## 小测验解答\n",
    "如果你遇到问题，请在[此处](rolling_windows_solution.ipynb)查看解答。"
   ]
  }
 ],
 "metadata": {
  "kernelspec": {
   "display_name": "Python 3",
   "language": "python",
   "name": "python3"
  },
  "language_info": {
   "codemirror_mode": {
    "name": "ipython",
    "version": 3
   },
   "file_extension": ".py",
   "mimetype": "text/x-python",
   "name": "python",
   "nbconvert_exporter": "python",
   "pygments_lexer": "ipython3",
   "version": "3.6.3"
  }
 },
 "nbformat": 4,
 "nbformat_minor": 2
}
