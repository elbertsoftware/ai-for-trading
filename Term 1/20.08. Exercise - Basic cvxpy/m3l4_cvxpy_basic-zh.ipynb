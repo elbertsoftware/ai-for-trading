{
 "cells": [
  {
   "cell_type": "markdown",
   "metadata": {},
   "source": [
    "# 使用 cvxpy 优化投资组合\n",
    "\n",
    "## 安装 cvxpy 及其他库"
   ]
  },
  {
   "cell_type": "code",
   "execution_count": null,
   "metadata": {},
   "outputs": [],
   "source": [
    "import sys\n",
    "!{sys.executable} -m pip install -r requirements.txt"
   ]
  },
  {
   "cell_type": "markdown",
   "metadata": {},
   "source": [
    "## 导入"
   ]
  },
  {
   "cell_type": "code",
   "execution_count": null,
   "metadata": {},
   "outputs": [],
   "source": [
    "import cvxpy as cvx\n",
    "import numpy as np\n",
    "import quiz_tests"
   ]
  },
  {
   "cell_type": "markdown",
   "metadata": {},
   "source": [
    "## 使用 cvxpy 进行优化\n",
    "\n",
    "http://www.cvxpy.org/\n",
    "\n",
    "练习使用 cvxpy 求解一个简单的优化问题。假设投资组合有 2 个资产，并且知道股票 A 的方差和股票 B 的方差，以及股票 A 和 B 之间的相关性，需要算出最优权重。请创建一个函数，将这些值作为参数，并返回最优权重向量，即\n",
    "\n",
    "$\\mathbf{x} = \\begin{bmatrix}\n",
    "x_A & x_B\n",
    "\\end{bmatrix}\n",
    "$\n",
    "\n",
    "\n",
    "该问题的约束条件为：$x_A + x_B = 1$\n",
    "\n",
    "\n",
    "\n",
    "## 提示\n",
    "\n",
    "### 标准差\n",
    "标准差 $\\sigma_A = \\sqrt(\\sigma^2_A)$，其中 $\\sigma^2_A$ 是 $x_A$ 的方差\n",
    "查看 `np.sqrt()`\n",
    "\n",
    "### 协方差\n",
    "两支股票的相关性是 \\rho_{A,B}$\n",
    "\n",
    "两支股票的协方差是 $\\sigma_{A,B} = \\sigma_A \\times \\sigma_B \\times \\rho_{A,B}$\n",
    "\n",
    "### x 向量\n",
    "创建一个有两个变量的向量 $\\mathbf{x} = \\begin{bmatrix}\n",
    "x_A & x_B\n",
    "\\end{bmatrix}\n",
    "$\n",
    "我们可以使用 `cvx.Variable(2)`\n",
    "\n",
    "### 协方差矩阵\n",
    "协方差矩阵 $P = \n",
    "\\begin{bmatrix}\n",
    "\\sigma^2_A & \\sigma_{A,B} \\\\ \n",
    "\\sigma_{A,B} & \\sigma^2_B \n",
    "\\end{bmatrix}$\n",
    "\n",
    "我们可以使用二维 numpy 数组创建一个 2 x 2 矩阵\n",
    "`np.array([[\"Cindy\", \"Liz\"],[\"Eddy\", \"Brok\"]])`\n",
    "\n",
    "### 二次型\n",
    "可以将投资组合方差写成 $\\sigma^2_p = \\mathbf{x^T} \\mathbf{P} \\mathbf{x}$\n",
    "\n",
    "$\\mathbf{x^T} \\mathbf{P} \\mathbf{x}$ 称为二次型。\n",
    "我们可以使用 cvxpy 函数 `quad_form(x,P)` 获得二次型。\n",
    "\n",
    "### 目标函数\n",
    "接下来，我们需要定义目标函数。在这道练习中，我们想要最小化某个量。那么最小化什么呢？我们想最小化投资组合方差，即二次型 $\\mathbf{x^T} \\mathbf{P} \\mathbf{x}$\n",
    "\n",
    "我们可以使用 cvxpy `objective = cvx.Minimize()` 得出目标函数。你认为应该向此函数传入什么？\n",
    "\n",
    "\n",
    "### 约束条件\n",
    "还可以使用列表定义约束条件。例如，如果你希望 $\\sum_{1}^{n}x = 1$，可以将变量另存为 `[sum(x)==1]`，其中 x 是用 `cvx.Variable()` 创建的。\n",
    "\n",
    "### 优化\n",
    "设定目标函数和约束条件后，我们可以求解 $\\mathbf{x}$ 的值。\n",
    "cvxpy 具有构造函数 `Problem(objective, constraints)`，它返回一个 `Problem` 对象。\n",
    "\n",
    "`Problem` 对象具有函数 solve()，它返回解的最小值，即投资组合的最小方差。\n",
    "\n",
    "它还会更新向量 $\\mathbf{x}$。\n",
    "\n",
    "我们可以使用 `x.value` 查看得出最小投资组合方差的 $x_A$ 和 $x_B$ 值。"
   ]
  },
  {
   "cell_type": "code",
   "execution_count": null,
   "metadata": {},
   "outputs": [],
   "source": [
    "import cvxpy as cvx\n",
    "import numpy as np\n",
    "\n",
    "def optimize_twoasset_portfolio(varA, varB, rAB):\n",
    "    \"\"\"Create a function that takes in the variance of Stock A, the variance of\n",
    "    Stock B, and the correlation between Stocks A and B as arguments and returns \n",
    "    the vector of optimal weights\n",
    "    \n",
    "    Parameters\n",
    "    ----------\n",
    "    varA : float\n",
    "        The variance of Stock A.\n",
    "        \n",
    "    varB : float\n",
    "        The variance of Stock B.    \n",
    "        \n",
    "    rAB : float\n",
    "        The correlation between Stocks A and B.\n",
    "        \n",
    "    Returns\n",
    "    -------\n",
    "    x : np.ndarray\n",
    "        A 2-element numpy ndarray containing the weights on Stocks A and B,\n",
    "        [x_A, x_B], that minimize the portfolio variance.\n",
    "    \n",
    "    \"\"\"\n",
    "    # TODO: Use cvxpy to determine the weights on the assets in a 2-asset\n",
    "    # portfolio that minimize portfolio variance.\n",
    "    \n",
    "    #cov = \n",
    "    \n",
    "    # x = \n",
    "    \n",
    "    # P = \n",
    "    \n",
    "    #objective = \n",
    "    \n",
    "    # constraints = \n",
    "    \n",
    "    # problem = \n",
    "    \n",
    "    #min_value = \n",
    "    # xA,xB = \n",
    "    \n",
    "    # return xA and xB\n",
    "    return\n",
    "\n",
    "quiz_tests.test_optimize_twoasset_portfolio(optimize_twoasset_portfolio)"
   ]
  },
  {
   "cell_type": "code",
   "execution_count": null,
   "metadata": {},
   "outputs": [],
   "source": [
    "\"\"\"Test run optimize_twoasset_portfolio().\"\"\"\n",
    "xA,xB = optimize_twoasset_portfolio(0.1, 0.05, 0.25)\n",
    "print(\"Weight on Stock A: {:.6f}\".format(xA))\n",
    "print(\"Weight on Stock B: {:.6f}\".format(xB))"
   ]
  },
  {
   "cell_type": "markdown",
   "metadata": {},
   "source": [
    "如果你遇到问题，请在[此处](m3l4_cvxpy_basic_solution.ipynb)查看解答"
   ]
  }
 ],
 "metadata": {
  "kernelspec": {
   "display_name": "Python 3",
   "language": "python",
   "name": "python3"
  },
  "language_info": {
   "codemirror_mode": {
    "name": "ipython",
    "version": 3
   },
   "file_extension": ".py",
   "mimetype": "text/x-python",
   "name": "python",
   "nbconvert_exporter": "python",
   "pygments_lexer": "ipython3",
   "version": "3.6.3"
  }
 },
 "nbformat": 4,
 "nbformat_minor": 2
}
