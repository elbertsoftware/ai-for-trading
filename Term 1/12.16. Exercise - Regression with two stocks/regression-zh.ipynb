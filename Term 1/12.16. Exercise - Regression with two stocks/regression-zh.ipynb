{
 "cells": [
  {
   "cell_type": "markdown",
   "metadata": {},
   "source": [
    "﻿\n",
    "\n",
    "# 回归\n",
    "\n",
    "## 安装软件包"
   ]
  },
  {
   "cell_type": "code",
   "execution_count": null,
   "metadata": {},
   "outputs": [],
   "source": [
    "import sys\n",
    "!{sys.executable} -m pip install -r requirements.txt"
   ]
  },
  {
   "cell_type": "code",
   "execution_count": null,
   "metadata": {},
   "outputs": [],
   "source": [
    "import pandas as pd\n",
    "import numpy as np\n",
    "import os\n",
    "import helper\n",
    "import quiz_tests\n",
    "import matplotlib.pyplot as plt"
   ]
  },
  {
   "cell_type": "code",
   "execution_count": null,
   "metadata": {},
   "outputs": [],
   "source": [
    "plt.style.use('ggplot')\n",
    "plt.rcParams['figure.figsize'] = (14, 8)"
   ]
  },
  {
   "cell_type": "markdown",
   "metadata": {},
   "source": [
    "## 模拟两支股票的价格"
   ]
  },
  {
   "cell_type": "code",
   "execution_count": null,
   "metadata": {},
   "outputs": [],
   "source": [
    "# just set the seed for the random number generator\n",
    "np.random.seed(100)\n",
    "# use returns to create a price series\n",
    "drift = 100\n",
    "r0 = pd.Series(np.random.normal(0, 1, 1000))\n",
    "s0 = pd.Series(np.cumsum(r0), name='s0') + drift\n",
    "\n",
    "noise1 = np.random.normal(0, 0.4, 1000)\n",
    "drift1 = 50\n",
    "r1 = r0 + noise1\n",
    "s1 = pd.Series(np.cumsum(r1), name='s1') + drift1\n",
    "\n",
    "noise2 = np.random.normal(0, 0.4, 1000)\n",
    "drift2 = 60\n",
    "r2 = r0 + noise2\n",
    "s2 = pd.Series(np.cumsum(r2), name='s2') + drift2\n",
    "\n",
    "pd.concat([s1, s2], axis=1).plot(figsize=(15,6))\n",
    "plt.show()"
   ]
  },
  {
   "cell_type": "code",
   "execution_count": null,
   "metadata": {},
   "outputs": [],
   "source": [
    "## Plot data with scatterplot\n",
    "sc = plt.scatter(s2, s1, s=30, edgecolor='b', alpha=0.7)\n",
    "plt.xlabel('s2')\n",
    "plt.ylabel('s1');"
   ]
  },
  {
   "cell_type": "code",
   "execution_count": null,
   "metadata": {},
   "outputs": [],
   "source": [
    "from sklearn.linear_model import LinearRegression"
   ]
  },
  {
   "cell_type": "markdown",
   "metadata": {},
   "source": [
    "## 小测验：线性回归\n",
    "\n",
    "注意，LinearRegression().fit() 要求输入是二维numpy 数组。因为 s1 和 s2 是 pandas series，所以我们可以使用 Series.values 将值变成 numpy 数组。因为它们是一维数组，所以我们可以使用 numpy.reshape(-1,1) 将这些值变成 1000 行 x 1 列二维数组。  \n",
    "\n",
    "以下回归线的线性回归系数 $\\beta$ 和 $intercept$：  \n",
    "$y = \\beta \\times x + intercept$  \n",
    "在拟合数据后可以得出。`LinearRegression.coef_` 表示斜率（β 系数），`LinearRegression.intercept_` 表示截距。建议尝试在函数定义外面访问这些方法，看看是否需要更多的方括号 `[]` 来访问这些值。"
   ]
  },
  {
   "cell_type": "code",
   "execution_count": null,
   "metadata": {},
   "outputs": [],
   "source": [
    "def regression_slope_and_intercept(xSeries, ySeries):\n",
    "    \"\"\"\n",
    "    xSeries: pandas series, x variable\n",
    "    ySeries: pandas series, y variable\n",
    "    \"\"\"\n",
    "    lr = LinearRegression()\n",
    "    #TODO: get the values from each series, reshape to be 2 dimensional\n",
    "    #set s1 to the x variable, s2 to the y variable\n",
    "    xVar = \n",
    "    yVar = \n",
    "    \n",
    "    #TODO: call LinearRegression.fit().  Pass in the x variable then y variable\n",
    "    \n",
    "    #TODO: obtain the slope and intercept\n",
    "    slope = \n",
    "    intercept = \n",
    "    \n",
    "    return (slope, intercept)\n",
    "\n",
    "quiz_tests.test_regression_slope_and_intercept(regression_slope_and_intercept);"
   ]
  },
  {
   "cell_type": "code",
   "execution_count": null,
   "metadata": {},
   "outputs": [],
   "source": [
    "slope, intercept = regression_slope_and_intercept(s1,s2);\n",
    "print(f\"slope {slope:.2f} and intercept {intercept:.2f}\")"
   ]
  },
  {
   "cell_type": "markdown",
   "metadata": {},
   "source": [
    "### 使用散点图绘制回归线"
   ]
  },
  {
   "cell_type": "code",
   "execution_count": null,
   "metadata": {},
   "outputs": [],
   "source": [
    "plt.scatter(s2, s1, s=30, edgecolor='b', alpha=0.5);\n",
    "x = np.linspace(s1.min()-5, s1.max()+5, 2)\n",
    "yPred = slope * x + intercept\n",
    "plt.plot(yPred,x, alpha=0.2, lw=3, color='r')\n",
    "plt.xlabel('s2')\n",
    "plt.ylabel('s1');"
   ]
  },
  {
   "cell_type": "markdown",
   "metadata": {},
   "source": [
    "如果你遇到问题，请在[此处](regression_solution.ipynb)查看解答。"
   ]
  }
 ],
 "metadata": {
  "kernelspec": {
   "display_name": "Python 3",
   "language": "python",
   "name": "python3"
  },
  "language_info": {
   "codemirror_mode": {
    "name": "ipython",
    "version": 3
   },
   "file_extension": ".py",
   "mimetype": "text/x-python",
   "name": "python",
   "nbconvert_exporter": "python",
   "pygments_lexer": "ipython3",
   "version": "3.6.3"
  }
 },
 "nbformat": 4,
 "nbformat_minor": 2
}
