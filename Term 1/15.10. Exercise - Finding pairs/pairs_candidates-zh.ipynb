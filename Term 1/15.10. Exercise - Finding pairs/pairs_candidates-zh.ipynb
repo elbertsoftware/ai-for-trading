{
 "cells": [
  {
   "cell_type": "markdown",
   "metadata": {},
   "source": [
    "# 检查一对股票是否具有协整关系"
   ]
  },
  {
   "cell_type": "markdown",
   "metadata": {},
   "source": [
    "## 导入"
   ]
  },
  {
   "cell_type": "code",
   "execution_count": null,
   "metadata": {},
   "outputs": [],
   "source": [
    "import numpy as np\n",
    "import pandas as pd\n",
    "from sklearn.linear_model import LinearRegression\n",
    "from statsmodels.tsa.stattools import adfuller\n",
    "import matplotlib.pyplot as plt\n",
    "import quiz_tests"
   ]
  },
  {
   "cell_type": "code",
   "execution_count": null,
   "metadata": {},
   "outputs": [],
   "source": [
    "# Set plotting options\n",
    "%matplotlib inline\n",
    "plt.rc('figure', figsize=(16, 9))"
   ]
  },
  {
   "cell_type": "code",
   "execution_count": null,
   "metadata": {},
   "outputs": [],
   "source": [
    "# just set the seed for the random number generator\n",
    "np.random.seed(2018)\n",
    "# use returns to create a price series\n",
    "drift = 100\n",
    "r1 = np.random.normal(0, 1, 1000) \n",
    "s1 = pd.Series(np.cumsum(r1), name='s1') + drift\n",
    "s1.plot(figsize=(14,6))\n",
    "plt.show()"
   ]
  },
  {
   "cell_type": "code",
   "execution_count": null,
   "metadata": {},
   "outputs": [],
   "source": [
    "offset = 10\n",
    "noise = np.random.normal(0, 1, 1000)\n",
    "s2 = s1 + offset + noise\n",
    "s2.name = 's2'\n",
    "pd.concat([s1, s2], axis=1).plot(figsize=(15,6))\n",
    "plt.show()"
   ]
  },
  {
   "cell_type": "code",
   "execution_count": null,
   "metadata": {},
   "outputs": [],
   "source": [
    "price_ratio = s2/s1\n",
    "price_ratio.plot(figsize=(15,7)) \n",
    "plt.axhline(price_ratio.mean(), color='black') \n",
    "plt.xlabel('Days')\n",
    "plt.legend(['s2/s1 price ratio', 'average price ratio'])\n",
    "plt.show()\n",
    "print(f\"average price ratio {price_ratio.mean():.4f}\")"
   ]
  },
  {
   "cell_type": "markdown",
   "metadata": {},
   "source": [
    "## 通过回归计算对冲比率"
   ]
  },
  {
   "cell_type": "markdown",
   "metadata": {},
   "source": [
    "## 线性回归\n",
    "\n",
    "注意，LinearRegression().fit() 要求输入是二维数组。因为 s1 和 s2 是 pandas 序列，所以我们可以使用 Series.values 将值变成 numpy 数组。因为这些数组是一维的，我们可以使用 numpy.reshape(-1,1) 将它们变成 1000 行 x 1 列二维数组。"
   ]
  },
  {
   "cell_type": "code",
   "execution_count": null,
   "metadata": {},
   "outputs": [],
   "source": [
    "type(s1)"
   ]
  },
  {
   "cell_type": "code",
   "execution_count": null,
   "metadata": {},
   "outputs": [],
   "source": [
    "type(s1.values)"
   ]
  },
  {
   "cell_type": "code",
   "execution_count": null,
   "metadata": {},
   "outputs": [],
   "source": [
    "s1.values.reshape(-1,1).shape"
   ]
  },
  {
   "cell_type": "code",
   "execution_count": null,
   "metadata": {},
   "outputs": [],
   "source": [
    "lr = LinearRegression()\n",
    "lr.fit(s1.values.reshape(-1,1),s2.values.reshape(-1,1))"
   ]
  },
  {
   "cell_type": "code",
   "execution_count": null,
   "metadata": {},
   "outputs": [],
   "source": [
    "hedge_ratio = lr.coef_[0][0]\n",
    "hedge_ratio"
   ]
  },
  {
   "cell_type": "code",
   "execution_count": null,
   "metadata": {},
   "outputs": [],
   "source": [
    "intercept = lr.intercept_[0]\n",
    "intercept"
   ]
  },
  {
   "cell_type": "code",
   "execution_count": null,
   "metadata": {},
   "outputs": [],
   "source": [
    "print(f\"hedge ratio from regression is {hedge_ratio:.4f}, intercept is {intercept:.4f}\")"
   ]
  },
  {
   "cell_type": "markdown",
   "metadata": {},
   "source": [
    " ## 问题\n",
    " 在计算价差时，你认为我们需要截距吗？为何呢？"
   ]
  },
  {
   "cell_type": "markdown",
   "metadata": {},
   "source": [
    "## 计算价差"
   ]
  },
  {
   "cell_type": "code",
   "execution_count": null,
   "metadata": {},
   "outputs": [],
   "source": [
    "spread = s2 - s1 * hedge_ratio"
   ]
  },
  {
   "cell_type": "code",
   "execution_count": null,
   "metadata": {},
   "outputs": [],
   "source": [
    "print(f\"Average spread is {spread.mean()}\")"
   ]
  },
  {
   "cell_type": "code",
   "execution_count": null,
   "metadata": {},
   "outputs": [],
   "source": [
    "spread.plot(figsize=(15,7)) \n",
    "plt.axhline(spread.mean(), color='black') \n",
    "plt.xlabel('Days')\n",
    "plt.legend(['Spread: s2 - hedge_ratio * s1', 'average spread'])\n",
    "plt.show()"
   ]
  },
  {
   "cell_type": "markdown",
   "metadata": {},
   "source": [
    "## 如果包含截距，会获得什么结果"
   ]
  },
  {
   "cell_type": "code",
   "execution_count": null,
   "metadata": {},
   "outputs": [],
   "source": [
    "spread_with_intercept = s2 - (s1 * hedge_ratio + intercept)\n",
    "print(f\"Average spread with intercept included is {spread_with_intercept.mean()}\")"
   ]
  },
  {
   "cell_type": "code",
   "execution_count": null,
   "metadata": {},
   "outputs": [],
   "source": [
    "spread_with_intercept.plot(figsize=(15,7)) \n",
    "plt.axhline(spread_with_intercept.mean(), color='black') \n",
    "plt.xlabel('Days')\n",
    "plt.legend(['Spread: s2 - (hedge_ratio * s1 + intercept)', 'average spread'])\n",
    "plt.show()"
   ]
  },
  {
   "cell_type": "markdown",
   "metadata": {},
   "source": [
    "## 小测验\n",
    "### 使用 Augmented Dickey Fuller 检验检查价差是否稳定\n",
    "\n",
    "[adfuller](http://www.statsmodels.org/dev/generated/statsmodels.tsa.stattools.adfuller.html) 函数属于 statsmodel 库。\n",
    "\n",
    "```\n",
    "adfuller(x, maxlag=None, regression='c', autolag='AIC', store=False, regresults=False)[source]\n",
    "\n",
    "adf (float) – Test statistic\n",
    "pvalue (float) – p-value\n",
    "...\n",
    "```"
   ]
  },
  {
   "cell_type": "code",
   "execution_count": null,
   "metadata": {},
   "outputs": [],
   "source": [
    "def is_spread_stationary(spread, p_level=0.05):\n",
    "    \"\"\"\n",
    "    spread: obtained from linear combination of two series with a hedge ratio\n",
    "    \n",
    "    p_level: level of significance required to reject null hypothesis of non-stationarity\n",
    "    \n",
    "    returns:\n",
    "        True if spread can be considered stationary\n",
    "        False otherwise\n",
    "    \"\"\"\n",
    "    #TODO: use the adfuller function to check the spread\n",
    "    #adf_result = \n",
    "    \n",
    "    #get the p-value\n",
    "    #pvalue = \n",
    "    \n",
    "    print(f\"pvalue {pvalue:.4f}\")\n",
    "    if pvalue <= p_level:\n",
    "        print(f\"pvalue is <= {p_level}, assume spread is stationary\")\n",
    "        return True\n",
    "    else:\n",
    "        print(f\"pvalue is > {p_level}, assume spread is not stationary\")\n",
    "        return False\n",
    "    \n",
    "quiz_tests.test_is_spread_stationary(is_spread_stationary)"
   ]
  },
  {
   "cell_type": "code",
   "execution_count": null,
   "metadata": {},
   "outputs": [],
   "source": [
    "# Try out your function\n",
    "print(f\"Are the two series candidates for pairs trading? {is_spread_stationary(spread)}\")"
   ]
  },
  {
   "cell_type": "markdown",
   "metadata": {},
   "source": [
    "如果你遇到问题，请在[此处](pairs_candidates_solution.ipynb)查看解答。"
   ]
  },
  {
   "cell_type": "code",
   "execution_count": null,
   "metadata": {},
   "outputs": [],
   "source": []
  }
 ],
 "metadata": {
  "kernelspec": {
   "display_name": "Python 3",
   "language": "python",
   "name": "python3"
  },
  "language_info": {
   "codemirror_mode": {
    "name": "ipython",
    "version": 3
   },
   "file_extension": ".py",
   "mimetype": "text/x-python",
   "name": "python",
   "nbconvert_exporter": "python",
   "pygments_lexer": "ipython3",
   "version": "3.6.3"
  }
 },
 "nbformat": 4,
 "nbformat_minor": 2
}
