{
 "cells": [
  {
   "cell_type": "markdown",
   "metadata": {},
   "source": [
    "# 检查分布是否正态"
   ]
  },
  {
   "cell_type": "markdown",
   "metadata": {},
   "source": [
    "## 导入"
   ]
  },
  {
   "cell_type": "code",
   "execution_count": null,
   "metadata": {},
   "outputs": [],
   "source": [
    "import numpy as np\n",
    "import pandas as pd\n",
    "import scipy.stats as stats\n",
    "import matplotlib.pyplot as plt\n",
    "import quiz_tests\n",
    "\n",
    "# Set plotting options\n",
    "%matplotlib inline\n",
    "plt.rc('figure', figsize=(16, 9))"
   ]
  },
  {
   "cell_type": "markdown",
   "metadata": {},
   "source": [
    "## 创建正态和非正态分布"
   ]
  },
  {
   "cell_type": "code",
   "execution_count": null,
   "metadata": {},
   "outputs": [],
   "source": [
    "# Sample A: Normal distribution\n",
    "sample_a = stats.norm.rvs(loc=0.0, scale=1.0, size=(1000,))\n",
    "\n",
    "# Sample B: Non-normal distribution\n",
    "sample_b = stats.lognorm.rvs(s=0.5, loc=0.0, scale=1.0, size=(1000,))"
   ]
  },
  {
   "cell_type": "markdown",
   "metadata": {},
   "source": [
    "## 盒须图和直方图\n",
    "\n",
    "我们可以用肉眼检查分布看起来是否正态。盒须图可以检查分布是否以均值对称。直方图可以显示整体形状。QQ 图可以将我们的数据分布与正态分布进行比较（或者任何其他理论上“理想”的分布）。"
   ]
  },
  {
   "cell_type": "code",
   "execution_count": null,
   "metadata": {},
   "outputs": [],
   "source": [
    "# Sample A: Normal distribution\n",
    "sample_a = stats.norm.rvs(loc=0.0, scale=1.0, size=(1000,))\n",
    "fig, axes = plt.subplots(2, 1, figsize=(16, 9), sharex=True)\n",
    "axes[0].boxplot(sample_a, vert=False)\n",
    "axes[1].hist(sample_a, bins=50)\n",
    "axes[0].set_title(\"Boxplot of a Normal Distribution\");"
   ]
  },
  {
   "cell_type": "code",
   "execution_count": null,
   "metadata": {},
   "outputs": [],
   "source": [
    "# Sample B: Non-normal distribution\n",
    "sample_b = stats.lognorm.rvs(s=0.5, loc=0.0, scale=1.0, size=(1000,))\n",
    "fig, axes = plt.subplots(2, 1, figsize=(16, 9), sharex=True)\n",
    "axes[0].boxplot(sample_b, vert=False)\n",
    "axes[1].hist(sample_b, bins=50)\n",
    "axes[0].set_title(\"Boxplot of a Lognormal Distribution\");"
   ]
  },
  {
   "cell_type": "code",
   "execution_count": null,
   "metadata": {},
   "outputs": [],
   "source": [
    "# Q-Q plot of normally-distributed sample\n",
    "plt.figure(figsize=(10, 10)); plt.axis('equal')\n",
    "stats.probplot(sample_a, dist='norm', plot=plt);"
   ]
  },
  {
   "cell_type": "code",
   "execution_count": null,
   "metadata": {},
   "outputs": [],
   "source": [
    "# Q-Q plot of non-normally-distributed sample\n",
    "plt.figure(figsize=(10, 10)); plt.axis('equal')\n",
    "stats.probplot(sample_b, dist='norm', plot=plt);"
   ]
  },
  {
   "cell_type": "markdown",
   "metadata": {},
   "source": [
    "## 检验正态性\n",
    "### Shapiro-Wilk\n",
    "\n",
    "Shapiro-Wilk 检验位于 scipy 库中。零假设认为数据分布是正态的。如果 p 值大于所选的 p 值，那么我们认为它是正态分布。否则我们认为不是正态分布。\n",
    "https://docs.scipy.org/doc/scipy-0.19.0/reference/generated/scipy.stats.shapiro.html"
   ]
  },
  {
   "cell_type": "code",
   "execution_count": null,
   "metadata": {},
   "outputs": [],
   "source": [
    "\n",
    "def is_normal(sample, test=stats.shapiro, p_level=0.05, **kwargs):\n",
    "    \"\"\"Apply a normality test to check if sample is normally distributed.\"\"\"\n",
    "    t_stat, p_value = test(sample, **kwargs)\n",
    "    print(\"Test statistic: {}, p-value: {}\".format(t_stat, p_value))\n",
    "    print(\"Is the distribution Likely Normal? {}\".format(p_value > p_level))\n",
    "    return p_value > p_level\n",
    "\n",
    "# Using Shapiro-Wilk test (default)\n",
    "print(\"Sample A:-\"); is_normal(sample_a);\n",
    "print(\"Sample B:-\"); is_normal(sample_b);"
   ]
  },
  {
   "cell_type": "markdown",
   "metadata": {},
   "source": []
  },
  {
   "cell_type": "markdown",
   "metadata": {},
   "source": [
    "## Kolmogorov-Smirnov\n",
    "\n",
    "Kolmogorov-Smirnov 检验位于 scipy.stats 库中。K-S 检验会将数据分布与理论分布进行比较。我们将选择 'norm'（正态）分布作为理论分布，并且需要指定理论分布的均值和标准差。我们将用数据分布的均值和标准差设置理论正态分布的均值和标准差。\n",
    "\n",
    "https://docs.scipy.org/doc/scipy-0.14.0/reference/generated/scipy.stats.kstest.html"
   ]
  },
  {
   "cell_type": "markdown",
   "metadata": {},
   "source": [
    "# 小测验\n",
    "\n",
    "使用 Kolmogorov-Smirnov 检验需要完成函数 `is_normal_ks`。\n",
    "\n",
    "设置变量 normal_args 需要创建包含两个值的元组。示例元组：`(\"apple\",\"banana\")`\n",
    "第一个值是样本的均值。第二个值是样本的标准差。\n",
    "\n",
    "**提示：**提示：NumPy 具有函数 np.mean() 和 np.std()"
   ]
  },
  {
   "cell_type": "code",
   "execution_count": null,
   "metadata": {},
   "outputs": [],
   "source": [
    "def is_normal_ks(sample, test=stats.kstest, p_level=0.05, **kwargs):\n",
    "    \"\"\"\n",
    "    sample: a sample distribution\n",
    "    test: a function that tests for normality\n",
    "    p_level: if the test returns a p-value > than p_level, assume normality\n",
    "    \n",
    "    return: True if distribution is normal, False otherwise\n",
    "    \"\"\"\n",
    "    normal_args = \n",
    "    \n",
    "    t_stat, p_value = test(sample, 'norm', normal_args, **kwargs)\n",
    "    print(\"Test statistic: {}, p-value: {}\".format(t_stat, p_value))\n",
    "    print(\"Is the distribution Likely Normal? {}\".format(p_value > p_level))\n",
    "    return p_value > p_level\n",
    "\n",
    "quiz_tests.test_is_normal_ks(is_normal_ks)"
   ]
  },
  {
   "cell_type": "code",
   "execution_count": null,
   "metadata": {},
   "outputs": [],
   "source": [
    "# Using Kolmogorov-Smirnov test\n",
    "print(\"Sample A:-\"); is_normal_ks(sample_a);\n",
    "print(\"Sample B:-\"); is_normal_ks(sample_b);"
   ]
  },
  {
   "cell_type": "markdown",
   "metadata": {},
   "source": [
    "如果你遇到问题，请在[此处](test_normality_solution.ipynb)查看解答。"
   ]
  }
 ],
 "metadata": {
  "kernelspec": {
   "display_name": "Python 3",
   "language": "python",
   "name": "python3"
  },
  "language_info": {
   "codemirror_mode": {
    "name": "ipython",
    "version": 3
   },
   "file_extension": ".py",
   "mimetype": "text/x-python",
   "name": "python",
   "nbconvert_exporter": "python",
   "pygments_lexer": "ipython3",
   "version": "3.6.3"
  }
 },
 "nbformat": 4,
 "nbformat_minor": 2
}
