{
 "cells": [
  {
   "cell_type": "markdown",
   "metadata": {},
   "source": [
    "# PCA 基础知识 - 编程练习\n",
    "\n",
    "在此 notebook 中，你需要将在上节课所学的 PCA 知识应用到实际股票数据中。\n",
    "\n",
    "### 安装软件包"
   ]
  },
  {
   "cell_type": "code",
   "execution_count": null,
   "metadata": {},
   "outputs": [],
   "source": [
    "import sys\n",
    "!{sys.executable} -m pip install -r requirements.txt"
   ]
  },
  {
   "cell_type": "markdown",
   "metadata": {},
   "source": [
    "# 获取收益率\n",
    "\n",
    "在上节课，我们通过二维随机相关的数据了解了如何使用 PCA 降维。在此 notebook 中，我们将对 490 维的股票收益率数据执行相同的操作。我们根据在前几课学习的知识使用 Zipline 从 Quotemedia 数据中获取股票收益率。 `utils` 模块中的 `get_returns(start_date, end_date)` 函数会从 Quotemedia 数据包中获取数据，并生成在 `start_date` 到 `end_date` 之间的股票收益率。你可以查看 `utils` 模块，看看这些操作是如何实现的。\n",
    "\n",
    "在以下代码中，我们使用 `utils.get_returns` 函数获得 `2011-01-05` 到 `2016-01-05` 之间的股票收益率数据。你可以更改开始和结束日期，但是更改后，确保日期是有效的交易日。"
   ]
  },
  {
   "cell_type": "code",
   "execution_count": null,
   "metadata": {},
   "outputs": [],
   "source": [
    "import utils\n",
    "\n",
    "# Get the returns for the fiven start and end date. Both dates must be valid trading dates\n",
    "returns = utils.get_returns(start_date='2011-01-05', end_date='2016-01-05')\n",
    "\n",
    "# Display the first rows of the returns\n",
    "returns.head()"
   ]
  },
  {
   "cell_type": "markdown",
   "metadata": {},
   "source": [
    "# 可视化数据\n",
    "\n",
    "正如在上面看到的，`returns` dataframe 包含 490 个资产的股票收益率。虽然我们不能绘制 490 维的图表，但是一次可以绘制两个资产的数据。这个图表可以展示成对股票的股票收益率关系。\n",
    "\n",
    "在以下代码中，我们使用 `.plot.scatter(x, y)` 方法绘制一个散点图，包含列 `x` 和 `y`。`x` 和 `y` 参数都是整数，表示我们要绘制的列编号。例如，如果我们想知道 `AAL` 和 `AAPL` 的股票关系如何，我们可以设置 `x=1` 和 `y=3`，因为从上述 dataframe 中可以看出，股票 `AAL` 对应列编号 `1`，股票 `AAPL` 对应列编号 `3`。你可以绘制不同的股票对，看看它们的相关性如何。"
   ]
  },
  {
   "cell_type": "code",
   "execution_count": null,
   "metadata": {},
   "outputs": [],
   "source": [
    "%matplotlib inline\n",
    "\n",
    "import matplotlib.pyplot as plt\n",
    "\n",
    "# Set the default figure size\n",
    "plt.rcParams['figure.figsize'] = [10.0, 6.0]\n",
    "\n",
    "# Make scatter plot\n",
    "ax = returns.plot.scatter(x = 1, y = 3, grid = True, color = 'white', alpha = 0.5, linewidth = 0)\n",
    "ax.set_facecolor('lightslategray')"
   ]
  },
  {
   "cell_type": "markdown",
   "metadata": {},
   "source": [
    "# 收益率的相关性\n",
    "\n",
    "除了像在上面可视化股票之间的相关性之外，我们还可以创建一个表示每支股票之间关系的相关性 dataframe。在以下代码中，我们可以使用 `.corr()` 方法计算 `returns` dataframe 中所有股票对的相关性。"
   ]
  },
  {
   "cell_type": "code",
   "execution_count": null,
   "metadata": {},
   "outputs": [],
   "source": [
    "# Display the correlation between all stock pairs in the returns dataframe\n",
    "returns.corr(method = 'pearson').head()"
   ]
  },
  {
   "cell_type": "markdown",
   "metadata": {},
   "source": [
    "可以看出，这种查看股票收益率之间相关性的方法比可视化方法更好。查看表格可以轻松地发现相关性最高的股票对。\n",
    "\n",
    "# TODO：\n",
    "\n",
    "在以下代码中，创建股票  `A` 和股票 `XOM` 的散点图。"
   ]
  },
  {
   "cell_type": "code",
   "execution_count": null,
   "metadata": {},
   "outputs": [],
   "source": [
    "%matplotlib inline\n",
    "\n",
    "import matplotlib.pyplot as plt\n",
    "\n",
    "# Set the default figure size\n",
    "plt.rcParams['figure.figsize'] = [10.0, 6.0]\n",
    "\n",
    "# Make scatter plot\n"
   ]
  },
  {
   "cell_type": "markdown",
   "metadata": {},
   "source": [
    "# TODO：\n",
    "\n",
    "在以下代码中，编写一个函数 `get_num_components(df, var_ret)`，它的参数包括 `df` 以及 `var_ret`，后者表示你要从 `df` dataframe 中保留的方差比率。在此示例中，参数 `df` 应该是在上面获得的  `returns` dataframe。参数  `var_ret` 必须是 0 到 1 之间的数字。该函数应该返回保留所需的方差比率应该要用到的主成分数量。我们可以使用 Scikit-Learn 的 PCA() 类及其 `.explained_variance_ratio_`。该函数还应该输出保留的总方差比率。"
   ]
  },
  {
   "cell_type": "code",
   "execution_count": null,
   "metadata": {},
   "outputs": [],
   "source": [
    "# import resources\n",
    "\n",
    "\n",
    "\n",
    "def get_num_components(df, var_ret):\n",
    "    \n",
    "    # Implement Function\n",
    "    return needed_components\n",
    "        \n",
    "            \n",
    "num_components = get_num_components(returns, 0.9)\n",
    "\n",
    "print('\\nNumber of Principal Components Needed: ', num_components)"
   ]
  },
  {
   "cell_type": "markdown",
   "metadata": {},
   "source": [
    "# TODO：\n",
    "\n",
    "在上个部分，我们计算了保留一定的方差所需的主成分数量。你可能已经注意到，即使保留很高的方差比率 (`var_ret` > 0.9)，也可以显著降低维度。在以下代码中，使用在上个部分计算的所需主成分数量 `num_components` 计算降维百分比。例如，如果原始数据是 100 维，并且保留特定的方差比率所需的主成分数量是 70，那么我们能够使数据降维 30%。"
   ]
  },
  {
   "cell_type": "code",
   "execution_count": null,
   "metadata": {},
   "outputs": [],
   "source": [
    "# Calculate the percentage of dimensionality reduction\n",
    "\n",
    "print('We were able to reduce the dimenionality of the data by:', red_per, 'percent')"
   ]
  },
  {
   "cell_type": "markdown",
   "metadata": {},
   "source": [
    "## 解答\n",
    "\n",
    "[解答 notebook](pca_basics_solution.ipynb)"
   ]
  }
 ],
 "metadata": {
  "kernelspec": {
   "display_name": "Python 3",
   "language": "python",
   "name": "python3"
  },
  "language_info": {
   "codemirror_mode": {
    "name": "ipython",
    "version": 3
   },
   "file_extension": ".py",
   "mimetype": "text/x-python",
   "name": "python",
   "nbconvert_exporter": "python",
   "pygments_lexer": "ipython3",
   "version": "3.6.3"
  }
 },
 "nbformat": 4,
 "nbformat_minor": 2
}
