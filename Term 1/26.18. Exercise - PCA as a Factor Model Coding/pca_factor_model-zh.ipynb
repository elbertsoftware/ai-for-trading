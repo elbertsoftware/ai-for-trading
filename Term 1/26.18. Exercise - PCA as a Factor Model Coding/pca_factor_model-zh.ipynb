{
 "cells": [
  {
   "cell_type": "markdown",
   "metadata": {},
   "source": [
    "# PCA 因子模型 - 编程练习\n",
    "\n",
    "\n",
    "### 简介\n",
    "\n",
    "正如我们在前几课所学的，我们可以使用 PCA 创建风险因子模型。风险因子模型将收益率表示为：\n",
    "\n",
    "$$\n",
    "\\textbf{r} = \\textbf{B}\\textbf{f} + \\textbf{s}\n",
    "$$\n",
    "\n",
    "其中 $\\textbf{r}$ 是一个包含资产收益率的矩阵，$\\textbf{B}$ 是一个表示因子暴露度的矩阵，$\\textbf{f}$ 是因子收益率，并且 $\\textbf{s}$ 是特质风险（亦称为公司特有风险）。\n",
    "\n",
    "在此 notebook 中，我们将使用真实股票数据计算：\n",
    "\n",
    "* 因子暴露度（因子 β）$\\textbf{B}$\n",
    "* 因子收益率 $\\textbf{f}$\n",
    "* 特质风险矩阵 $\\textbf{S}$\n",
    "* 因子协方差矩阵 $\\textbf{F}$\n",
    "\n",
    "然后，我们将利用这些量创建风险模型。\n",
    "\n",
    "### 安装库"
   ]
  },
  {
   "cell_type": "code",
   "execution_count": null,
   "metadata": {},
   "outputs": [],
   "source": [
    "import sys\n",
    "!{sys.executable} -m pip install -r requirements.txt"
   ]
  },
  {
   "cell_type": "markdown",
   "metadata": {},
   "source": [
    "# 获取收益率\n",
    "\n",
    "在此 notebook 中，我们将使用 Zipline 从 Quotemedia 数据中获得股票收益率，就像在前几课所学的那样。 `utils` 模块中的 `get_returns(start_date, end_date)` 函数会从 Quotemedia 数据包中获取数据，并生成从 `start_date` 到 `end_date` 的股票收益率。你可以查看 `utils` 模块，看看这些操作是如何实现的。\n",
    "\n",
    "在以下代码中，我们使用 `utils.get_returns` 函数获得 `2011-01-05` 到 `2016-01-05` 之间的股票数据收益率。你可以更改开始和结束日期，但是更改后，确保日期是有效的交易日。"
   ]
  },
  {
   "cell_type": "code",
   "execution_count": null,
   "metadata": {},
   "outputs": [],
   "source": [
    "import utils\n",
    "\n",
    "# Get the returns for the fiven start and end date. Both dates must be valid trading dates\n",
    "returns = utils.get_returns(start_date='2011-01-05', end_date='2016-01-05')\n",
    "\n",
    "# Display the first rows of the returns\n",
    "returns.head()"
   ]
  },
  {
   "cell_type": "markdown",
   "metadata": {},
   "source": [
    "# TODO：因子暴露度\n",
    "\n",
    "在以下代码中，编写一个函数 `factor_betas(pca, factor_beta_indices, factor_beta_columns)` ，它会计算 Scikit-Learn 的 `PCA()` 类中的因子暴露度。注意，因子暴露度矩阵 $\\textbf{B}$ 描述了主成分在原始基下的坐标。`pca` 参数必须是 Scikit-Learn 的 pca 对象，并用收益率拟合了模型。换句话说，你必须先运行 `pca.fit(returns)` ，然后再将此参数传入函数中。稍后，我们将创建函数 `fit_pca()`，它将拟合 PCA 模型并返回 `pca` 对象。`factor_beta_indices` 参数必须是一维 ndarray，其中包含 `returns` dataframe 的列名称。`factor_beta_columns` 参数必须是一维 ndarray，其中包含均匀间隔的整数，范围从 0 直到你在 `pca` 模型中使用的主成分数量减一。例如，如果你在 `pca` 模型中使用了 5 个主成分 (`pca = PCA(n_components = 5)`)，那么 `factor_beta_columns = [0, 1, 2, 3, 4]`。此函数必须返回一个包含因子暴露度的 Pandas dataframe，其中 `factor_beta_indices` 对应于该 dataframe 的索引，`factor_beta_columns` 对应于该 dataframe 的列名称。"
   ]
  },
  {
   "cell_type": "code",
   "execution_count": null,
   "metadata": {},
   "outputs": [],
   "source": [
    "def factor_betas(pca, factor_beta_indices, factor_beta_columns):\n",
    "\n",
    "    #Implement Function\n",
    "    \n"
   ]
  },
  {
   "cell_type": "markdown",
   "metadata": {},
   "source": [
    "# TODO：因子收益率\n",
    "\n",
    "在以下代码中，编写一个函数 `factor_returns(pca, returns, factor_return_indices, factor_return_columns)` ，它会计算 Scikit-Learn 的 `PCA()` 类的因子收益率。注意，因子收益率矩阵 $\\textbf{f}$ 表示用**新**基表达的 `returns` 。`pca` 参数必须是 Scikit-Learn 的 pca 对象，并用收益率拟合了模型。换句话说，你必须先运行 `pca.fit(returns)` ，然后再将此参数传入函数中。稍后，我们将创建函数 `fit_pca()`，它将拟合 PCA 模型并返回 `pca` 对象。 `returns` 参数是在 notebook 开头时给定的收益率 pandas dataframe。 `factor_return_indices` 参数必须是一维 ndarray，其中包含 `returns` dataframe 的交易日期 (Pandas `DatetimeIndex`)。`factor_return_columns` 参数必须是一维 ndarray，其中包含均匀间隔的整数，范围从 0 直到你在 `pca` 模型中使用的主成分数量减一。例如，如果你在 `pca` 模型中使用了 5 个主成分 (`pca = PCA(n_components = 5)`)，那么 `factor_return_columns = [0, 1, 2, 3, 4]`。此函数必须返回一个包含因子收益率的 Pandas dataframe，其中 `factor_return_indices` 对应于该 dataframe 的索引，`factor_return_columns` 对应于该 dataframe 的列名称。"
   ]
  },
  {
   "cell_type": "code",
   "execution_count": null,
   "metadata": {},
   "outputs": [],
   "source": [
    "import pandas as pd \n",
    "\n",
    "def factor_returns(pca, returns, factor_return_indices, factor_return_columns):\n",
    "    \n",
    "    #Implement Function\n"
   ]
  },
  {
   "cell_type": "markdown",
   "metadata": {},
   "source": [
    "# TODO：特质风险矩阵\n",
    "\n",
    "下面看看如何计算特质风险矩阵 $\\textbf{S}$。我们知道： \n",
    "\n",
    "$$\n",
    "\\textbf{s} = \\textbf{r} - \\textbf{B}\\textbf{f}\n",
    "$$\n",
    "\n",
    "我们将 $\\textbf{s}$ 称为残差。为了计算特质或特有风险矩阵 $\\textbf{S}$，我们需要计算残差 $\\textbf{s}$ 的协方差矩阵，并将非对角线元素设为 0。\n",
    "\n",
    "在以下代码中，创建一个函数 `idiosyncratic_var_matrix(returns, factor_returns, factor_betas, ann_factor)` ，它会计算**年化**特质风险矩阵。`returns` 参数是在  notebook 开头时给定的收益率 pandas dataframe。`factor_returns` 参数是在上面创建的 `factor_returns()` 函数的输出。同理，`factor_betas` 参数是在上面创建的 `factor_betas()` 函数的输出。`ann_factor` 参数是一个表示年化因子的整数。\n",
    "\n",
    "注意，如果 `returns` 时间序列是每日收益率，那么在计算特质风险矩阵时，我们将获得每日的值。我们可以直接将整个特质风险矩阵乘以年化因子 252，得出年化收益率。注意，不需要求因子的平方根，因为这些数字是方差，不是标准差。\n",
    "\n",
    "函数必须返回包含年化风险矩阵的 pandas dataframe，其中包含在主对角线上的残差，并且非对角线元素设为 0。"
   ]
  },
  {
   "cell_type": "code",
   "execution_count": null,
   "metadata": {},
   "outputs": [],
   "source": [
    "def idiosyncratic_var_matrix(returns, factor_returns, factor_betas, ann_factor):\n",
    "    \n",
    "    #Implement Function\n",
    "    \n"
   ]
  },
  {
   "cell_type": "markdown",
   "metadata": {},
   "source": [
    "# TODO：因子协方差矩阵\n",
    "\n",
    "我们使用以下方程计算年化因子协方差矩阵 $\\textbf{F}$：\n",
    "\n",
    "$$\n",
    "\\textbf{F} = \\frac{1}{N -1}\\textbf{f}\\textbf{f}^T\n",
    "$$\n",
    "\n",
    "其中 $N$ 是 $\\textbf{f}$ 中的元素数量。因子协方差矩阵 $\\textbf{F}$ 是一个对角矩阵。\n",
    "\n",
    "创建一个函数 `factor_cov_matrix(factor_returns, ann_factor)`，它将根据因子收益率 $\\textbf{f}$ 计算年化因子协方差矩阵。`factor_returns` 参数是在上面创建的 `factor_returns()` 函数的输出，`ann_factor` 参数是一个表示年化因子的整数。该函数必须返回对角 numpy ndarray。 \n",
    "\n",
    "**提示：**你可以使用 Numpy 的 `.var` 方法非常轻松地计算因子协方差矩阵 $\\textbf{F}$。可以使用 `ddof` 关键字获得 $\\frac{1}{N -1}$ 因子。"
   ]
  },
  {
   "cell_type": "code",
   "execution_count": null,
   "metadata": {},
   "outputs": [],
   "source": [
    "def factor_cov_matrix(factor_returns, ann_factor):\n",
    " \n",
    "    #Implement Function\n",
    "    \n"
   ]
  },
  {
   "cell_type": "markdown",
   "metadata": {},
   "source": [
    "# TODO：执行 PCA\n",
    "\n",
    "在以下代码中，创建一个函数 `fit_pca(returns, num_factor_exposures, svd_solver)`，它将使用 Scikit-Learn 的 `PCA()` 类拟合 `returns` dataframe，并采用给定数量的 `num_factor_exposures`（主成分）和给定的 `svd_solver`。`returns` 参数是在 notebook 开头时给定的收益率 pandas dataframe。`num_factor_exposures` 参数是一个整数，表示你想在 PCA 算法中使用的主成分数量。`svd_solver` 参数是一个字符串，表示你要在 PCA 算法中使用的求解器类型。要了解你可以使用的求解器类型，请参阅此 [Scikit-Learn 文档](http://scikit-learn.org/stable/modules/generated/sklearn.decomposition.PCA.html)。该函数必须拟合 `returns` 并返回 `pca` 对象。"
   ]
  },
  {
   "cell_type": "code",
   "execution_count": null,
   "metadata": {},
   "outputs": [],
   "source": [
    "from sklearn.decomposition import PCA\n",
    "\n",
    "def fit_pca(returns, num_factor_exposures, svd_solver):\n",
    "\n",
    "    #TODO: Implement function\n",
    "    \n"
   ]
  },
  {
   "cell_type": "markdown",
   "metadata": {},
   "source": [
    "# TODO：创建风险模型\n",
    "\n",
    "\n",
    "在以下代码中创建一个类："
   ]
  },
  {
   "cell_type": "code",
   "execution_count": null,
   "metadata": {},
   "outputs": [],
   "source": [
    "class RiskModel(object):\n",
    "    def __init__(self, returns, ann_factor, num_factor_exposures, pca):"
   ]
  },
  {
   "cell_type": "markdown",
   "metadata": {},
   "source": [
    "其中 `returns` 参数是在 notebook 开头给定的收益率 pandas dataframe。`ann_factor` 参数是一个表示年化因子的整数。`num_factor_exposures` 参数是一个整数，表示你想在 PCA 算法中使用的主成分数量。`pca` 参数是你在上面创建的 `fit_pca()` 函数的输出。该类必须包含在上面创建的所有函数。例如，为了包含因子协方差矩阵，我们将使用："
   ]
  },
  {
   "cell_type": "code",
   "execution_count": null,
   "metadata": {},
   "outputs": [],
   "source": [
    "self.factor_cov_matrix_ = factor_cov_matrix(self.factor_returns_, ann_factor)"
   ]
  },
  {
   "cell_type": "code",
   "execution_count": null,
   "metadata": {},
   "outputs": [],
   "source": [
    "import numpy as np\n",
    "\n",
    "class RiskModel(object):\n",
    "    \n",
    "    #Implement class\n",
    "  \n",
    "\n",
    "# Set the annualized factor\n",
    "ann_factor = \n",
    "\n",
    "# Set the number of factor exposures (principal components) for the PCA algorithm\n",
    "num_factor_exposures = \n",
    "\n",
    "# Set the svd solver for the PCA algorithm\n",
    "svd_solver = 'full'\n",
    "\n",
    "# Fit the PCA Model using the fit_pca() fucntion \n",
    "pca = \n",
    "\n",
    "# Create a RiskModel object\n",
    "rm = "
   ]
  },
  {
   "cell_type": "markdown",
   "metadata": {},
   "source": [
    "# TODO：输出因子暴露度"
   ]
  },
  {
   "cell_type": "code",
   "execution_count": null,
   "metadata": {},
   "outputs": [],
   "source": [
    "# Display the Factor Exposures\n"
   ]
  },
  {
   "cell_type": "markdown",
   "metadata": {},
   "source": [
    "# TODO：输出因子收益率"
   ]
  },
  {
   "cell_type": "code",
   "execution_count": null,
   "metadata": {},
   "outputs": [],
   "source": [
    "# Display the Factor Returns\n"
   ]
  },
  {
   "cell_type": "markdown",
   "metadata": {},
   "source": [
    "# TODO：输出特质风险矩阵"
   ]
  },
  {
   "cell_type": "code",
   "execution_count": null,
   "metadata": {},
   "outputs": [],
   "source": [
    "# Display the Idiosyncratic Risk Matrix\n"
   ]
  },
  {
   "cell_type": "markdown",
   "metadata": {},
   "source": [
    "# TODO：输出因子协方差矩阵"
   ]
  },
  {
   "cell_type": "code",
   "execution_count": null,
   "metadata": {},
   "outputs": [],
   "source": [
    "# Display the Factor Covariance Matrix\n"
   ]
  },
  {
   "cell_type": "markdown",
   "metadata": {},
   "source": [
    "# 查看每个因子解释的方差百分比"
   ]
  },
  {
   "cell_type": "code",
   "execution_count": null,
   "metadata": {},
   "outputs": [],
   "source": [
    "%matplotlib inline\n",
    "\n",
    "import matplotlib.pyplot as plt\n",
    "\n",
    "# Set the default figure size\n",
    "plt.rcParams['figure.figsize'] = [10.0, 6.0]\n",
    "\n",
    "# Make the bar plot\n",
    "plt.bar(np.arange(num_factor_exposures), pca.explained_variance_ratio_);"
   ]
  },
  {
   "cell_type": "markdown",
   "metadata": {},
   "source": [
    "可以看出第一个因子解释了很大一部分方差。我们并不知道潜在模型中每个因子的精确定义，但是可以猜测可能的含义。\n",
    "\n",
    "# 查看因子收益率\n",
    "\n",
    "注意，因子收益率不一定在现实中有直接的含义，但是可以将它们看做一种收益率时间序列，可以作为收益率方差的某种潜在或未知推动因素。"
   ]
  },
  {
   "cell_type": "code",
   "execution_count": null,
   "metadata": {},
   "outputs": [],
   "source": [
    "%matplotlib inline\n",
    "\n",
    "import matplotlib.pyplot as plt\n",
    "\n",
    "# Set the default figure size\n",
    "plt.rcParams['figure.figsize'] = [10.0, 6.0]\n",
    "\n",
    "rm.factor_returns_.loc[:,0:5].cumsum().plot();"
   ]
  },
  {
   "cell_type": "markdown",
   "metadata": {},
   "source": [
    "## 解答\n",
    "\n",
    "[解答 notebook](pca_factor_model_solution.ipynb)"
   ]
  }
 ],
 "metadata": {
  "kernelspec": {
   "display_name": "Python 3",
   "language": "python",
   "name": "python3"
  },
  "language_info": {
   "codemirror_mode": {
    "name": "ipython",
    "version": 3
   },
   "file_extension": ".py",
   "mimetype": "text/x-python",
   "name": "python",
   "nbconvert_exporter": "python",
   "pygments_lexer": "ipython3",
   "version": "3.6.3"
  }
 },
 "nbformat": 4,
 "nbformat_minor": 2
}
