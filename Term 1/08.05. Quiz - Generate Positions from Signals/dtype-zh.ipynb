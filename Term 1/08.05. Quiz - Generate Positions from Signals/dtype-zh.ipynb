{
 "cells": [
  {
   "cell_type": "markdown",
   "metadata": {},
   "source": [
    "﻿\n",
    "# Dtype\n",
    "## 数据类型对象\n",
    "我们来看看如何从信号中生成头寸。首先，我们需要了解 NumPy 中的 `dtype`，即数据类型对象。\n",
    "\n",
    "[数据类型对象](https://docs.scipy.org/doc/numpy-1.13.0/reference/arrays.dtypes.html)是一个表示数据的类。它与[数据类型](data type)相似，但是包含关于数据的[更多信息](https://docs.scipy.org/doc/numpy-1.13.0/reference/arrays.dtypes.html)。我们使用数组 `array` 看看 NumPy 中的一种数据类型对象示例。"
   ]
  },
  {
   "cell_type": "code",
   "execution_count": null,
   "metadata": {},
   "outputs": [],
   "source": [
    "import numpy as np\n",
    "\n",
    "array = np.arange(10)\n",
    "\n",
    "print(array)\n",
    "print(type(array))\n",
    "print(array.dtype)"
   ]
  },
  {
   "cell_type": "markdown",
   "metadata": {},
   "source": [
    "从上述代码中可以看出，`array` 是一个 `numpy.ndarray`，并且数据 `[0 1 2 3 4 5 6 7 8 9]` 表示为 `int64`（64 位整数）。\n",
    "\n",
    "如果将该数据除以 2 以生成非整数数据，会怎样。"
   ]
  },
  {
   "cell_type": "code",
   "execution_count": null,
   "metadata": {},
   "outputs": [],
   "source": [
    "float_arr = array / 2\n",
    "\n",
    "print(float_arr)\n",
    "print(type(float_arr))\n",
    "print(float_arr.dtype)"
   ]
  },
  {
   "cell_type": "markdown",
   "metadata": {},
   "source": [
    "返回的数组具有值 `[ 0.   0.5  1.   1.5  2.   2.5  3.   3.5  4.   4.5]`，即除以 2 后的值。但是，因为此数据无法表示为整数，所以数组现在表示为 `float64`（64 位浮点数）。\n",
    "\n",
    "如何转换回 `int64`？我们将使用 [`ndarray.astype`](https://docs.scipy.org/doc/numpy/reference/generated/numpy.ndarray.astype.html) 函数将其从当前类型转换为类型 `int64` (`np.int64`)."
   ]
  },
  {
   "cell_type": "code",
   "execution_count": null,
   "metadata": {},
   "outputs": [],
   "source": [
    "int_arr = float_arr.astype(np.int64)\n",
    "\n",
    "print(int_arr)\n",
    "print(type(int_arr))\n",
    "print(int_arr.dtype)"
   ]
  },
  {
   "cell_type": "markdown",
   "metadata": {},
   "source": [
    "上述代码将数据转型为 `int64`，但是也改变了数据。因为小数不能表示为整数，所以小数位被丢掉了。\n",
    "\n",
    "## 头寸信号\n",
    "你已经知道[数据类型对象](https://docs.scipy.org/doc/numpy-1.13.0/reference/arrays.dtypes.html)在 NumPy 中是如何使用的，下面我们看看如何使用它从信号中生成头寸。我们使用 `prices` 数组表示一支股票在不同时间点的价格（美元）。"
   ]
  },
  {
   "cell_type": "code",
   "execution_count": null,
   "metadata": {},
   "outputs": [],
   "source": [
    "prices = np.array([1, 3, -2, 9, 5, 7, 2])\n",
    "\n",
    "prices"
   ]
  },
  {
   "cell_type": "markdown",
   "metadata": {},
   "source": [
    "现在我们来确定股票的头寸，当股价高于 2 美元时，我们购买一股，当股价高于 4 美元时，我们再购买3 股。首先需要生成这两个头寸的信号。"
   ]
  },
  {
   "cell_type": "code",
   "execution_count": null,
   "metadata": {},
   "outputs": [],
   "source": [
    "signal_one = prices > 2\n",
    "signal_three = prices > 4\n",
    "\n",
    "print(signal_one)\n",
    "print(signal_three)"
   ]
  },
  {
   "cell_type": "markdown",
   "metadata": {},
   "source": [
    "这样就会得出高于 2 美元和高于 4 美元的信号时间点。要把信号变成头寸大小，我们需要将每个数组乘以相应的投资数量。首先需要使用 [`ndarray.astype`](https://docs.scipy.org/doc/numpy/reference/generated/numpy.ndarray.astype.html) 函数将每个信号变成整数。"
   ]
  },
  {
   "cell_type": "code",
   "execution_count": null,
   "metadata": {},
   "outputs": [],
   "source": [
    "signal_one = signal_one.astype(np.int)\n",
    "signal_three = signal_three.astype(np.int)\n",
    "\n",
    "print(signal_one)\n",
    "print(signal_three)"
   ]
  },
  {
   "cell_type": "markdown",
   "metadata": {},
   "source": [
    "现在将每个数组乘以对应的投资数量。"
   ]
  },
  {
   "cell_type": "code",
   "execution_count": null,
   "metadata": {},
   "outputs": [],
   "source": [
    "pos_one = 1 * signal_one\n",
    "pos_three = 3 * signal_three\n",
    "\n",
    "print(pos_one)\n",
    "print(pos_three)"
   ]
  },
  {
   "cell_type": "markdown",
   "metadata": {},
   "source": [
    "将它们相加后，得出股票在每个时间点的最终头寸。"
   ]
  },
  {
   "cell_type": "code",
   "execution_count": null,
   "metadata": {},
   "outputs": [],
   "source": [
    "long_pos = pos_one + pos_three\n",
    "\n",
    "print(long_pos)"
   ]
  },
  {
   "cell_type": "markdown",
   "metadata": {},
   "source": [
    "## 小测验\n",
    "利用上述信息实现 `generate_positions`，并使用 Pandas 的[`df.astype`](https://pandas.pydata.org/pandas-docs/version/0.21/generated/pandas.DataFrame.astype.html) 函数转换 `prices`，根据以下信号生成最终头寸：\n",
    "- 当股价高于 50 美元时，买入 30 只股票\n",
    "- 当股价低于 20 美元时，卖出 10 只股票。"
   ]
  },
  {
   "cell_type": "code",
   "execution_count": null,
   "metadata": {},
   "outputs": [],
   "source": [
    "import project_tests\n",
    "\n",
    "\n",
    "def generate_positions(prices):\n",
    "    \"\"\"\n",
    "    Generate the following signals:\n",
    "     - Long 30 share of stock when the price is above 50 dollars\n",
    "     - Short 10 shares when it's below 20 dollars\n",
    "    \n",
    "    Parameters\n",
    "    ----------\n",
    "    prices : DataFrame\n",
    "        Prices for each ticker and date\n",
    "    \n",
    "    Returns\n",
    "    -------\n",
    "    final_positions : DataFrame\n",
    "        Final positions for each ticker and date\n",
    "    \"\"\"\n",
    "    # TODO: Implement Function\n",
    "    \n",
    "    return None\n",
    "\n",
    "\n",
    "project_tests.test_generate_positions(generate_positions)"
   ]
  },
  {
   "cell_type": "markdown",
   "metadata": {},
   "source": [
    "## 小测验解答\n",
    "如果你遇到问题，请点击[此处](dtype_solution.ipynb)查看解答。"
   ]
  }
 ],
 "metadata": {
  "kernelspec": {
   "display_name": "Python 3",
   "language": "python",
   "name": "python3"
  },
  "language_info": {
   "codemirror_mode": {
    "name": "ipython",
    "version": 3
   },
   "file_extension": ".py",
   "mimetype": "text/x-python",
   "name": "python",
   "nbconvert_exporter": "python",
   "pygments_lexer": "ipython3",
   "version": "3.6.3"
  }
 },
 "nbformat": 4,
 "nbformat_minor": 2
}
