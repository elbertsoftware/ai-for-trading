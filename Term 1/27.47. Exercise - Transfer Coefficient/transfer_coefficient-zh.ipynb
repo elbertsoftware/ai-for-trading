{
 "cells": [
  {
   "cell_type": "markdown",
   "metadata": {},
   "source": [
    "## 转移系数"
   ]
  },
  {
   "cell_type": "code",
   "execution_count": null,
   "metadata": {},
   "outputs": [],
   "source": [
    "%matplotlib inline\n",
    "import matplotlib.pyplot as plt\n",
    "import numpy as np\n",
    "from scipy.stats.stats import pearsonr\n",
    "from scipy.stats.stats import spearmanr"
   ]
  },
  {
   "cell_type": "code",
   "execution_count": null,
   "metadata": {},
   "outputs": [],
   "source": [
    "num_stocks = 500\n",
    "np.random.seed(201808)"
   ]
  },
  {
   "cell_type": "code",
   "execution_count": null,
   "metadata": {},
   "outputs": [],
   "source": [
    "def standardize_alpha(alpha_vector):\n",
    "    return(alpha_vector - np.mean(alpha_vector))/np.sum(np.abs(alpha_vector))"
   ]
  },
  {
   "cell_type": "markdown",
   "metadata": {},
   "source": [
    "## 模拟单个时段的 alpha 因子"
   ]
  },
  {
   "cell_type": "code",
   "execution_count": null,
   "metadata": {},
   "outputs": [],
   "source": [
    "#make up data for an alpha vector for a single time period\n",
    "def simulate_alpha_vector():\n",
    "    alpha_vector = np.random.normal(size=num_stocks)\n",
    "    return alpha_vector"
   ]
  },
  {
   "cell_type": "code",
   "execution_count": null,
   "metadata": {},
   "outputs": [],
   "source": [
    "alpha_vector = simulate_alpha_vector()"
   ]
  },
  {
   "cell_type": "markdown",
   "metadata": {},
   "source": [
    "## 模拟优化投资组合权重\n",
    "你将在后面的课程中学习使用风险模型和约束条件进行优化。暂时，我们将通过调整原始 alpha 向量模拟投资组合权重优化，并假装这些调整的值是优化器输出的投资组合权重。"
   ]
  },
  {
   "cell_type": "code",
   "execution_count": null,
   "metadata": {},
   "outputs": [],
   "source": [
    "def simulate_optimized_weights(alpha_vector):\n",
    "    standard_alpha_vector = standardize_alpha(alpha_vector)\n",
    "    #add some noise that simulates optimization adjusting the weights.\n",
    "    optimized_weights = standard_alpha_vector + np.random.normal(scale=0.001, size=num_stocks)\n",
    "    return optimized_weights"
   ]
  },
  {
   "cell_type": "code",
   "execution_count": null,
   "metadata": {},
   "outputs": [],
   "source": [
    "optimized_weights = simulate_optimized_weights(alpha_vector)"
   ]
  },
  {
   "cell_type": "markdown",
   "metadata": {},
   "source": [
    "## 可视化 alpha 向量与优化权重"
   ]
  },
  {
   "cell_type": "code",
   "execution_count": null,
   "metadata": {},
   "outputs": [],
   "source": [
    "plt.scatter(alpha_vector,optimized_weights);"
   ]
  },
  {
   "cell_type": "code",
   "execution_count": null,
   "metadata": {},
   "outputs": [],
   "source": [
    "def calculate_transfer_coefficient(alpha_vector, optimized_weights):\n",
    "    #TODO calculate the transfer coefficient\n",
    "    transfer_coefficient, pvalue = # ...\n",
    "    return transfer_coefficient"
   ]
  },
  {
   "cell_type": "code",
   "execution_count": null,
   "metadata": {},
   "outputs": [],
   "source": [
    "transfer_coefficient = calculate_transfer_coefficient(alpha_vector, optimized_weights)"
   ]
  },
  {
   "cell_type": "code",
   "execution_count": null,
   "metadata": {},
   "outputs": [],
   "source": [
    "print(f\"The transfer coefficient is {transfer_coefficient:.4f}\") "
   ]
  },
  {
   "cell_type": "markdown",
   "metadata": {},
   "source": [
    "## 解答 notebook\n",
    "[解答 notebook](transfer_coefficient_solution.ipynb)"
   ]
  }
 ],
 "metadata": {
  "kernelspec": {
   "display_name": "Python 3",
   "language": "python",
   "name": "python3"
  },
  "language_info": {
   "codemirror_mode": {
    "name": "ipython",
    "version": 3
   },
   "file_extension": ".py",
   "mimetype": "text/x-python",
   "name": "python",
   "nbconvert_exporter": "python",
   "pygments_lexer": "ipython3",
   "version": "3.6.3"
  }
 },
 "nbformat": 4,
 "nbformat_minor": 2
}
