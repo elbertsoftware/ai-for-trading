{
 "cells": [
  {
   "cell_type": "markdown",
   "metadata": {},
   "source": [
    "# Zipline 编程练习\n",
    "\n",
    "在此 notebook 中，你将创建一个管道并向其中添加自定义因子和过滤器。\n",
    "\n",
    "### 安装软件包"
   ]
  },
  {
   "cell_type": "code",
   "execution_count": null,
   "metadata": {},
   "outputs": [],
   "source": [
    "import sys\n",
    "!{sys.executable} -m pip install -r requirements.txt"
   ]
  },
  {
   "cell_type": "markdown",
   "metadata": {},
   "source": [
    "# 加载数据"
   ]
  },
  {
   "cell_type": "code",
   "execution_count": null,
   "metadata": {},
   "outputs": [],
   "source": [
    "import os\n",
    "\n",
    "from zipline.data import bundles\n",
    "from zipline.data.bundles.csvdir import csvdir_equities\n",
    "\n",
    "\n",
    "# Specify the bundle name\n",
    "bundle_name = 'm4-quiz-eod-quotemedia'\n",
    "\n",
    "# Create an ingest function \n",
    "ingest_func = csvdir_equities(['daily'], bundle_name)\n",
    "\n",
    "# Register the data bundle and its ingest function\n",
    "bundles.register(bundle_name, ingest_func);\n",
    "\n",
    "# Set environment variable 'ZIPLINE_ROOT' to the path where the most recent data is located\n",
    "os.environ['ZIPLINE_ROOT'] = os.path.join(os.getcwd(), '..', '..', 'data', 'module_4_quizzes_eod')\n",
    "\n",
    "# Load the data bundle\n",
    "bundle_data = bundles.load(bundle_name)"
   ]
  },
  {
   "cell_type": "markdown",
   "metadata": {},
   "source": [
    "# TODO：创建一个包含筛选器的空管道\n",
    "\n",
    "在以下代码中，创建一个包含筛选器的空管道，使管道输出 60 天平均交易量超过 50,000 美元的股票。"
   ]
  },
  {
   "cell_type": "code",
   "execution_count": null,
   "metadata": {},
   "outputs": [],
   "source": [
    "# import resources\n",
    "\n",
    "\n",
    "# Create a screen for our Pipeline\n",
    "\n",
    "\n",
    "# Create an empty Pipeline with the given screen\n"
   ]
  },
  {
   "cell_type": "markdown",
   "metadata": {},
   "source": [
    "# TODO：创建管道引擎\n",
    "\n",
    "在以下代码中，创建一个数据加载器，并使用 Zipline 的`USEquityPricingLoader` 加载数据包。然后创建一个要传入管道引擎的 `get_loader` 参数的函数。使用 Zipline 的 `SimplePipelineEngine` 创建一个管道引擎，并使用纽约证交所交易日历。"
   ]
  },
  {
   "cell_type": "code",
   "execution_count": null,
   "metadata": {},
   "outputs": [],
   "source": [
    "# import resources\n",
    "\n",
    "\n",
    "# Set the dataloader\n",
    "\n",
    "\n",
    "# Define the function for the get_loader parameter\n",
    "\n",
    "# Set the trading calendar\n",
    "\n",
    "\n",
    "# Create a Pipeline engine\n"
   ]
  },
  {
   "cell_type": "markdown",
   "metadata": {},
   "source": [
    "# TODO：为管道创建因子和过滤器\n",
    "\n",
    "### 因子\n",
    "\n",
    "在以下代码中创建两个因子：\n",
    "\n",
    "1. **自定义因子**：创建一个自定义因子 `percent_difference`，它会将 30 天平均收盘价因子与 60 天平均收盘价因子相结合。`percent_difference` 因子将计算 30 天平均收盘价因子与 60 天平均收盘价因子之间的差异，然后将使用 60 天平均收盘价因子标准化此差异。\n",
    "\n",
    "\n",
    "2. **每日收益率因子**：使用 Zipline 的内置 [DailyReturns](https://www.zipline.io/appendix.html#zipline.pipeline.factors.DailyReturns) 因子创建一个返回每日收盘价百分比变化的因子。\n",
    "\n",
    "这两个因子都应该使用 `USEquityPricing`  数据集中的收盘价作为输入。\n",
    "\n",
    "\n",
    "\n",
    "\n",
    "### 过滤器\n",
    "\n",
    "在以下代码中，创建一个**自定义过滤器** `tradable_asset`，对于在 30 天窗口期内平均交易量排名前 20 的证券，如果最新的收盘价高于 30 美元，则返回 `True` 。首先需要创建两个过滤器，然后将它们组合到一起。对于第一个过滤器，可以使用 Zipline 的内置因子 `AverageDollarVolume()` 及其方法 `.top()` 选择在 30 天窗口期内平均交易量排名前 20 的资产。然后使用 `USEquityPricing.close.latest`  从 `USEquityPricing` 数据集中获取最新的收盘价。最后，使用逻辑运算符 `&` 将这两个过滤器组合到一起。"
   ]
  },
  {
   "cell_type": "code",
   "execution_count": null,
   "metadata": {},
   "outputs": [],
   "source": [
    "# import resources\n",
    "\n",
    "\n",
    "# Create the 30-day average closing price factor\n",
    "\n",
    "\n",
    "# Create the 60-day average closing price factor\n",
    "\n",
    "# Create the custom factor\n",
    "\n",
    "\n",
    "# Create the daily returns factor\n",
    "\n",
    "\n",
    "# Create a filter for the top 20 securities of average dollar volume in a 30 day-window\n",
    "\n",
    "# Create a filter for the latest closing price above $30\n",
    "\n",
    "\n",
    "# Create a custum filter\n"
   ]
  },
  {
   "cell_type": "markdown",
   "metadata": {},
   "source": [
    "# TODO：向管道中添加因子和过滤器\n",
    "\n",
    "在以下代码中，将你在上面创建的因子和过滤器添加到管道中"
   ]
  },
  {
   "cell_type": "code",
   "execution_count": null,
   "metadata": {},
   "outputs": [],
   "source": [
    "# Add the custom factor to the pipeline\n",
    "\n",
    "\n",
    "# Add the daily returns factor to the pipeline\n",
    "\n",
    "\n",
    "# Add the custom filter to the pipeline\n"
   ]
  },
  {
   "cell_type": "markdown",
   "metadata": {},
   "source": [
    "# TODO：运行管道\n",
    "\n",
    "在以下代码中，针对给定日期运行管道"
   ]
  },
  {
   "cell_type": "code",
   "execution_count": null,
   "metadata": {},
   "outputs": [],
   "source": [
    "# Set starting and end dates\n",
    "start_date = pd.Timestamp('2014-01-06', tz='utc')\n",
    "end_date = pd.Timestamp('2016-01-05', tz='utc')\n",
    "\n",
    "# Run our pipeline for the given start and end dates\n",
    "\n",
    "\n",
    "# Display the pipeline output\n"
   ]
  },
  {
   "cell_type": "markdown",
   "metadata": {},
   "source": [
    "## 解答\n",
    "\n",
    "[解答 notebook](zipline_coding_exercises_solution.ipynb)"
   ]
  }
 ],
 "metadata": {
  "kernelspec": {
   "display_name": "Python 3",
   "language": "python",
   "name": "python3"
  },
  "language_info": {
   "codemirror_mode": {
    "name": "ipython",
    "version": 3
   },
   "file_extension": ".py",
   "mimetype": "text/x-python",
   "name": "python",
   "nbconvert_exporter": "python",
   "pygments_lexer": "ipython3",
   "version": "3.6.3"
  }
 },
 "nbformat": 4,
 "nbformat_minor": 2
}
