{
 "cells": [
  {
   "cell_type": "markdown",
   "metadata": {},
   "source": [
    "﻿\n",
    "# 自回归移动平均\n",
    "\n",
    "## 安装软件包"
   ]
  },
  {
   "cell_type": "code",
   "execution_count": null,
   "metadata": {},
   "outputs": [],
   "source": [
    "import sys\n",
    "!{sys.executable} -m pip install -r requirements.txt"
   ]
  },
  {
   "cell_type": "code",
   "execution_count": null,
   "metadata": {},
   "outputs": [],
   "source": [
    "import pandas as pd\n",
    "import numpy as np\n",
    "import os\n",
    "from statsmodels.tsa.arima_model import ARMA\n",
    "import matplotlib.pyplot as plt\n",
    "import seaborn as sns\n",
    "import quiz_tests"
   ]
  },
  {
   "cell_type": "code",
   "execution_count": null,
   "metadata": {},
   "outputs": [],
   "source": [
    "sns.set()\n",
    "#note that for the figure size to show, this cell should be run\n",
    "#separately from the import of pyplot\n",
    "plt.style.use('ggplot')\n",
    "plt.rcParams['figure.figsize'] = (14, 8)"
   ]
  },
  {
   "cell_type": "markdown",
   "metadata": {},
   "source": [
    "## 模拟具有自回归属性的收益率时序"
   ]
  },
  {
   "cell_type": "code",
   "execution_count": null,
   "metadata": {},
   "outputs": [],
   "source": [
    "from statsmodels.tsa.arima_process import ArmaProcess\n",
    "np.random.seed(200)\n",
    "\n",
    "ar_params = np.array([1, -0.5])\n",
    "ma_params = np.array([1, -0.3])\n",
    "ret = ArmaProcess(ar_params, ma_params).generate_sample(nsample=5*252)\n",
    "\n",
    "ret = pd.Series(ret)\n",
    "drift = 100\n",
    "price = pd.Series(np.cumsum(ret)) + drift"
   ]
  },
  {
   "cell_type": "code",
   "execution_count": null,
   "metadata": {},
   "outputs": [],
   "source": [
    "ret.plot(figsize=(15,6), color=sns.xkcd_rgb[\"pale purple\"], title=\"simulated return series\")\n",
    "plt.show()"
   ]
  },
  {
   "cell_type": "code",
   "execution_count": null,
   "metadata": {},
   "outputs": [],
   "source": [
    "price.plot(figsize=(15,6), color=sns.xkcd_rgb[\"baby blue\"], title=\"simulated price series\")\n",
    "plt.show()"
   ]
  },
  {
   "cell_type": "markdown",
   "metadata": {},
   "source": [
    "### 对数收益率"
   ]
  },
  {
   "cell_type": "code",
   "execution_count": null,
   "metadata": {},
   "outputs": [],
   "source": [
    "lret = np.log(price) - np.log(price.shift(1))\n",
    "lret = lret[1:]"
   ]
  },
  {
   "cell_type": "markdown",
   "metadata": {},
   "source": [
    "## 自相关\n",
    "\n",
    "通过自相关判断应该为自回归模型设置什么样的滞后值。"
   ]
  },
  {
   "cell_type": "code",
   "execution_count": null,
   "metadata": {},
   "outputs": [],
   "source": [
    "from statsmodels.graphics.tsaplots import plot_acf"
   ]
  },
  {
   "cell_type": "code",
   "execution_count": null,
   "metadata": {},
   "outputs": [],
   "source": [
    "_ = plot_acf(lret,lags=10, title='log return autocorrelation')"
   ]
  },
  {
   "cell_type": "markdown",
   "metadata": {},
   "source": [
    "因为样本时序具有自回归属性，所以当前时期和滞后值之间也有自相关性。\n",
    "\n",
    "注意，对于实际股票数据，某一天和第二天的收益率没有太多自相关性。  \n",
    "股票收益率（对数收益率和正常收益率）可以描述为“随机游动”，即每个新时期的值都比较随机。\n",
    "\n",
    "## 偏自相关图形"
   ]
  },
  {
   "cell_type": "code",
   "execution_count": null,
   "metadata": {},
   "outputs": [],
   "source": [
    "from statsmodels.graphics.tsaplots import plot_pacf"
   ]
  },
  {
   "cell_type": "markdown",
   "metadata": {},
   "source": [
    "股价偏自相关表明大部分的相关性都在上一个时期发现的。偏自相关与自相关不同，前者展示了不能归因于导致当前时期的其他时期的每个时期带来的影响。也就是说，两天的滞后期与当前值的相关性很强，因为它与一天的滞后期有很强的相关性。但是，无法归因于一天滞后期的两天滞后期与当前时期的偏自相关性相对比较弱。"
   ]
  },
  {
   "cell_type": "code",
   "execution_count": null,
   "metadata": {},
   "outputs": [],
   "source": [
    "_ = plot_pacf(lret, lags=10, title='log return Partial Autocorrelation', color=sns.xkcd_rgb[\"crimson\"])"
   ]
  },
  {
   "cell_type": "markdown",
   "metadata": {},
   "source": [
    "## 讨论\n",
    "\n",
    "注意之前的时期与当前时期之间的相关性不强。通常，使用过去的股票收益率预测未来收益率比较难。波动性往往与过去的波动性相关性更强。我们将在这个模块的后面课程中讨论波动性。\n",
    "\n",
    "## Ljung-Box 检验\n",
    "\n",
    "Ljung-Box 检验可以检查我们所选的滞后值能否得出与零偏差很大的自相关性。零假设是之前的滞后值整体上与当前时期不相关。如果 p 值很小（例如 0.05），我们可以拒绝零假设，并认为过去的滞后值与当前时期有一定的相关性。"
   ]
  },
  {
   "cell_type": "code",
   "execution_count": null,
   "metadata": {},
   "outputs": [],
   "source": [
    "\n",
    "returns:\n",
    "lbvalue (float or array) – test statistic\n",
    "pvalue (float or array) – p-value based on chi-square distribution\n",
    "... (we'll ignore the other outputs, which are for another similar hypothesis test)"
   ]
  },
  {
   "cell_type": "code",
   "execution_count": null,
   "metadata": {},
   "outputs": [],
   "source": [
    "from statsmodels.stats.diagnostic import acorr_ljungbox"
   ]
  },
  {
   "cell_type": "code",
   "execution_count": null,
   "metadata": {},
   "outputs": [],
   "source": [
    "lb_test_stat, lb_p_value = acorr_ljungbox(lret,lags=20)\n",
    "lb_p_value"
   ]
  },
  {
   "cell_type": "markdown",
   "metadata": {},
   "source": [
    "## 讨论\n",
    "\n",
    "因为这个时序具有自回归属性，所以 Ljung-Box 检验显示我们检验的 20 个滞后期的 p 值小于 0.05。\n",
    "\n",
    "## 拟合 ARMA 模型\n",
    "\n",
    "为了熟悉 ARMA 模型，我们将使模型拟合模拟的收益率时序。\n",
    "\n",
    "我们将对自回归和移动平均使用一个滞后期。  请参阅 [statsmodel arma](https://www.statsmodels.org/dev/generated/statsmodels.tsa.arima_model.ARMA.html) 文档。"
   ]
  },
  {
   "cell_type": "code",
   "execution_count": null,
   "metadata": {},
   "outputs": [],
   "source": [
    "from statsmodels.tsa.arima_model import ARMA"
   ]
  },
  {
   "cell_type": "code",
   "execution_count": null,
   "metadata": {},
   "outputs": [],
   "source": [
    "AR_lag_p = 1\n",
    "MA_lag_q = 1\n",
    "order = (AR_lag_p, MA_lag_q)\n",
    "arma_model = ARMA(lret.values, order=order)\n",
    "arma_result = arma_model.fit()\n",
    "arma_pred = pd.Series(arma_result.fittedvalues)"
   ]
  },
  {
   "cell_type": "markdown",
   "metadata": {},
   "source": [
    "## 查看拟合的预测值与实际值"
   ]
  },
  {
   "cell_type": "code",
   "execution_count": null,
   "metadata": {},
   "outputs": [],
   "source": [
    "plt.plot(lret, color=sns.xkcd_rgb[\"pale purple\"])\n",
    "plt.plot(arma_pred, color=sns.xkcd_rgb[\"dark sky blue\"])\n",
    "plt.title('Log returns and predictions using an ARMA(p=1,q=1) model');\n",
    "print(f\"Fitted AR parameter {arma_result.arparams[0]:.2f}, MA parameter {arma_result.maparams[0]:.2f}\")"
   ]
  },
  {
   "cell_type": "markdown",
   "metadata": {},
   "source": [
    "## 讨论\n",
    "\n",
    "通常，自回归移动平均模型无法预测股票收益率，因为股票收益率不稳定，并且噪点很多。\n",
    "\n",
    "还有一些以 ARMA 模型为基础的其他技巧，我们的目标是帮助你熟悉这些概念，因为它们是你将在这个模块的后面课程中见到的其他模型的基础。\n",
    "\n",
    "## 小测验：ARIMA\n",
    "\n",
    "拟合自回归求积移动平均模型。采用一阶积分、1 个自回归滞后期和 1 个移动平均滞后期。\n",
    "\n",
    "请参阅 [stats model arima](http://www.statsmodels.org/0.6.1/generated/statsmodels.tsa.arima_model.ARMAResults.html) 文档。"
   ]
  },
  {
   "cell_type": "code",
   "execution_count": null,
   "metadata": {},
   "outputs": [],
   "source": [
    "from statsmodels.tsa.arima_model import ARIMA"
   ]
  },
  {
   "cell_type": "code",
   "execution_count": null,
   "metadata": {},
   "outputs": [],
   "source": [
    "def fit_arima(lret):\n",
    "    \n",
    "    #TODO: choose autoregression lag of 1\n",
    "    AR_lag_p =\n",
    "    \n",
    "    #TODO: choose moving average lag of 1\n",
    "    MA_lag_q =\n",
    "    \n",
    "    #TODO: choose order of integration 1\n",
    "    order_of_integration_d =\n",
    "    \n",
    "    #TODO: Create a tuple of p,d,q\n",
    "    order = \n",
    "    \n",
    "    #TODO: create an ARIMA model object, passing in the values of the lret pandas series,\n",
    "    # and the tuple containing the (p,d,q) order arguments\n",
    "    arima_model = \n",
    "    \n",
    "    arima_result = arima_model.fit()\n",
    "    \n",
    "    #TODO: from the result of calling ARIMA.fit(),\n",
    "    # save and return the fitted values, autoregression parameters, and moving average parameters\n",
    "    fittedvalues =\n",
    "    arparams = \n",
    "    maparams = \n",
    "   \n",
    "    return fittedvalues,arparams,maparams\n",
    "\n",
    "quiz_tests.test_fit_arima(fit_arima)"
   ]
  },
  {
   "cell_type": "code",
   "execution_count": null,
   "metadata": {},
   "outputs": [],
   "source": [
    "fittedvalues,arparams,maparams = fit_arima(lret)\n",
    "arima_pred = pd.Series(fittedvalues)\n",
    "plt.plot(lret, color=sns.xkcd_rgb[\"pale purple\"])\n",
    "plt.plot(arima_pred, color=sns.xkcd_rgb[\"jade green\"])\n",
    "plt.title('Log Returns and predictions using an ARIMA(p=1,d=1,q=1) model');\n",
    "print(f\"fitted AR parameter {arparams[0]:.2f}, MA parameter {maparams[0]:.2f}\")"
   ]
  },
  {
   "cell_type": "markdown",
   "metadata": {},
   "source": [
    "如果你遇到问题，请在[此处](autoregression_solution.ipynb)查看解答。"
   ]
  }
 ],
 "metadata": {
  "kernelspec": {
   "display_name": "Python 3",
   "language": "python",
   "name": "python3"
  },
  "language_info": {
   "codemirror_mode": {
    "name": "ipython",
    "version": 3
   },
   "file_extension": ".py",
   "mimetype": "text/x-python",
   "name": "python",
   "nbconvert_exporter": "python",
   "pygments_lexer": "ipython3",
   "version": "3.6.3"
  }
 },
 "nbformat": 4,
 "nbformat_minor": 2
}
