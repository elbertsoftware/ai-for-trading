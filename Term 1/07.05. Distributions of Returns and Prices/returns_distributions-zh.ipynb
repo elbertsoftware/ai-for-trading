{
 "cells": [
  {
   "cell_type": "markdown",
   "metadata": {},
   "source": [
    "﻿"
   ]
  },
  {
   "cell_type": "code",
   "execution_count": null,
   "metadata": {},
   "outputs": [],
   "source": [
    "from scipy.stats import bernoulli\n",
    "import numpy as np\n",
    "import matplotlib.pyplot as plt\n",
    "%matplotlib inline\n",
    "plt.style.use('ggplot')"
   ]
  },
  {
   "cell_type": "markdown",
   "metadata": {},
   "source": [
    "假设你将 100 美元投资到了股票中，平均月收益率是 1%。但是均值是分散的：股票每个月的实际收益率是 1% + 2% = 3% 或 1% - 2% = -1%，二者概率一样。通过模拟这一情形随时间推移的各种可能发展方式，我们看看该投资在多个时间跨度后的最终值分布图。\n",
    "\n",
    "我们将使用伯努利随机变量对这些收益进行建模，可以在代码中使用 `scipy.stats.bernoulli` 模拟这一模型。伯努利随机变量的值为 1 或 0，概率由参数 `p` 决定。"
   ]
  },
  {
   "cell_type": "code",
   "execution_count": null,
   "metadata": {},
   "outputs": [],
   "source": [
    "def generate_returns(num_returns):\n",
    "    p = 0.5\n",
    "    return 0.01 + (bernoulli.rvs(p, size=num_returns)-0.5)*0.04\n",
    "print(generate_returns(6))"
   ]
  },
  {
   "cell_type": "markdown",
   "metadata": {},
   "source": [
    "首先，我们看看股票在 6 个月后的最终值分布图。"
   ]
  },
  {
   "cell_type": "code",
   "execution_count": null,
   "metadata": {},
   "outputs": [],
   "source": [
    "final_values = [100*np.prod(generate_returns(6)+1) for i in range(1,1000)]\n",
    "plt.hist(final_values, bins=20)\n",
    "plt.ylabel('Frequency')\n",
    "plt.xlabel('Value after 6 months')\n",
    "plt.show()"
   ]
  },
  {
   "cell_type": "markdown",
   "metadata": {},
   "source": [
    "6 个月后，值的分布图看起来是对称的钟形。这是因为有更多的路径导致中间的最终价格。现在看看 20 个月后的最终价值。"
   ]
  },
  {
   "cell_type": "code",
   "execution_count": null,
   "metadata": {},
   "outputs": [],
   "source": [
    "final_values = [100*np.prod(generate_returns(20)+1) for i in range(1,1000)]\n",
    "plt.hist(final_values, bins=20)\n",
    "plt.ylabel('Frequency')\n",
    "plt.xlabel('Value after 20 months')\n",
    "plt.show()"
   ]
  },
  {
   "cell_type": "markdown",
   "metadata": {},
   "source": [
    "最后看看 100 个月后的最终价值。"
   ]
  },
  {
   "cell_type": "code",
   "execution_count": null,
   "metadata": {},
   "outputs": [],
   "source": [
    "final_values = [100*np.prod(generate_returns(100)+1) for i in range(1,1000)]\n",
    "plt.hist(final_values, bins=20)\n",
    "plt.ylabel('Frequency')\n",
    "plt.xlabel('Value after 100 months')\n",
    "plt.show()"
   ]
  },
  {
   "cell_type": "markdown",
   "metadata": {},
   "source": [
    "可以看出，分布越来越不正态。好处是结果无限制，始终有可能股票继续增值。但是坏处是结果的极限是 0，你不可能损失的比投资金额还多。我们看到这个分布图明显不对称，值始终为正，但是右端有一个很长的尾巴，我们称之为正偏态。该分布逼近对数正态分布。我们将在下个视频中讨论是如何出现这种分布的。"
   ]
  }
 ],
 "metadata": {
  "kernelspec": {
   "display_name": "Python 3",
   "language": "python",
   "name": "python3"
  },
  "language_info": {
   "codemirror_mode": {
    "name": "ipython",
    "version": 3
   },
   "file_extension": ".py",
   "mimetype": "text/x-python",
   "name": "python",
   "nbconvert_exporter": "python",
   "pygments_lexer": "ipython3",
   "version": "3.6.3"
  }
 },
 "nbformat": 4,
 "nbformat_minor": 2
}
