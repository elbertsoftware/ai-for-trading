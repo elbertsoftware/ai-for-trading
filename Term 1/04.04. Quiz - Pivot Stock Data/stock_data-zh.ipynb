{
 "cells": [
  {
   "cell_type": "markdown",
   "metadata": {},
   "source": [
    "﻿\n",
    "## 股票数据\n",
    "你已经了解了时间序列数据，下面学习如何将股价数据放入 Pandas 中。\n",
    "## 读取数据\n",
    "数据集可能是各种不同的格式。最常见的格式是 [CSV](https://en.wikipedia.org/wiki/Comma-separated_values)。我们将使用“prices.csv”文件作为示例 csv 文件。"
   ]
  },
  {
   "cell_type": "code",
   "execution_count": null,
   "metadata": {},
   "outputs": [],
   "source": [
    "with open('prices.csv', 'r') as file:\n",
    "    prices = file.read()\n",
    "    \n",
    "print(prices)"
   ]
  },
  {
   "cell_type": "markdown",
   "metadata": {},
   "source": [
    "数据提供器将提供关于 CSV 中每个字段的信息。此 csv 包含以下字段：ticker、date、open、high、low、close、volume、adj_close、adj_volume（按顺序排列）。第一行包含以下数据：\n",
    "\n",
    "- ticker:ABC\n",
    "- date:2017-09-05\n",
    "- open:163.09\n",
    "- high:164.24\n",
    "- low:160.21\n",
    "- close:162.63\n",
    "- volume:29417590.0\n",
    "- adj_close:162.49\n",
    "- adj_volume:29414672.0\n",
    "\n",
    "我们将此数据放入 DataFrame 中。我们将使用[`pd.read_csv`](https://pandas.pydata.org/pandas-docs/version/0.21.1/generated/pandas.read_csv.html) 函数完成此操作。此函数使我们能够根据 CSV 数据生成一个 DataFrame。"
   ]
  },
  {
   "cell_type": "code",
   "execution_count": null,
   "metadata": {},
   "outputs": [],
   "source": [
    "import pandas as pd\n",
    "\n",
    "price_df = pd.read_csv('prices.csv')\n",
    "\n",
    "price_df"
   ]
  },
  {
   "cell_type": "markdown",
   "metadata": {},
   "source": [
    "它会使用 CSV 生成一个 DataFrame，但是认为第一行包含字段名称。我们需要向该函数的参数 `names` 提供一个字段名称列表。"
   ]
  },
  {
   "cell_type": "code",
   "execution_count": null,
   "metadata": {},
   "outputs": [],
   "source": [
    "price_df = pd.read_csv('prices.csv', names=['ticker', 'date', 'open', 'high', 'low',\n",
    "                                             'close', 'volume', 'adj_close', 'adj_volume'])\n",
    "\n",
    "price_df"
   ]
  },
  {
   "cell_type": "markdown",
   "metadata": {},
   "source": [
    "## DataFrame 计算\n",
    "将数据放入 DataFrame 后，我们可以对其进行运算。我们使用 [`DataFrame.median`](https://pandas.pydata.org/pandas-docs/version/0.21/generated/pandas.DataFrame.median.html) 函数算出每支股票的中位数。"
   ]
  },
  {
   "cell_type": "code",
   "execution_count": null,
   "metadata": {},
   "outputs": [],
   "source": [
    "price_df.median()"
   ]
  },
  {
   "cell_type": "markdown",
   "metadata": {},
   "source": [
    "不正确。这些值是整个股票备选投资组合的中位数。我们将使用 [`DataFrame.groupby`](https://pandas.pydata.org/pandas-docs/version/0.21/generated/pandas.DataFrame.groupby.html) 函数获取每支股票的均值。"
   ]
  },
  {
   "cell_type": "code",
   "execution_count": null,
   "metadata": {},
   "outputs": [],
   "source": [
    "price_df.groupby('ticker').median()"
   ]
  },
  {
   "cell_type": "markdown",
   "metadata": {},
   "source": [
    "这就是我们要计算的值。但是，我们不希望每次进行运算都运行 `groupby` 函数。我们可通过 `price_df_ticker_groups = price_df.groupby('ticker')` 保存该 GroupBy 对象。这限制我们只能对 GroupBy 对象进行运算。还可以使用 [`GroupBy.apply`](https://pandas.pydata.org/pandas-docs/version/0.21/generated/pandas.core.groupby.GroupBy.apply.html)，但是会降低性能。真正的问题是数据的表示形式。"
   ]
  },
  {
   "cell_type": "code",
   "execution_count": null,
   "metadata": {},
   "outputs": [],
   "source": [
    "price_df.iloc[:16]"
   ]
  },
  {
   "cell_type": "markdown",
   "metadata": {},
   "source": [
    "你能发现问题吗？花点时间找找问题。\n",
    "\n",
    "问题出在行 [6, 7] 和 [13, 14] 之间"
   ]
  },
  {
   "cell_type": "code",
   "execution_count": null,
   "metadata": {},
   "outputs": [],
   "source": [
    "price_df.iloc[[6, 7, 13, 14]]"
   ]
  },
  {
   "cell_type": "markdown",
   "metadata": {},
   "source": [
    "所有股票的数据堆叠到一起了。我们用二维空间表示三维数据。我们使用 Panda 的 Panel 解决了此问题，Panel [已被弃用](https://pandas.pydata.org/pandas-docs/version/0.21.0/dsintro.html#deprecate-panel)。Pandas 文档建议我们使用 [MultiIndex](https://pandas.pydata.org/pandas-docs/version/0.21/advanced.html) 或[xarray](http://xarray.pydata.org/en/stable/)。[MultiIndex](https://pandas.pydata.org/pandas-docs/version/0.21/advanced.html) 依然不能解决我们的问题，因为数据依然用二维空间表示。[xarray](http://xarray.pydata.org/en/stable/) 能够存储三维数据，但是 Finance 使用的是 Pandas，所以我们将继续使用此库。学完此课程后，建议看看 [xarray](http://xarray.pydata.org/en/stable/)。\n",
    "\n",
    "如何在 Pandas 中使用三维数据？我们可以将每个第三维拆分成它自己的二维 DataFrame。以下面的数组为例：\n",
    "```\n",
    "[\n",
    "    [\n",
    "        [ 0,  1],\n",
    "        [ 2,  3],\n",
    "        [ 4,  5]\n",
    "    ],[\n",
    "        [ 6,  7],\n",
    "        [ 8,  9],\n",
    "        [10, 11]\n",
    "    ],[\n",
    "        [12, 13],\n",
    "        [14, 15],\n",
    "        [16, 17]\n",
    "    ],[\n",
    "        [18, 19],\n",
    "        [20, 21],\n",
    "        [22, 23]\n",
    "    ]\n",
    "]    \n",
    "```"
   ]
  },
  {
   "cell_type": "markdown",
   "metadata": {},
   "source": [
    "我们需要将它拆分成以下两个二维数组：\n",
    "```\n",
    "[\n",
    "    [0, 2, 4],\n",
    "    [6, 8, 10],\n",
    "    [12, 14, 16],\n",
    "    [18, 20, 22]\n",
    "] \n",
    "[\n",
    "    [1, 3, 5],\n",
    "    [7, 8, 11],\n",
    "    [13, 15, 17],\n",
    "    [19, 21, 23]\n",
    "] \n",
    "```"
   ]
  },
  {
   "cell_type": "markdown",
   "metadata": {},
   "source": [
    "对于此示例来说，第三维是“open”、“high”、“low”、“close”、“volume”、“adj_close”和“adj_volume”。我们将使用 [`DataFrame.pivot`](https://pandas.pydata.org/pandas-docs/version/0.21/generated/pandas.DataFrame.pivot.html) 函数生成这些 DataFrame。"
   ]
  },
  {
   "cell_type": "code",
   "execution_count": null,
   "metadata": {},
   "outputs": [],
   "source": [
    "open_prices = price_df.pivot(index='date', columns='ticker', values='open')\n",
    "high_prices = price_df.pivot(index='date', columns='ticker', values='high')\n",
    "low_prices = price_df.pivot(index='date', columns='ticker', values='low')\n",
    "close_prices = price_df.pivot(index='date', columns='ticker', values='close')\n",
    "volume = price_df.pivot(index='date', columns='ticker', values='volume')\n",
    "adj_close_prices = price_df.pivot(index='date', columns='ticker', values='adj_close')\n",
    "adj_volume = price_df.pivot(index='date', columns='ticker', values='adj_volume')\n",
    "\n",
    "open_prices"
   ]
  },
  {
   "cell_type": "markdown",
   "metadata": {},
   "source": [
    "这样就可以获得所有开盘价、最高价、最低价等的 DataFrame。我们最终要计算的是每支股票的均值。"
   ]
  },
  {
   "cell_type": "code",
   "execution_count": null,
   "metadata": {},
   "outputs": [],
   "source": [
    "open_prices.mean()"
   ]
  },
  {
   "cell_type": "markdown",
   "metadata": {},
   "source": [
    "还可以通过转置获得每个日期的均值。"
   ]
  },
  {
   "cell_type": "code",
   "execution_count": null,
   "metadata": {},
   "outputs": [],
   "source": [
    "open_prices.T.mean()"
   ]
  },
  {
   "cell_type": "markdown",
   "metadata": {},
   "source": [
    "日期在索引中、股票代号在列中或反过来都没关系。始终相互转置。由于我们将对日期进行很多运算，所以在这门课程中，我们将把日期放入索引中，并把股票代号放入列中。\n",
    "## 小测验\n",
    "下面看看你能否运用所学的知识。请实现 `csv_to_close` 函数，它将接受文件路径和 `csv_filename`，并输出收盘价二维数组。你可以认为 `csv_to_close` 使用的 CSV 文件具有和“prices.csv”相同的名称并且字段顺序一样。\n",
    "\n",
    "为了帮助你完成小测验，我们提供了单元测试供你测试函数实现情况。对于这道练习，我们将使用 `quiz_tests` 模块中的函数 `test_csv_to_close` 测试 `csv_to_close`。"
   ]
  },
  {
   "cell_type": "code",
   "execution_count": null,
   "metadata": {},
   "outputs": [],
   "source": [
    "import quiz_tests\n",
    "\n",
    "\n",
    "def csv_to_close(csv_filepath, field_names):\n",
    "    \"\"\"Reads in data from a csv file and produces a DataFrame with close data.\n",
    "    \n",
    "    Parameters\n",
    "    ----------\n",
    "    csv_filepath : str\n",
    "        The name of the csv file to read\n",
    "    field_names : list of str\n",
    "        The field names of the field in the csv file\n",
    "\n",
    "    Returns\n",
    "    -------\n",
    "    close : DataFrame\n",
    "        Close prices for each ticker and date\n",
    "    \"\"\"\n",
    "    \n",
    "    # TODO: Implement Function\n",
    "    \n",
    "    return None\n",
    "\n",
    "\n",
    "quiz_tests.test_csv_to_close(csv_to_close)"
   ]
  },
  {
   "cell_type": "markdown",
   "metadata": {},
   "source": [
    "## 小测验解答\n",
    "如果你遇到问题，请在[此处](stock_data_solution.ipynb)查看解答。"
   ]
  }
 ],
 "metadata": {
  "kernelspec": {
   "display_name": "Python 3",
   "language": "python",
   "name": "python3"
  },
  "language_info": {
   "codemirror_mode": {
    "name": "ipython",
    "version": 3
   },
   "file_extension": ".py",
   "mimetype": "text/x-python",
   "name": "python",
   "nbconvert_exporter": "python",
   "pygments_lexer": "ipython3",
   "version": "3.6.3"
  }
 },
 "nbformat": 4,
 "nbformat_minor": 2
}
