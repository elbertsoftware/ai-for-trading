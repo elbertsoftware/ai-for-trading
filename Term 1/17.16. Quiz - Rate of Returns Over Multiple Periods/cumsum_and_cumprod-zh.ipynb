{
 "cells": [
  {
   "cell_type": "markdown",
   "metadata": {},
   "source": [
    "# 多个时期的收益率\n",
    "\n",
    "## Numpy.cumsum 和 Numpy.cumprod\n",
    "\n",
    "\n",
    "你刚刚学习了主动收益率和被动收益率。另一个重要的收益率概念是“累积收益率”，即一段时间的收益率。要详细了解收益率，请点击[此处](https://en.wikipedia.org/wiki/Rate_of_return)。\n",
    "\n",
    "累积收益率有两种计算方式，具体取决于收益率的计算方式。举个例子："
   ]
  },
  {
   "cell_type": "code",
   "execution_count": null,
   "metadata": {},
   "outputs": [],
   "source": [
    "import numpy as np\n",
    "import pandas as pd\n",
    "from datetime import datetime\n",
    "\n",
    "dates = pd.date_range(datetime.strptime('1/1/2016', '%m/%d/%Y'), periods=12, freq='M')\n",
    "start_price, stop_price = 0.24, 0.3\n",
    "abc_close_prices = np.arange(start_price, stop_price, (stop_price - start_price)/len(dates))\n",
    "\n",
    "abc_close = pd.Series(abc_close_prices, dates)\n",
    "abc_close"
   ]
  },
  {
   "cell_type": "markdown",
   "metadata": {},
   "source": [
    "我们拥有 ABC 在 2016 年的历史价格。我们想用时间加权方法计算 ABC 在 2016 年的年度累积收益率，假设收益重新投资了。如何计算？公式如下：\n",
    "\n",
    "假设 n 个连续时期的收益率为：\n",
    "\n",
    "$ r\\_1, r\\_2, r\\_3, r\\_4, r\\_5, ..., r\\_n $\n",
    "\n",
    "ABC 在 n 个时期的累积收益率是在 n 个时期的复合收益率：\n",
    "\n",
    "$ (1 + r\\_1)(1 + r\\_2)(1 + r\\_3)(1 + r\\_4)(1 + r\\_5)...(1 + r\\_n) - 1 $\n",
    "\n",
    "首先计算股票 ABC 的收益率："
   ]
  },
  {
   "cell_type": "code",
   "execution_count": null,
   "metadata": {},
   "outputs": [],
   "source": [
    "len(abc_close)"
   ]
  },
  {
   "cell_type": "code",
   "execution_count": null,
   "metadata": {},
   "outputs": [],
   "source": [
    "returns = abc_close / abc_close.shift(1) - 1\n",
    "returns"
   ]
  },
  {
   "cell_type": "code",
   "execution_count": null,
   "metadata": {},
   "outputs": [],
   "source": [
    "len(returns)"
   ]
  },
  {
   "cell_type": "markdown",
   "metadata": {},
   "source": [
    "累积收益率等于 n 个时期的每日收益率之积。\n",
    "公式太长了，有什么更简便的计算方法吗？\n",
    "\n",
    "\n",
    "答案是肯定的，我们可以使用 numpy.cumprod()。\n",
    "\n",
    "例如，如果有以下时序：1, 5, 7, 10，我们想要计算这四个数字的积，如何计算？代码如下："
   ]
  },
  {
   "cell_type": "code",
   "execution_count": null,
   "metadata": {},
   "outputs": [],
   "source": [
    "lst = [1,5,7,10]\n",
    "np.cumprod(lst)"
   ]
  },
  {
   "cell_type": "markdown",
   "metadata": {},
   "source": [
    "列表中的最后一个元素是 350，它是 1、5、7 和 10 的积。\n",
    "\n",
    "我们使用 numpy.cumprod() 获取股票 ABC 的累积收益率"
   ]
  },
  {
   "cell_type": "code",
   "execution_count": null,
   "metadata": {},
   "outputs": [],
   "source": [
    "(returns + 1).cumprod()[len(returns)-1] - 1"
   ]
  },
  {
   "cell_type": "markdown",
   "metadata": {},
   "source": [
    "ABC 在 2016 年的累积收益率是 22.91%。\n",
    "\n",
    "计算收益率的另一种方式是使用对数收益率。\n",
    "\n",
    "对数收益率的公式如下所示：\n",
    "\n",
    "$ LogReturn = ln(\\frac{P\\_t}{P\\_t - 1}) $\n",
    "\n",
    "ABC 在 n 个时期的累积收益率是在 n 个时期的复合收益率：\n",
    "\n",
    "$ \\sum\\_{i=1}^{n} r\\_i = r\\_1 + r\\_2 + r\\_3 + r\\_4 + ... + r\\_n $\n",
    "\n",
    "下面看看如何使用对数收益率计算 ABC 的累积收益率。\n",
    "\n",
    "首先计算对数收益率。"
   ]
  },
  {
   "cell_type": "code",
   "execution_count": null,
   "metadata": {},
   "outputs": [],
   "source": [
    "log_returns = (np.log(abc_close).shift(-1) - np.log(abc_close)).dropna()\n",
    "log_returns.head()"
   ]
  },
  {
   "cell_type": "markdown",
   "metadata": {},
   "source": [
    "累积之和等于 n 个时期的每日收益率之和，公式很长。\n",
    "\n",
    "我们可以直接使用 numpy.cumsum() 计算累积之和。\n",
    "\n",
    "以时序 1, 5, 7, 10 为例。"
   ]
  },
  {
   "cell_type": "code",
   "execution_count": null,
   "metadata": {},
   "outputs": [],
   "source": [
    "lst = [1,5,7,10]\n",
    "np.cumsum(lst)"
   ]
  },
  {
   "cell_type": "markdown",
   "metadata": {},
   "source": [
    "最后一个元素为 23，它等于 1、5、7、10 之和\n",
    "\n",
    "我们使用 numpy.cumsum() 计算 ABC 的累积收益率"
   ]
  },
  {
   "cell_type": "code",
   "execution_count": null,
   "metadata": {},
   "outputs": [],
   "source": [
    "cum_log_return = log_returns.cumsum()[len(log_returns)-1]\n",
    "np.exp(cum_log_return) - 1"
   ]
  },
  {
   "cell_type": "markdown",
   "metadata": {},
   "source": [
    "使用对数收益率得出 ABC 在 2016 年的累积收益是 22.91%。\n",
    "\n",
    "## 小测验：算术收益率\n",
    "\n",
    "下面使用 cumprod() 和 cumsum() 计算平均收益率。\n",
    "\n",
    "为例保持一致性，假设收益率为 $ \\frac{P\\_t}{P\\_t - 1} - 1 $\n",
    "\n",
    "### 算术收益率：\n",
    "\n",
    "$ \\frac{1}{n} \\sum\\_{i=1}^{n} r\\_i = \\frac{1}{n}(r\\_1 + r\\_2 + r\\_3 + r\\_4 + ... + r\\_n) $"
   ]
  },
  {
   "cell_type": "code",
   "execution_count": null,
   "metadata": {},
   "outputs": [],
   "source": [
    "import quiz_tests\n",
    "\n",
    "def calculate_arithmetic_rate_of_return(close):\n",
    "    \"\"\"\n",
    "    Compute returns for each ticker and date in close.\n",
    "    \n",
    "    Parameters\n",
    "    ----------\n",
    "    close : DataFrame\n",
    "        Close prices for each ticker and date\n",
    "    \n",
    "    Returns\n",
    "    -------\n",
    "    arithmnetic_returns : Series\n",
    "        arithmnetic_returns at the end of the period for each ticker\n",
    "        \n",
    "    \"\"\"\n",
    "    # TODO: Implement Function\n",
    "\n",
    "    return None\n",
    "\n",
    "\n",
    "quiz_tests.test_calculate_arithmetic_rate_of_return(calculate_arithmetic_rate_of_return)"
   ]
  },
  {
   "cell_type": "markdown",
   "metadata": {},
   "source": [
    "## 小测验解答\n",
    "如果你遇到问题，请在[此处][2]查看解答。\n",
    "\n",
    "[1]:\thttps://en.wikipedia.org/wiki/Rate_of_return\n",
    "[2]:\tcumsum_and_cumprod_solution.ipynb"
   ]
  }
 ],
 "metadata": {
  "kernelspec": {
   "display_name": "Python 3",
   "language": "python",
   "name": "python3"
  },
  "language_info": {
   "codemirror_mode": {
    "name": "ipython",
    "version": 3
   },
   "file_extension": ".py",
   "mimetype": "text/x-python",
   "name": "python",
   "nbconvert_exporter": "python",
   "pygments_lexer": "ipython3",
   "version": "3.6.3"
  }
 },
 "nbformat": 4,
 "nbformat_minor": 2
}
