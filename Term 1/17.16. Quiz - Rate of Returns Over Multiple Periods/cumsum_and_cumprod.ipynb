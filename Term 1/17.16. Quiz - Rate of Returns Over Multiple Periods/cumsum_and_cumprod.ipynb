{
 "cells": [
  {
   "cell_type": "markdown",
   "metadata": {},
   "source": [
    "# Rate of Returns Over Multiple Periods\n",
    "\n",
    "## Numpy.cumsum and Numpy.cumprod\n",
    "\n",
    "\n",
    "You've just leared about active returns and passive returns.  Another important concept related to returns is \"Cumulative returns\" which is defined as the returns over a time period.  You can read more about rate of returns [here](https://en.wikipedia.org/wiki/Rate_of_return)! \n",
    "\n",
    "There are two ways to calcualte cumulative returns, depends on how the returns are calculated.  Let's take a look at an example.  \n"
   ]
  },
  {
   "cell_type": "code",
   "execution_count": 1,
   "metadata": {},
   "outputs": [
    {
     "data": {
      "text/plain": [
       "2016-01-31    0.240\n",
       "2016-02-29    0.245\n",
       "2016-03-31    0.250\n",
       "2016-04-30    0.255\n",
       "2016-05-31    0.260\n",
       "2016-06-30    0.265\n",
       "2016-07-31    0.270\n",
       "2016-08-31    0.275\n",
       "2016-09-30    0.280\n",
       "2016-10-31    0.285\n",
       "2016-11-30    0.290\n",
       "2016-12-31    0.295\n",
       "Freq: M, dtype: float64"
      ]
     },
     "execution_count": 1,
     "metadata": {},
     "output_type": "execute_result"
    }
   ],
   "source": [
    "import numpy as np\n",
    "import pandas as pd\n",
    "from datetime import datetime\n",
    "\n",
    "dates = pd.date_range(datetime.strptime('1/1/2016', '%m/%d/%Y'), periods=12, freq='M')\n",
    "start_price, stop_price = 0.24, 0.3\n",
    "abc_close_prices = np.arange(start_price, stop_price, (stop_price - start_price)/len(dates))\n",
    "\n",
    "abc_close = pd.Series(abc_close_prices, dates)\n",
    "abc_close"
   ]
  },
  {
   "cell_type": "markdown",
   "metadata": {},
   "source": [
    "Here, we have the historical prices for stock ABC for 2016.  We would like to know the yearly cumulative returns for stock ABC in 2016 using time-weighted method, assuming returns are reinvested.  How do we do it?  Here is the formula:\n",
    "\n",
    "Assume the returns over n successive periods are:\n",
    "\n",
    "$ r_1, r_2, r_3, r_4, r_5, ..., r_n $\n",
    "\n",
    "The cumulative return of stock ABC over period n is the compounded return over period n:\n",
    "\n",
    "$ (1 + r_1)(1 + r_2)(1 + r_3)(1 + r_4)(1 + r_5)...(1 + r_n) - 1 $\n",
    "\n",
    "First, let's calculate the returns of stock ABC.  "
   ]
  },
  {
   "cell_type": "code",
   "execution_count": 2,
   "metadata": {},
   "outputs": [
    {
     "data": {
      "text/plain": [
       "12"
      ]
     },
     "execution_count": 2,
     "metadata": {},
     "output_type": "execute_result"
    }
   ],
   "source": [
    "len(abc_close)"
   ]
  },
  {
   "cell_type": "code",
   "execution_count": 3,
   "metadata": {},
   "outputs": [
    {
     "data": {
      "text/plain": [
       "2016-01-31         NaN\n",
       "2016-02-29    0.020833\n",
       "2016-03-31    0.020408\n",
       "2016-04-30    0.020000\n",
       "2016-05-31    0.019608\n",
       "2016-06-30    0.019231\n",
       "2016-07-31    0.018868\n",
       "2016-08-31    0.018519\n",
       "2016-09-30    0.018182\n",
       "2016-10-31    0.017857\n",
       "2016-11-30    0.017544\n",
       "2016-12-31    0.017241\n",
       "Freq: M, dtype: float64"
      ]
     },
     "execution_count": 3,
     "metadata": {},
     "output_type": "execute_result"
    }
   ],
   "source": [
    "returns = abc_close / abc_close.shift(1) - 1\n",
    "returns"
   ]
  },
  {
   "cell_type": "code",
   "execution_count": 4,
   "metadata": {},
   "outputs": [
    {
     "data": {
      "text/plain": [
       "12"
      ]
     },
     "execution_count": 4,
     "metadata": {},
     "output_type": "execute_result"
    }
   ],
   "source": [
    "len(returns)"
   ]
  },
  {
   "cell_type": "markdown",
   "metadata": {},
   "source": [
    "The cumulative return equals to the product of the daily returns for the n periods. \n",
    "That's a very long formula.  Is there a better way to calculate this.  \n",
    "\n",
    "\n",
    "The answer is yes, we can use numpy.cumprod().\n",
    "\n",
    "For example, if we have the following time series: 1, 5, 7, 10 and we want the product of the four numbers.  How do we do it?  Let's take a look!"
   ]
  },
  {
   "cell_type": "code",
   "execution_count": 5,
   "metadata": {},
   "outputs": [
    {
     "data": {
      "text/plain": [
       "array([  1,   5,  35, 350])"
      ]
     },
     "execution_count": 5,
     "metadata": {},
     "output_type": "execute_result"
    }
   ],
   "source": [
    "lst = [1,5,7,10]\n",
    "np.cumprod(lst)"
   ]
  },
  {
   "cell_type": "markdown",
   "metadata": {},
   "source": [
    "The last element in the list is 350, which is the product of 1, 5, 7, and 10.  \n",
    "\n",
    "OK, let's use numpy.cumprod() to get the cumulative returns for stock ABC"
   ]
  },
  {
   "cell_type": "code",
   "execution_count": 6,
   "metadata": {},
   "outputs": [
    {
     "data": {
      "text/plain": [
       "0.22916666666666652"
      ]
     },
     "execution_count": 6,
     "metadata": {},
     "output_type": "execute_result"
    }
   ],
   "source": [
    "(returns + 1).cumprod()[len(returns) - 1] - 1"
   ]
  },
  {
   "cell_type": "markdown",
   "metadata": {},
   "source": [
    "The cumulative return for stock ABC in 2016 is 22.91%.\n",
    "\n",
    "The other way to calculate returns is to use log returns.\n",
    "\n",
    "The formula of log return is the following:\n",
    "\n",
    "$ LogReturn = ln(\\frac{P_t}{P_t - 1}) $\n",
    "\n",
    "The cumulative return of stock ABC over period n is the compounded return over period n:\n",
    "\n",
    "$ \\sum_{i=1}^{n} r_i = r_1 + r_2 + r_3 + r_4 + ... + r_n $\n",
    "\n",
    "Let's see how we can calculate the cumulative return of stock ABC using log returns.\n",
    "\n",
    "First, let's calculate log returns."
   ]
  },
  {
   "cell_type": "code",
   "execution_count": 7,
   "metadata": {},
   "outputs": [
    {
     "data": {
      "text/plain": [
       "2016-01-31    0.020619\n",
       "2016-02-29    0.020203\n",
       "2016-03-31    0.019803\n",
       "2016-04-30    0.019418\n",
       "2016-05-31    0.019048\n",
       "2016-06-30    0.018692\n",
       "2016-07-31    0.018349\n",
       "2016-08-31    0.018019\n",
       "2016-09-30    0.017700\n",
       "2016-10-31    0.017392\n",
       "2016-11-30    0.017094\n",
       "Freq: M, dtype: float64"
      ]
     },
     "execution_count": 7,
     "metadata": {},
     "output_type": "execute_result"
    }
   ],
   "source": [
    "log_returns = (np.log(abc_close).shift(-1) - np.log(abc_close)).dropna()\n",
    "log_returns"
   ]
  },
  {
   "cell_type": "markdown",
   "metadata": {},
   "source": [
    "The cumulative sum equals to the sum of the daily returns for the n periods which is a very long formula.  \n",
    "\n",
    "To calculate cumulative sum, we can simply use numpy.cumsum().\n",
    "\n",
    "Let's take a look at our simple example of time series 1, 5, 7, 10. \n"
   ]
  },
  {
   "cell_type": "code",
   "execution_count": 8,
   "metadata": {},
   "outputs": [
    {
     "data": {
      "text/plain": [
       "array([ 1,  6, 13, 23])"
      ]
     },
     "execution_count": 8,
     "metadata": {},
     "output_type": "execute_result"
    }
   ],
   "source": [
    "lst = [1,5,7,10]\n",
    "np.cumsum(lst)"
   ]
  },
  {
   "cell_type": "markdown",
   "metadata": {},
   "source": [
    "The last element is 23 which equals to the sum of 1, 5, 7, 10\n",
    "\n",
    "OK, let's use numpy.cumsum() to get the cumulative returns for stock ABC"
   ]
  },
  {
   "cell_type": "code",
   "execution_count": 9,
   "metadata": {},
   "outputs": [
    {
     "data": {
      "text/plain": [
       "0.22916666666666696"
      ]
     },
     "execution_count": 9,
     "metadata": {},
     "output_type": "execute_result"
    }
   ],
   "source": [
    "cum_log_return = log_returns.cumsum()[len(log_returns) - 1]\n",
    "\n",
    "# convert log return back to simple return: r = ln(1+R) where r is log/continuous return and R is simple/discrete retur\n",
    "np.exp(cum_log_return) - 1  "
   ]
  },
  {
   "cell_type": "markdown",
   "metadata": {},
   "source": [
    "The cumulative return for stock ABC in 2016 is 22.91% using log returns."
   ]
  },
  {
   "cell_type": "markdown",
   "metadata": {},
   "source": [
    "## Quiz: Arithmetic Rate of Return\n",
    "\n",
    "Now, let's use cumprod() and cumsum() to calculate average rate of return.  \n",
    "\n",
    "For consistency, let's assume the rate of return is calculated as $ \\frac{P_t}{P_t - 1} - 1 $\n",
    "\n",
    "### Arithmetic Rate of Return:\n",
    "\n",
    "$ \\frac{1}{n} \\sum_{i=1}^{n} r_i = \\frac{1}{n}(r_1 + r_2 + r_3 + r_4 + ... + r_n) $"
   ]
  },
  {
   "cell_type": "code",
   "execution_count": 10,
   "metadata": {},
   "outputs": [],
   "source": [
    "import quiz_tests\n",
    "\n",
    "def calculate_arithmetic_rate_of_return(close):\n",
    "    \"\"\"\n",
    "    Compute returns for each ticker and date in close.\n",
    "    \n",
    "    Parameters\n",
    "    ----------\n",
    "    close : DataFrame\n",
    "        Close prices for each ticker and date\n",
    "    \n",
    "    Returns\n",
    "    -------\n",
    "    arithmnetic_returns : Series\n",
    "        arithmnetic_returns at the end of the period for each ticker\n",
    "        \n",
    "    \"\"\"\n",
    "    # MY IMPLEMENTATION\n",
    "    print(close)\n",
    "    \n",
    "    returns = close / close.shift(1) - 1\n",
    "    print(returns)\n",
    "    \n",
    "    arithmnetic_returns = returns.cumsum().iloc[-1:]\n",
    "    print(arithmnetic_returns)\n",
    "    \n",
    "    # convert dataframe of last row to series\n",
    "    arithmnetic_returns  = arithmnetic_returns.iloc[0]\n",
    "    \n",
    "    # return calculated arithmnetic_returns\n",
    "    return arithmnetic_returns / len(returns)\n",
    "\n",
    "    # PROVIDED SOLUTION\n",
    "    #returns = close / close.shift(1) - 1\n",
    "    #arithmetic_returns = returns.cumsum(axis =0).iloc[returns.shape[0]-1]/returns.shape[0]\n",
    "    \n",
    "    #return arithmetic_returns"
   ]
  },
  {
   "cell_type": "code",
   "execution_count": 11,
   "metadata": {},
   "outputs": [
    {
     "name": "stdout",
     "output_type": "stream",
     "text": [
      "                    KFT         XQV           VUB          SJW        ZKYZ\n",
      "2004-08-18  21.05081048 17.01384381   10.98450376  11.24809343 12.96171273\n",
      "2004-08-19  15.63570259 14.69054309   11.35302769 475.74195118 11.95964043\n",
      "2004-08-20 482.34539247 35.20258059 3516.54167823  66.40531433 13.50396048\n",
      "2004-08-21  10.91893302 17.90864387   24.80126542  12.48895419 10.52435923\n",
      "2004-08-22  10.67597197 12.74940144   11.80525758  21.53903949 19.99766037\n",
      "2004-08-23  11.54549538 23.98146843   24.97476306  36.03196210 14.30433232\n",
      "                   KFT         XQV          VUB         SJW        ZKYZ\n",
      "2004-08-18         nan         nan          nan         nan         nan\n",
      "2004-08-19 -0.25723988 -0.13655355   0.03354944 41.29534136 -0.07731018\n",
      "2004-08-20 29.84897463  1.39627496 308.74483411 -0.86041737  0.12912763\n",
      "2004-08-21 -0.97736283 -0.49126900  -0.99294726 -0.81192839 -0.22064647\n",
      "2004-08-22 -0.02225135 -0.28808672  -0.52400584  0.72464717  0.90013092\n",
      "2004-08-23  0.08144677  0.88098779   1.11556274  0.67286764 -0.28469971\n",
      "                   KFT        XQV          VUB         SJW       ZKYZ\n",
      "2004-08-23 28.67356733 1.36135348 308.37699320 41.02051041 0.44660219\n",
      "Tests Passed\n"
     ]
    }
   ],
   "source": [
    "quiz_tests.test_calculate_arithmetic_rate_of_return(calculate_arithmetic_rate_of_return)"
   ]
  },
  {
   "cell_type": "markdown",
   "metadata": {},
   "source": [
    "## Quiz Solution\n",
    "If you're having trouble, you can check out the quiz solution [here](cumsum_and_cumprod_solution.ipynb)."
   ]
  }
 ],
 "metadata": {
  "kernelspec": {
   "display_name": "Python 3",
   "language": "python",
   "name": "python3"
  },
  "language_info": {
   "codemirror_mode": {
    "name": "ipython",
    "version": 3
   },
   "file_extension": ".py",
   "mimetype": "text/x-python",
   "name": "python",
   "nbconvert_exporter": "python",
   "pygments_lexer": "ipython3",
   "version": "3.6.3"
  }
 },
 "nbformat": 4,
 "nbformat_minor": 2
}
