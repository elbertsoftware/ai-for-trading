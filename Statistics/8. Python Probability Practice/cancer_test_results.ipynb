{
 "cells": [
  {
   "cell_type": "markdown",
   "metadata": {
    "collapsed": true
   },
   "source": [
    "# Cancer Test Results"
   ]
  },
  {
   "cell_type": "code",
   "execution_count": 2,
   "metadata": {},
   "outputs": [],
   "source": [
    "import pandas as pd"
   ]
  },
  {
   "cell_type": "code",
   "execution_count": 3,
   "metadata": {},
   "outputs": [],
   "source": [
    "# load dataset\n",
    "df = pd.read_csv('cancer_test_data.csv')"
   ]
  },
  {
   "cell_type": "code",
   "execution_count": 4,
   "metadata": {},
   "outputs": [
    {
     "output_type": "execute_result",
     "data": {
      "text/plain": [
       "   patient_id test_result  has_cancer\n",
       "0       79452    Negative       False\n",
       "1       81667    Positive        True\n",
       "2       76297    Negative       False\n",
       "3       36593    Negative       False\n",
       "4       53717    Negative       False"
      ],
      "text/html": "<div>\n<style scoped>\n    .dataframe tbody tr th:only-of-type {\n        vertical-align: middle;\n    }\n\n    .dataframe tbody tr th {\n        vertical-align: top;\n    }\n\n    .dataframe thead th {\n        text-align: right;\n    }\n</style>\n<table border=\"1\" class=\"dataframe\">\n  <thead>\n    <tr style=\"text-align: right;\">\n      <th></th>\n      <th>patient_id</th>\n      <th>test_result</th>\n      <th>has_cancer</th>\n    </tr>\n  </thead>\n  <tbody>\n    <tr>\n      <th>0</th>\n      <td>79452</td>\n      <td>Negative</td>\n      <td>False</td>\n    </tr>\n    <tr>\n      <th>1</th>\n      <td>81667</td>\n      <td>Positive</td>\n      <td>True</td>\n    </tr>\n    <tr>\n      <th>2</th>\n      <td>76297</td>\n      <td>Negative</td>\n      <td>False</td>\n    </tr>\n    <tr>\n      <th>3</th>\n      <td>36593</td>\n      <td>Negative</td>\n      <td>False</td>\n    </tr>\n    <tr>\n      <th>4</th>\n      <td>53717</td>\n      <td>Negative</td>\n      <td>False</td>\n    </tr>\n  </tbody>\n</table>\n</div>"
     },
     "metadata": {},
     "execution_count": 4
    }
   ],
   "source": [
    "df.head()"
   ]
  },
  {
   "cell_type": "code",
   "execution_count": 5,
   "metadata": {},
   "outputs": [
    {
     "output_type": "execute_result",
     "data": {
      "text/plain": [
       "2914"
      ]
     },
     "metadata": {},
     "execution_count": 5
    }
   ],
   "source": [
    "# number of patients\n",
    "total = df['patient_id'].unique().size\n",
    "total"
   ]
  },
  {
   "cell_type": "code",
   "execution_count": 6,
   "metadata": {},
   "outputs": [
    {
     "output_type": "execute_result",
     "data": {
      "text/plain": [
       "(2914, 3)"
      ]
     },
     "metadata": {},
     "execution_count": 6
    }
   ],
   "source": [
    "df.shape"
   ]
  },
  {
   "cell_type": "code",
   "execution_count": 7,
   "metadata": {},
   "outputs": [
    {
     "output_type": "execute_result",
     "data": {
      "text/plain": [
       "306"
      ]
     },
     "metadata": {},
     "execution_count": 7
    }
   ],
   "source": [
    "# number of patients with cancer\n",
    "cancers = df[df['has_cancer']]['has_cancer'].count()\n",
    "cancers"
   ]
  },
  {
   "cell_type": "code",
   "execution_count": 8,
   "metadata": {},
   "outputs": [
    {
     "output_type": "execute_result",
     "data": {
      "text/plain": [
       "2608"
      ]
     },
     "metadata": {},
     "execution_count": 8
    }
   ],
   "source": [
    "# number of patients without cancer\n",
    "(df['has_cancer'] == False).sum()"
   ]
  },
  {
   "cell_type": "code",
   "execution_count": 9,
   "metadata": {},
   "outputs": [
    {
     "output_type": "execute_result",
     "data": {
      "text/plain": [
       "0.10501029512697323"
      ]
     },
     "metadata": {},
     "execution_count": 9
    }
   ],
   "source": [
    "# proportion of patients with cancer\n",
    "cancers / total"
   ]
  },
  {
   "cell_type": "code",
   "execution_count": 10,
   "metadata": {},
   "outputs": [
    {
     "output_type": "execute_result",
     "data": {
      "text/plain": [
       "0.89498970487302676"
      ]
     },
     "metadata": {},
     "execution_count": 10
    }
   ],
   "source": [
    "# proportion of patients without cancer\n",
    "(df['has_cancer'] == False).mean()"
   ]
  },
  {
   "cell_type": "code",
   "execution_count": 11,
   "metadata": {},
   "outputs": [
    {
     "output_type": "execute_result",
     "data": {
      "text/plain": [
       "0.2772820864790666"
      ]
     },
     "metadata": {},
     "execution_count": 11
    }
   ],
   "source": [
    "# proportion of positive test\n",
    "(df['test_result'] == 'Positive').mean()"
   ]
  },
  {
   "cell_type": "code",
   "execution_count": 12,
   "metadata": {},
   "outputs": [
    {
     "output_type": "execute_result",
     "data": {
      "text/plain": [
       "0.7227179135209334"
      ]
     },
     "metadata": {},
     "execution_count": 12
    }
   ],
   "source": [
    "# proportion of negative test\n",
    "(df['test_result'] == 'Negative').mean()"
   ]
  },
  {
   "cell_type": "code",
   "execution_count": null,
   "metadata": {},
   "outputs": [],
   "source": [
    "# proportion of patients with cancer who test positive\n",
    "(df[df['has_cancer']]['test_result'] == 'Positive').mean()"
   ]
  },
  {
   "cell_type": "code",
   "execution_count": null,
   "metadata": {},
   "outputs": [],
   "source": [
    "# proportion of patients with cancer who test negative\n",
    "(df.query('has_cancer')['test_result'] == 'Negative').mean()"
   ]
  },
  {
   "cell_type": "code",
   "execution_count": null,
   "metadata": {},
   "outputs": [],
   "source": [
    "# proportion of patients without cancer who test positive\n",
    "(df[df['has_cancer'] == False]['test_result'] == 'Positive').mean()"
   ]
  },
  {
   "cell_type": "code",
   "execution_count": null,
   "metadata": {},
   "outputs": [],
   "source": [
    "# proportion of patients without cancer who test negative\n",
    "(df.query('has_cancer == False')['test_result'] == 'Negative').mean()"
   ]
  }
 ],
 "metadata": {
  "kernelspec": {
   "name": "python3",
   "display_name": "Python 3.6.13 64-bit ('udacity_ai_trading': conda)"
  },
  "language_info": {
   "codemirror_mode": {
    "name": "ipython",
    "version": 3
   },
   "file_extension": ".py",
   "mimetype": "text/x-python",
   "name": "python",
   "nbconvert_exporter": "python",
   "pygments_lexer": "ipython3",
   "version": "3.6.13"
  },
  "interpreter": {
   "hash": "a8c68b8384142ced2c85b7cba5ac947a817176493644d84293fa07ae6251a953"
  }
 },
 "nbformat": 4,
 "nbformat_minor": 2
}